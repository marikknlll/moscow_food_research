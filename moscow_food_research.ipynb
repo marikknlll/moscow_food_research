{
  "cells": [
    {
      "cell_type": "markdown",
      "id": "e06910dd",
      "metadata": {
        "id": "e06910dd"
      },
      "source": [
        "# Исследование заведений общественного питания Москвы"
      ]
    },
    {
      "cell_type": "markdown",
      "id": "4149134c",
      "metadata": {
        "id": "4149134c"
      },
      "source": [
        "### Цели и задачи проекта\n",
        "\n",
        "**Цель:** Провести исследовательский анализ заведений общественного питания в Москве для определения наилучшего места для заведения.\n",
        "\n",
        "**Задачи:**\n",
        "1. Загрузить данные и познакомиться с ними.\n",
        "2. Провести предобработку данных.\n",
        "3. Провести исследовательский анализ данных.\n",
        "4. Сформулировать выводы по проведенному анализу."
      ]
    },
    {
      "cell_type": "markdown",
      "id": "728986ea",
      "metadata": {
        "id": "728986ea"
      },
      "source": [
        "### Описание данных\n",
        "\n",
        "Данные о заведениях общественного питания Москвы состоят из двух датасетов:\n",
        "- `/datasets/rest_info.csv` содержит информацию о заведениях общественного питания.\n",
        "- `/datasets/rest_price.csv` содержит информацию о среднем чеке в заведениях общественного питания.\n",
        "\n",
        "#### Описание датасета `/datasets/rest_info.csv`\n",
        "\n",
        "- `name` — название заведения;\n",
        "- `address` — адрес заведения;\n",
        "- `district` — административный район, в котором находится заведение, например Центральный административный округ;\n",
        "- `category` — категория заведения, например «кафе», «пиццерия» или «кофейня»;\n",
        "- `hours` — информация о днях и часах работы;\n",
        "- `rating` — рейтинг заведения по оценкам пользователей в Яндекс Картах (высшая оценка — 5.0);\n",
        "- `chain` — число, выраженное 0 или 1, которое показывает, является ли заведение сетевым (для маленьких сетей могут встречаться ошибки):\n",
        "    - `0` — заведение не является сетевым;\n",
        "    - `1` — заведение является сетевым.\n",
        "- `seats` — количество посадочных мест.\n",
        "\n",
        "#### Описание датасета `/datasets/rest_price.csv`\n",
        "- `price` — категория цен в заведении, например «средние», «ниже среднего», «выше среднего» и так далее;\n",
        "- `avg_bill` — строка, которая хранит среднюю стоимость заказа в виде диапазона, например:\n",
        "    - «Средний счёт: 1000–1500 ₽»;\n",
        "    - «Цена чашки капучино: 130–220 ₽»;\n",
        "    - «Цена бокала пива: 400–600 ₽».\n",
        "       и так далее;\n",
        "- `middle_avg_bill` — число с оценкой среднего чека, которое указано только для значений из столбца avg_bill, начинающихся с подстроки «Средний счёт»:\n",
        "    - Если в строке указан ценовой диапазон из двух значений, в столбец войдёт медиана этих двух значений.\n",
        "    - Если в строке указано одно число — цена без диапазона, то в столбец войдёт это число.\n",
        "    - Если значения нет или оно не начинается с подстроки «Средний счёт», то в столбец ничего не войдёт.\n",
        "- `middle_coffee_cup` — число с оценкой одной чашки капучино, которое указано только для значений из столбца avg_bill, начинающихся с подстроки «Цена одной чашки капучино»:\n",
        "    - Если в строке указан ценовой диапазон из двух значений, в столбец войдёт медиана этих двух значений.\n",
        "    - Если в строке указано одно число — цена без диапазона, то в столбец войдёт это число.\n",
        "    - Если значения нет или оно не начинается с подстроки «Цена одной чашки капучино», то в столбец ничего не войдёт.\n"
      ]
    },
    {
      "cell_type": "markdown",
      "id": "4fecaf95",
      "metadata": {
        "id": "4fecaf95"
      },
      "source": [
        "### Содержимое проекта\n",
        "\n",
        "В данном проекте проведен исследовательский ананлиз данных заведений общественного питания города Москвы для определения факторов, которые помогут определить оптимальное место, вид и других факторов для открытия заведения.\n",
        "Проект состоит из четырех основных частей:\n",
        "1. Загрузка данных и знакомство с ними\n",
        "2. Предобработка данных\n",
        "3. Исследовательский анализ данных\n",
        "4. Итоговые выводы\n"
      ]
    },
    {
      "cell_type": "markdown",
      "id": "6f7d21d6",
      "metadata": {
        "id": "6f7d21d6"
      },
      "source": [
        "## 1. Загрузка данных и знакомство с ними\n",
        "\n",
        "- Загрузите данные о заведениях общественного питания Москвы. Путь к файлам: `/datasets/rest_info.csv` и `/datasets/rest_price.csv`."
      ]
    },
    {
      "cell_type": "code",
      "execution_count": null,
      "id": "add17a98",
      "metadata": {
        "id": "add17a98",
        "outputId": "508cc27b-9046-4ee3-a362-f148d712b904"
      },
      "outputs": [
        {
          "name": "stdout",
          "output_type": "stream",
          "text": [
            "Requirement already satisfied: phik in /opt/conda/lib/python3.9/site-packages (0.12.4)\n",
            "Requirement already satisfied: pandas>=0.25.1 in /opt/conda/lib/python3.9/site-packages (from phik) (1.2.4)\n",
            "Requirement already satisfied: joblib>=0.14.1 in /opt/conda/lib/python3.9/site-packages (from phik) (1.1.0)\n",
            "Requirement already satisfied: numpy>=1.18.0 in /opt/conda/lib/python3.9/site-packages (from phik) (1.21.1)\n",
            "Requirement already satisfied: matplotlib>=2.2.3 in /opt/conda/lib/python3.9/site-packages (from phik) (3.3.4)\n",
            "Requirement already satisfied: scipy>=1.5.2 in /opt/conda/lib/python3.9/site-packages (from phik) (1.9.1)\n",
            "Requirement already satisfied: pillow>=6.2.0 in /opt/conda/lib/python3.9/site-packages (from matplotlib>=2.2.3->phik) (8.4.0)\n",
            "Requirement already satisfied: pyparsing!=2.0.4,!=2.1.2,!=2.1.6,>=2.0.3 in /opt/conda/lib/python3.9/site-packages (from matplotlib>=2.2.3->phik) (2.4.7)\n",
            "Requirement already satisfied: cycler>=0.10 in /opt/conda/lib/python3.9/site-packages (from matplotlib>=2.2.3->phik) (0.11.0)\n",
            "Requirement already satisfied: python-dateutil>=2.1 in /opt/conda/lib/python3.9/site-packages (from matplotlib>=2.2.3->phik) (2.8.1)\n",
            "Requirement already satisfied: kiwisolver>=1.0.1 in /opt/conda/lib/python3.9/site-packages (from matplotlib>=2.2.3->phik) (1.4.4)\n",
            "Requirement already satisfied: pytz>=2017.3 in /opt/conda/lib/python3.9/site-packages (from pandas>=0.25.1->phik) (2021.1)\n",
            "Requirement already satisfied: six>=1.5 in /opt/conda/lib/python3.9/site-packages (from python-dateutil>=2.1->matplotlib>=2.2.3->phik) (1.16.0)\n",
            "Note: you may need to restart the kernel to use updated packages.\n"
          ]
        }
      ],
      "source": [
        "pip install phik"
      ]
    },
    {
      "cell_type": "code",
      "execution_count": null,
      "id": "05faf34b",
      "metadata": {
        "id": "05faf34b"
      },
      "outputs": [],
      "source": [
        "# Импортируем библиотеки\n",
        "import pandas as pd\n",
        "\n",
        "# Загружаем библиотеки для визуализации данных\n",
        "import matplotlib.pyplot as plt\n",
        "import seaborn as sns\n",
        "\n",
        "# Загружаем библиотеку для расчёта коэффициента корреляции phi_k\n",
        "from phik import phik_matrix"
      ]
    },
    {
      "cell_type": "code",
      "execution_count": null,
      "id": "3161b6eb",
      "metadata": {
        "id": "3161b6eb"
      },
      "outputs": [],
      "source": [
        "# Загружаем датасеты 'rest_info.csv' и 'rest_price.csv'\n",
        "df_info = pd.read_csv('/datasets/rest_info.csv')\n",
        "df_price = pd.read_csv('/datasets/rest_price.csv')"
      ]
    },
    {
      "cell_type": "code",
      "execution_count": null,
      "id": "f68a7419",
      "metadata": {
        "id": "f68a7419",
        "outputId": "f818bb0e-ff4b-4958-a452-aa73301a5b14"
      },
      "outputs": [
        {
          "data": {
            "text/html": [
              "<div>\n",
              "<style scoped>\n",
              "    .dataframe tbody tr th:only-of-type {\n",
              "        vertical-align: middle;\n",
              "    }\n",
              "\n",
              "    .dataframe tbody tr th {\n",
              "        vertical-align: top;\n",
              "    }\n",
              "\n",
              "    .dataframe thead th {\n",
              "        text-align: right;\n",
              "    }\n",
              "</style>\n",
              "<table border=\"1\" class=\"dataframe\">\n",
              "  <thead>\n",
              "    <tr style=\"text-align: right;\">\n",
              "      <th></th>\n",
              "      <th>id</th>\n",
              "      <th>name</th>\n",
              "      <th>category</th>\n",
              "      <th>address</th>\n",
              "      <th>district</th>\n",
              "      <th>hours</th>\n",
              "      <th>rating</th>\n",
              "      <th>chain</th>\n",
              "      <th>seats</th>\n",
              "    </tr>\n",
              "  </thead>\n",
              "  <tbody>\n",
              "    <tr>\n",
              "      <th>0</th>\n",
              "      <td>0c3e3439a8c64ea5bf6ecd6ca6ae19f0</td>\n",
              "      <td>WoWфли</td>\n",
              "      <td>кафе</td>\n",
              "      <td>Москва, улица Дыбенко, 7/1</td>\n",
              "      <td>Северный административный округ</td>\n",
              "      <td>ежедневно, 10:00–22:00</td>\n",
              "      <td>5.0</td>\n",
              "      <td>0</td>\n",
              "      <td>NaN</td>\n",
              "    </tr>\n",
              "    <tr>\n",
              "      <th>1</th>\n",
              "      <td>045780ada3474c57a2112e505d74b633</td>\n",
              "      <td>Четыре комнаты</td>\n",
              "      <td>ресторан</td>\n",
              "      <td>Москва, улица Дыбенко, 36, корп. 1</td>\n",
              "      <td>Северный административный округ</td>\n",
              "      <td>ежедневно, 10:00–22:00</td>\n",
              "      <td>4.5</td>\n",
              "      <td>0</td>\n",
              "      <td>4.0</td>\n",
              "    </tr>\n",
              "    <tr>\n",
              "      <th>2</th>\n",
              "      <td>1070b6b59144425896c65889347fcff6</td>\n",
              "      <td>Хазри</td>\n",
              "      <td>кафе</td>\n",
              "      <td>Москва, Клязьминская улица, 15</td>\n",
              "      <td>Северный административный округ</td>\n",
              "      <td>пн-чт 11:00–02:00; пт,сб 11:00–05:00; вс 11:00...</td>\n",
              "      <td>4.6</td>\n",
              "      <td>0</td>\n",
              "      <td>45.0</td>\n",
              "    </tr>\n",
              "    <tr>\n",
              "      <th>3</th>\n",
              "      <td>03ac7cd772104f65b58b349dc59f03ee</td>\n",
              "      <td>Dormouse Coffee Shop</td>\n",
              "      <td>кофейня</td>\n",
              "      <td>Москва, улица Маршала Федоренко, 12</td>\n",
              "      <td>Северный административный округ</td>\n",
              "      <td>ежедневно, 09:00–22:00</td>\n",
              "      <td>5.0</td>\n",
              "      <td>0</td>\n",
              "      <td>NaN</td>\n",
              "    </tr>\n",
              "    <tr>\n",
              "      <th>4</th>\n",
              "      <td>a163aada139c4c7f87b0b1c0b466a50f</td>\n",
              "      <td>Иль Марко</td>\n",
              "      <td>пиццерия</td>\n",
              "      <td>Москва, Правобережная улица, 1Б</td>\n",
              "      <td>Северный административный округ</td>\n",
              "      <td>ежедневно, 10:00–22:00</td>\n",
              "      <td>5.0</td>\n",
              "      <td>1</td>\n",
              "      <td>148.0</td>\n",
              "    </tr>\n",
              "  </tbody>\n",
              "</table>\n",
              "</div>"
            ],
            "text/plain": [
              "                                 id                  name  category  \\\n",
              "0  0c3e3439a8c64ea5bf6ecd6ca6ae19f0                WoWфли      кафе   \n",
              "1  045780ada3474c57a2112e505d74b633        Четыре комнаты  ресторан   \n",
              "2  1070b6b59144425896c65889347fcff6                 Хазри      кафе   \n",
              "3  03ac7cd772104f65b58b349dc59f03ee  Dormouse Coffee Shop   кофейня   \n",
              "4  a163aada139c4c7f87b0b1c0b466a50f             Иль Марко  пиццерия   \n",
              "\n",
              "                               address                         district  \\\n",
              "0           Москва, улица Дыбенко, 7/1  Северный административный округ   \n",
              "1   Москва, улица Дыбенко, 36, корп. 1  Северный административный округ   \n",
              "2       Москва, Клязьминская улица, 15  Северный административный округ   \n",
              "3  Москва, улица Маршала Федоренко, 12  Северный административный округ   \n",
              "4      Москва, Правобережная улица, 1Б  Северный административный округ   \n",
              "\n",
              "                                               hours  rating  chain  seats  \n",
              "0                             ежедневно, 10:00–22:00     5.0      0    NaN  \n",
              "1                             ежедневно, 10:00–22:00     4.5      0    4.0  \n",
              "2  пн-чт 11:00–02:00; пт,сб 11:00–05:00; вс 11:00...     4.6      0   45.0  \n",
              "3                             ежедневно, 09:00–22:00     5.0      0    NaN  \n",
              "4                             ежедневно, 10:00–22:00     5.0      1  148.0  "
            ]
          },
          "execution_count": 4,
          "metadata": {},
          "output_type": "execute_result"
        }
      ],
      "source": [
        "# Выведем первые 5 строк датасета 'rest_info.csv'\n",
        "df_info.head()"
      ]
    },
    {
      "cell_type": "code",
      "execution_count": null,
      "id": "181a0ebd",
      "metadata": {
        "id": "181a0ebd",
        "outputId": "8ccaca87-e538-4866-bd8e-b4d35e11f4cb"
      },
      "outputs": [
        {
          "name": "stdout",
          "output_type": "stream",
          "text": [
            "<class 'pandas.core.frame.DataFrame'>\n",
            "RangeIndex: 8406 entries, 0 to 8405\n",
            "Data columns (total 9 columns):\n",
            " #   Column    Non-Null Count  Dtype  \n",
            "---  ------    --------------  -----  \n",
            " 0   id        8406 non-null   object \n",
            " 1   name      8406 non-null   object \n",
            " 2   category  8406 non-null   object \n",
            " 3   address   8406 non-null   object \n",
            " 4   district  8406 non-null   object \n",
            " 5   hours     7870 non-null   object \n",
            " 6   rating    8406 non-null   float64\n",
            " 7   chain     8406 non-null   int64  \n",
            " 8   seats     4795 non-null   float64\n",
            "dtypes: float64(2), int64(1), object(6)\n",
            "memory usage: 591.2+ KB\n"
          ]
        }
      ],
      "source": [
        "# Выведем информацию о датасете 'rest_info.csv'\n",
        "df_info.info()"
      ]
    },
    {
      "cell_type": "code",
      "execution_count": null,
      "id": "dd415c80",
      "metadata": {
        "id": "dd415c80",
        "outputId": "cf68866b-6d74-480d-d219-153d63db4dca"
      },
      "outputs": [
        {
          "data": {
            "text/html": [
              "<div>\n",
              "<style scoped>\n",
              "    .dataframe tbody tr th:only-of-type {\n",
              "        vertical-align: middle;\n",
              "    }\n",
              "\n",
              "    .dataframe tbody tr th {\n",
              "        vertical-align: top;\n",
              "    }\n",
              "\n",
              "    .dataframe thead th {\n",
              "        text-align: right;\n",
              "    }\n",
              "</style>\n",
              "<table border=\"1\" class=\"dataframe\">\n",
              "  <thead>\n",
              "    <tr style=\"text-align: right;\">\n",
              "      <th></th>\n",
              "      <th>id</th>\n",
              "      <th>price</th>\n",
              "      <th>avg_bill</th>\n",
              "      <th>middle_avg_bill</th>\n",
              "      <th>middle_coffee_cup</th>\n",
              "    </tr>\n",
              "  </thead>\n",
              "  <tbody>\n",
              "    <tr>\n",
              "      <th>0</th>\n",
              "      <td>045780ada3474c57a2112e505d74b633</td>\n",
              "      <td>выше среднего</td>\n",
              "      <td>Средний счёт:1500–1600 ₽</td>\n",
              "      <td>1550.0</td>\n",
              "      <td>NaN</td>\n",
              "    </tr>\n",
              "    <tr>\n",
              "      <th>1</th>\n",
              "      <td>1070b6b59144425896c65889347fcff6</td>\n",
              "      <td>средние</td>\n",
              "      <td>Средний счёт:от 1000 ₽</td>\n",
              "      <td>1000.0</td>\n",
              "      <td>NaN</td>\n",
              "    </tr>\n",
              "    <tr>\n",
              "      <th>2</th>\n",
              "      <td>03ac7cd772104f65b58b349dc59f03ee</td>\n",
              "      <td>NaN</td>\n",
              "      <td>Цена чашки капучино:155–185 ₽</td>\n",
              "      <td>NaN</td>\n",
              "      <td>170.0</td>\n",
              "    </tr>\n",
              "    <tr>\n",
              "      <th>3</th>\n",
              "      <td>a163aada139c4c7f87b0b1c0b466a50f</td>\n",
              "      <td>средние</td>\n",
              "      <td>Средний счёт:400–600 ₽</td>\n",
              "      <td>500.0</td>\n",
              "      <td>NaN</td>\n",
              "    </tr>\n",
              "    <tr>\n",
              "      <th>4</th>\n",
              "      <td>8a343546b24e4a499ad96eb7d0797a8a</td>\n",
              "      <td>средние</td>\n",
              "      <td>NaN</td>\n",
              "      <td>NaN</td>\n",
              "      <td>NaN</td>\n",
              "    </tr>\n",
              "  </tbody>\n",
              "</table>\n",
              "</div>"
            ],
            "text/plain": [
              "                                 id          price  \\\n",
              "0  045780ada3474c57a2112e505d74b633  выше среднего   \n",
              "1  1070b6b59144425896c65889347fcff6        средние   \n",
              "2  03ac7cd772104f65b58b349dc59f03ee            NaN   \n",
              "3  a163aada139c4c7f87b0b1c0b466a50f        средние   \n",
              "4  8a343546b24e4a499ad96eb7d0797a8a        средние   \n",
              "\n",
              "                        avg_bill  middle_avg_bill  middle_coffee_cup  \n",
              "0       Средний счёт:1500–1600 ₽           1550.0                NaN  \n",
              "1         Средний счёт:от 1000 ₽           1000.0                NaN  \n",
              "2  Цена чашки капучино:155–185 ₽              NaN              170.0  \n",
              "3         Средний счёт:400–600 ₽            500.0                NaN  \n",
              "4                            NaN              NaN                NaN  "
            ]
          },
          "execution_count": 6,
          "metadata": {},
          "output_type": "execute_result"
        }
      ],
      "source": [
        "# Выведем первые 5 строк датасета 'rest_price.csv'\n",
        "df_price.head()"
      ]
    },
    {
      "cell_type": "code",
      "execution_count": null,
      "id": "a4a36516",
      "metadata": {
        "id": "a4a36516",
        "outputId": "c8e84591-e668-4d24-df83-e137fcfdbe80"
      },
      "outputs": [
        {
          "name": "stdout",
          "output_type": "stream",
          "text": [
            "<class 'pandas.core.frame.DataFrame'>\n",
            "RangeIndex: 4058 entries, 0 to 4057\n",
            "Data columns (total 5 columns):\n",
            " #   Column             Non-Null Count  Dtype  \n",
            "---  ------             --------------  -----  \n",
            " 0   id                 4058 non-null   object \n",
            " 1   price              3315 non-null   object \n",
            " 2   avg_bill           3816 non-null   object \n",
            " 3   middle_avg_bill    3149 non-null   float64\n",
            " 4   middle_coffee_cup  535 non-null    float64\n",
            "dtypes: float64(2), object(3)\n",
            "memory usage: 158.6+ KB\n"
          ]
        }
      ],
      "source": [
        "# Выведем информацию о датасете 'rest_price.csv'\n",
        "df_price.info()"
      ]
    },
    {
      "cell_type": "markdown",
      "id": "4a6f3dba",
      "metadata": {
        "id": "4a6f3dba"
      },
      "source": [
        "**Датасет 'rest_info.csv' содержит 8406 строк и 9 колонок**\n",
        "- Также можно в колонке 'chain' оптимизировать размерность данных, так как возможные значения, которые она может содержать это 0 и 1\n",
        "- В колонках 'hours' и 'seats' содержатся пропуски\n",
        "- Данные соответсвуют описанию"
      ]
    },
    {
      "cell_type": "markdown",
      "id": "d6f958f2",
      "metadata": {
        "id": "d6f958f2"
      },
      "source": [
        "**Датасет 'rest_price.csv' содержит 4058 строк и 6 колонок**\n",
        "- Каждая колонка содержит корректный тип данных\n",
        "- Пропуски содержатся в столбцах 'price', 'avg_bill', 'middle_avg_bill', 'middle_coffee_cup', но пропуски в столбцах 'middle_avg_bill' и 'middle_coffee_cup' обоснованы описанием датасета, а значит надо будет уделить внимание пропускам 'price'и 'avg_bill'\n",
        "- Данные соответсвуют описанию"
      ]
    },
    {
      "cell_type": "markdown",
      "id": "8a8d1491",
      "metadata": {
        "id": "8a8d1491"
      },
      "source": [
        "### Подготовка единого датафрейма"
      ]
    },
    {
      "cell_type": "code",
      "execution_count": null,
      "id": "3408e303",
      "metadata": {
        "id": "3408e303"
      },
      "outputs": [],
      "source": [
        "# Объединим данные двух датасетов в один\n",
        "df_merged = df_info.merge(df_price, on='id', how='left')"
      ]
    },
    {
      "cell_type": "code",
      "execution_count": null,
      "id": "5695950b",
      "metadata": {
        "id": "5695950b",
        "outputId": "c2360c6e-0435-4803-8a18-aee24f13a35d"
      },
      "outputs": [
        {
          "name": "stdout",
          "output_type": "stream",
          "text": [
            "<class 'pandas.core.frame.DataFrame'>\n",
            "Int64Index: 8406 entries, 0 to 8405\n",
            "Data columns (total 13 columns):\n",
            " #   Column             Non-Null Count  Dtype  \n",
            "---  ------             --------------  -----  \n",
            " 0   id                 8406 non-null   object \n",
            " 1   name               8406 non-null   object \n",
            " 2   category           8406 non-null   object \n",
            " 3   address            8406 non-null   object \n",
            " 4   district           8406 non-null   object \n",
            " 5   hours              7870 non-null   object \n",
            " 6   rating             8406 non-null   float64\n",
            " 7   chain              8406 non-null   int64  \n",
            " 8   seats              4795 non-null   float64\n",
            " 9   price              3315 non-null   object \n",
            " 10  avg_bill           3816 non-null   object \n",
            " 11  middle_avg_bill    3149 non-null   float64\n",
            " 12  middle_coffee_cup  535 non-null    float64\n",
            "dtypes: float64(4), int64(1), object(8)\n",
            "memory usage: 919.4+ KB\n"
          ]
        }
      ],
      "source": [
        "# Выведем информацию об объеденненом датафрейме, чтобы проверить правильность объединненых данных\n",
        "df_merged.info()"
      ]
    },
    {
      "cell_type": "markdown",
      "id": "956e82e2",
      "metadata": {
        "id": "956e82e2"
      },
      "source": [
        "## 2. Предобработка данных\n"
      ]
    },
    {
      "cell_type": "code",
      "execution_count": null,
      "id": "67956690",
      "metadata": {
        "id": "67956690"
      },
      "outputs": [],
      "source": [
        "# Преобразуем тип данных в колонке 'chain' к типу данных int8\n",
        "df_merged['chain'] = pd.to_numeric(df_merged['chain'], downcast = 'integer')"
      ]
    },
    {
      "cell_type": "code",
      "execution_count": null,
      "id": "b5f2a94d",
      "metadata": {
        "id": "b5f2a94d",
        "outputId": "a91a3518-d6c0-42ab-9578-729e94c2f988"
      },
      "outputs": [
        {
          "name": "stdout",
          "output_type": "stream",
          "text": [
            "<class 'pandas.core.frame.DataFrame'>\n",
            "Int64Index: 8406 entries, 0 to 8405\n",
            "Data columns (total 13 columns):\n",
            " #   Column             Non-Null Count  Dtype  \n",
            "---  ------             --------------  -----  \n",
            " 0   id                 8406 non-null   object \n",
            " 1   name               8406 non-null   object \n",
            " 2   category           8406 non-null   object \n",
            " 3   address            8406 non-null   object \n",
            " 4   district           8406 non-null   object \n",
            " 5   hours              7870 non-null   object \n",
            " 6   rating             8406 non-null   float64\n",
            " 7   chain              8406 non-null   int8   \n",
            " 8   seats              4795 non-null   float64\n",
            " 9   price              3315 non-null   object \n",
            " 10  avg_bill           3816 non-null   object \n",
            " 11  middle_avg_bill    3149 non-null   float64\n",
            " 12  middle_coffee_cup  535 non-null    float64\n",
            "dtypes: float64(4), int8(1), object(8)\n",
            "memory usage: 861.9+ KB\n"
          ]
        }
      ],
      "source": [
        "df_merged.info()"
      ]
    },
    {
      "cell_type": "code",
      "execution_count": null,
      "id": "3d8840ca",
      "metadata": {
        "id": "3d8840ca",
        "outputId": "1d897fb2-9014-415d-ff94-2b2295f10fde"
      },
      "outputs": [
        {
          "data": {
            "text/plain": [
              "id                      0\n",
              "name                    0\n",
              "category                0\n",
              "address                 0\n",
              "district                0\n",
              "hours                 536\n",
              "rating                  0\n",
              "chain                   0\n",
              "seats                3611\n",
              "price                5091\n",
              "avg_bill             4590\n",
              "middle_avg_bill      5257\n",
              "middle_coffee_cup    7871\n",
              "dtype: int64"
            ]
          },
          "execution_count": 12,
          "metadata": {},
          "output_type": "execute_result"
        }
      ],
      "source": [
        "# Посчитаем количество пропусков в каждом столбце\n",
        "df_merged.isna().sum()"
      ]
    },
    {
      "cell_type": "code",
      "execution_count": null,
      "id": "78316f25",
      "metadata": {
        "id": "78316f25",
        "outputId": "bdb91fdf-830c-4b87-da3a-cd953f309e89"
      },
      "outputs": [
        {
          "data": {
            "text/plain": [
              "id                    0.000000\n",
              "name                  0.000000\n",
              "category              0.000000\n",
              "address               0.000000\n",
              "district              0.000000\n",
              "rating                0.000000\n",
              "chain                 0.000000\n",
              "hours                 6.376398\n",
              "seats                42.957411\n",
              "avg_bill             54.603854\n",
              "price                60.563883\n",
              "middle_avg_bill      62.538663\n",
              "middle_coffee_cup    93.635498\n",
              "dtype: float64"
            ]
          },
          "execution_count": 13,
          "metadata": {},
          "output_type": "execute_result"
        }
      ],
      "source": [
        "# Посчитаем процентов пропусков каждом столбце\n",
        "(df_merged.isna().sum()/df_merged['id'].count()).sort_values()*100"
      ]
    },
    {
      "cell_type": "markdown",
      "id": "c10c9895",
      "metadata": {
        "id": "c10c9895"
      },
      "source": [
        "- Пропуски в столбце `hours` занимают около 6%, и так как в дальнейшем анализе они практически не будут участвовать, а значит их можно игнорировать\n",
        "- Пропуски в столбце `seats`, `price` занимают занчительную часть 42% и 60% соответственно, так как данные берутся из открытых источников они могут содержать ошибки, тем самым пропуски в данных столбцах можно отнести к типу MСAR\n",
        "- Пропуски в столбце `avg_bill` занимают значительную часть 54%, и влияют на количество пропусков в столбцах `middle_avg_bill`, `middle_coffee_cup` их стоит оставить\n",
        "- В столбцах `middle_avg_bill`, `middle_coffee_cup` пропуски обоснованы описанием данных"
      ]
    },
    {
      "cell_type": "code",
      "execution_count": null,
      "id": "d9e7c358",
      "metadata": {
        "id": "d9e7c358",
        "outputId": "ed42f616-d674-4a1d-fd77-6bf1bfe9b7ee"
      },
      "outputs": [
        {
          "data": {
            "text/plain": [
              "id                      0\n",
              "name                    0\n",
              "category                0\n",
              "address                 0\n",
              "district                0\n",
              "hours                   0\n",
              "rating                  0\n",
              "chain                   0\n",
              "seats                3375\n",
              "avg_bill             4062\n",
              "price                4560\n",
              "middle_avg_bill      4727\n",
              "middle_coffee_cup    7336\n",
              "dtype: int64"
            ]
          },
          "execution_count": 14,
          "metadata": {},
          "output_type": "execute_result"
        }
      ],
      "source": [
        "# Удалим данные в столбце 'hours'\n",
        "df_merged = df_merged.dropna(subset=['hours'])\n",
        "df_merged.isna().sum().sort_values()"
      ]
    },
    {
      "cell_type": "markdown",
      "id": "7a83b5ee",
      "metadata": {
        "id": "7a83b5ee"
      },
      "source": [
        "Столбцы `price`, `avg_bill`, `seats` пока проигнорируем"
      ]
    },
    {
      "cell_type": "code",
      "execution_count": null,
      "id": "0769b681",
      "metadata": {
        "id": "0769b681",
        "outputId": "808759bd-e71c-43df-d612-b52066e91a51"
      },
      "outputs": [
        {
          "data": {
            "text/plain": [
              "0            северный административный округ\n",
              "1            северный административный округ\n",
              "2            северный административный округ\n",
              "3            северный административный округ\n",
              "4            северный административный округ\n",
              "                        ...                 \n",
              "8401     юго-западный административный округ\n",
              "8402            южный административный округ\n",
              "8403    юго-восточный административный округ\n",
              "8404    юго-восточный административный округ\n",
              "8405            южный административный округ\n",
              "Name: district, Length: 7870, dtype: object"
            ]
          },
          "execution_count": 15,
          "metadata": {},
          "output_type": "execute_result"
        }
      ],
      "source": [
        "df_merged['name'].str.lower()\n",
        "df_merged['address'].str.lower()\n",
        "df_merged['district'].str.lower()"
      ]
    },
    {
      "cell_type": "code",
      "execution_count": null,
      "id": "95b15cd0",
      "metadata": {
        "id": "95b15cd0",
        "outputId": "534f6238-225c-45ff-dec8-d2ff36290d6c"
      },
      "outputs": [
        {
          "data": {
            "text/plain": [
              "0"
            ]
          },
          "execution_count": 16,
          "metadata": {},
          "output_type": "execute_result"
        }
      ],
      "source": [
        "# Проверим данные на наличие дубликатов\n",
        "df_merged.duplicated().sum()"
      ]
    },
    {
      "cell_type": "code",
      "execution_count": null,
      "id": "b52bae9a",
      "metadata": {
        "id": "b52bae9a",
        "outputId": "1f7016ef-c3fb-4c5d-ae9c-99440c1472e6"
      },
      "outputs": [
        {
          "data": {
            "text/plain": [
              "array([nan, 'выше среднего', 'средние', 'высокие', 'низкие'], dtype=object)"
            ]
          },
          "execution_count": 17,
          "metadata": {},
          "output_type": "execute_result"
        }
      ],
      "source": [
        "# Проверим уникальные занчения в столбце 'price'\n",
        "unique_values_p = df_merged['price'].unique()\n",
        "unique_values_p"
      ]
    },
    {
      "cell_type": "code",
      "execution_count": null,
      "id": "42d1e685",
      "metadata": {
        "id": "42d1e685"
      },
      "outputs": [],
      "source": [
        "# создадим функцию create_col, которая присваевает значение True или false в зависимостии от режима работы заведения\n",
        "def create_col(x):\n",
        "    if x == 'ежедневно, круглосуточно':\n",
        "        return True\n",
        "    else:\n",
        "        return False"
      ]
    },
    {
      "cell_type": "code",
      "execution_count": null,
      "id": "61304e83",
      "metadata": {
        "id": "61304e83",
        "outputId": "745bf284-c66c-403e-eb11-65a48ff50fac"
      },
      "outputs": [
        {
          "data": {
            "text/html": [
              "<div>\n",
              "<style scoped>\n",
              "    .dataframe tbody tr th:only-of-type {\n",
              "        vertical-align: middle;\n",
              "    }\n",
              "\n",
              "    .dataframe tbody tr th {\n",
              "        vertical-align: top;\n",
              "    }\n",
              "\n",
              "    .dataframe thead th {\n",
              "        text-align: right;\n",
              "    }\n",
              "</style>\n",
              "<table border=\"1\" class=\"dataframe\">\n",
              "  <thead>\n",
              "    <tr style=\"text-align: right;\">\n",
              "      <th></th>\n",
              "      <th>id</th>\n",
              "      <th>name</th>\n",
              "      <th>category</th>\n",
              "      <th>address</th>\n",
              "      <th>district</th>\n",
              "      <th>hours</th>\n",
              "      <th>rating</th>\n",
              "      <th>chain</th>\n",
              "      <th>seats</th>\n",
              "      <th>price</th>\n",
              "      <th>avg_bill</th>\n",
              "      <th>middle_avg_bill</th>\n",
              "      <th>middle_coffee_cup</th>\n",
              "      <th>is_24_7</th>\n",
              "    </tr>\n",
              "  </thead>\n",
              "  <tbody>\n",
              "    <tr>\n",
              "      <th>0</th>\n",
              "      <td>0c3e3439a8c64ea5bf6ecd6ca6ae19f0</td>\n",
              "      <td>WoWфли</td>\n",
              "      <td>кафе</td>\n",
              "      <td>Москва, улица Дыбенко, 7/1</td>\n",
              "      <td>Северный административный округ</td>\n",
              "      <td>ежедневно, 10:00–22:00</td>\n",
              "      <td>5.0</td>\n",
              "      <td>0</td>\n",
              "      <td>NaN</td>\n",
              "      <td>NaN</td>\n",
              "      <td>NaN</td>\n",
              "      <td>NaN</td>\n",
              "      <td>NaN</td>\n",
              "      <td>False</td>\n",
              "    </tr>\n",
              "    <tr>\n",
              "      <th>1</th>\n",
              "      <td>045780ada3474c57a2112e505d74b633</td>\n",
              "      <td>Четыре комнаты</td>\n",
              "      <td>ресторан</td>\n",
              "      <td>Москва, улица Дыбенко, 36, корп. 1</td>\n",
              "      <td>Северный административный округ</td>\n",
              "      <td>ежедневно, 10:00–22:00</td>\n",
              "      <td>4.5</td>\n",
              "      <td>0</td>\n",
              "      <td>4.0</td>\n",
              "      <td>выше среднего</td>\n",
              "      <td>Средний счёт:1500–1600 ₽</td>\n",
              "      <td>1550.0</td>\n",
              "      <td>NaN</td>\n",
              "      <td>False</td>\n",
              "    </tr>\n",
              "    <tr>\n",
              "      <th>2</th>\n",
              "      <td>1070b6b59144425896c65889347fcff6</td>\n",
              "      <td>Хазри</td>\n",
              "      <td>кафе</td>\n",
              "      <td>Москва, Клязьминская улица, 15</td>\n",
              "      <td>Северный административный округ</td>\n",
              "      <td>пн-чт 11:00–02:00; пт,сб 11:00–05:00; вс 11:00...</td>\n",
              "      <td>4.6</td>\n",
              "      <td>0</td>\n",
              "      <td>45.0</td>\n",
              "      <td>средние</td>\n",
              "      <td>Средний счёт:от 1000 ₽</td>\n",
              "      <td>1000.0</td>\n",
              "      <td>NaN</td>\n",
              "      <td>False</td>\n",
              "    </tr>\n",
              "    <tr>\n",
              "      <th>3</th>\n",
              "      <td>03ac7cd772104f65b58b349dc59f03ee</td>\n",
              "      <td>Dormouse Coffee Shop</td>\n",
              "      <td>кофейня</td>\n",
              "      <td>Москва, улица Маршала Федоренко, 12</td>\n",
              "      <td>Северный административный округ</td>\n",
              "      <td>ежедневно, 09:00–22:00</td>\n",
              "      <td>5.0</td>\n",
              "      <td>0</td>\n",
              "      <td>NaN</td>\n",
              "      <td>NaN</td>\n",
              "      <td>Цена чашки капучино:155–185 ₽</td>\n",
              "      <td>NaN</td>\n",
              "      <td>170.0</td>\n",
              "      <td>False</td>\n",
              "    </tr>\n",
              "    <tr>\n",
              "      <th>4</th>\n",
              "      <td>a163aada139c4c7f87b0b1c0b466a50f</td>\n",
              "      <td>Иль Марко</td>\n",
              "      <td>пиццерия</td>\n",
              "      <td>Москва, Правобережная улица, 1Б</td>\n",
              "      <td>Северный административный округ</td>\n",
              "      <td>ежедневно, 10:00–22:00</td>\n",
              "      <td>5.0</td>\n",
              "      <td>1</td>\n",
              "      <td>148.0</td>\n",
              "      <td>средние</td>\n",
              "      <td>Средний счёт:400–600 ₽</td>\n",
              "      <td>500.0</td>\n",
              "      <td>NaN</td>\n",
              "      <td>False</td>\n",
              "    </tr>\n",
              "  </tbody>\n",
              "</table>\n",
              "</div>"
            ],
            "text/plain": [
              "                                 id                  name  category  \\\n",
              "0  0c3e3439a8c64ea5bf6ecd6ca6ae19f0                WoWфли      кафе   \n",
              "1  045780ada3474c57a2112e505d74b633        Четыре комнаты  ресторан   \n",
              "2  1070b6b59144425896c65889347fcff6                 Хазри      кафе   \n",
              "3  03ac7cd772104f65b58b349dc59f03ee  Dormouse Coffee Shop   кофейня   \n",
              "4  a163aada139c4c7f87b0b1c0b466a50f             Иль Марко  пиццерия   \n",
              "\n",
              "                               address                         district  \\\n",
              "0           Москва, улица Дыбенко, 7/1  Северный административный округ   \n",
              "1   Москва, улица Дыбенко, 36, корп. 1  Северный административный округ   \n",
              "2       Москва, Клязьминская улица, 15  Северный административный округ   \n",
              "3  Москва, улица Маршала Федоренко, 12  Северный административный округ   \n",
              "4      Москва, Правобережная улица, 1Б  Северный административный округ   \n",
              "\n",
              "                                               hours  rating  chain  seats  \\\n",
              "0                             ежедневно, 10:00–22:00     5.0      0    NaN   \n",
              "1                             ежедневно, 10:00–22:00     4.5      0    4.0   \n",
              "2  пн-чт 11:00–02:00; пт,сб 11:00–05:00; вс 11:00...     4.6      0   45.0   \n",
              "3                             ежедневно, 09:00–22:00     5.0      0    NaN   \n",
              "4                             ежедневно, 10:00–22:00     5.0      1  148.0   \n",
              "\n",
              "           price                       avg_bill  middle_avg_bill  \\\n",
              "0            NaN                            NaN              NaN   \n",
              "1  выше среднего       Средний счёт:1500–1600 ₽           1550.0   \n",
              "2        средние         Средний счёт:от 1000 ₽           1000.0   \n",
              "3            NaN  Цена чашки капучино:155–185 ₽              NaN   \n",
              "4        средние         Средний счёт:400–600 ₽            500.0   \n",
              "\n",
              "   middle_coffee_cup  is_24_7  \n",
              "0                NaN    False  \n",
              "1                NaN    False  \n",
              "2                NaN    False  \n",
              "3              170.0    False  \n",
              "4                NaN    False  "
            ]
          },
          "execution_count": 19,
          "metadata": {},
          "output_type": "execute_result"
        }
      ],
      "source": [
        "# создадим новый столбец is_24_7\n",
        "df_merged['is_24_7'] = df_merged['hours'].apply(create_col)\n",
        "df_merged.head()"
      ]
    },
    {
      "cell_type": "markdown",
      "id": "562f30ab",
      "metadata": {
        "id": "562f30ab"
      },
      "source": [
        "---\n",
        "\n",
        "### Промежуточный вывод\n"
      ]
    },
    {
      "cell_type": "markdown",
      "id": "11194f51",
      "metadata": {
        "id": "11194f51"
      },
      "source": [
        "В результате работы над данным этапом:\n",
        "1. Были объеденены датафреймы `/datasets/rest_info.csv` и `/datasets/rest_price.csv`\n",
        "2. Преобразован тип данных в колонке `chain` к типу данных `int8`\n",
        "3. В столбце `hours` были удалены пропуски\n",
        "5. В столбце `price`, `seats`, `avg_bill` пропуски были оставлены\n",
        "6. Дубликаты найдены не были\n",
        "7. Был создан новый столбец `is_24_7` с обозначением того, что заведение работает ежедневно и круглосуточно"
      ]
    },
    {
      "cell_type": "markdown",
      "id": "6953e84c",
      "metadata": {
        "id": "6953e84c"
      },
      "source": [
        "## 3. Исследовательский анализ данных\n"
      ]
    },
    {
      "cell_type": "markdown",
      "id": "8555d840",
      "metadata": {
        "id": "8555d840"
      },
      "source": [
        "---\n",
        "\n",
        "### Задача 1\n",
        "\n",
        "Какие категории заведений представлены в данных?"
      ]
    },
    {
      "cell_type": "code",
      "execution_count": null,
      "id": "ef2bffe9",
      "metadata": {
        "id": "ef2bffe9",
        "outputId": "5ba1b3cd-b9c5-4c11-fadd-23941c482a95"
      },
      "outputs": [
        {
          "data": {
            "image/png": "[encoded data removed]",
            "text/plain": [
              "<Figure size 792x288 with 1 Axes>"
            ]
          },
          "metadata": {
            "needs_background": "light"
          },
          "output_type": "display_data"
        }
      ],
      "source": [
        "# Создаём контейнер графика matplotlib и задаём его размер\n",
        "plt.figure(figsize=(11, 4))\n",
        "\n",
        "# Строим столбчатую диаграмму\n",
        "df_merged['category'].value_counts().plot(\n",
        "               kind='bar', # Тип графика - столбчатая диаграмма\n",
        "               rot=0, # Градус вращения подписи по оси Х\n",
        "               legend=False, # Выключаем легенду\n",
        "               title=f'Распределение количества объектов общественного питания в зависимости от категории'\n",
        ")\n",
        "\n",
        "# Настраиваем оформление графика\n",
        "plt.xlabel('Название категории')\n",
        "plt.ylabel('Количество объектов')\n",
        "# Добавляем сетку графика\n",
        "plt.grid()\n",
        "\n",
        "# Выводим график\n",
        "plt.show()"
      ]
    },
    {
      "cell_type": "code",
      "execution_count": null,
      "id": "84e8aef5",
      "metadata": {
        "id": "84e8aef5",
        "outputId": "0118890a-130c-4cee-f36c-b263c47a7651"
      },
      "outputs": [
        {
          "name": "stdout",
          "output_type": "stream",
          "text": [
            "Распределение количества объектов общественного питания в зависимости от категории\n"
          ]
        },
        {
          "data": {
            "text/html": [
              "<div>\n",
              "<style scoped>\n",
              "    .dataframe tbody tr th:only-of-type {\n",
              "        vertical-align: middle;\n",
              "    }\n",
              "\n",
              "    .dataframe tbody tr th {\n",
              "        vertical-align: top;\n",
              "    }\n",
              "\n",
              "    .dataframe thead th {\n",
              "        text-align: right;\n",
              "    }\n",
              "</style>\n",
              "<table border=\"1\" class=\"dataframe\">\n",
              "  <thead>\n",
              "    <tr style=\"text-align: right;\">\n",
              "      <th></th>\n",
              "      <th>Количество</th>\n",
              "      <th>Процент</th>\n",
              "    </tr>\n",
              "  </thead>\n",
              "  <tbody>\n",
              "    <tr>\n",
              "      <th>кафе</th>\n",
              "      <td>2003</td>\n",
              "      <td>25.451080</td>\n",
              "    </tr>\n",
              "    <tr>\n",
              "      <th>ресторан</th>\n",
              "      <td>1969</td>\n",
              "      <td>25.019060</td>\n",
              "    </tr>\n",
              "    <tr>\n",
              "      <th>кофейня</th>\n",
              "      <td>1398</td>\n",
              "      <td>17.763659</td>\n",
              "    </tr>\n",
              "    <tr>\n",
              "      <th>бар,паб</th>\n",
              "      <td>747</td>\n",
              "      <td>9.491741</td>\n",
              "    </tr>\n",
              "    <tr>\n",
              "      <th>пиццерия</th>\n",
              "      <td>628</td>\n",
              "      <td>7.979670</td>\n",
              "    </tr>\n",
              "    <tr>\n",
              "      <th>быстрое питание</th>\n",
              "      <td>570</td>\n",
              "      <td>7.242694</td>\n",
              "    </tr>\n",
              "    <tr>\n",
              "      <th>столовая</th>\n",
              "      <td>306</td>\n",
              "      <td>3.888183</td>\n",
              "    </tr>\n",
              "    <tr>\n",
              "      <th>булочная</th>\n",
              "      <td>249</td>\n",
              "      <td>3.163914</td>\n",
              "    </tr>\n",
              "  </tbody>\n",
              "</table>\n",
              "</div>"
            ],
            "text/plain": [
              "                 Количество    Процент\n",
              "кафе                   2003  25.451080\n",
              "ресторан               1969  25.019060\n",
              "кофейня                1398  17.763659\n",
              "бар,паб                 747   9.491741\n",
              "пиццерия                628   7.979670\n",
              "быстрое питание         570   7.242694\n",
              "столовая                306   3.888183\n",
              "булочная                249   3.163914"
            ]
          },
          "execution_count": 21,
          "metadata": {},
          "output_type": "execute_result"
        }
      ],
      "source": [
        "tab_1 = df_merged['category'].value_counts()\n",
        "tab_1_percent = df_merged['category'].value_counts(normalize=True) * 100\n",
        "tab_1 = pd.DataFrame({'Количество': tab_1, 'Процент': tab_1_percent})\n",
        "print('Распределение количества объектов общественного питания в зависимости от категории')\n",
        "\n",
        "tab_1\n"
      ]
    },
    {
      "cell_type": "markdown",
      "id": "012e6e8f",
      "metadata": {
        "id": "012e6e8f"
      },
      "source": [
        "- Ресторан и кафе - самые популярные категории по наличию заведений, количество которых составляет около 2000\n",
        "- Булочная и столовая - самые непопулярные категории, количество заведений составляет около 250"
      ]
    },
    {
      "cell_type": "markdown",
      "id": "6821e1d0",
      "metadata": {
        "id": "6821e1d0"
      },
      "source": [
        "---\n",
        "\n",
        "### Задача 2\n",
        "\n",
        "Какие административные районы Москвы присутствуют в данных?"
      ]
    },
    {
      "cell_type": "code",
      "execution_count": null,
      "id": "e62f31be",
      "metadata": {
        "id": "e62f31be",
        "outputId": "659cdf8c-8e07-4ea4-e076-379371ed3196"
      },
      "outputs": [
        {
          "data": {
            "image/png": "[encoded data removed]",
            "text/plain": [
              "<Figure size 720x576 with 1 Axes>"
            ]
          },
          "metadata": {
            "needs_background": "light"
          },
          "output_type": "display_data"
        }
      ],
      "source": [
        "# Создаём контейнер графика matplotlib и задаём его размер\n",
        "plt.figure(figsize=(10, 8))\n",
        "\n",
        "# Строим столбчатую диаграмму\n",
        "df_merged['district'].value_counts().plot(\n",
        "               kind='bar', # Тип графика - столбчатая диаграмма\n",
        "               rot=90, # Градус вращения подписи по оси Х\n",
        "               legend=False, # Выключаем легенду\n",
        "               title=f'Распределение количества объектов общественного питания в зависимости от районов Москвы'\n",
        ")\n",
        "\n",
        "# Настраиваем оформление графика\n",
        "plt.xlabel('Название района')\n",
        "plt.ylabel('Количество объектов')\n",
        "# Добавляем сетку графика\n",
        "plt.grid()\n",
        "\n",
        "# Выводим график\n",
        "plt.show()"
      ]
    },
    {
      "cell_type": "code",
      "execution_count": null,
      "id": "c1fa852b",
      "metadata": {
        "id": "c1fa852b",
        "outputId": "04e7a411-7071-43d8-e8ff-72ecae72ab61"
      },
      "outputs": [
        {
          "name": "stdout",
          "output_type": "stream",
          "text": [
            "Распределение количества объектов общественного питания в зависимости от районов Москвы\n"
          ]
        },
        {
          "data": {
            "text/html": [
              "<div>\n",
              "<style scoped>\n",
              "    .dataframe tbody tr th:only-of-type {\n",
              "        vertical-align: middle;\n",
              "    }\n",
              "\n",
              "    .dataframe tbody tr th {\n",
              "        vertical-align: top;\n",
              "    }\n",
              "\n",
              "    .dataframe thead th {\n",
              "        text-align: right;\n",
              "    }\n",
              "</style>\n",
              "<table border=\"1\" class=\"dataframe\">\n",
              "  <thead>\n",
              "    <tr style=\"text-align: right;\">\n",
              "      <th></th>\n",
              "      <th>Количество</th>\n",
              "      <th>Процент</th>\n",
              "    </tr>\n",
              "  </thead>\n",
              "  <tbody>\n",
              "    <tr>\n",
              "      <th>Центральный административный округ</th>\n",
              "      <td>2211</td>\n",
              "      <td>28.094028</td>\n",
              "    </tr>\n",
              "    <tr>\n",
              "      <th>Северный административный округ</th>\n",
              "      <td>846</td>\n",
              "      <td>10.749682</td>\n",
              "    </tr>\n",
              "    <tr>\n",
              "      <th>Северо-Восточный административный округ</th>\n",
              "      <td>830</td>\n",
              "      <td>10.546379</td>\n",
              "    </tr>\n",
              "    <tr>\n",
              "      <th>Южный административный округ</th>\n",
              "      <td>827</td>\n",
              "      <td>10.508259</td>\n",
              "    </tr>\n",
              "    <tr>\n",
              "      <th>Западный административный округ</th>\n",
              "      <td>785</td>\n",
              "      <td>9.974587</td>\n",
              "    </tr>\n",
              "    <tr>\n",
              "      <th>Восточный административный округ</th>\n",
              "      <td>723</td>\n",
              "      <td>9.186785</td>\n",
              "    </tr>\n",
              "    <tr>\n",
              "      <th>Юго-Западный административный округ</th>\n",
              "      <td>650</td>\n",
              "      <td>8.259212</td>\n",
              "    </tr>\n",
              "    <tr>\n",
              "      <th>Юго-Восточный административный округ</th>\n",
              "      <td>629</td>\n",
              "      <td>7.992376</td>\n",
              "    </tr>\n",
              "    <tr>\n",
              "      <th>Северо-Западный административный округ</th>\n",
              "      <td>369</td>\n",
              "      <td>4.688691</td>\n",
              "    </tr>\n",
              "  </tbody>\n",
              "</table>\n",
              "</div>"
            ],
            "text/plain": [
              "                                         Количество    Процент\n",
              "Центральный административный округ             2211  28.094028\n",
              "Северный административный округ                 846  10.749682\n",
              "Северо-Восточный административный округ         830  10.546379\n",
              "Южный административный округ                    827  10.508259\n",
              "Западный административный округ                 785   9.974587\n",
              "Восточный административный округ                723   9.186785\n",
              "Юго-Западный административный округ             650   8.259212\n",
              "Юго-Восточный административный округ            629   7.992376\n",
              "Северо-Западный административный округ          369   4.688691"
            ]
          },
          "execution_count": 23,
          "metadata": {},
          "output_type": "execute_result"
        }
      ],
      "source": [
        "tab_2 = df_merged['district'].value_counts()\n",
        "tab_2_percent = df_merged['district'].value_counts(normalize=True)*100\n",
        "tab_2 = pd.DataFrame({'Количество': tab_2, 'Процент': tab_2_percent})\n",
        "print('Распределение количества объектов общественного питания в зависимости от районов Москвы')\n",
        "tab_2"
      ]
    },
    {
      "cell_type": "markdown",
      "id": "6a575f57",
      "metadata": {
        "id": "6a575f57"
      },
      "source": [
        "- Центральный административный округ выделяется среди других районов Москвы, количество заведений в котором составляет более 2000, пока в остальных районах находится от 629 до 846.\n",
        "- Северо-Западный административный округ является самым непопулярным районом - количество заведений достигает около 370"
      ]
    },
    {
      "cell_type": "code",
      "execution_count": null,
      "id": "0a290cd1",
      "metadata": {
        "id": "0a290cd1",
        "outputId": "72fd6c0f-7231-40f3-c108-6ed421e4c206"
      },
      "outputs": [
        {
          "data": {
            "image/png": "[encoded data removed]",
            "text/plain": [
              "<Figure size 936x432 with 1 Axes>"
            ]
          },
          "metadata": {
            "needs_background": "light"
          },
          "output_type": "display_data"
        }
      ],
      "source": [
        "# Создаём контейнер графика matplotlib и задаём его размер\n",
        "plt.figure(figsize=(13, 6))\n",
        "df_filtered_dis = df_merged.loc[df_merged['district'] == 'Центральный административный округ']\n",
        "# Строим столбчатую диаграмму\n",
        "df_filtered_dis['category'].value_counts().plot(\n",
        "               kind='bar', # Тип графика - столбчатая диаграмма\n",
        "               rot=0, # Градус вращения подписи по оси Х\n",
        "               legend=False, # Выключаем легенду\n",
        "               title=f'Распределение количества категорий в зависимости от категорий в Центральном административном округе Москвы'\n",
        ")\n",
        "\n",
        "# Настраиваем оформление графика\n",
        "plt.xlabel('Название категории')\n",
        "plt.ylabel('Количество объектов')\n",
        "# Добавляем сетку графика\n",
        "plt.grid()\n",
        "\n",
        "# Выводим график\n",
        "plt.show()"
      ]
    },
    {
      "cell_type": "code",
      "execution_count": null,
      "id": "0436718a",
      "metadata": {
        "id": "0436718a",
        "outputId": "218e9a74-95fe-42c2-d125-c9cc233c12c9"
      },
      "outputs": [
        {
          "name": "stdout",
          "output_type": "stream",
          "text": [
            "Распределение количества категорий в зависимости от категорий в Центральном административном округе Москвы\n"
          ]
        },
        {
          "data": {
            "text/html": [
              "<div>\n",
              "<style scoped>\n",
              "    .dataframe tbody tr th:only-of-type {\n",
              "        vertical-align: middle;\n",
              "    }\n",
              "\n",
              "    .dataframe tbody tr th {\n",
              "        vertical-align: top;\n",
              "    }\n",
              "\n",
              "    .dataframe thead th {\n",
              "        text-align: right;\n",
              "    }\n",
              "</style>\n",
              "<table border=\"1\" class=\"dataframe\">\n",
              "  <thead>\n",
              "    <tr style=\"text-align: right;\">\n",
              "      <th></th>\n",
              "      <th>Количество</th>\n",
              "      <th>Процент</th>\n",
              "    </tr>\n",
              "  </thead>\n",
              "  <tbody>\n",
              "    <tr>\n",
              "      <th>ресторан</th>\n",
              "      <td>665</td>\n",
              "      <td>30.076888</td>\n",
              "    </tr>\n",
              "    <tr>\n",
              "      <th>кафе</th>\n",
              "      <td>444</td>\n",
              "      <td>20.081411</td>\n",
              "    </tr>\n",
              "    <tr>\n",
              "      <th>кофейня</th>\n",
              "      <td>426</td>\n",
              "      <td>19.267300</td>\n",
              "    </tr>\n",
              "    <tr>\n",
              "      <th>бар,паб</th>\n",
              "      <td>364</td>\n",
              "      <td>16.463139</td>\n",
              "    </tr>\n",
              "    <tr>\n",
              "      <th>пиццерия</th>\n",
              "      <td>112</td>\n",
              "      <td>5.065581</td>\n",
              "    </tr>\n",
              "    <tr>\n",
              "      <th>быстрое питание</th>\n",
              "      <td>85</td>\n",
              "      <td>3.844414</td>\n",
              "    </tr>\n",
              "    <tr>\n",
              "      <th>столовая</th>\n",
              "      <td>65</td>\n",
              "      <td>2.939846</td>\n",
              "    </tr>\n",
              "    <tr>\n",
              "      <th>булочная</th>\n",
              "      <td>50</td>\n",
              "      <td>2.261420</td>\n",
              "    </tr>\n",
              "  </tbody>\n",
              "</table>\n",
              "</div>"
            ],
            "text/plain": [
              "                 Количество    Процент\n",
              "ресторан                665  30.076888\n",
              "кафе                    444  20.081411\n",
              "кофейня                 426  19.267300\n",
              "бар,паб                 364  16.463139\n",
              "пиццерия                112   5.065581\n",
              "быстрое питание          85   3.844414\n",
              "столовая                 65   2.939846\n",
              "булочная                 50   2.261420"
            ]
          },
          "execution_count": 25,
          "metadata": {},
          "output_type": "execute_result"
        }
      ],
      "source": [
        "tab_3 = df_filtered_dis['category'].value_counts()\n",
        "tab_3_percent = df_filtered_dis['category'].value_counts(normalize=True)*100\n",
        "tab_3 = pd.DataFrame({'Количество': tab_3, 'Процент': tab_3_percent})\n",
        "print('Распределение количества категорий в зависимости от категорий в Центральном административном округе Москвы')\n",
        "tab_3"
      ]
    },
    {
      "cell_type": "markdown",
      "id": "6dfdbf42",
      "metadata": {
        "id": "6dfdbf42"
      },
      "source": [
        "- В центральном административном округе самая популярная категория это `ресторан`(количество заведений около 660)\n",
        "- Самые непопулярные категории это `быстрое питание`, `столовая`, `булочная` (количество не превышает 90)"
      ]
    },
    {
      "cell_type": "markdown",
      "id": "7c824f58",
      "metadata": {
        "id": "7c824f58"
      },
      "source": [
        "---\n",
        "\n",
        "### Задача 3\n",
        "Каких заведений больше — сетевых или несетевых? Какие категории заведений чаще являются сетевыми?"
      ]
    },
    {
      "cell_type": "code",
      "execution_count": null,
      "id": "ef442d1a",
      "metadata": {
        "id": "ef442d1a"
      },
      "outputs": [],
      "source": [
        "# создадим функцию create_col, которая присваевает значение True или false в зависимостии от режима работы заведения\n",
        "def create_col_s(x):\n",
        "    if x > 1:\n",
        "        return True\n",
        "    else:\n",
        "        return False"
      ]
    },
    {
      "cell_type": "code",
      "execution_count": null,
      "id": "04affba1",
      "metadata": {
        "id": "04affba1"
      },
      "outputs": [],
      "source": [
        "df_merged['name'].str.lower()\n",
        "new_df = df_merged['name'].value_counts().reset_index()\n",
        "new_df.columns = ['name', 'count']\n",
        "# Объединяем с df_merged\n",
        "df_merged = df_merged.merge(new_df, on='name', how='left')"
      ]
    },
    {
      "cell_type": "code",
      "execution_count": null,
      "id": "0de29fa2",
      "metadata": {
        "id": "0de29fa2"
      },
      "outputs": [],
      "source": [
        "# Создаем столбец chain_rest\n",
        "df_merged['chain_rest'] = df_merged['count'].apply(create_col_s)"
      ]
    },
    {
      "cell_type": "code",
      "execution_count": null,
      "id": "f97b5b4d",
      "metadata": {
        "id": "f97b5b4d",
        "outputId": "0a72cc93-96de-42e0-9390-7f9eee9855e6"
      },
      "outputs": [
        {
          "data": {
            "text/html": [
              "<div>\n",
              "<style scoped>\n",
              "    .dataframe tbody tr th:only-of-type {\n",
              "        vertical-align: middle;\n",
              "    }\n",
              "\n",
              "    .dataframe tbody tr th {\n",
              "        vertical-align: top;\n",
              "    }\n",
              "\n",
              "    .dataframe thead th {\n",
              "        text-align: right;\n",
              "    }\n",
              "</style>\n",
              "<table border=\"1\" class=\"dataframe\">\n",
              "  <thead>\n",
              "    <tr style=\"text-align: right;\">\n",
              "      <th></th>\n",
              "      <th>id</th>\n",
              "      <th>name</th>\n",
              "      <th>category</th>\n",
              "      <th>address</th>\n",
              "      <th>district</th>\n",
              "      <th>hours</th>\n",
              "      <th>rating</th>\n",
              "      <th>chain</th>\n",
              "      <th>seats</th>\n",
              "      <th>price</th>\n",
              "      <th>avg_bill</th>\n",
              "      <th>middle_avg_bill</th>\n",
              "      <th>middle_coffee_cup</th>\n",
              "      <th>is_24_7</th>\n",
              "      <th>count</th>\n",
              "      <th>chain_rest</th>\n",
              "    </tr>\n",
              "  </thead>\n",
              "  <tbody>\n",
              "    <tr>\n",
              "      <th>0</th>\n",
              "      <td>0c3e3439a8c64ea5bf6ecd6ca6ae19f0</td>\n",
              "      <td>WoWфли</td>\n",
              "      <td>кафе</td>\n",
              "      <td>Москва, улица Дыбенко, 7/1</td>\n",
              "      <td>Северный административный округ</td>\n",
              "      <td>ежедневно, 10:00–22:00</td>\n",
              "      <td>5.0</td>\n",
              "      <td>0</td>\n",
              "      <td>NaN</td>\n",
              "      <td>NaN</td>\n",
              "      <td>NaN</td>\n",
              "      <td>NaN</td>\n",
              "      <td>NaN</td>\n",
              "      <td>False</td>\n",
              "      <td>1</td>\n",
              "      <td>False</td>\n",
              "    </tr>\n",
              "    <tr>\n",
              "      <th>1</th>\n",
              "      <td>045780ada3474c57a2112e505d74b633</td>\n",
              "      <td>Четыре комнаты</td>\n",
              "      <td>ресторан</td>\n",
              "      <td>Москва, улица Дыбенко, 36, корп. 1</td>\n",
              "      <td>Северный административный округ</td>\n",
              "      <td>ежедневно, 10:00–22:00</td>\n",
              "      <td>4.5</td>\n",
              "      <td>0</td>\n",
              "      <td>4.0</td>\n",
              "      <td>выше среднего</td>\n",
              "      <td>Средний счёт:1500–1600 ₽</td>\n",
              "      <td>1550.0</td>\n",
              "      <td>NaN</td>\n",
              "      <td>False</td>\n",
              "      <td>1</td>\n",
              "      <td>False</td>\n",
              "    </tr>\n",
              "    <tr>\n",
              "      <th>2</th>\n",
              "      <td>1070b6b59144425896c65889347fcff6</td>\n",
              "      <td>Хазри</td>\n",
              "      <td>кафе</td>\n",
              "      <td>Москва, Клязьминская улица, 15</td>\n",
              "      <td>Северный административный округ</td>\n",
              "      <td>пн-чт 11:00–02:00; пт,сб 11:00–05:00; вс 11:00...</td>\n",
              "      <td>4.6</td>\n",
              "      <td>0</td>\n",
              "      <td>45.0</td>\n",
              "      <td>средние</td>\n",
              "      <td>Средний счёт:от 1000 ₽</td>\n",
              "      <td>1000.0</td>\n",
              "      <td>NaN</td>\n",
              "      <td>False</td>\n",
              "      <td>1</td>\n",
              "      <td>False</td>\n",
              "    </tr>\n",
              "    <tr>\n",
              "      <th>3</th>\n",
              "      <td>03ac7cd772104f65b58b349dc59f03ee</td>\n",
              "      <td>Dormouse Coffee Shop</td>\n",
              "      <td>кофейня</td>\n",
              "      <td>Москва, улица Маршала Федоренко, 12</td>\n",
              "      <td>Северный административный округ</td>\n",
              "      <td>ежедневно, 09:00–22:00</td>\n",
              "      <td>5.0</td>\n",
              "      <td>0</td>\n",
              "      <td>NaN</td>\n",
              "      <td>NaN</td>\n",
              "      <td>Цена чашки капучино:155–185 ₽</td>\n",
              "      <td>NaN</td>\n",
              "      <td>170.0</td>\n",
              "      <td>False</td>\n",
              "      <td>1</td>\n",
              "      <td>False</td>\n",
              "    </tr>\n",
              "    <tr>\n",
              "      <th>4</th>\n",
              "      <td>a163aada139c4c7f87b0b1c0b466a50f</td>\n",
              "      <td>Иль Марко</td>\n",
              "      <td>пиццерия</td>\n",
              "      <td>Москва, Правобережная улица, 1Б</td>\n",
              "      <td>Северный административный округ</td>\n",
              "      <td>ежедневно, 10:00–22:00</td>\n",
              "      <td>5.0</td>\n",
              "      <td>1</td>\n",
              "      <td>148.0</td>\n",
              "      <td>средние</td>\n",
              "      <td>Средний счёт:400–600 ₽</td>\n",
              "      <td>500.0</td>\n",
              "      <td>NaN</td>\n",
              "      <td>False</td>\n",
              "      <td>2</td>\n",
              "      <td>True</td>\n",
              "    </tr>\n",
              "  </tbody>\n",
              "</table>\n",
              "</div>"
            ],
            "text/plain": [
              "                                 id                  name  category  \\\n",
              "0  0c3e3439a8c64ea5bf6ecd6ca6ae19f0                WoWфли      кафе   \n",
              "1  045780ada3474c57a2112e505d74b633        Четыре комнаты  ресторан   \n",
              "2  1070b6b59144425896c65889347fcff6                 Хазри      кафе   \n",
              "3  03ac7cd772104f65b58b349dc59f03ee  Dormouse Coffee Shop   кофейня   \n",
              "4  a163aada139c4c7f87b0b1c0b466a50f             Иль Марко  пиццерия   \n",
              "\n",
              "                               address                         district  \\\n",
              "0           Москва, улица Дыбенко, 7/1  Северный административный округ   \n",
              "1   Москва, улица Дыбенко, 36, корп. 1  Северный административный округ   \n",
              "2       Москва, Клязьминская улица, 15  Северный административный округ   \n",
              "3  Москва, улица Маршала Федоренко, 12  Северный административный округ   \n",
              "4      Москва, Правобережная улица, 1Б  Северный административный округ   \n",
              "\n",
              "                                               hours  rating  chain  seats  \\\n",
              "0                             ежедневно, 10:00–22:00     5.0      0    NaN   \n",
              "1                             ежедневно, 10:00–22:00     4.5      0    4.0   \n",
              "2  пн-чт 11:00–02:00; пт,сб 11:00–05:00; вс 11:00...     4.6      0   45.0   \n",
              "3                             ежедневно, 09:00–22:00     5.0      0    NaN   \n",
              "4                             ежедневно, 10:00–22:00     5.0      1  148.0   \n",
              "\n",
              "           price                       avg_bill  middle_avg_bill  \\\n",
              "0            NaN                            NaN              NaN   \n",
              "1  выше среднего       Средний счёт:1500–1600 ₽           1550.0   \n",
              "2        средние         Средний счёт:от 1000 ₽           1000.0   \n",
              "3            NaN  Цена чашки капучино:155–185 ₽              NaN   \n",
              "4        средние         Средний счёт:400–600 ₽            500.0   \n",
              "\n",
              "   middle_coffee_cup  is_24_7  count  chain_rest  \n",
              "0                NaN    False      1       False  \n",
              "1                NaN    False      1       False  \n",
              "2                NaN    False      1       False  \n",
              "3              170.0    False      1       False  \n",
              "4                NaN    False      2        True  "
            ]
          },
          "execution_count": 29,
          "metadata": {},
          "output_type": "execute_result"
        }
      ],
      "source": [
        "df_merged.head()"
      ]
    },
    {
      "cell_type": "code",
      "execution_count": null,
      "id": "a139bd72",
      "metadata": {
        "id": "a139bd72",
        "outputId": "aa37c07e-c39a-44b4-eba4-7ebf4b2618c8"
      },
      "outputs": [
        {
          "data": {
            "image/png": "[encoded data removed]",
            "text/plain": [
              "<Figure size 936x432 with 1 Axes>"
            ]
          },
          "metadata": {
            "needs_background": "light"
          },
          "output_type": "display_data"
        }
      ],
      "source": [
        "# Создаём контейнер графика matplotlib и задаём его размер\n",
        "plt.figure(figsize=(13, 6))\n",
        "# Строим столбчатую диаграмму\n",
        "df_merged['chain_rest'].value_counts().plot(\n",
        "               kind='bar', # Тип графика - столбчатая диаграмма\n",
        "               rot=0, # Градус вращения подписи по оси Х\n",
        "               legend=False, # Выключаем легенду\n",
        "               title=f'Количество сетевых и несетевых заведений'\n",
        ")\n",
        "\n",
        "# Настраиваем оформление графика\n",
        "plt.xlabel('Тип заведение (True - сетевое, False - несетевое)')\n",
        "plt.ylabel('Количество объектов')\n",
        "# Добавляем сетку графика\n",
        "plt.grid()\n",
        "\n",
        "# Выводим график\n",
        "plt.show()"
      ]
    },
    {
      "cell_type": "code",
      "execution_count": null,
      "id": "fabef4e7",
      "metadata": {
        "id": "fabef4e7",
        "outputId": "56528f85-45d2-4aaf-fe7c-63340c60987b"
      },
      "outputs": [
        {
          "data": {
            "image/png": "[encoded data removed]",
            "text/plain": [
              "<Figure size 576x576 with 1 Axes>"
            ]
          },
          "metadata": {},
          "output_type": "display_data"
        }
      ],
      "source": [
        "# Создаём контейнер графика matplotlib и задаём его размер\n",
        "plt.figure(figsize=(8, 8))\n",
        "\n",
        "df_merged_set = df_merged['chain_rest'].value_counts()\n",
        "# Строим круговую диаграмму\n",
        "df_merged_set.plot(\n",
        "    kind = 'pie',\n",
        "    labels = ['Несетевые', 'Сетевые'],\n",
        "    autopct='%1.1f%%',\n",
        "    startangle=90\n",
        ")\n",
        "\n",
        "# Добавляем заголовок\n",
        "plt.title('Распределение сетевых и несетевых заведений')\n",
        "# Выводим график\n",
        "plt.show()"
      ]
    },
    {
      "cell_type": "code",
      "execution_count": null,
      "id": "225e0048",
      "metadata": {
        "id": "225e0048",
        "outputId": "d801ebd4-dcc2-456f-ca7d-c140fce1c37e"
      },
      "outputs": [
        {
          "name": "stdout",
          "output_type": "stream",
          "text": [
            "Количество сетевых и несетевых заведений\n"
          ]
        },
        {
          "data": {
            "text/html": [
              "<div>\n",
              "<style scoped>\n",
              "    .dataframe tbody tr th:only-of-type {\n",
              "        vertical-align: middle;\n",
              "    }\n",
              "\n",
              "    .dataframe tbody tr th {\n",
              "        vertical-align: top;\n",
              "    }\n",
              "\n",
              "    .dataframe thead th {\n",
              "        text-align: right;\n",
              "    }\n",
              "</style>\n",
              "<table border=\"1\" class=\"dataframe\">\n",
              "  <thead>\n",
              "    <tr style=\"text-align: right;\">\n",
              "      <th></th>\n",
              "      <th>Количество</th>\n",
              "      <th>Процент</th>\n",
              "    </tr>\n",
              "  </thead>\n",
              "  <tbody>\n",
              "    <tr>\n",
              "      <th>False</th>\n",
              "      <td>4629</td>\n",
              "      <td>58.818297</td>\n",
              "    </tr>\n",
              "    <tr>\n",
              "      <th>True</th>\n",
              "      <td>3241</td>\n",
              "      <td>41.181703</td>\n",
              "    </tr>\n",
              "  </tbody>\n",
              "</table>\n",
              "</div>"
            ],
            "text/plain": [
              "       Количество    Процент\n",
              "False        4629  58.818297\n",
              "True         3241  41.181703"
            ]
          },
          "execution_count": 32,
          "metadata": {},
          "output_type": "execute_result"
        }
      ],
      "source": [
        "tab_5 = df_merged['chain_rest'].value_counts()\n",
        "tab_5_percent = df_merged['chain_rest'].value_counts(normalize=True)*100\n",
        "tab_5 = pd.DataFrame({'Количество': tab_5, 'Процент': tab_5_percent})\n",
        "print('Количество сетевых и несетевых заведений')\n",
        "tab_5"
      ]
    },
    {
      "cell_type": "code",
      "execution_count": null,
      "id": "11983075",
      "metadata": {
        "id": "11983075",
        "outputId": "4258602e-b056-4a81-98f5-ed45d1ecefdc"
      },
      "outputs": [
        {
          "data": {
            "image/png": "[encoded data removed]",
            "text/plain": [
              "<Figure size 1080x576 with 1 Axes>"
            ]
          },
          "metadata": {
            "needs_background": "light"
          },
          "output_type": "display_data"
        }
      ],
      "source": [
        "grouped = df_merged.groupby('category')['chain_rest'].value_counts().unstack(fill_value=0)\n",
        "grouped.plot(kind='bar',\n",
        "               title=f'Распределение заведений в зависимости от категории',\n",
        "               legend=True,\n",
        "               ylabel='Количество заведений',\n",
        "               xlabel='Категория',\n",
        "               rot=0,\n",
        "               figsize=(15, 8))\n",
        "plt.grid()\n",
        "\n",
        "# Выводим график\n",
        "plt.show()"
      ]
    },
    {
      "cell_type": "code",
      "execution_count": null,
      "id": "ec5e291b",
      "metadata": {
        "id": "ec5e291b",
        "outputId": "eb541f42-13d7-4680-97d4-8d4958f92ecf"
      },
      "outputs": [
        {
          "name": "stdout",
          "output_type": "stream",
          "text": [
            "Распределение заведений в зависимости от категории\n"
          ]
        },
        {
          "data": {
            "text/html": [
              "<div>\n",
              "<style scoped>\n",
              "    .dataframe tbody tr th:only-of-type {\n",
              "        vertical-align: middle;\n",
              "    }\n",
              "\n",
              "    .dataframe tbody tr th {\n",
              "        vertical-align: top;\n",
              "    }\n",
              "\n",
              "    .dataframe thead tr th {\n",
              "        text-align: left;\n",
              "    }\n",
              "\n",
              "    .dataframe thead tr:last-of-type th {\n",
              "        text-align: right;\n",
              "    }\n",
              "</style>\n",
              "<table border=\"1\" class=\"dataframe\">\n",
              "  <thead>\n",
              "    <tr>\n",
              "      <th></th>\n",
              "      <th colspan=\"2\" halign=\"left\">Количество</th>\n",
              "      <th colspan=\"2\" halign=\"left\">Процент</th>\n",
              "    </tr>\n",
              "    <tr>\n",
              "      <th>chain_rest</th>\n",
              "      <th>False</th>\n",
              "      <th>True</th>\n",
              "      <th>False</th>\n",
              "      <th>True</th>\n",
              "    </tr>\n",
              "    <tr>\n",
              "      <th>category</th>\n",
              "      <th></th>\n",
              "      <th></th>\n",
              "      <th></th>\n",
              "      <th></th>\n",
              "    </tr>\n",
              "  </thead>\n",
              "  <tbody>\n",
              "    <tr>\n",
              "      <th>бар,паб</th>\n",
              "      <td>593</td>\n",
              "      <td>154</td>\n",
              "      <td>79.384203</td>\n",
              "      <td>20.615797</td>\n",
              "    </tr>\n",
              "    <tr>\n",
              "      <th>булочная</th>\n",
              "      <td>93</td>\n",
              "      <td>156</td>\n",
              "      <td>37.349398</td>\n",
              "      <td>62.650602</td>\n",
              "    </tr>\n",
              "    <tr>\n",
              "      <th>быстрое питание</th>\n",
              "      <td>316</td>\n",
              "      <td>254</td>\n",
              "      <td>55.438596</td>\n",
              "      <td>44.561404</td>\n",
              "    </tr>\n",
              "    <tr>\n",
              "      <th>кафе</th>\n",
              "      <td>1202</td>\n",
              "      <td>801</td>\n",
              "      <td>60.009985</td>\n",
              "      <td>39.990015</td>\n",
              "    </tr>\n",
              "    <tr>\n",
              "      <th>кофейня</th>\n",
              "      <td>677</td>\n",
              "      <td>721</td>\n",
              "      <td>48.426323</td>\n",
              "      <td>51.573677</td>\n",
              "    </tr>\n",
              "    <tr>\n",
              "      <th>пиццерия</th>\n",
              "      <td>302</td>\n",
              "      <td>326</td>\n",
              "      <td>48.089172</td>\n",
              "      <td>51.910828</td>\n",
              "    </tr>\n",
              "    <tr>\n",
              "      <th>ресторан</th>\n",
              "      <td>1259</td>\n",
              "      <td>710</td>\n",
              "      <td>63.941087</td>\n",
              "      <td>36.058913</td>\n",
              "    </tr>\n",
              "    <tr>\n",
              "      <th>столовая</th>\n",
              "      <td>187</td>\n",
              "      <td>119</td>\n",
              "      <td>61.111111</td>\n",
              "      <td>38.888889</td>\n",
              "    </tr>\n",
              "  </tbody>\n",
              "</table>\n",
              "</div>"
            ],
            "text/plain": [
              "                Количество          Процент           \n",
              "chain_rest           False True       False      True \n",
              "category                                              \n",
              "бар,паб                593   154  79.384203  20.615797\n",
              "булочная                93   156  37.349398  62.650602\n",
              "быстрое питание        316   254  55.438596  44.561404\n",
              "кафе                  1202   801  60.009985  39.990015\n",
              "кофейня                677   721  48.426323  51.573677\n",
              "пиццерия               302   326  48.089172  51.910828\n",
              "ресторан              1259   710  63.941087  36.058913\n",
              "столовая               187   119  61.111111  38.888889"
            ]
          },
          "execution_count": 34,
          "metadata": {},
          "output_type": "execute_result"
        }
      ],
      "source": [
        "tab_4 = df_merged.groupby('category')['chain_rest'].value_counts().unstack(fill_value=0)\n",
        "tab_4_percent = df_merged.groupby('category')['chain_rest'].value_counts(normalize=True).unstack(fill_value=0) * 100\n",
        "tab_4_combined = pd.concat([tab_4, tab_4_percent], axis=1, keys=['Количество', 'Процент'])\n",
        "\n",
        "print('Распределение заведений в зависимости от категории')\n",
        "tab_4_combined"
      ]
    },
    {
      "cell_type": "markdown",
      "id": "e7897cbf",
      "metadata": {
        "id": "e7897cbf"
      },
      "source": [
        "- Несетевые рестораны занимают 41.2% (около 4600), пока сетевые - 58.8% (около 3200)\n",
        "- Булочная является категорией у которой количество сетевых заведений превосходит количество сетевых на наибольшее значение (около 60)\n",
        "- Пиццерии и кофейни также являются категориями в которых количество сетевых ресторанов превосходит количество несетевых (примерно на 25 и 50 заведений)"
      ]
    },
    {
      "cell_type": "markdown",
      "id": "5913c3e3",
      "metadata": {
        "id": "5913c3e3"
      },
      "source": [
        "---\n",
        "\n",
        "### Задача 4\n",
        "\n",
        "Исследуем количество посадочных мест в заведениях.\n"
      ]
    },
    {
      "cell_type": "code",
      "execution_count": null,
      "id": "6cb238d2",
      "metadata": {
        "id": "6cb238d2",
        "outputId": "a01a674a-c0ec-4f37-db39-e31153aaca14"
      },
      "outputs": [
        {
          "data": {
            "image/png": "[encoded data removed]",
            "text/plain": [
              "<Figure size 504x216 with 1 Axes>"
            ]
          },
          "metadata": {
            "needs_background": "light"
          },
          "output_type": "display_data"
        }
      ],
      "source": [
        "# Создаём контейнер графика matplotlib и задаём его размер\n",
        "plt.figure(figsize=(7, 3))\n",
        "\n",
        "# Строим гистограмму с помощью pandas через plot(kind='hist')\n",
        "df_merged['seats'].plot(\n",
        "                kind='hist', # Тип графика - гистограмма\n",
        "                bins=37, # Устанавливаем количество корзин\n",
        "                alpha=0.75,\n",
        "                edgecolor='black',\n",
        "                rot=0, # Градус вращения подписи по оси Х\n",
        ")\n",
        "\n",
        "# Настраиваем оформление графика\n",
        "plt.title('Распределение количества посадочных мест')\n",
        "plt.xlabel('Количество посадочных мест')\n",
        "plt.ylabel('Частота')\n",
        "# Добавляем сетку графика\n",
        "plt.grid()\n",
        "\n",
        "# Выводим график\n",
        "plt.show()"
      ]
    },
    {
      "cell_type": "code",
      "execution_count": null,
      "id": "6107bcd2",
      "metadata": {
        "id": "6107bcd2",
        "outputId": "71cea196-a34e-4110-ba07-8c2aee696f80"
      },
      "outputs": [
        {
          "data": {
            "image/png": "[encoded data removed]",
            "text/plain": [
              "<Figure size 504x144 with 1 Axes>"
            ]
          },
          "metadata": {
            "needs_background": "light"
          },
          "output_type": "display_data"
        }
      ],
      "source": [
        "# Создаём контейнер графика matplotlib и задаём его размер\n",
        "plt.figure(figsize=(7, 2))\n",
        "\n",
        "# Строим диаграмму размаха значений в столбце score\n",
        "df_info.boxplot(column='seats', vert=False)\n",
        "\n",
        "# Добавляем заголовок и метки оси\n",
        "plt.title('Распределение количества посадочных мест')\n",
        "plt.xlabel('Количество посадочных мест')\n",
        "\n",
        "# Выводим график\n",
        "plt.show()"
      ]
    },
    {
      "cell_type": "markdown",
      "id": "6aa65963",
      "metadata": {
        "id": "6aa65963"
      },
      "source": [
        "- В данных достаточное большое количество выбросов, начиная с 600 посадочных мест\n",
        "    - Это может быть связано с тем, что существуют заведения, в которых количество посадочных мест может быть очень большим, но лучше всего будет рассмотреть распределение без этой части данных, так как таких заведений слишком маленькое количество, и их нет необходимости анализировать\n",
        "- В наибольшем количестве заведений количество посадочных мест варьируется от 50 до 100"
      ]
    },
    {
      "cell_type": "code",
      "execution_count": null,
      "id": "6b9518e0",
      "metadata": {
        "id": "6b9518e0",
        "outputId": "371aef5b-a91d-4aef-c4ca-2ffd66e099e1"
      },
      "outputs": [
        {
          "data": {
            "text/plain": [
              "array(['кафе', 'ресторан', 'кофейня', 'пиццерия', 'бар,паб',\n",
              "       'быстрое питание', 'булочная', 'столовая'], dtype=object)"
            ]
          },
          "execution_count": 37,
          "metadata": {},
          "output_type": "execute_result"
        }
      ],
      "source": [
        "unique_values = df_merged['category'].unique()\n",
        "unique_values"
      ]
    },
    {
      "cell_type": "code",
      "execution_count": null,
      "id": "ff8538d2",
      "metadata": {
        "id": "ff8538d2",
        "outputId": "2c078311-f734-4652-a1be-2005d6ca8692"
      },
      "outputs": [
        {
          "data": {
            "image/png": "[encoded data removed]",
            "text/plain": [
              "<Figure size 504x216 with 1 Axes>"
            ]
          },
          "metadata": {
            "needs_background": "light"
          },
          "output_type": "display_data"
        },
        {
          "data": {
            "image/png": "[encoded data removed]",
            "text/plain": [
              "<Figure size 432x288 with 1 Axes>"
            ]
          },
          "metadata": {
            "needs_background": "light"
          },
          "output_type": "display_data"
        },
        {
          "data": {
            "image/png": "[encoded data removed]",
            "text/plain": [
              "<Figure size 432x288 with 1 Axes>"
            ]
          },
          "metadata": {
            "needs_background": "light"
          },
          "output_type": "display_data"
        },
        {
          "data": {
            "image/png": "[encoded data removed]",
            "text/plain": [
              "<Figure size 432x288 with 1 Axes>"
            ]
          },
          "metadata": {
            "needs_background": "light"
          },
          "output_type": "display_data"
        },
        {
          "data": {
            "image/png": "[encoded data removed]",
            "text/plain": [
              "<Figure size 432x288 with 1 Axes>"
            ]
          },
          "metadata": {
            "needs_background": "light"
          },
          "output_type": "display_data"
        },
        {
          "data": {
            "image/png": "[encoded data removed]",
            "text/plain": [
              "<Figure size 432x288 with 1 Axes>"
            ]
          },
          "metadata": {
            "needs_background": "light"
          },
          "output_type": "display_data"
        },
        {
          "data": {
            "image/png": "[encoded data removed]",
            "text/plain": [
              "<Figure size 432x288 with 1 Axes>"
            ]
          },
          "metadata": {
            "needs_background": "light"
          },
          "output_type": "display_data"
        },
        {
          "data": {
            "image/png": "[encoded data removed]",
            "text/plain": [
              "<Figure size 432x288 with 1 Axes>"
            ]
          },
          "metadata": {
            "needs_background": "light"
          },
          "output_type": "display_data"
        }
      ],
      "source": [
        "plt.figure(figsize=(7, 3))\n",
        "\n",
        "for i in unique_values:\n",
        "    df_f_s = df_merged.loc[(df_merged['category'] == i) & (df_merged['seats']<400)]\n",
        "    # Вычисляем медиану\n",
        "    median_seats = df_f_s['seats'].median()\n",
        "    # Строим гистограмму\n",
        "    ax = df_f_s['seats'].plot(\n",
        "        kind='hist',\n",
        "        bins=20,\n",
        "        alpha=0.75,\n",
        "        edgecolor='black',\n",
        "        rot=0\n",
        "    )\n",
        "\n",
        "    # Добавляем линию медианы на график\n",
        "    plt.axvline(median_seats, color='red', label=f'Медиана: {median_seats:.0f}')\n",
        "\n",
        "    # Настраиваем оформление графика\n",
        "    plt.title(f'Распределение количества посадочных мест в категории \"{i}\"')\n",
        "    plt.xlabel('Количество посадочных мест')\n",
        "    plt.ylabel('Частота')\n",
        "    plt.legend()\n",
        "\n",
        "    plt.grid()\n",
        "\n",
        "    plt.show()\n"
      ]
    },
    {
      "cell_type": "markdown",
      "id": "e1e18b96",
      "metadata": {
        "id": "e1e18b96"
      },
      "source": [
        "- В категориях `булочная`, `быстрое питание`, `пиццерия`, `кафе` медианное количество посадочных мест вариьируется от 50 до 65\n",
        "- В категориях `бар,паб`, `кофейня`,`ресторан`, `столовая` медианное количество находится в промежутке от 72 до 83"
      ]
    },
    {
      "cell_type": "markdown",
      "id": "8ed065ea",
      "metadata": {
        "id": "8ed065ea"
      },
      "source": [
        "---\n",
        "\n",
        "### Задача 5\n",
        "\n",
        "Исследуем рейтинг заведений."
      ]
    },
    {
      "cell_type": "code",
      "execution_count": null,
      "id": "cc5206f8",
      "metadata": {
        "id": "cc5206f8",
        "outputId": "4c63d9f6-2313-4628-a8fb-049e8d32ba51"
      },
      "outputs": [
        {
          "data": {
            "image/png": "[encoded data removed]",
            "text/plain": [
              "<Figure size 936x432 with 1 Axes>"
            ]
          },
          "metadata": {
            "needs_background": "light"
          },
          "output_type": "display_data"
        }
      ],
      "source": [
        "# Создаём контейнер графика matplotlib и задаём его размер\n",
        "plt.figure(figsize=(13, 6))\n",
        "df_group_rating = df_merged.groupby('category')['rating'].mean()\n",
        "# Строим столбчатую диаграмму\n",
        "df_group_rating.sort_values(ascending = False).plot(\n",
        "               kind='bar', # Тип графика - столбчатая диаграмма\n",
        "               rot=0, # Градус вращения подписи по оси Х\n",
        "               legend=False, # Выключаем легенду\n",
        "               title=f'Распределение среднего рейтинга в зависимости от категорий'\n",
        ")\n",
        "\n",
        "# Настраиваем оформление графика\n",
        "plt.xlabel('Название категории')\n",
        "plt.ylabel('Средний рейтинг')\n",
        "# Добавляем сетку графика\n",
        "plt.grid()\n",
        "\n",
        "# Выводим график\n",
        "plt.show()"
      ]
    },
    {
      "cell_type": "code",
      "execution_count": null,
      "id": "d6ca3985",
      "metadata": {
        "id": "d6ca3985",
        "outputId": "03cc8b36-db0c-4490-f23d-0a2db9e0ec7f"
      },
      "outputs": [
        {
          "name": "stdout",
          "output_type": "stream",
          "text": [
            "Распределение среднего рейтинга в зависимости от категорий\n"
          ]
        },
        {
          "data": {
            "text/plain": [
              "category\n",
              "бар,паб            4.394511\n",
              "пиццерия           4.301433\n",
              "ресторан           4.296140\n",
              "булочная           4.276707\n",
              "кофейня            4.275036\n",
              "столовая           4.217320\n",
              "кафе               4.150325\n",
              "быстрое питание    4.058947\n",
              "Name: rating, dtype: float64"
            ]
          },
          "execution_count": 40,
          "metadata": {},
          "output_type": "execute_result"
        }
      ],
      "source": [
        "tab_6 = df_merged.groupby('category')['rating'].mean().sort_values(ascending = False)\n",
        "print('Распределение среднего рейтинга в зависимости от категорий')\n",
        "tab_6"
      ]
    },
    {
      "cell_type": "markdown",
      "id": "7ea133d5",
      "metadata": {
        "id": "7ea133d5"
      },
      "source": [
        "- Средние рейтинги практически не отличаются у разных категорий заведений и держится в райное 4.4\n",
        "- Можно выделить категорию `быстрое питание`, как категорию с самым низким средним рейтингом - 4.05"
      ]
    },
    {
      "cell_type": "markdown",
      "id": "dd9702d9",
      "metadata": {
        "id": "dd9702d9"
      },
      "source": [
        "---\n",
        "\n",
        "### Задача 6\n",
        "\n",
        "Изучим, с какими данными показывают самую сильную корреляцию рейтинги заведений"
      ]
    },
    {
      "cell_type": "code",
      "execution_count": null,
      "id": "15400eb9",
      "metadata": {
        "id": "15400eb9",
        "outputId": "f572b022-0c1a-4041-95a6-e580d1e773e0"
      },
      "outputs": [
        {
          "name": "stdout",
          "output_type": "stream",
          "text": [
            "interval columns not set, guessing: ['rating', 'seats']\n"
          ]
        },
        {
          "data": {
            "image/png": "[encoded data removed]",
            "text/plain": [
              "<Figure size 576x576 with 1 Axes>"
            ]
          },
          "metadata": {
            "needs_background": "light"
          },
          "output_type": "display_data"
        }
      ],
      "source": [
        "\n",
        "correlation_matrix = df_merged[['rating', 'category', 'district', 'chain_rest', 'seats', 'price',\n",
        "                         'is_24_7']].phik_matrix()\n",
        "\n",
        "# Строим тепловую карту\n",
        "plt.figure(figsize=(8, 8))\n",
        "\n",
        "# Сохраняем матрицу корреляции признака churn с другими признаками клиента\n",
        "data_heatmap = correlation_matrix\n",
        "sns.heatmap(data_heatmap,\n",
        "            annot=True, # Отображаем численные значения в ячейках карты\n",
        "            fmt='.2f', # Форматируем значения корреляции: два знака после точки\n",
        "            cmap='coolwarm', # Устанавливаем цветовую гамму от красного (макс. значение) к синему\n",
        "            linewidths=0.5, # Форматируем линию между ячейками карты\n",
        "            cbar=False # Отключаем цветовую шкалу\n",
        "           )\n",
        "\n",
        "# Добавляем заголовок и подпись по оси Х\n",
        "plt.title('Тепловая карта коэффициента phi_k \\n')\n",
        "\n",
        "# Выводим график\n",
        "plt.show()"
      ]
    },
    {
      "cell_type": "markdown",
      "id": "483099f3",
      "metadata": {
        "id": "483099f3"
      },
      "source": [
        "- В целом рейтинг имеет похожий коэффициент корреляции для всех признаков в районе от 0.13-0.22, за исключением `seats`, который составляет 0\n",
        "- Все-таки можно выделить два самых высоких коэффициента корреляции `price` - 0.22 , `district` - 0.20"
      ]
    },
    {
      "cell_type": "code",
      "execution_count": null,
      "id": "1a65a84d",
      "metadata": {
        "id": "1a65a84d",
        "outputId": "363fcda3-5570-434a-c845-58843de3fb8d"
      },
      "outputs": [
        {
          "data": {
            "image/png": "[encoded data removed]",
            "text/plain": [
              "<Figure size 432x288 with 1 Axes>"
            ]
          },
          "metadata": {
            "needs_background": "light"
          },
          "output_type": "display_data"
        }
      ],
      "source": [
        "# Проверим связь между 'rating' и 'price'\n",
        "df_group_price = df_merged.groupby('price')['rating'].mean()\n",
        "# Строим столбчатую диаграмму\n",
        "df_group_price.sort_values(ascending = False).plot(\n",
        "                kind='bar', # Тип графика - столбчатая диаграмма\n",
        "                rot=0, # Градус вращения подписи по оси Х\n",
        "                legend=False, # Выключаем легенду\n",
        "                title=f'Распределение рейтинга в зависимости от категорий цен'\n",
        "    )\n",
        "\n",
        "# Настраиваем оформление графика\n",
        "plt.xlabel('Название категории цен')\n",
        "plt.ylabel('Средний рейтинг')\n",
        "# Добавляем сетку графика\n",
        "plt.grid()\n",
        "\n",
        "# Выводим график\n",
        "plt.show()"
      ]
    },
    {
      "cell_type": "code",
      "execution_count": null,
      "id": "ac1be2e5",
      "metadata": {
        "id": "ac1be2e5",
        "outputId": "67014113-ec0e-4d7e-e9bb-129fc29dd9cd"
      },
      "outputs": [
        {
          "name": "stdout",
          "output_type": "stream",
          "text": [
            "Распределение рейтинга в зависимости от категорий цен\n"
          ]
        },
        {
          "data": {
            "text/plain": [
              "price\n",
              "высокие          4.436611\n",
              "выше среднего    4.386348\n",
              "средние          4.297727\n",
              "низкие           4.173077\n",
              "Name: rating, dtype: float64"
            ]
          },
          "execution_count": 43,
          "metadata": {},
          "output_type": "execute_result"
        }
      ],
      "source": [
        "tab_7 = df_group_price.sort_values(ascending = False)\n",
        "print('Распределение рейтинга в зависимости от категорий цен')\n",
        "tab_7"
      ]
    },
    {
      "cell_type": "markdown",
      "id": "6e60376a",
      "metadata": {
        "id": "6e60376a"
      },
      "source": [
        "- В каждой из категорий ресторанов средний рейтинг находится в промежутке от 4.1 до 4.4\n",
        "- Можно выделить категорию цен `низкие`, которая имеет самый низкий рейтинг - около 4.1"
      ]
    },
    {
      "cell_type": "markdown",
      "id": "370de703",
      "metadata": {
        "id": "370de703"
      },
      "source": [
        "---\n",
        "\n",
        "### Задача 7\n",
        "\n",
        "Найдем топ-15 популярных сетей в Москве. Для них посчитаем значения среднего рейтинга."
      ]
    },
    {
      "cell_type": "code",
      "execution_count": null,
      "id": "5d828a9a",
      "metadata": {
        "id": "5d828a9a",
        "outputId": "3cc09ea7-cb22-4c18-f571-20f27e78f38a"
      },
      "outputs": [
        {
          "data": {
            "image/png": "[encoded data removed]",
            "text/plain": [
              "<Figure size 1440x720 with 1 Axes>"
            ]
          },
          "metadata": {
            "needs_background": "light"
          },
          "output_type": "display_data"
        }
      ],
      "source": [
        "# Создаём контейнер графика matplotlib и задаём его размер\n",
        "plt.figure(figsize=(20, 10))\n",
        "df_merged_p = df_merged.loc[df_merged['count'] > 30]\n",
        "df_group_name = df_merged_p.groupby('name')['rating'].mean()\n",
        "# Строим столбчатую диаграмму\n",
        "df_group_name.sort_values(ascending = False).plot(\n",
        "               kind='bar', # Тип графика - столбчатая диаграмма\n",
        "               rot=90, # Градус вращения подписи по оси Х\n",
        "               legend=False, # Выключаем легенду\n",
        "               title=f'Распределение среднего рейтинга в зависимости от ресторана'\n",
        ")\n",
        "\n",
        "# Настраиваем оформление графика\n",
        "plt.xlabel('Название ресторана')\n",
        "plt.ylabel('Средний рейтинг')\n",
        "# Добавляем сетку графика\n",
        "plt.grid()\n",
        "\n",
        "# Выводим график\n",
        "plt.show()"
      ]
    },
    {
      "cell_type": "code",
      "execution_count": null,
      "id": "701d3b0a",
      "metadata": {
        "id": "701d3b0a",
        "outputId": "f28604e6-e9be-4f91-8425-2bf949cfb425"
      },
      "outputs": [
        {
          "name": "stdout",
          "output_type": "stream",
          "text": [
            "Распределение среднего рейтинга в зависимости от ресторана\n"
          ]
        },
        {
          "data": {
            "text/plain": [
              "name\n",
              "Буханка                                4.403226\n",
              "Кулинарная лавка братьев Караваевых    4.394872\n",
              "Хинкальная                             4.374359\n",
              "Додо Пицца                             4.286486\n",
              "Шоколадница                            4.177500\n",
              "Домино'с Пицца                         4.169737\n",
              "КОФЕПОРТ                               4.147619\n",
              "Теремок                                4.123684\n",
              "Prime                                  4.116000\n",
              "Cofix                                  4.075385\n",
              "One Price Coffee                       4.064789\n",
              "CofeFest                               3.984375\n",
              "Шаурма                                 3.978788\n",
              "Яндекс Лавка                           3.870588\n",
              "Кафе                                   3.817822\n",
              "Name: rating, dtype: float64"
            ]
          },
          "execution_count": 45,
          "metadata": {},
          "output_type": "execute_result"
        }
      ],
      "source": [
        "tab_8 = df_group_name.sort_values(ascending = False)\n",
        "print('Распределение среднего рейтинга в зависимости от ресторана')\n",
        "tab_8"
      ]
    },
    {
      "cell_type": "markdown",
      "id": "e24d4e6a",
      "metadata": {
        "id": "e24d4e6a"
      },
      "source": [
        "- Средний рейтинг для большинства сетей в Москве варьируется от 4 и выше\n",
        "- Можно выделить `Кафе`, `Шаурма`, `Яндекс.Лавка`, `CofeFest` как сети с рейтингом ниже 4\n",
        "- `Буханка`, `Кулинарная лавка братьев Караваевых`, `Хинкальная` сети с самым высоким рейтингом - около 4.4"
      ]
    },
    {
      "cell_type": "code",
      "execution_count": null,
      "id": "d152d98a",
      "metadata": {
        "id": "d152d98a",
        "outputId": "f594ffbb-999e-43e9-f20e-e5c8feee5e24"
      },
      "outputs": [
        {
          "data": {
            "image/png": "[encoded data removed]",
            "text/plain": [
              "<Figure size 1440x720 with 1 Axes>"
            ]
          },
          "metadata": {
            "needs_background": "light"
          },
          "output_type": "display_data"
        }
      ],
      "source": [
        "# Создаём контейнер графика matplotlib и задаём его размер\n",
        "plt.figure(figsize=(20, 10))\n",
        "df_merged_p = df_merged.loc[df_merged['count'] > 30]\n",
        "# Строим столбчатую диаграмму\n",
        "df_merged_p['name'].value_counts().plot(\n",
        "               kind='bar', # Тип графика - столбчатая диаграмма\n",
        "               rot=90, # Градус вращения подписи по оси Х\n",
        "               legend=False, # Выключаем легенду\n",
        "               title=f'Распределение количества заведений в зависимости от сети'\n",
        ")\n",
        "\n",
        "# Настраиваем оформление графика\n",
        "plt.xlabel('Название сети')\n",
        "plt.ylabel('Количество заведений')\n",
        "# Добавляем сетку графика\n",
        "plt.grid()\n",
        "\n",
        "# Выводим график\n",
        "plt.show()"
      ]
    },
    {
      "cell_type": "code",
      "execution_count": null,
      "id": "c85956fa",
      "metadata": {
        "id": "c85956fa",
        "outputId": "5fe84545-024e-4f3b-be3f-d16672a0c305"
      },
      "outputs": [
        {
          "name": "stdout",
          "output_type": "stream",
          "text": [
            "Распределение количества заведений в зависимости от сети\n"
          ]
        },
        {
          "data": {
            "text/html": [
              "<div>\n",
              "<style scoped>\n",
              "    .dataframe tbody tr th:only-of-type {\n",
              "        vertical-align: middle;\n",
              "    }\n",
              "\n",
              "    .dataframe tbody tr th {\n",
              "        vertical-align: top;\n",
              "    }\n",
              "\n",
              "    .dataframe thead th {\n",
              "        text-align: right;\n",
              "    }\n",
              "</style>\n",
              "<table border=\"1\" class=\"dataframe\">\n",
              "  <thead>\n",
              "    <tr style=\"text-align: right;\">\n",
              "      <th></th>\n",
              "      <th>Количество</th>\n",
              "      <th>Процент</th>\n",
              "    </tr>\n",
              "  </thead>\n",
              "  <tbody>\n",
              "    <tr>\n",
              "      <th>Шоколадница</th>\n",
              "      <td>120</td>\n",
              "      <td>13.651877</td>\n",
              "    </tr>\n",
              "    <tr>\n",
              "      <th>Кафе</th>\n",
              "      <td>101</td>\n",
              "      <td>11.490330</td>\n",
              "    </tr>\n",
              "    <tr>\n",
              "      <th>Домино'с Пицца</th>\n",
              "      <td>76</td>\n",
              "      <td>8.646189</td>\n",
              "    </tr>\n",
              "    <tr>\n",
              "      <th>Додо Пицца</th>\n",
              "      <td>74</td>\n",
              "      <td>8.418658</td>\n",
              "    </tr>\n",
              "    <tr>\n",
              "      <th>One Price Coffee</th>\n",
              "      <td>71</td>\n",
              "      <td>8.077361</td>\n",
              "    </tr>\n",
              "    <tr>\n",
              "      <th>Яндекс Лавка</th>\n",
              "      <td>68</td>\n",
              "      <td>7.736064</td>\n",
              "    </tr>\n",
              "    <tr>\n",
              "      <th>Cofix</th>\n",
              "      <td>65</td>\n",
              "      <td>7.394767</td>\n",
              "    </tr>\n",
              "    <tr>\n",
              "      <th>Prime</th>\n",
              "      <td>50</td>\n",
              "      <td>5.688282</td>\n",
              "    </tr>\n",
              "    <tr>\n",
              "      <th>КОФЕПОРТ</th>\n",
              "      <td>42</td>\n",
              "      <td>4.778157</td>\n",
              "    </tr>\n",
              "    <tr>\n",
              "      <th>Хинкальная</th>\n",
              "      <td>39</td>\n",
              "      <td>4.436860</td>\n",
              "    </tr>\n",
              "    <tr>\n",
              "      <th>Кулинарная лавка братьев Караваевых</th>\n",
              "      <td>39</td>\n",
              "      <td>4.436860</td>\n",
              "    </tr>\n",
              "    <tr>\n",
              "      <th>Теремок</th>\n",
              "      <td>38</td>\n",
              "      <td>4.323094</td>\n",
              "    </tr>\n",
              "    <tr>\n",
              "      <th>Шаурма</th>\n",
              "      <td>33</td>\n",
              "      <td>3.754266</td>\n",
              "    </tr>\n",
              "    <tr>\n",
              "      <th>CofeFest</th>\n",
              "      <td>32</td>\n",
              "      <td>3.640501</td>\n",
              "    </tr>\n",
              "    <tr>\n",
              "      <th>Буханка</th>\n",
              "      <td>31</td>\n",
              "      <td>3.526735</td>\n",
              "    </tr>\n",
              "  </tbody>\n",
              "</table>\n",
              "</div>"
            ],
            "text/plain": [
              "                                     Количество    Процент\n",
              "Шоколадница                                 120  13.651877\n",
              "Кафе                                        101  11.490330\n",
              "Домино'с Пицца                               76   8.646189\n",
              "Додо Пицца                                   74   8.418658\n",
              "One Price Coffee                             71   8.077361\n",
              "Яндекс Лавка                                 68   7.736064\n",
              "Cofix                                        65   7.394767\n",
              "Prime                                        50   5.688282\n",
              "КОФЕПОРТ                                     42   4.778157\n",
              "Хинкальная                                   39   4.436860\n",
              "Кулинарная лавка братьев Караваевых          39   4.436860\n",
              "Теремок                                      38   4.323094\n",
              "Шаурма                                       33   3.754266\n",
              "CofeFest                                     32   3.640501\n",
              "Буханка                                      31   3.526735"
            ]
          },
          "execution_count": 47,
          "metadata": {},
          "output_type": "execute_result"
        }
      ],
      "source": [
        "tab_9 = df_merged_p['name'].value_counts()\n",
        "tab_9_percent = df_merged_p['name'].value_counts(normalize=True)*100\n",
        "tab_9 = pd.DataFrame({'Количество': tab_9, 'Процент': tab_9_percent})\n",
        "print('Распределение количества заведений в зависимости от сети')\n",
        "tab_9"
      ]
    },
    {
      "cell_type": "markdown",
      "id": "870b5074",
      "metadata": {
        "id": "870b5074"
      },
      "source": [
        "- Лидирующие позиции занимают сеть `Шоколадница` - 120 заведений и `Кафе` - около 100 заведений"
      ]
    },
    {
      "cell_type": "code",
      "execution_count": null,
      "id": "d013c598",
      "metadata": {
        "id": "d013c598",
        "outputId": "07bc9d86-2ad4-4e40-baab-f87c25cb60ab"
      },
      "outputs": [
        {
          "data": {
            "image/png": "[encoded data removed]",
            "text/plain": [
              "<Figure size 720x360 with 1 Axes>"
            ]
          },
          "metadata": {
            "needs_background": "light"
          },
          "output_type": "display_data"
        }
      ],
      "source": [
        "df_merged_p['category'].value_counts().plot(kind='bar',\n",
        "               title=f'Распределение заведений в зависимости от названия',\n",
        "               legend=True,\n",
        "               ylabel='Количество заведений',\n",
        "               xlabel='Название',\n",
        "               rot=90,\n",
        "               figsize=(10, 5))\n",
        "plt.grid()\n",
        "\n",
        "# Выводим график\n",
        "plt.show()"
      ]
    },
    {
      "cell_type": "code",
      "execution_count": null,
      "id": "d3de20fd",
      "metadata": {
        "id": "d3de20fd",
        "outputId": "945a5ef6-70e9-4de2-a8bc-a6a05f653902"
      },
      "outputs": [
        {
          "name": "stdout",
          "output_type": "stream",
          "text": [
            "Распределение заведений в зависимости от названия\n"
          ]
        },
        {
          "data": {
            "text/html": [
              "<div>\n",
              "<style scoped>\n",
              "    .dataframe tbody tr th:only-of-type {\n",
              "        vertical-align: middle;\n",
              "    }\n",
              "\n",
              "    .dataframe tbody tr th {\n",
              "        vertical-align: top;\n",
              "    }\n",
              "\n",
              "    .dataframe thead th {\n",
              "        text-align: right;\n",
              "    }\n",
              "</style>\n",
              "<table border=\"1\" class=\"dataframe\">\n",
              "  <thead>\n",
              "    <tr style=\"text-align: right;\">\n",
              "      <th></th>\n",
              "      <th>Количество</th>\n",
              "      <th>Процент</th>\n",
              "    </tr>\n",
              "  </thead>\n",
              "  <tbody>\n",
              "    <tr>\n",
              "      <th>кофейня</th>\n",
              "      <td>340</td>\n",
              "      <td>38.680319</td>\n",
              "    </tr>\n",
              "    <tr>\n",
              "      <th>ресторан</th>\n",
              "      <td>174</td>\n",
              "      <td>19.795222</td>\n",
              "    </tr>\n",
              "    <tr>\n",
              "      <th>пиццерия</th>\n",
              "      <td>150</td>\n",
              "      <td>17.064846</td>\n",
              "    </tr>\n",
              "    <tr>\n",
              "      <th>кафе</th>\n",
              "      <td>145</td>\n",
              "      <td>16.496018</td>\n",
              "    </tr>\n",
              "    <tr>\n",
              "      <th>быстрое питание</th>\n",
              "      <td>35</td>\n",
              "      <td>3.981797</td>\n",
              "    </tr>\n",
              "    <tr>\n",
              "      <th>булочная</th>\n",
              "      <td>25</td>\n",
              "      <td>2.844141</td>\n",
              "    </tr>\n",
              "    <tr>\n",
              "      <th>столовая</th>\n",
              "      <td>7</td>\n",
              "      <td>0.796359</td>\n",
              "    </tr>\n",
              "    <tr>\n",
              "      <th>бар,паб</th>\n",
              "      <td>3</td>\n",
              "      <td>0.341297</td>\n",
              "    </tr>\n",
              "  </tbody>\n",
              "</table>\n",
              "</div>"
            ],
            "text/plain": [
              "                 Количество    Процент\n",
              "кофейня                 340  38.680319\n",
              "ресторан                174  19.795222\n",
              "пиццерия                150  17.064846\n",
              "кафе                    145  16.496018\n",
              "быстрое питание          35   3.981797\n",
              "булочная                 25   2.844141\n",
              "столовая                  7   0.796359\n",
              "бар,паб                   3   0.341297"
            ]
          },
          "execution_count": 49,
          "metadata": {},
          "output_type": "execute_result"
        }
      ],
      "source": [
        "tab_10 = df_merged_p['category'].value_counts()\n",
        "tab_10_percent = df_merged_p['category'].value_counts(normalize=True)*100\n",
        "tab_10 = pd.DataFrame({'Количество': tab_10, 'Процент': tab_10_percent})\n",
        "print('Распределение заведений в зависимости от названия')\n",
        "tab_10"
      ]
    },
    {
      "cell_type": "markdown",
      "id": "ee0f2312",
      "metadata": {
        "id": "ee0f2312"
      },
      "source": [
        "- Категория `кофейня` является самой популярной среди весх категорий - около 340 заведений\n",
        "- `ресторан`, `пиццерия`, `кафе` имеют количество заведений варьируется от 145 до 175\n",
        "- Остальные категории имеют меньше 40 заведений"
      ]
    },
    {
      "cell_type": "markdown",
      "id": "41d31091",
      "metadata": {
        "id": "41d31091"
      },
      "source": [
        "- Топ 3 категории топ-15 заведений Москвы:\n",
        "    1. Кофейня\n",
        "    2. Ресторан\n",
        "    3. Пиццерия\n",
        "- Топ 3 сети Москвы по рейтингу:\n",
        "    1. Буханка\n",
        "    2. Кулинарная лавка братьев Караваевых\n",
        "    3. Хинкальная\n",
        "- Топ 3 сети Москвы по количеству:\n",
        "    1. Шоколадница\n",
        "    2. Кафе\n",
        "    3. Домино'с пицца"
      ]
    },
    {
      "cell_type": "markdown",
      "id": "85a90a94",
      "metadata": {
        "id": "85a90a94"
      },
      "source": [
        "---\n",
        "\n",
        "### Задача 8\n",
        "\n",
        "Изучим вариацию среднего чека заведения в зависимости от района Москвы. Проанализируем цены в Центральном административном округе и других.\n"
      ]
    },
    {
      "cell_type": "code",
      "execution_count": null,
      "id": "5fb4ffc6",
      "metadata": {
        "id": "5fb4ffc6",
        "outputId": "4370d9f6-2b20-4265-b75c-d82469578861"
      },
      "outputs": [
        {
          "data": {
            "image/png": "[encoded data removed]",
            "text/plain": [
              "<Figure size 1440x720 with 1 Axes>"
            ]
          },
          "metadata": {
            "needs_background": "light"
          },
          "output_type": "display_data"
        }
      ],
      "source": [
        "plt.figure(figsize=(20, 10))\n",
        "\n",
        "df_merged.groupby('district')['middle_avg_bill'].mean().sort_values(ascending = False).plot(\n",
        "               kind='bar', # Тип графика - столбчатая диаграмма\n",
        "               rot=90, # Градус вращения подписи по оси Х\n",
        "               legend=False, # Выключаем легенду\n",
        "               title=f'Средний чек заведений по районам Москвы'\n",
        ")\n",
        "\n",
        "# Настраиваем оформление графика\n",
        "plt.xlabel('Название района')\n",
        "plt.ylabel('Средняя цена')\n",
        "# Добавляем сетку графика\n",
        "plt.grid()\n",
        "\n",
        "plt.show()\n"
      ]
    },
    {
      "cell_type": "code",
      "execution_count": null,
      "id": "56495a61",
      "metadata": {
        "id": "56495a61",
        "outputId": "84fca244-71c6-4540-b049-2f87a22acab2"
      },
      "outputs": [
        {
          "name": "stdout",
          "output_type": "stream",
          "text": [
            "Средний чек заведений по районам Москвы\n"
          ]
        },
        {
          "data": {
            "text/plain": [
              "district\n",
              "Центральный административный округ         1190.559130\n",
              "Западный административный округ            1053.072131\n",
              "Северный административный округ             927.959627\n",
              "Южный административный округ                836.301282\n",
              "Северо-Западный административный округ      822.222930\n",
              "Восточный административный округ            820.626923\n",
              "Юго-Западный административный округ         792.561702\n",
              "Северо-Восточный административный округ     716.611296\n",
              "Юго-Восточный административный округ        654.097938\n",
              "Name: middle_avg_bill, dtype: float64"
            ]
          },
          "execution_count": 51,
          "metadata": {},
          "output_type": "execute_result"
        }
      ],
      "source": [
        "tab_11 = df_merged.groupby('district')['middle_avg_bill'].mean().sort_values(ascending = False)\n",
        "print('Средний чек заведений по районам Москвы')\n",
        "tab_11"
      ]
    },
    {
      "cell_type": "markdown",
      "id": "121da432",
      "metadata": {
        "id": "121da432"
      },
      "source": [
        "- В центральном административном округе средний чек самый высокий и составляет около 1200 рублей\n",
        "- Чем дальше от центра находится ресторан, тем дешевле в нем блюда занчения изменяются от 1100 до 650"
      ]
    },
    {
      "cell_type": "markdown",
      "id": "c150bd4f",
      "metadata": {
        "id": "c150bd4f"
      },
      "source": [
        "---\n",
        "\n",
        "### Задача 9\n",
        "Стоимость чашки кофе в зависимости от расположения заведения.\n"
      ]
    },
    {
      "cell_type": "code",
      "execution_count": null,
      "id": "5ee8b279",
      "metadata": {
        "id": "5ee8b279",
        "outputId": "bc0d7418-fb5e-4415-a085-4c8dedbee230"
      },
      "outputs": [
        {
          "data": {
            "image/png": "[encoded data removed]",
            "text/plain": [
              "<Figure size 1440x720 with 1 Axes>"
            ]
          },
          "metadata": {
            "needs_background": "light"
          },
          "output_type": "display_data"
        }
      ],
      "source": [
        "plt.figure(figsize=(20, 10))\n",
        "\n",
        "df_merged.groupby('district')['middle_coffee_cup'].mean().sort_values(ascending = False).plot(\n",
        "               kind='bar', # Тип графика - столбчатая диаграмма\n",
        "               rot=90, # Градус вращения подписи по оси Х\n",
        "               legend=False, # Выключаем легенду\n",
        "               title=f'Средняя цена чашки кофе по районам Москвы'\n",
        ")\n",
        "\n",
        "# Настраиваем оформление графика\n",
        "plt.xlabel('Название района')\n",
        "plt.ylabel('Средняя цена')\n",
        "# Добавляем сетку графика\n",
        "plt.grid()\n",
        "\n",
        "plt.show()"
      ]
    },
    {
      "cell_type": "code",
      "execution_count": null,
      "id": "9244c565",
      "metadata": {
        "id": "9244c565",
        "outputId": "a75a01fa-0710-49b7-c312-3d61b41a2ef3"
      },
      "outputs": [
        {
          "name": "stdout",
          "output_type": "stream",
          "text": [
            "Средняя цена чашки кофе по районам Москвы\n"
          ]
        },
        {
          "data": {
            "text/plain": [
              "district\n",
              "Западный административный округ            189.640000\n",
              "Центральный административный округ         187.624242\n",
              "Юго-Западный административный округ        183.485714\n",
              "Восточный административный округ           174.023810\n",
              "Северо-Восточный административный округ    165.333333\n",
              "Северный административный округ            165.090909\n",
              "Северо-Западный административный округ     160.458333\n",
              "Южный административный округ               157.826087\n",
              "Юго-Восточный административный округ       150.771429\n",
              "Name: middle_coffee_cup, dtype: float64"
            ]
          },
          "execution_count": 53,
          "metadata": {},
          "output_type": "execute_result"
        }
      ],
      "source": [
        "tab_12 = df_merged.groupby('district')['middle_coffee_cup'].mean().sort_values(ascending = False)\n",
        "print('Средняя цена чашки кофе по районам Москвы')\n",
        "tab_12"
      ]
    },
    {
      "cell_type": "markdown",
      "id": "e0f73cbe",
      "metadata": {
        "id": "e0f73cbe"
      },
      "source": [
        "- Лидирующую позицию по цене за чашку кофе занимет Западный административный окург - 190 рублей\n",
        "- Остальные районы находятся в диапазоне от 150-187\n",
        "- Цена за чашку кофе не так сильно варьируется как средний чек"
      ]
    },
    {
      "cell_type": "code",
      "execution_count": null,
      "id": "618096b5",
      "metadata": {
        "id": "618096b5",
        "outputId": "506379ce-ef53-4172-ef8e-b923778728f1"
      },
      "outputs": [
        {
          "data": {
            "image/png": "[encoded data removed]",
            "text/plain": [
              "<Figure size 1440x720 with 1 Axes>"
            ]
          },
          "metadata": {
            "needs_background": "light"
          },
          "output_type": "display_data"
        }
      ],
      "source": [
        "plt.figure(figsize=(20, 10))\n",
        "\n",
        "df_merged.groupby('category')['is_24_7'].count().sort_values(ascending = False).plot(\n",
        "               kind='bar', # Тип графика - столбчатая диаграмма\n",
        "               rot=90, # Градус вращения подписи по оси Х\n",
        "               legend=False, # Выключаем легенду\n",
        "               title=f'Распределение количества заведений, работающих круглосуточно от категории'\n",
        ")\n",
        "\n",
        "# Настраиваем оформление графика\n",
        "plt.xlabel('Название категории')\n",
        "plt.ylabel('Количество заведений работающих круглосуточно')\n",
        "# Добавляем сетку графика\n",
        "plt.grid()\n",
        "\n",
        "plt.show()"
      ]
    },
    {
      "cell_type": "code",
      "execution_count": null,
      "id": "e274d91f",
      "metadata": {
        "id": "e274d91f",
        "outputId": "d4ee7ce4-ba1f-4920-9a16-d03a836ea1df"
      },
      "outputs": [
        {
          "name": "stdout",
          "output_type": "stream",
          "text": [
            "Распределение количества заведений, работающих круглосуточно от категории\n"
          ]
        },
        {
          "data": {
            "text/plain": [
              "category\n",
              "кафе               2003\n",
              "ресторан           1969\n",
              "кофейня            1398\n",
              "бар,паб             747\n",
              "пиццерия            628\n",
              "быстрое питание     570\n",
              "столовая            306\n",
              "булочная            249\n",
              "Name: is_24_7, dtype: int64"
            ]
          },
          "execution_count": 55,
          "metadata": {},
          "output_type": "execute_result"
        }
      ],
      "source": [
        "tab_13 = df_merged.groupby('category')['is_24_7'].count().sort_values(ascending = False)\n",
        "print('Распределение количества заведений, работающих круглосуточно от категории')\n",
        "tab_13"
      ]
    },
    {
      "cell_type": "markdown",
      "id": "673ef14d",
      "metadata": {
        "id": "673ef14d"
      },
      "source": [
        "- Самое большое количество заведений, работающих круглосуточно относится к категории кафе и рестораны - около 2000 заведений\n",
        "- Булочная и столовая являются категориями, в которых самое низкое количество заведений, работающих круглосуточно - около 270"
      ]
    },
    {
      "cell_type": "markdown",
      "id": "f2c54e9a",
      "metadata": {
        "id": "f2c54e9a"
      },
      "source": [
        "---\n",
        "\n",
        "### Промежуточный вывод\n"
      ]
    },
    {
      "cell_type": "markdown",
      "id": "18523df8",
      "metadata": {
        "id": "18523df8"
      },
      "source": [
        "- Кафе является самой популярной категорией во всей Москве(2000 заведений). А ресторан в центральном районе(около 2250).\n",
        "- Самый выскоий средний рейтинг принадлежит категории - бар и паб и держится в райное 4.5.\n",
        "- Количество сетевых заведений меньше, чем несетевых на 17.6 процентов. В свою очередь самые популярные категории сетевых заведений это кофейня, ресторан и пиццерия.\n",
        "- Самое популярное количество посадочных мест во всех категориях заведений это 60-90\n",
        "- Рейтинг заведения в основном зависит от категории цены"
      ]
    },
    {
      "cell_type": "markdown",
      "id": "480f3422",
      "metadata": {
        "id": "480f3422"
      },
      "source": [
        "## 4. Итоговый вывод и рекомендации\n",
        "\n",
        "В ходе исследования были проанализированы данные общественных заведений Москвы с целью нахождения оптимальных параметров для открытия нового заведения.\n",
        "\n",
        "Анализ заведений общественного питания в Москве  \n",
        "\n",
        "Основные выводы  \n",
        "\n",
        "1. Категории заведений  \n",
        "- Всего представлено **8 категорий заведений**:  \n",
        "  - кафе, ресторан, кофейня, пиццерия, бар/паб, быстрое питание, булочная, столовая.  \n",
        "- **Топ-3 самых популярных категорий**:  \n",
        "  1. **Кафе** – 2000 заведений  \n",
        "  2. **Ресторан** – чуть меньше 2000  \n",
        "  3. **Кофейня** – около 400 заведений  \n",
        "\n",
        "2. Распределение заведений по районам  \n",
        "- **Центральный административный округ (ЦАО)** — лидер по количеству заведений (**~2250**).  \n",
        "- В остальных районах количество заведений примерно одинаковое (**600–800**).  \n",
        "- **Самый непопулярный район** — **Северо-Западный АО**, около **300 заведений**.  \n",
        "\n",
        "3. Популярность категорий в ЦАО  \n",
        "- **Самая популярная категория**: **ресторан** (**400 заведений**).  \n",
        "- **Самая непопулярная категория**: **булочная** (< 25 заведений).  \n",
        "\n",
        "4. Сетевые и несетевые заведения  \n",
        "- **Несетевых заведений** больше, чем сетевых, **на 17.6%** (1400 заведений).  \n",
        "- В **пиццериях, кофейнях и булочных** количество **сетевых заведений превышает несетевые**.  \n",
        "\n",
        "5. Посадочные места  \n",
        "- **Самый популярный диапазон**: **1–150 мест**.  \n",
        "- Выбросы: **от 250 до 1300 мест**.  \n",
        "- В **булочных, заведениях быстрого питания, пиццериях, кофейнях, столовых, кафе** чаще всего **до 60 мест**.  \n",
        "- В **барах, пабах и ресторанах** более популярны **50 и более посадочных мест**.  \n",
        "\n",
        "6. Рейтинг заведений  \n",
        "- Средний рейтинг **не сильно различается** для разных типов заведений и находится в диапазоне **4–4.5**.  \n",
        "- **Самая сильная зависимость рейтинга** – от категории цены (**коэффициент корреляции 0.2**).  \n",
        "\n",
        "7. Топ заведений Москвы  \n",
        "**Топ-3 категории среди топ-15 заведений**:  \n",
        "1. Кофейня  \n",
        "2. Ресторан  \n",
        "3. Пиццерия  \n",
        "\n",
        "**Топ-3 сети Москвы по рейтингу**:  \n",
        "1. Буханка  \n",
        "2. Кулинарная лавка братьев Караваевых  \n",
        "3. Хинкальная  \n",
        "\n",
        "**Топ-3 сети Москвы по количеству заведений**:  \n",
        "1. Шоколадница  \n",
        "2. Кафе  \n",
        "3. Домино'с пицца  \n",
        "\n",
        "\n",
        "8. Средний чек  \n",
        "- В **ЦАО** средний чек **самый высокий** — около **1200 рублей**.  \n",
        "- Чем дальше от центра, **тем дешевле блюда** – средний чек уменьшается с **1100 до 700 рублей**.  \n",
        "\n"
      ]
    },
    {
      "cell_type": "markdown",
      "id": "f5682179",
      "metadata": {
        "id": "f5682179"
      },
      "source": [
        "Рекомендации для бизнеса  \n",
        "\n",
        "- **Советуем рассмотреть открытие ресторана**, поскольку это одна из самых востребованных категорий заведений (**чуть меньше 2000 заведений**) и она характеризуется высоким средним чеком (**до 1200 рублей в ЦАО**).  \n",
        "\n",
        "- **Стоит обратить внимание на кофейни и пиццерии**, так как эти категории наиболее распространены среди сетевых заведений (**в пиццериях, кофейнях и булочных сетевых заведений больше, чем несетевых**). Однако в **пиццериях высокая конкуренция**, ведь в этой категории уже представлено значительное количество точек - **около 300**.  \n",
        "\n",
        "- **Рекомендуем выбирать Центральный административный округ (ЦАО) для открытия заведения**, поскольку здесь самый высокий средний чек (**около 1200 рублей**) и наибольшее количество заведений (**2250**), что подтверждает высокий спрос. Однако высокая конкуренция может усложнить выход на рынок.  \n",
        "\n",
        "- **Важно учитывать район при формировании ценовой политики**, так как средний чек в заведениях снижается по мере удаления от центра: в ЦАО он достигает **1200 рублей**, а в других районах варьируется от **1100 до 700 рублей**.  \n"
      ]
    }
  ],
  "metadata": {
    "ExecuteTimeLog": [
      {
        "duration": 1620,
        "start_time": "2025-02-12T14:29:17.312Z"
      },
      {
        "duration": 4224,
        "start_time": "2025-02-12T14:32:22.126Z"
      },
      {
        "duration": 65,
        "start_time": "2025-02-12T14:32:34.974Z"
      },
      {
        "duration": 6,
        "start_time": "2025-02-12T14:32:43.272Z"
      },
      {
        "duration": 349,
        "start_time": "2025-02-12T14:34:27.449Z"
      },
      {
        "duration": 26,
        "start_time": "2025-02-12T14:34:47.064Z"
      },
      {
        "duration": 11,
        "start_time": "2025-02-12T14:35:01.737Z"
      },
      {
        "duration": 20,
        "start_time": "2025-02-12T14:35:52.694Z"
      },
      {
        "duration": 17,
        "start_time": "2025-02-12T14:36:23.908Z"
      },
      {
        "duration": 12,
        "start_time": "2025-02-12T14:37:17.135Z"
      },
      {
        "duration": 65,
        "start_time": "2025-02-12T14:53:08.195Z"
      },
      {
        "duration": 11,
        "start_time": "2025-02-12T14:55:35.178Z"
      },
      {
        "duration": 16,
        "start_time": "2025-02-12T14:55:46.884Z"
      },
      {
        "duration": 70,
        "start_time": "2025-02-13T14:20:25.615Z"
      },
      {
        "duration": 1653,
        "start_time": "2025-02-13T14:20:32.208Z"
      },
      {
        "duration": 2804,
        "start_time": "2025-02-13T14:22:17.553Z"
      },
      {
        "duration": 3884,
        "start_time": "2025-02-13T14:22:22.061Z"
      },
      {
        "duration": 59,
        "start_time": "2025-02-13T14:22:29.217Z"
      },
      {
        "duration": 131,
        "start_time": "2025-02-13T14:22:32.561Z"
      },
      {
        "duration": 12,
        "start_time": "2025-02-13T14:22:40.045Z"
      },
      {
        "duration": 6,
        "start_time": "2025-02-13T14:22:43.833Z"
      },
      {
        "duration": 18,
        "start_time": "2025-02-13T14:22:45.842Z"
      },
      {
        "duration": 11,
        "start_time": "2025-02-13T14:23:30.443Z"
      },
      {
        "duration": 23,
        "start_time": "2025-02-13T14:23:32.404Z"
      },
      {
        "duration": 28,
        "start_time": "2025-02-13T14:24:27.364Z"
      },
      {
        "duration": 17,
        "start_time": "2025-02-13T14:24:34.077Z"
      },
      {
        "duration": 3,
        "start_time": "2025-02-13T14:26:20.175Z"
      },
      {
        "duration": 11,
        "start_time": "2025-02-13T14:28:39.223Z"
      },
      {
        "duration": 17,
        "start_time": "2025-02-13T14:30:35.235Z"
      },
      {
        "duration": 16,
        "start_time": "2025-02-13T14:30:45.471Z"
      },
      {
        "duration": 16,
        "start_time": "2025-02-13T14:30:58.435Z"
      },
      {
        "duration": 11,
        "start_time": "2025-02-13T14:31:23.133Z"
      },
      {
        "duration": 6,
        "start_time": "2025-02-13T14:31:35.155Z"
      },
      {
        "duration": 10,
        "start_time": "2025-02-13T14:31:44.925Z"
      },
      {
        "duration": 12,
        "start_time": "2025-02-13T14:31:52.927Z"
      },
      {
        "duration": 90,
        "start_time": "2025-02-13T14:39:46.191Z"
      },
      {
        "duration": 24,
        "start_time": "2025-02-13T14:41:35.284Z"
      },
      {
        "duration": 16,
        "start_time": "2025-02-13T14:42:01.383Z"
      },
      {
        "duration": 29,
        "start_time": "2025-02-13T14:45:06.816Z"
      },
      {
        "duration": 7,
        "start_time": "2025-02-13T14:47:07.798Z"
      },
      {
        "duration": 89,
        "start_time": "2025-02-13T14:49:41.819Z"
      },
      {
        "duration": 34,
        "start_time": "2025-02-13T14:49:55.088Z"
      },
      {
        "duration": 12,
        "start_time": "2025-02-13T14:50:10.375Z"
      },
      {
        "duration": 26,
        "start_time": "2025-02-13T14:56:29.297Z"
      },
      {
        "duration": 33,
        "start_time": "2025-02-13T14:59:52.753Z"
      },
      {
        "duration": 37,
        "start_time": "2025-02-13T15:00:05.473Z"
      },
      {
        "duration": 31,
        "start_time": "2025-02-13T15:01:05.933Z"
      },
      {
        "duration": 1416,
        "start_time": "2025-02-13T15:14:25.680Z"
      },
      {
        "duration": 12,
        "start_time": "2025-02-13T15:14:38.196Z"
      },
      {
        "duration": 11,
        "start_time": "2025-02-13T15:15:03.655Z"
      },
      {
        "duration": 15,
        "start_time": "2025-02-13T15:15:25.948Z"
      },
      {
        "duration": 15,
        "start_time": "2025-02-13T15:16:42.311Z"
      },
      {
        "duration": 12,
        "start_time": "2025-02-13T15:16:50.165Z"
      },
      {
        "duration": 6,
        "start_time": "2025-02-13T15:19:24.046Z"
      },
      {
        "duration": 10,
        "start_time": "2025-02-13T15:20:33.007Z"
      },
      {
        "duration": 9,
        "start_time": "2025-02-13T15:24:08.956Z"
      },
      {
        "duration": 3,
        "start_time": "2025-02-13T15:24:14.690Z"
      },
      {
        "duration": 8,
        "start_time": "2025-02-13T15:24:16.812Z"
      },
      {
        "duration": 17,
        "start_time": "2025-02-13T15:24:28.356Z"
      },
      {
        "duration": 6,
        "start_time": "2025-02-13T15:25:05.886Z"
      },
      {
        "duration": 6,
        "start_time": "2025-02-13T15:25:14.478Z"
      },
      {
        "duration": 6,
        "start_time": "2025-02-13T15:25:33.683Z"
      },
      {
        "duration": 19,
        "start_time": "2025-02-13T15:27:00.590Z"
      },
      {
        "duration": 19,
        "start_time": "2025-02-13T15:37:32.383Z"
      },
      {
        "duration": 195,
        "start_time": "2025-02-13T15:37:47.275Z"
      },
      {
        "duration": 181,
        "start_time": "2025-02-13T15:38:25.307Z"
      },
      {
        "duration": 186,
        "start_time": "2025-02-13T15:38:35.691Z"
      },
      {
        "duration": 173,
        "start_time": "2025-02-13T15:38:43.678Z"
      },
      {
        "duration": 181,
        "start_time": "2025-02-13T15:38:51.530Z"
      },
      {
        "duration": 219,
        "start_time": "2025-02-13T15:42:54.767Z"
      },
      {
        "duration": 325,
        "start_time": "2025-02-13T15:43:41.179Z"
      },
      {
        "duration": 372,
        "start_time": "2025-02-13T15:43:50.574Z"
      },
      {
        "duration": 462,
        "start_time": "2025-02-13T15:44:05.868Z"
      },
      {
        "duration": 462,
        "start_time": "2025-02-13T15:44:35.670Z"
      },
      {
        "duration": 85,
        "start_time": "2025-02-13T15:46:59.233Z"
      },
      {
        "duration": 15,
        "start_time": "2025-02-13T15:47:11.826Z"
      },
      {
        "duration": 199,
        "start_time": "2025-02-13T15:47:24.056Z"
      },
      {
        "duration": 211,
        "start_time": "2025-02-13T15:48:15.540Z"
      },
      {
        "duration": 223,
        "start_time": "2025-02-13T15:48:23.958Z"
      },
      {
        "duration": 8,
        "start_time": "2025-02-13T15:56:43.901Z"
      },
      {
        "duration": 5,
        "start_time": "2025-02-13T16:00:04.111Z"
      },
      {
        "duration": 10,
        "start_time": "2025-02-13T16:00:10.319Z"
      },
      {
        "duration": 3,
        "start_time": "2025-02-13T16:00:46.259Z"
      },
      {
        "duration": 12,
        "start_time": "2025-02-13T16:00:48.883Z"
      },
      {
        "duration": 1465,
        "start_time": "2025-02-13T16:00:51.153Z"
      },
      {
        "duration": 9,
        "start_time": "2025-02-13T16:01:16.790Z"
      },
      {
        "duration": 19,
        "start_time": "2025-02-13T16:02:48.496Z"
      },
      {
        "duration": 410,
        "start_time": "2025-02-13T16:03:20.380Z"
      },
      {
        "duration": 383,
        "start_time": "2025-02-13T16:03:31.426Z"
      },
      {
        "duration": 11,
        "start_time": "2025-02-13T16:03:45.190Z"
      },
      {
        "duration": 22,
        "start_time": "2025-02-13T16:03:55.873Z"
      },
      {
        "duration": 14,
        "start_time": "2025-02-13T16:04:51.005Z"
      },
      {
        "duration": 5,
        "start_time": "2025-02-13T16:05:01.223Z"
      },
      {
        "duration": 40,
        "start_time": "2025-02-13T16:07:44.299Z"
      },
      {
        "duration": 2,
        "start_time": "2025-02-13T16:08:39.128Z"
      },
      {
        "duration": 6,
        "start_time": "2025-02-13T16:08:40.709Z"
      },
      {
        "duration": 19,
        "start_time": "2025-02-13T16:08:43.152Z"
      },
      {
        "duration": 3,
        "start_time": "2025-02-13T16:10:26.126Z"
      },
      {
        "duration": 14,
        "start_time": "2025-02-13T16:10:28.138Z"
      },
      {
        "duration": 19,
        "start_time": "2025-02-13T16:10:30.073Z"
      },
      {
        "duration": 2243,
        "start_time": "2025-02-13T16:11:51.655Z"
      },
      {
        "duration": 155,
        "start_time": "2025-02-13T16:12:16.123Z"
      },
      {
        "duration": 4,
        "start_time": "2025-02-13T16:12:31.111Z"
      },
      {
        "duration": 13,
        "start_time": "2025-02-13T16:12:32.469Z"
      },
      {
        "duration": 1376,
        "start_time": "2025-02-13T16:12:35.314Z"
      },
      {
        "duration": 158,
        "start_time": "2025-02-13T16:12:37.990Z"
      },
      {
        "duration": 13,
        "start_time": "2025-02-13T16:12:49.568Z"
      },
      {
        "duration": 20,
        "start_time": "2025-02-13T16:12:54.636Z"
      },
      {
        "duration": 160,
        "start_time": "2025-02-13T16:13:06.887Z"
      },
      {
        "duration": 4,
        "start_time": "2025-02-13T16:13:26.187Z"
      },
      {
        "duration": 13,
        "start_time": "2025-02-13T16:13:28.017Z"
      },
      {
        "duration": 1883,
        "start_time": "2025-02-13T16:13:29.898Z"
      },
      {
        "duration": 14,
        "start_time": "2025-02-13T16:13:35.410Z"
      },
      {
        "duration": 22,
        "start_time": "2025-02-13T16:13:37.832Z"
      },
      {
        "duration": 6,
        "start_time": "2025-02-13T16:14:10.277Z"
      },
      {
        "duration": 5,
        "start_time": "2025-02-13T16:14:19.384Z"
      },
      {
        "duration": 17,
        "start_time": "2025-02-13T16:14:29.015Z"
      },
      {
        "duration": 5,
        "start_time": "2025-02-13T16:14:43.159Z"
      },
      {
        "duration": 18,
        "start_time": "2025-02-13T16:14:45.873Z"
      },
      {
        "duration": 244,
        "start_time": "2025-02-13T16:14:52.878Z"
      },
      {
        "duration": 154,
        "start_time": "2025-02-13T16:17:12.048Z"
      },
      {
        "duration": 76,
        "start_time": "2025-02-13T16:20:22.270Z"
      },
      {
        "duration": 210,
        "start_time": "2025-02-13T16:20:26.695Z"
      },
      {
        "duration": 249,
        "start_time": "2025-02-13T16:20:37.337Z"
      },
      {
        "duration": 266,
        "start_time": "2025-02-13T16:21:23.568Z"
      },
      {
        "duration": 4,
        "start_time": "2025-02-13T16:25:16.857Z"
      },
      {
        "duration": 15,
        "start_time": "2025-02-13T16:25:18.639Z"
      },
      {
        "duration": 1466,
        "start_time": "2025-02-13T16:25:20.451Z"
      },
      {
        "duration": 16,
        "start_time": "2025-02-13T16:25:27.284Z"
      },
      {
        "duration": 4,
        "start_time": "2025-02-13T16:25:29.570Z"
      },
      {
        "duration": 17,
        "start_time": "2025-02-13T16:25:32.159Z"
      },
      {
        "duration": 163,
        "start_time": "2025-02-13T16:25:41.644Z"
      },
      {
        "duration": 285,
        "start_time": "2025-02-13T16:25:45.865Z"
      },
      {
        "duration": 233,
        "start_time": "2025-02-13T16:28:21.505Z"
      },
      {
        "duration": 141,
        "start_time": "2025-02-13T16:29:05.102Z"
      },
      {
        "duration": 231,
        "start_time": "2025-02-13T16:31:58.684Z"
      },
      {
        "duration": 225,
        "start_time": "2025-02-13T16:32:15.659Z"
      },
      {
        "duration": 314,
        "start_time": "2025-02-13T16:32:34.730Z"
      },
      {
        "duration": 226,
        "start_time": "2025-02-13T16:32:41.156Z"
      },
      {
        "duration": 145,
        "start_time": "2025-02-13T16:33:03.536Z"
      },
      {
        "duration": 64,
        "start_time": "2025-02-14T14:44:44.848Z"
      },
      {
        "duration": 1567,
        "start_time": "2025-02-14T14:44:55.827Z"
      },
      {
        "duration": 3838,
        "start_time": "2025-02-14T14:45:00.100Z"
      },
      {
        "duration": 64,
        "start_time": "2025-02-14T14:45:07.219Z"
      },
      {
        "duration": 94,
        "start_time": "2025-02-14T14:45:10.562Z"
      },
      {
        "duration": 19,
        "start_time": "2025-02-14T14:45:12.963Z"
      },
      {
        "duration": 17,
        "start_time": "2025-02-14T14:45:15.063Z"
      },
      {
        "duration": 10,
        "start_time": "2025-02-14T14:45:17.421Z"
      },
      {
        "duration": 11,
        "start_time": "2025-02-14T14:45:19.660Z"
      },
      {
        "duration": 12,
        "start_time": "2025-02-14T14:45:24.124Z"
      },
      {
        "duration": 16,
        "start_time": "2025-02-14T14:45:25.688Z"
      },
      {
        "duration": 4,
        "start_time": "2025-02-14T14:45:28.894Z"
      },
      {
        "duration": 17,
        "start_time": "2025-02-14T14:45:35.329Z"
      },
      {
        "duration": 6,
        "start_time": "2025-02-14T14:45:37.613Z"
      },
      {
        "duration": 30,
        "start_time": "2025-02-14T14:45:39.737Z"
      },
      {
        "duration": 15,
        "start_time": "2025-02-14T14:45:42.154Z"
      },
      {
        "duration": 15,
        "start_time": "2025-02-14T14:45:44.051Z"
      },
      {
        "duration": 6,
        "start_time": "2025-02-14T14:45:46.235Z"
      },
      {
        "duration": 3,
        "start_time": "2025-02-14T14:45:48.284Z"
      },
      {
        "duration": 18,
        "start_time": "2025-02-14T14:45:50.520Z"
      },
      {
        "duration": 199,
        "start_time": "2025-02-14T14:45:57.633Z"
      },
      {
        "duration": 461,
        "start_time": "2025-02-14T14:46:00.446Z"
      },
      {
        "duration": 3,
        "start_time": "2025-02-14T14:46:03.273Z"
      },
      {
        "duration": 16,
        "start_time": "2025-02-14T14:46:05.588Z"
      },
      {
        "duration": 5,
        "start_time": "2025-02-14T14:46:07.690Z"
      },
      {
        "duration": 18,
        "start_time": "2025-02-14T14:46:09.303Z"
      },
      {
        "duration": 159,
        "start_time": "2025-02-14T14:46:16.339Z"
      },
      {
        "duration": 252,
        "start_time": "2025-02-14T14:46:20.959Z"
      },
      {
        "duration": 197,
        "start_time": "2025-02-14T14:46:24.670Z"
      },
      {
        "duration": 200,
        "start_time": "2025-02-14T14:46:56.893Z"
      },
      {
        "duration": 119,
        "start_time": "2025-02-14T14:47:24.725Z"
      },
      {
        "duration": 1742,
        "start_time": "2025-02-14T14:50:32.850Z"
      },
      {
        "duration": 122,
        "start_time": "2025-02-14T14:51:08.442Z"
      },
      {
        "duration": 1685,
        "start_time": "2025-02-14T14:51:41.882Z"
      },
      {
        "duration": 1681,
        "start_time": "2025-02-14T14:52:37.840Z"
      },
      {
        "duration": 937,
        "start_time": "2025-02-14T14:58:52.147Z"
      },
      {
        "duration": 1751,
        "start_time": "2025-02-14T15:00:58.253Z"
      },
      {
        "duration": 207,
        "start_time": "2025-02-14T15:03:58.834Z"
      },
      {
        "duration": 1730,
        "start_time": "2025-02-14T15:04:49.438Z"
      },
      {
        "duration": 1908,
        "start_time": "2025-02-14T15:05:11.871Z"
      },
      {
        "duration": 1331,
        "start_time": "2025-02-14T15:05:28.817Z"
      },
      {
        "duration": 1559,
        "start_time": "2025-02-14T15:05:38.051Z"
      },
      {
        "duration": 1504,
        "start_time": "2025-02-14T15:05:48.528Z"
      },
      {
        "duration": 340,
        "start_time": "2025-02-14T15:07:22.271Z"
      },
      {
        "duration": 1310,
        "start_time": "2025-02-14T15:08:29.504Z"
      },
      {
        "duration": 139,
        "start_time": "2025-02-14T15:10:15.865Z"
      },
      {
        "duration": 64,
        "start_time": "2025-02-14T15:10:24.210Z"
      },
      {
        "duration": 19,
        "start_time": "2025-02-14T15:10:36.030Z"
      },
      {
        "duration": 182,
        "start_time": "2025-02-14T15:11:46.510Z"
      },
      {
        "duration": 180,
        "start_time": "2025-02-14T15:12:43.226Z"
      },
      {
        "duration": 15,
        "start_time": "2025-02-14T15:16:58.362Z"
      },
      {
        "duration": 300,
        "start_time": "2025-02-14T15:17:57.768Z"
      },
      {
        "duration": 98,
        "start_time": "2025-02-14T15:19:57.640Z"
      },
      {
        "duration": 407,
        "start_time": "2025-02-14T15:20:58.611Z"
      },
      {
        "duration": 365,
        "start_time": "2025-02-14T15:21:08.019Z"
      },
      {
        "duration": 397,
        "start_time": "2025-02-14T15:21:16.171Z"
      },
      {
        "duration": 104,
        "start_time": "2025-02-14T15:22:12.904Z"
      },
      {
        "duration": 87,
        "start_time": "2025-02-14T15:22:29.223Z"
      },
      {
        "duration": 391,
        "start_time": "2025-02-14T15:26:00.886Z"
      },
      {
        "duration": 411,
        "start_time": "2025-02-14T15:27:06.451Z"
      },
      {
        "duration": 377,
        "start_time": "2025-02-14T15:27:57.894Z"
      },
      {
        "duration": 14,
        "start_time": "2025-02-14T15:31:29.179Z"
      },
      {
        "duration": 372,
        "start_time": "2025-02-14T15:31:46.991Z"
      },
      {
        "duration": 166,
        "start_time": "2025-02-14T15:31:56.488Z"
      },
      {
        "duration": 1278,
        "start_time": "2025-02-14T15:33:46.222Z"
      },
      {
        "duration": 1262,
        "start_time": "2025-02-14T15:35:13.226Z"
      },
      {
        "duration": 1139,
        "start_time": "2025-02-14T15:35:24.804Z"
      },
      {
        "duration": 1186,
        "start_time": "2025-02-14T15:35:38.727Z"
      },
      {
        "duration": 46560,
        "start_time": "2025-02-14T15:37:44.050Z"
      },
      {
        "duration": 47085,
        "start_time": "2025-02-14T15:41:40.621Z"
      },
      {
        "duration": 202,
        "start_time": "2025-02-14T15:44:34.893Z"
      },
      {
        "duration": 224,
        "start_time": "2025-02-14T15:44:45.176Z"
      },
      {
        "duration": 249,
        "start_time": "2025-02-14T15:44:55.232Z"
      },
      {
        "duration": 254,
        "start_time": "2025-02-14T15:45:14.198Z"
      },
      {
        "duration": 1055,
        "start_time": "2025-02-14T15:45:23.524Z"
      },
      {
        "duration": 402,
        "start_time": "2025-02-14T15:45:32.254Z"
      },
      {
        "duration": 475,
        "start_time": "2025-02-14T15:45:42.720Z"
      },
      {
        "duration": 341,
        "start_time": "2025-02-14T15:45:54.719Z"
      },
      {
        "duration": 270,
        "start_time": "2025-02-14T15:46:01.216Z"
      },
      {
        "duration": 279,
        "start_time": "2025-02-14T15:46:09.955Z"
      },
      {
        "duration": 351,
        "start_time": "2025-02-14T15:46:18.149Z"
      },
      {
        "duration": 347,
        "start_time": "2025-02-14T15:46:24.750Z"
      },
      {
        "duration": 331,
        "start_time": "2025-02-14T15:48:05.829Z"
      },
      {
        "duration": 252,
        "start_time": "2025-02-14T15:55:16.555Z"
      },
      {
        "duration": 87824,
        "start_time": "2025-02-14T15:58:10.315Z"
      },
      {
        "duration": 515,
        "start_time": "2025-02-14T15:59:55.679Z"
      },
      {
        "duration": 576,
        "start_time": "2025-02-14T16:00:33.922Z"
      },
      {
        "duration": 409,
        "start_time": "2025-02-14T16:11:52.550Z"
      },
      {
        "duration": 295,
        "start_time": "2025-02-14T16:12:38.458Z"
      },
      {
        "duration": 579,
        "start_time": "2025-02-14T16:13:11.226Z"
      },
      {
        "duration": 337,
        "start_time": "2025-02-14T16:13:18.974Z"
      },
      {
        "duration": 293,
        "start_time": "2025-02-14T16:13:27.171Z"
      },
      {
        "duration": 304,
        "start_time": "2025-02-14T16:13:51.283Z"
      },
      {
        "duration": 266,
        "start_time": "2025-02-14T16:14:01.200Z"
      },
      {
        "duration": 251,
        "start_time": "2025-02-14T16:14:08.968Z"
      },
      {
        "duration": 479,
        "start_time": "2025-02-14T16:14:28.875Z"
      },
      {
        "duration": 476,
        "start_time": "2025-02-14T16:14:35.317Z"
      },
      {
        "duration": 457,
        "start_time": "2025-02-14T16:14:40.163Z"
      },
      {
        "duration": 294,
        "start_time": "2025-02-14T16:15:40.713Z"
      },
      {
        "duration": 60,
        "start_time": "2025-02-14T16:17:19.566Z"
      },
      {
        "duration": 303,
        "start_time": "2025-02-14T16:18:49.658Z"
      },
      {
        "duration": 256,
        "start_time": "2025-02-14T16:20:06.776Z"
      },
      {
        "duration": 232,
        "start_time": "2025-02-14T16:20:47.164Z"
      },
      {
        "duration": 249,
        "start_time": "2025-02-14T16:21:49.575Z"
      },
      {
        "duration": 61,
        "start_time": "2025-02-14T16:22:47.332Z"
      },
      {
        "duration": 296,
        "start_time": "2025-02-14T16:23:04.642Z"
      },
      {
        "duration": 472,
        "start_time": "2025-02-14T16:23:31.306Z"
      },
      {
        "duration": 301,
        "start_time": "2025-02-14T16:23:55.555Z"
      },
      {
        "duration": 239,
        "start_time": "2025-02-14T16:34:42.011Z"
      },
      {
        "duration": 292,
        "start_time": "2025-02-14T16:34:52.185Z"
      },
      {
        "duration": 2895,
        "start_time": "2025-02-14T22:32:03.743Z"
      },
      {
        "duration": 1522,
        "start_time": "2025-02-14T22:32:06.640Z"
      },
      {
        "duration": 86,
        "start_time": "2025-02-14T22:32:08.164Z"
      },
      {
        "duration": 17,
        "start_time": "2025-02-14T22:32:08.252Z"
      },
      {
        "duration": 41,
        "start_time": "2025-02-14T22:32:08.271Z"
      },
      {
        "duration": 64,
        "start_time": "2025-02-14T22:32:08.315Z"
      },
      {
        "duration": 13,
        "start_time": "2025-02-14T22:32:08.381Z"
      },
      {
        "duration": 18,
        "start_time": "2025-02-14T22:32:08.396Z"
      },
      {
        "duration": 17,
        "start_time": "2025-02-14T22:32:08.416Z"
      },
      {
        "duration": 7,
        "start_time": "2025-02-14T22:32:08.434Z"
      },
      {
        "duration": 20,
        "start_time": "2025-02-14T22:32:08.443Z"
      },
      {
        "duration": 25,
        "start_time": "2025-02-14T22:32:08.465Z"
      },
      {
        "duration": 18,
        "start_time": "2025-02-14T22:32:08.501Z"
      },
      {
        "duration": 29,
        "start_time": "2025-02-14T22:32:08.523Z"
      },
      {
        "duration": 6,
        "start_time": "2025-02-14T22:32:08.554Z"
      },
      {
        "duration": 50,
        "start_time": "2025-02-14T22:32:08.562Z"
      },
      {
        "duration": 14,
        "start_time": "2025-02-14T22:32:08.614Z"
      },
      {
        "duration": 25,
        "start_time": "2025-02-14T22:32:08.630Z"
      },
      {
        "duration": 5,
        "start_time": "2025-02-14T22:32:08.657Z"
      },
      {
        "duration": 7,
        "start_time": "2025-02-14T22:32:08.664Z"
      },
      {
        "duration": 47,
        "start_time": "2025-02-14T22:32:08.673Z"
      },
      {
        "duration": 221,
        "start_time": "2025-02-14T22:32:08.722Z"
      },
      {
        "duration": 272,
        "start_time": "2025-02-14T22:32:08.945Z"
      },
      {
        "duration": 231,
        "start_time": "2025-02-14T22:32:09.218Z"
      },
      {
        "duration": 4,
        "start_time": "2025-02-14T22:32:09.452Z"
      },
      {
        "duration": 82,
        "start_time": "2025-02-14T22:32:09.458Z"
      },
      {
        "duration": 11,
        "start_time": "2025-02-14T22:32:09.542Z"
      },
      {
        "duration": 19,
        "start_time": "2025-02-14T22:32:09.555Z"
      },
      {
        "duration": 155,
        "start_time": "2025-02-14T22:32:09.576Z"
      },
      {
        "duration": 249,
        "start_time": "2025-02-14T22:32:09.733Z"
      },
      {
        "duration": 206,
        "start_time": "2025-02-14T22:32:09.983Z"
      },
      {
        "duration": 132,
        "start_time": "2025-02-14T22:32:10.190Z"
      },
      {
        "duration": 1758,
        "start_time": "2025-02-14T22:32:10.324Z"
      },
      {
        "duration": 189,
        "start_time": "2025-02-14T22:32:12.084Z"
      },
      {
        "duration": 130,
        "start_time": "2025-02-14T22:32:12.275Z"
      },
      {
        "duration": 0,
        "start_time": "2025-02-14T22:32:12.407Z"
      },
      {
        "duration": 1,
        "start_time": "2025-02-14T22:32:12.408Z"
      },
      {
        "duration": 0,
        "start_time": "2025-02-14T22:32:12.410Z"
      },
      {
        "duration": 0,
        "start_time": "2025-02-14T22:32:12.411Z"
      },
      {
        "duration": 0,
        "start_time": "2025-02-14T22:32:12.412Z"
      },
      {
        "duration": 0,
        "start_time": "2025-02-14T22:32:12.413Z"
      },
      {
        "duration": 24,
        "start_time": "2025-02-14T22:34:57.481Z"
      },
      {
        "duration": 44,
        "start_time": "2025-02-15T08:50:37.116Z"
      },
      {
        "duration": 3863,
        "start_time": "2025-02-15T08:50:42.099Z"
      },
      {
        "duration": 1404,
        "start_time": "2025-02-15T08:50:49.047Z"
      },
      {
        "duration": 78,
        "start_time": "2025-02-15T08:50:51.814Z"
      },
      {
        "duration": 15,
        "start_time": "2025-02-15T08:50:54.881Z"
      },
      {
        "duration": 15,
        "start_time": "2025-02-15T08:50:57.437Z"
      },
      {
        "duration": 10,
        "start_time": "2025-02-15T08:51:00.111Z"
      },
      {
        "duration": 11,
        "start_time": "2025-02-15T08:51:02.555Z"
      },
      {
        "duration": 11,
        "start_time": "2025-02-15T08:51:06.852Z"
      },
      {
        "duration": 14,
        "start_time": "2025-02-15T08:51:10.603Z"
      },
      {
        "duration": 4,
        "start_time": "2025-02-15T08:51:19.196Z"
      },
      {
        "duration": 15,
        "start_time": "2025-02-15T08:51:21.206Z"
      },
      {
        "duration": 9,
        "start_time": "2025-02-15T08:51:35.891Z"
      },
      {
        "duration": 12,
        "start_time": "2025-02-15T08:51:43.339Z"
      },
      {
        "duration": 13,
        "start_time": "2025-02-15T08:53:41.940Z"
      },
      {
        "duration": 12,
        "start_time": "2025-02-15T08:53:49.059Z"
      },
      {
        "duration": 5,
        "start_time": "2025-02-15T08:54:01.605Z"
      },
      {
        "duration": 25,
        "start_time": "2025-02-15T08:54:35.168Z"
      },
      {
        "duration": 11,
        "start_time": "2025-02-15T08:54:59.014Z"
      },
      {
        "duration": 5,
        "start_time": "2025-02-15T08:55:03.180Z"
      },
      {
        "duration": 24,
        "start_time": "2025-02-15T08:55:05.419Z"
      },
      {
        "duration": 14,
        "start_time": "2025-02-15T08:55:09.852Z"
      },
      {
        "duration": 12,
        "start_time": "2025-02-15T08:55:13.005Z"
      },
      {
        "duration": 4,
        "start_time": "2025-02-15T08:55:16.932Z"
      },
      {
        "duration": 3,
        "start_time": "2025-02-15T08:55:20.926Z"
      },
      {
        "duration": 17,
        "start_time": "2025-02-15T08:55:23.282Z"
      },
      {
        "duration": 178,
        "start_time": "2025-02-15T08:55:41.161Z"
      },
      {
        "duration": 243,
        "start_time": "2025-02-15T08:55:45.751Z"
      },
      {
        "duration": 193,
        "start_time": "2025-02-15T08:55:53.348Z"
      },
      {
        "duration": 3,
        "start_time": "2025-02-15T08:55:57.144Z"
      },
      {
        "duration": 14,
        "start_time": "2025-02-15T08:56:00.827Z"
      },
      {
        "duration": 5,
        "start_time": "2025-02-15T08:56:03.797Z"
      },
      {
        "duration": 16,
        "start_time": "2025-02-15T08:56:06.293Z"
      },
      {
        "duration": 138,
        "start_time": "2025-02-15T08:56:09.183Z"
      },
      {
        "duration": 221,
        "start_time": "2025-02-15T08:56:20.221Z"
      },
      {
        "duration": 185,
        "start_time": "2025-02-15T08:56:23.776Z"
      },
      {
        "duration": 188,
        "start_time": "2025-02-15T08:56:28.765Z"
      },
      {
        "duration": 1432,
        "start_time": "2025-02-15T08:56:31.928Z"
      },
      {
        "duration": 157,
        "start_time": "2025-02-15T08:56:42.961Z"
      },
      {
        "duration": 75,
        "start_time": "2025-02-15T08:57:14.388Z"
      },
      {
        "duration": 15,
        "start_time": "2025-02-15T08:57:57.829Z"
      },
      {
        "duration": 406,
        "start_time": "2025-02-15T09:01:19.506Z"
      },
      {
        "duration": 533,
        "start_time": "2025-02-15T09:01:42.854Z"
      },
      {
        "duration": 1038,
        "start_time": "2025-02-15T09:02:20.417Z"
      },
      {
        "duration": 272,
        "start_time": "2025-02-15T09:02:32.626Z"
      },
      {
        "duration": 504,
        "start_time": "2025-02-15T09:02:37.226Z"
      },
      {
        "duration": 260,
        "start_time": "2025-02-15T09:03:14.783Z"
      },
      {
        "duration": 278,
        "start_time": "2025-02-15T09:03:29.521Z"
      },
      {
        "duration": 210,
        "start_time": "2025-02-15T09:03:39.643Z"
      },
      {
        "duration": 2794,
        "start_time": "2025-02-15T10:35:08.767Z"
      },
      {
        "duration": 2169,
        "start_time": "2025-02-15T10:35:11.564Z"
      },
      {
        "duration": 84,
        "start_time": "2025-02-15T10:35:13.735Z"
      },
      {
        "duration": 16,
        "start_time": "2025-02-15T10:35:13.821Z"
      },
      {
        "duration": 29,
        "start_time": "2025-02-15T10:35:13.839Z"
      },
      {
        "duration": 19,
        "start_time": "2025-02-15T10:35:13.869Z"
      },
      {
        "duration": 22,
        "start_time": "2025-02-15T10:35:13.890Z"
      },
      {
        "duration": 11,
        "start_time": "2025-02-15T10:35:13.922Z"
      },
      {
        "duration": 14,
        "start_time": "2025-02-15T10:35:13.935Z"
      },
      {
        "duration": 3,
        "start_time": "2025-02-15T10:35:13.951Z"
      },
      {
        "duration": 15,
        "start_time": "2025-02-15T10:35:13.956Z"
      },
      {
        "duration": 13,
        "start_time": "2025-02-15T10:35:13.972Z"
      },
      {
        "duration": 38,
        "start_time": "2025-02-15T10:35:13.987Z"
      },
      {
        "duration": 12,
        "start_time": "2025-02-15T10:35:14.028Z"
      },
      {
        "duration": 4,
        "start_time": "2025-02-15T10:35:14.042Z"
      },
      {
        "duration": 25,
        "start_time": "2025-02-15T10:35:14.047Z"
      },
      {
        "duration": 12,
        "start_time": "2025-02-15T10:35:14.074Z"
      },
      {
        "duration": 36,
        "start_time": "2025-02-15T10:35:14.088Z"
      },
      {
        "duration": 4,
        "start_time": "2025-02-15T10:35:14.126Z"
      },
      {
        "duration": 37,
        "start_time": "2025-02-15T10:35:14.132Z"
      },
      {
        "duration": 23,
        "start_time": "2025-02-15T10:35:14.170Z"
      },
      {
        "duration": 191,
        "start_time": "2025-02-15T10:35:14.195Z"
      },
      {
        "duration": 260,
        "start_time": "2025-02-15T10:35:14.387Z"
      },
      {
        "duration": 200,
        "start_time": "2025-02-15T10:35:14.648Z"
      },
      {
        "duration": 2,
        "start_time": "2025-02-15T10:35:14.850Z"
      },
      {
        "duration": 12,
        "start_time": "2025-02-15T10:35:14.854Z"
      },
      {
        "duration": 7,
        "start_time": "2025-02-15T10:35:14.868Z"
      },
      {
        "duration": 47,
        "start_time": "2025-02-15T10:35:14.876Z"
      },
      {
        "duration": 158,
        "start_time": "2025-02-15T10:35:14.924Z"
      },
      {
        "duration": 258,
        "start_time": "2025-02-15T10:35:15.084Z"
      },
      {
        "duration": 192,
        "start_time": "2025-02-15T10:35:15.344Z"
      },
      {
        "duration": 122,
        "start_time": "2025-02-15T10:35:15.537Z"
      },
      {
        "duration": 1604,
        "start_time": "2025-02-15T10:35:15.661Z"
      },
      {
        "duration": 179,
        "start_time": "2025-02-15T10:35:17.266Z"
      },
      {
        "duration": 420,
        "start_time": "2025-02-15T10:35:17.447Z"
      },
      {
        "duration": 1199,
        "start_time": "2025-02-15T10:35:17.869Z"
      },
      {
        "duration": 295,
        "start_time": "2025-02-15T10:35:19.070Z"
      },
      {
        "duration": 447,
        "start_time": "2025-02-15T10:35:19.367Z"
      },
      {
        "duration": 304,
        "start_time": "2025-02-15T10:35:19.816Z"
      },
      {
        "duration": 402,
        "start_time": "2025-02-15T10:35:20.121Z"
      },
      {
        "duration": 249,
        "start_time": "2025-02-15T10:35:20.527Z"
      },
      {
        "duration": 4,
        "start_time": "2025-02-15T10:38:00.076Z"
      },
      {
        "duration": 2847,
        "start_time": "2025-02-15T10:38:13.804Z"
      },
      {
        "duration": 1458,
        "start_time": "2025-02-15T10:38:16.654Z"
      },
      {
        "duration": 76,
        "start_time": "2025-02-15T10:38:18.114Z"
      },
      {
        "duration": 15,
        "start_time": "2025-02-15T10:38:18.192Z"
      },
      {
        "duration": 30,
        "start_time": "2025-02-15T10:38:18.208Z"
      },
      {
        "duration": 10,
        "start_time": "2025-02-15T10:38:18.240Z"
      },
      {
        "duration": 18,
        "start_time": "2025-02-15T10:38:18.252Z"
      },
      {
        "duration": 10,
        "start_time": "2025-02-15T10:38:18.272Z"
      },
      {
        "duration": 16,
        "start_time": "2025-02-15T10:38:18.283Z"
      },
      {
        "duration": 12,
        "start_time": "2025-02-15T10:38:18.301Z"
      },
      {
        "duration": 22,
        "start_time": "2025-02-15T10:38:18.315Z"
      },
      {
        "duration": 9,
        "start_time": "2025-02-15T10:38:18.339Z"
      },
      {
        "duration": 11,
        "start_time": "2025-02-15T10:38:18.349Z"
      },
      {
        "duration": 3,
        "start_time": "2025-02-15T10:38:18.361Z"
      },
      {
        "duration": 15,
        "start_time": "2025-02-15T10:38:18.366Z"
      },
      {
        "duration": 28,
        "start_time": "2025-02-15T10:38:18.383Z"
      },
      {
        "duration": 80,
        "start_time": "2025-02-15T10:38:18.413Z"
      },
      {
        "duration": 0,
        "start_time": "2025-02-15T10:38:18.495Z"
      },
      {
        "duration": 0,
        "start_time": "2025-02-15T10:38:18.496Z"
      },
      {
        "duration": 0,
        "start_time": "2025-02-15T10:38:18.497Z"
      },
      {
        "duration": 0,
        "start_time": "2025-02-15T10:38:18.499Z"
      },
      {
        "duration": 0,
        "start_time": "2025-02-15T10:38:18.500Z"
      },
      {
        "duration": 0,
        "start_time": "2025-02-15T10:38:18.502Z"
      },
      {
        "duration": 0,
        "start_time": "2025-02-15T10:38:18.504Z"
      },
      {
        "duration": 0,
        "start_time": "2025-02-15T10:38:18.505Z"
      },
      {
        "duration": 0,
        "start_time": "2025-02-15T10:38:18.506Z"
      },
      {
        "duration": 0,
        "start_time": "2025-02-15T10:38:18.507Z"
      },
      {
        "duration": 0,
        "start_time": "2025-02-15T10:38:18.508Z"
      },
      {
        "duration": 0,
        "start_time": "2025-02-15T10:38:18.509Z"
      },
      {
        "duration": 0,
        "start_time": "2025-02-15T10:38:18.513Z"
      },
      {
        "duration": 0,
        "start_time": "2025-02-15T10:38:18.514Z"
      },
      {
        "duration": 0,
        "start_time": "2025-02-15T10:38:18.516Z"
      },
      {
        "duration": 0,
        "start_time": "2025-02-15T10:38:18.518Z"
      },
      {
        "duration": 0,
        "start_time": "2025-02-15T10:38:18.520Z"
      },
      {
        "duration": 0,
        "start_time": "2025-02-15T10:38:18.522Z"
      },
      {
        "duration": 1,
        "start_time": "2025-02-15T10:38:18.524Z"
      },
      {
        "duration": 0,
        "start_time": "2025-02-15T10:38:18.526Z"
      },
      {
        "duration": 0,
        "start_time": "2025-02-15T10:38:18.528Z"
      },
      {
        "duration": 0,
        "start_time": "2025-02-15T10:38:18.530Z"
      },
      {
        "duration": 1,
        "start_time": "2025-02-15T10:38:18.531Z"
      },
      {
        "duration": 0,
        "start_time": "2025-02-15T10:38:18.533Z"
      },
      {
        "duration": 0,
        "start_time": "2025-02-15T10:38:18.534Z"
      },
      {
        "duration": 0,
        "start_time": "2025-02-15T10:38:18.535Z"
      },
      {
        "duration": 0,
        "start_time": "2025-02-15T10:38:18.536Z"
      },
      {
        "duration": 4,
        "start_time": "2025-02-15T10:38:52.398Z"
      },
      {
        "duration": 2925,
        "start_time": "2025-02-15T10:41:08.926Z"
      },
      {
        "duration": 1453,
        "start_time": "2025-02-15T10:41:11.853Z"
      },
      {
        "duration": 82,
        "start_time": "2025-02-15T10:41:13.307Z"
      },
      {
        "duration": 15,
        "start_time": "2025-02-15T10:41:13.391Z"
      },
      {
        "duration": 15,
        "start_time": "2025-02-15T10:41:13.408Z"
      },
      {
        "duration": 23,
        "start_time": "2025-02-15T10:41:13.426Z"
      },
      {
        "duration": 27,
        "start_time": "2025-02-15T10:41:13.451Z"
      },
      {
        "duration": 54,
        "start_time": "2025-02-15T10:41:13.479Z"
      },
      {
        "duration": 16,
        "start_time": "2025-02-15T10:41:13.535Z"
      },
      {
        "duration": 7,
        "start_time": "2025-02-15T10:41:13.554Z"
      },
      {
        "duration": 16,
        "start_time": "2025-02-15T10:41:13.562Z"
      },
      {
        "duration": 11,
        "start_time": "2025-02-15T10:41:13.579Z"
      },
      {
        "duration": 27,
        "start_time": "2025-02-15T10:41:13.592Z"
      },
      {
        "duration": 15,
        "start_time": "2025-02-15T10:41:13.621Z"
      },
      {
        "duration": 4,
        "start_time": "2025-02-15T10:41:13.638Z"
      },
      {
        "duration": 25,
        "start_time": "2025-02-15T10:41:13.644Z"
      },
      {
        "duration": 43,
        "start_time": "2025-02-15T10:41:13.670Z"
      },
      {
        "duration": 16,
        "start_time": "2025-02-15T10:41:13.715Z"
      },
      {
        "duration": 4,
        "start_time": "2025-02-15T10:41:13.733Z"
      },
      {
        "duration": 4,
        "start_time": "2025-02-15T10:41:13.738Z"
      },
      {
        "duration": 17,
        "start_time": "2025-02-15T10:41:13.744Z"
      },
      {
        "duration": 212,
        "start_time": "2025-02-15T10:41:13.763Z"
      },
      {
        "duration": 237,
        "start_time": "2025-02-15T10:41:13.976Z"
      },
      {
        "duration": 219,
        "start_time": "2025-02-15T10:41:14.215Z"
      },
      {
        "duration": 3,
        "start_time": "2025-02-15T10:41:14.436Z"
      },
      {
        "duration": 13,
        "start_time": "2025-02-15T10:41:14.441Z"
      },
      {
        "duration": 4,
        "start_time": "2025-02-15T10:41:14.455Z"
      },
      {
        "duration": 15,
        "start_time": "2025-02-15T10:41:14.462Z"
      },
      {
        "duration": 185,
        "start_time": "2025-02-15T10:41:14.478Z"
      },
      {
        "duration": 257,
        "start_time": "2025-02-15T10:41:14.665Z"
      },
      {
        "duration": 211,
        "start_time": "2025-02-15T10:41:14.924Z"
      },
      {
        "duration": 131,
        "start_time": "2025-02-15T10:41:15.137Z"
      },
      {
        "duration": 1692,
        "start_time": "2025-02-15T10:41:15.270Z"
      },
      {
        "duration": 182,
        "start_time": "2025-02-15T10:41:16.964Z"
      },
      {
        "duration": 449,
        "start_time": "2025-02-15T10:41:17.148Z"
      },
      {
        "duration": 1288,
        "start_time": "2025-02-15T10:41:17.599Z"
      },
      {
        "duration": 324,
        "start_time": "2025-02-15T10:41:18.889Z"
      },
      {
        "duration": 469,
        "start_time": "2025-02-15T10:41:19.214Z"
      },
      {
        "duration": 301,
        "start_time": "2025-02-15T10:41:19.684Z"
      },
      {
        "duration": 387,
        "start_time": "2025-02-15T10:41:19.986Z"
      },
      {
        "duration": 243,
        "start_time": "2025-02-15T10:41:20.375Z"
      },
      {
        "duration": 58,
        "start_time": "2025-02-15T13:09:23.447Z"
      },
      {
        "duration": 4109,
        "start_time": "2025-02-15T13:09:30.748Z"
      },
      {
        "duration": 1442,
        "start_time": "2025-02-15T13:09:37.467Z"
      },
      {
        "duration": 93,
        "start_time": "2025-02-15T13:09:41.586Z"
      },
      {
        "duration": 15,
        "start_time": "2025-02-15T13:10:06.506Z"
      },
      {
        "duration": 18,
        "start_time": "2025-02-15T13:10:09.049Z"
      },
      {
        "duration": 17,
        "start_time": "2025-02-15T13:12:04.581Z"
      },
      {
        "duration": 4,
        "start_time": "2025-02-15T13:12:09.816Z"
      },
      {
        "duration": 16,
        "start_time": "2025-02-15T13:12:15.818Z"
      },
      {
        "duration": 11,
        "start_time": "2025-02-15T13:12:20.004Z"
      },
      {
        "duration": 14,
        "start_time": "2025-02-15T13:12:24.263Z"
      },
      {
        "duration": 80,
        "start_time": "2025-02-15T13:12:58.511Z"
      },
      {
        "duration": 16,
        "start_time": "2025-02-15T13:13:06.024Z"
      },
      {
        "duration": 16,
        "start_time": "2025-02-15T13:13:18.160Z"
      },
      {
        "duration": 12,
        "start_time": "2025-02-15T13:13:50.828Z"
      },
      {
        "duration": 16,
        "start_time": "2025-02-15T13:15:54.926Z"
      },
      {
        "duration": 15,
        "start_time": "2025-02-15T13:16:08.498Z"
      },
      {
        "duration": 14,
        "start_time": "2025-02-15T13:16:15.490Z"
      },
      {
        "duration": 3,
        "start_time": "2025-02-15T13:18:15.544Z"
      },
      {
        "duration": 20,
        "start_time": "2025-02-15T13:18:18.248Z"
      },
      {
        "duration": 208,
        "start_time": "2025-02-15T13:20:09.140Z"
      },
      {
        "duration": 246,
        "start_time": "2025-02-15T13:22:29.778Z"
      },
      {
        "duration": 3,
        "start_time": "2025-02-15T13:24:36.189Z"
      },
      {
        "duration": 22,
        "start_time": "2025-02-15T13:24:39.020Z"
      },
      {
        "duration": 7,
        "start_time": "2025-02-15T13:24:41.431Z"
      },
      {
        "duration": 18,
        "start_time": "2025-02-15T13:24:43.892Z"
      },
      {
        "duration": 145,
        "start_time": "2025-02-15T13:25:05.919Z"
      },
      {
        "duration": 242,
        "start_time": "2025-02-15T13:25:11.074Z"
      },
      {
        "duration": 196,
        "start_time": "2025-02-15T13:28:38.956Z"
      },
      {
        "duration": 135,
        "start_time": "2025-02-15T13:28:50.370Z"
      },
      {
        "duration": 16,
        "start_time": "2025-02-15T13:29:27.779Z"
      },
      {
        "duration": 4,
        "start_time": "2025-02-15T13:30:15.253Z"
      },
      {
        "duration": 4,
        "start_time": "2025-02-15T13:30:21.974Z"
      },
      {
        "duration": 4,
        "start_time": "2025-02-15T13:30:31.146Z"
      },
      {
        "duration": 5,
        "start_time": "2025-02-15T13:30:43.302Z"
      },
      {
        "duration": 1714,
        "start_time": "2025-02-15T13:30:50.236Z"
      },
      {
        "duration": 1564,
        "start_time": "2025-02-15T13:31:01.965Z"
      },
      {
        "duration": 197,
        "start_time": "2025-02-15T13:36:18.709Z"
      },
      {
        "duration": 709,
        "start_time": "2025-02-15T13:37:09.141Z"
      },
      {
        "duration": 721,
        "start_time": "2025-02-15T13:37:49.335Z"
      },
      {
        "duration": 2286,
        "start_time": "2025-02-15T13:42:04.095Z"
      },
      {
        "duration": 1198,
        "start_time": "2025-02-15T13:42:59.348Z"
      },
      {
        "duration": 1219,
        "start_time": "2025-02-15T13:43:58.619Z"
      },
      {
        "duration": 143,
        "start_time": "2025-02-15T13:46:00.903Z"
      },
      {
        "duration": 136,
        "start_time": "2025-02-15T13:46:25.152Z"
      },
      {
        "duration": 132,
        "start_time": "2025-02-15T13:46:29.192Z"
      },
      {
        "duration": 78,
        "start_time": "2025-02-15T13:47:19.675Z"
      },
      {
        "duration": 460,
        "start_time": "2025-02-15T13:47:47.818Z"
      },
      {
        "duration": 407,
        "start_time": "2025-02-15T13:47:55.059Z"
      },
      {
        "duration": 333,
        "start_time": "2025-02-15T13:48:02.562Z"
      },
      {
        "duration": 218,
        "start_time": "2025-02-15T13:48:18.458Z"
      },
      {
        "duration": 331,
        "start_time": "2025-02-15T13:48:24.861Z"
      },
      {
        "duration": 331,
        "start_time": "2025-02-15T13:48:33.794Z"
      },
      {
        "duration": 506,
        "start_time": "2025-02-15T13:49:02.893Z"
      },
      {
        "duration": 18510,
        "start_time": "2025-02-15T13:53:39.919Z"
      },
      {
        "duration": 312,
        "start_time": "2025-02-15T13:54:43.343Z"
      },
      {
        "duration": 321,
        "start_time": "2025-02-15T13:55:21.338Z"
      },
      {
        "duration": 307,
        "start_time": "2025-02-15T13:55:40.606Z"
      },
      {
        "duration": 298,
        "start_time": "2025-02-15T13:55:54.801Z"
      },
      {
        "duration": 1643,
        "start_time": "2025-02-15T13:56:42.162Z"
      },
      {
        "duration": 922,
        "start_time": "2025-02-15T13:56:48.836Z"
      },
      {
        "duration": 228,
        "start_time": "2025-02-15T14:02:16.775Z"
      },
      {
        "duration": 98,
        "start_time": "2025-02-15T14:05:05.120Z"
      },
      {
        "duration": 83,
        "start_time": "2025-02-15T14:07:25.750Z"
      },
      {
        "duration": 324,
        "start_time": "2025-02-15T14:07:46.965Z"
      },
      {
        "duration": 327,
        "start_time": "2025-02-15T14:08:24.909Z"
      },
      {
        "duration": 23,
        "start_time": "2025-02-15T14:08:44.289Z"
      },
      {
        "duration": 290,
        "start_time": "2025-02-15T14:09:44.254Z"
      },
      {
        "duration": 304,
        "start_time": "2025-02-15T14:10:03.011Z"
      },
      {
        "duration": 144,
        "start_time": "2025-02-15T14:10:17.255Z"
      },
      {
        "duration": 174,
        "start_time": "2025-02-15T14:10:26.916Z"
      },
      {
        "duration": 366,
        "start_time": "2025-02-15T14:11:03.793Z"
      },
      {
        "duration": 260,
        "start_time": "2025-02-15T14:11:10.745Z"
      },
      {
        "duration": 16,
        "start_time": "2025-02-15T14:30:21.969Z"
      },
      {
        "duration": 338,
        "start_time": "2025-02-15T14:30:57.666Z"
      },
      {
        "duration": 2916,
        "start_time": "2025-02-16T08:48:58.749Z"
      },
      {
        "duration": 1626,
        "start_time": "2025-02-16T08:49:01.667Z"
      },
      {
        "duration": 84,
        "start_time": "2025-02-16T08:49:03.295Z"
      },
      {
        "duration": 18,
        "start_time": "2025-02-16T08:49:03.380Z"
      },
      {
        "duration": 25,
        "start_time": "2025-02-16T08:49:03.400Z"
      },
      {
        "duration": 10,
        "start_time": "2025-02-16T08:49:03.427Z"
      },
      {
        "duration": 32,
        "start_time": "2025-02-16T08:49:03.439Z"
      },
      {
        "duration": 14,
        "start_time": "2025-02-16T08:49:03.473Z"
      },
      {
        "duration": 20,
        "start_time": "2025-02-16T08:49:03.489Z"
      },
      {
        "duration": 8,
        "start_time": "2025-02-16T08:49:03.511Z"
      },
      {
        "duration": 20,
        "start_time": "2025-02-16T08:49:03.521Z"
      },
      {
        "duration": 33,
        "start_time": "2025-02-16T08:49:03.542Z"
      },
      {
        "duration": 13,
        "start_time": "2025-02-16T08:49:03.577Z"
      },
      {
        "duration": 36,
        "start_time": "2025-02-16T08:49:03.593Z"
      },
      {
        "duration": 22,
        "start_time": "2025-02-16T08:49:03.631Z"
      },
      {
        "duration": 30,
        "start_time": "2025-02-16T08:49:03.655Z"
      },
      {
        "duration": 4,
        "start_time": "2025-02-16T08:49:03.687Z"
      },
      {
        "duration": 18,
        "start_time": "2025-02-16T08:49:03.693Z"
      },
      {
        "duration": 22,
        "start_time": "2025-02-16T08:49:03.713Z"
      },
      {
        "duration": 228,
        "start_time": "2025-02-16T08:49:03.737Z"
      },
      {
        "duration": 254,
        "start_time": "2025-02-16T08:49:03.966Z"
      },
      {
        "duration": 213,
        "start_time": "2025-02-16T08:49:04.221Z"
      },
      {
        "duration": 3,
        "start_time": "2025-02-16T08:49:04.436Z"
      },
      {
        "duration": 32,
        "start_time": "2025-02-16T08:49:04.440Z"
      },
      {
        "duration": 11,
        "start_time": "2025-02-16T08:49:04.474Z"
      },
      {
        "duration": 26,
        "start_time": "2025-02-16T08:49:04.487Z"
      },
      {
        "duration": 159,
        "start_time": "2025-02-16T08:49:04.515Z"
      },
      {
        "duration": 263,
        "start_time": "2025-02-16T08:49:04.676Z"
      },
      {
        "duration": 216,
        "start_time": "2025-02-16T08:49:04.941Z"
      },
      {
        "duration": 132,
        "start_time": "2025-02-16T08:49:05.159Z"
      },
      {
        "duration": 5,
        "start_time": "2025-02-16T08:49:05.292Z"
      },
      {
        "duration": 1556,
        "start_time": "2025-02-16T08:49:05.298Z"
      },
      {
        "duration": 187,
        "start_time": "2025-02-16T08:49:06.856Z"
      },
      {
        "duration": 708,
        "start_time": "2025-02-16T08:49:07.045Z"
      },
      {
        "duration": 154,
        "start_time": "2025-02-16T08:49:07.755Z"
      },
      {
        "duration": 417,
        "start_time": "2025-02-16T08:49:07.911Z"
      },
      {
        "duration": 329,
        "start_time": "2025-02-16T08:49:08.330Z"
      },
      {
        "duration": 227,
        "start_time": "2025-02-16T08:49:08.661Z"
      },
      {
        "duration": 335,
        "start_time": "2025-02-16T08:49:08.891Z"
      },
      {
        "duration": 313,
        "start_time": "2025-02-16T08:49:09.228Z"
      },
      {
        "duration": 272,
        "start_time": "2025-02-16T08:49:09.545Z"
      },
      {
        "duration": 121,
        "start_time": "2025-02-16T08:54:43.952Z"
      },
      {
        "duration": 21,
        "start_time": "2025-02-16T08:54:49.485Z"
      },
      {
        "duration": 10,
        "start_time": "2025-02-16T08:55:40.509Z"
      },
      {
        "duration": 48,
        "start_time": "2025-02-16T09:51:49.155Z"
      },
      {
        "duration": 3757,
        "start_time": "2025-02-16T09:52:03.402Z"
      },
      {
        "duration": 1454,
        "start_time": "2025-02-16T09:52:09.986Z"
      },
      {
        "duration": 89,
        "start_time": "2025-02-16T09:52:14.292Z"
      },
      {
        "duration": 13,
        "start_time": "2025-02-16T09:52:21.618Z"
      },
      {
        "duration": 4,
        "start_time": "2025-02-16T09:52:26.427Z"
      },
      {
        "duration": 19,
        "start_time": "2025-02-16T09:52:35.751Z"
      },
      {
        "duration": 21,
        "start_time": "2025-02-16T09:52:48.971Z"
      },
      {
        "duration": 3,
        "start_time": "2025-02-16T09:52:55.434Z"
      },
      {
        "duration": 21,
        "start_time": "2025-02-16T09:52:57.402Z"
      },
      {
        "duration": 3,
        "start_time": "2025-02-16T09:53:11.870Z"
      },
      {
        "duration": 20,
        "start_time": "2025-02-16T09:53:14.330Z"
      },
      {
        "duration": 6,
        "start_time": "2025-02-16T09:53:16.625Z"
      },
      {
        "duration": 161,
        "start_time": "2025-02-16T09:53:21.157Z"
      },
      {
        "duration": 7,
        "start_time": "2025-02-16T09:53:24.795Z"
      },
      {
        "duration": 13,
        "start_time": "2025-02-16T09:55:52.422Z"
      },
      {
        "duration": 8,
        "start_time": "2025-02-16T09:56:11.545Z"
      },
      {
        "duration": 8,
        "start_time": "2025-02-16T09:56:21.267Z"
      },
      {
        "duration": 12,
        "start_time": "2025-02-16T09:56:26.874Z"
      },
      {
        "duration": 6,
        "start_time": "2025-02-16T09:56:39.464Z"
      },
      {
        "duration": 5,
        "start_time": "2025-02-16T09:56:44.670Z"
      },
      {
        "duration": 6,
        "start_time": "2025-02-16T09:56:50.221Z"
      },
      {
        "duration": 5,
        "start_time": "2025-02-16T09:56:59.545Z"
      },
      {
        "duration": 5,
        "start_time": "2025-02-16T09:57:22.182Z"
      },
      {
        "duration": 105,
        "start_time": "2025-02-16T10:01:52.655Z"
      },
      {
        "duration": 104,
        "start_time": "2025-02-16T10:02:06.833Z"
      },
      {
        "duration": 119,
        "start_time": "2025-02-16T10:03:29.435Z"
      },
      {
        "duration": 120,
        "start_time": "2025-02-16T10:03:50.379Z"
      },
      {
        "duration": 112,
        "start_time": "2025-02-16T10:04:07.529Z"
      },
      {
        "duration": 74,
        "start_time": "2025-02-16T10:04:47.395Z"
      },
      {
        "duration": 186,
        "start_time": "2025-02-16T10:04:55.126Z"
      },
      {
        "duration": 180,
        "start_time": "2025-02-16T10:05:15.664Z"
      },
      {
        "duration": 105,
        "start_time": "2025-02-16T10:05:24.672Z"
      },
      {
        "duration": 97,
        "start_time": "2025-02-16T10:05:51.668Z"
      },
      {
        "duration": 15,
        "start_time": "2025-02-16T10:11:00.258Z"
      },
      {
        "duration": 6,
        "start_time": "2025-02-16T10:11:09.958Z"
      },
      {
        "duration": 1646,
        "start_time": "2025-02-16T10:11:11.950Z"
      },
      {
        "duration": 2760,
        "start_time": "2025-02-16T10:11:20.983Z"
      },
      {
        "duration": 2478,
        "start_time": "2025-02-16T10:12:27.221Z"
      },
      {
        "duration": 180,
        "start_time": "2025-02-16T10:12:44.861Z"
      },
      {
        "duration": 2503,
        "start_time": "2025-02-16T10:12:55.985Z"
      },
      {
        "duration": 2539,
        "start_time": "2025-02-16T10:14:06.884Z"
      },
      {
        "duration": 2397,
        "start_time": "2025-02-16T10:14:21.159Z"
      },
      {
        "duration": 2498,
        "start_time": "2025-02-16T10:14:27.547Z"
      },
      {
        "duration": 2518,
        "start_time": "2025-02-16T10:14:34.022Z"
      },
      {
        "duration": 2401,
        "start_time": "2025-02-16T10:15:02.089Z"
      },
      {
        "duration": 2531,
        "start_time": "2025-02-16T10:15:26.459Z"
      },
      {
        "duration": 2442,
        "start_time": "2025-02-16T10:15:31.949Z"
      },
      {
        "duration": 2535,
        "start_time": "2025-02-16T10:15:39.560Z"
      },
      {
        "duration": 2505,
        "start_time": "2025-02-16T10:16:09.134Z"
      },
      {
        "duration": 2574,
        "start_time": "2025-02-16T10:16:28.169Z"
      },
      {
        "duration": 2516,
        "start_time": "2025-02-16T10:18:39.827Z"
      },
      {
        "duration": 2754,
        "start_time": "2025-02-16T10:19:03.370Z"
      },
      {
        "duration": 2461,
        "start_time": "2025-02-16T10:19:53.364Z"
      },
      {
        "duration": 2672,
        "start_time": "2025-02-16T10:20:02.756Z"
      },
      {
        "duration": 2566,
        "start_time": "2025-02-16T10:21:37.665Z"
      },
      {
        "duration": 2473,
        "start_time": "2025-02-16T10:21:47.459Z"
      },
      {
        "duration": 2476,
        "start_time": "2025-02-16T10:21:59.548Z"
      },
      {
        "duration": 2490,
        "start_time": "2025-02-16T10:22:17.441Z"
      },
      {
        "duration": 2529,
        "start_time": "2025-02-16T10:22:28.409Z"
      },
      {
        "duration": 2455,
        "start_time": "2025-02-16T10:23:30.281Z"
      },
      {
        "duration": 2542,
        "start_time": "2025-02-16T10:23:38.585Z"
      },
      {
        "duration": 2479,
        "start_time": "2025-02-16T10:23:44.449Z"
      },
      {
        "duration": 98,
        "start_time": "2025-02-16T10:37:27.488Z"
      },
      {
        "duration": 101,
        "start_time": "2025-02-16T10:37:37.065Z"
      },
      {
        "duration": 4083,
        "start_time": "2025-02-16T20:52:35.602Z"
      },
      {
        "duration": 1426,
        "start_time": "2025-02-16T20:52:39.687Z"
      },
      {
        "duration": 97,
        "start_time": "2025-02-16T20:52:41.114Z"
      },
      {
        "duration": 16,
        "start_time": "2025-02-16T20:52:41.213Z"
      },
      {
        "duration": 151,
        "start_time": "2025-02-16T20:52:41.231Z"
      },
      {
        "duration": 93,
        "start_time": "2025-02-16T20:52:41.384Z"
      },
      {
        "duration": 16,
        "start_time": "2025-02-16T20:52:41.479Z"
      },
      {
        "duration": 11,
        "start_time": "2025-02-16T20:52:41.496Z"
      },
      {
        "duration": 15,
        "start_time": "2025-02-16T20:52:41.509Z"
      },
      {
        "duration": 5,
        "start_time": "2025-02-16T20:52:41.526Z"
      },
      {
        "duration": 24,
        "start_time": "2025-02-16T20:52:41.532Z"
      },
      {
        "duration": 11,
        "start_time": "2025-02-16T20:52:41.558Z"
      },
      {
        "duration": 14,
        "start_time": "2025-02-16T20:52:41.571Z"
      },
      {
        "duration": 17,
        "start_time": "2025-02-16T20:52:41.587Z"
      },
      {
        "duration": 52,
        "start_time": "2025-02-16T20:52:41.606Z"
      },
      {
        "duration": 118,
        "start_time": "2025-02-16T20:52:41.660Z"
      },
      {
        "duration": 5,
        "start_time": "2025-02-16T20:52:41.780Z"
      },
      {
        "duration": 13,
        "start_time": "2025-02-16T20:52:41.787Z"
      },
      {
        "duration": 21,
        "start_time": "2025-02-16T20:52:41.802Z"
      },
      {
        "duration": 220,
        "start_time": "2025-02-16T20:52:41.824Z"
      },
      {
        "duration": 257,
        "start_time": "2025-02-16T20:52:42.046Z"
      },
      {
        "duration": 207,
        "start_time": "2025-02-16T20:52:42.305Z"
      },
      {
        "duration": 3,
        "start_time": "2025-02-16T20:52:42.514Z"
      },
      {
        "duration": 39,
        "start_time": "2025-02-16T20:52:42.519Z"
      },
      {
        "duration": 5,
        "start_time": "2025-02-16T20:52:42.560Z"
      },
      {
        "duration": 20,
        "start_time": "2025-02-16T20:52:42.567Z"
      },
      {
        "duration": 154,
        "start_time": "2025-02-16T20:52:42.589Z"
      },
      {
        "duration": 117,
        "start_time": "2025-02-16T20:52:42.750Z"
      },
      {
        "duration": 271,
        "start_time": "2025-02-16T20:52:42.869Z"
      },
      {
        "duration": 212,
        "start_time": "2025-02-16T20:52:43.142Z"
      },
      {
        "duration": 315,
        "start_time": "2025-02-16T20:52:43.356Z"
      },
      {
        "duration": 5,
        "start_time": "2025-02-16T20:52:43.672Z"
      },
      {
        "duration": 3223,
        "start_time": "2025-02-16T20:52:43.678Z"
      },
      {
        "duration": 183,
        "start_time": "2025-02-16T20:52:46.902Z"
      },
      {
        "duration": 669,
        "start_time": "2025-02-16T20:52:47.087Z"
      },
      {
        "duration": 237,
        "start_time": "2025-02-16T20:52:47.758Z"
      },
      {
        "duration": 310,
        "start_time": "2025-02-16T20:52:47.997Z"
      },
      {
        "duration": 312,
        "start_time": "2025-02-16T20:52:48.309Z"
      },
      {
        "duration": 237,
        "start_time": "2025-02-16T20:52:48.623Z"
      },
      {
        "duration": 309,
        "start_time": "2025-02-16T20:52:48.862Z"
      },
      {
        "duration": 299,
        "start_time": "2025-02-16T20:52:49.173Z"
      },
      {
        "duration": 266,
        "start_time": "2025-02-16T20:52:49.474Z"
      },
      {
        "duration": 3593,
        "start_time": "2025-02-17T07:40:54.743Z"
      },
      {
        "duration": 1462,
        "start_time": "2025-02-17T07:41:01.162Z"
      },
      {
        "duration": 90,
        "start_time": "2025-02-17T07:41:04.867Z"
      },
      {
        "duration": 12,
        "start_time": "2025-02-17T07:41:11.802Z"
      },
      {
        "duration": 4,
        "start_time": "2025-02-17T07:41:16.391Z"
      },
      {
        "duration": 19,
        "start_time": "2025-02-17T07:41:21.918Z"
      },
      {
        "duration": 23,
        "start_time": "2025-02-17T07:41:26.201Z"
      },
      {
        "duration": 3,
        "start_time": "2025-02-17T07:41:31.252Z"
      },
      {
        "duration": 20,
        "start_time": "2025-02-17T07:41:33.223Z"
      },
      {
        "duration": 199,
        "start_time": "2025-02-17T07:41:40.274Z"
      },
      {
        "duration": 6,
        "start_time": "2025-02-17T07:42:10.302Z"
      },
      {
        "duration": 112,
        "start_time": "2025-02-17T07:44:10.423Z"
      },
      {
        "duration": 9,
        "start_time": "2025-02-17T07:47:34.957Z"
      },
      {
        "duration": 12,
        "start_time": "2025-02-17T07:47:48.816Z"
      },
      {
        "duration": 14,
        "start_time": "2025-02-17T07:48:16.616Z"
      },
      {
        "duration": 4,
        "start_time": "2025-02-17T07:49:09.406Z"
      },
      {
        "duration": 7,
        "start_time": "2025-02-17T07:49:15.612Z"
      },
      {
        "duration": 13,
        "start_time": "2025-02-17T07:51:59.746Z"
      },
      {
        "duration": 13,
        "start_time": "2025-02-17T07:53:31.418Z"
      },
      {
        "duration": 202,
        "start_time": "2025-02-17T07:53:54.953Z"
      },
      {
        "duration": 12,
        "start_time": "2025-02-17T07:53:57.888Z"
      },
      {
        "duration": 13,
        "start_time": "2025-02-17T07:55:16.626Z"
      },
      {
        "duration": 4,
        "start_time": "2025-02-17T07:55:22.856Z"
      },
      {
        "duration": 21,
        "start_time": "2025-02-17T07:55:24.498Z"
      },
      {
        "duration": 6,
        "start_time": "2025-02-17T07:55:26.821Z"
      },
      {
        "duration": 19,
        "start_time": "2025-02-17T07:55:28.788Z"
      },
      {
        "duration": 161,
        "start_time": "2025-02-17T07:55:31.317Z"
      },
      {
        "duration": 118,
        "start_time": "2025-02-17T07:55:33.508Z"
      },
      {
        "duration": 250,
        "start_time": "2025-02-17T07:55:37.186Z"
      },
      {
        "duration": 7,
        "start_time": "2025-02-17T07:55:40.175Z"
      },
      {
        "duration": 11,
        "start_time": "2025-02-17T07:56:07.975Z"
      },
      {
        "duration": 21,
        "start_time": "2025-02-17T07:56:18.988Z"
      },
      {
        "duration": 15,
        "start_time": "2025-02-17T07:56:23.976Z"
      },
      {
        "duration": 9,
        "start_time": "2025-02-17T07:57:28.262Z"
      },
      {
        "duration": 11,
        "start_time": "2025-02-17T07:57:41.719Z"
      },
      {
        "duration": 22,
        "start_time": "2025-02-17T07:58:12.531Z"
      },
      {
        "duration": 15,
        "start_time": "2025-02-17T07:59:59.262Z"
      },
      {
        "duration": 20,
        "start_time": "2025-02-17T08:00:05.221Z"
      },
      {
        "duration": 19,
        "start_time": "2025-02-17T08:02:53.288Z"
      },
      {
        "duration": 140,
        "start_time": "2025-02-17T08:03:50.338Z"
      },
      {
        "duration": 1524,
        "start_time": "2025-02-17T08:04:24.361Z"
      },
      {
        "duration": 11,
        "start_time": "2025-02-17T08:04:51.962Z"
      },
      {
        "duration": 12,
        "start_time": "2025-02-17T08:05:08.452Z"
      },
      {
        "duration": 8,
        "start_time": "2025-02-17T08:07:28.837Z"
      },
      {
        "duration": 8,
        "start_time": "2025-02-17T08:07:44.159Z"
      },
      {
        "duration": 15,
        "start_time": "2025-02-17T08:08:02.999Z"
      },
      {
        "duration": 19,
        "start_time": "2025-02-17T08:08:08.526Z"
      },
      {
        "duration": 9,
        "start_time": "2025-02-17T08:09:10.469Z"
      },
      {
        "duration": 9,
        "start_time": "2025-02-17T08:09:28.502Z"
      },
      {
        "duration": 130,
        "start_time": "2025-02-17T08:09:37.224Z"
      },
      {
        "duration": 6,
        "start_time": "2025-02-17T08:09:43.187Z"
      },
      {
        "duration": 373,
        "start_time": "2025-02-17T08:11:12.309Z"
      },
      {
        "duration": 8,
        "start_time": "2025-02-17T08:11:21.605Z"
      },
      {
        "duration": 6,
        "start_time": "2025-02-17T08:11:52.843Z"
      },
      {
        "duration": 7,
        "start_time": "2025-02-17T08:12:06.212Z"
      },
      {
        "duration": 344,
        "start_time": "2025-02-17T08:13:40.517Z"
      },
      {
        "duration": 7,
        "start_time": "2025-02-17T08:13:57.092Z"
      },
      {
        "duration": 14,
        "start_time": "2025-02-17T08:15:48.518Z"
      },
      {
        "duration": 13,
        "start_time": "2025-02-17T08:17:08.893Z"
      },
      {
        "duration": 13,
        "start_time": "2025-02-17T08:18:48.487Z"
      },
      {
        "duration": 14,
        "start_time": "2025-02-17T08:20:33.708Z"
      },
      {
        "duration": 9,
        "start_time": "2025-02-17T08:20:40.816Z"
      },
      {
        "duration": 9,
        "start_time": "2025-02-17T08:22:00.259Z"
      },
      {
        "duration": 8,
        "start_time": "2025-02-17T08:23:05.300Z"
      },
      {
        "duration": 3168,
        "start_time": "2025-02-17T20:02:03.237Z"
      },
      {
        "duration": 1432,
        "start_time": "2025-02-17T20:02:06.407Z"
      },
      {
        "duration": 96,
        "start_time": "2025-02-17T20:02:07.841Z"
      },
      {
        "duration": 17,
        "start_time": "2025-02-17T20:02:07.939Z"
      },
      {
        "duration": 17,
        "start_time": "2025-02-17T20:02:07.957Z"
      },
      {
        "duration": 12,
        "start_time": "2025-02-17T20:02:07.976Z"
      },
      {
        "duration": 22,
        "start_time": "2025-02-17T20:02:07.990Z"
      },
      {
        "duration": 12,
        "start_time": "2025-02-17T20:02:08.014Z"
      },
      {
        "duration": 15,
        "start_time": "2025-02-17T20:02:08.027Z"
      },
      {
        "duration": 4,
        "start_time": "2025-02-17T20:02:08.044Z"
      },
      {
        "duration": 16,
        "start_time": "2025-02-17T20:02:08.069Z"
      },
      {
        "duration": 10,
        "start_time": "2025-02-17T20:02:08.086Z"
      },
      {
        "duration": 104,
        "start_time": "2025-02-17T20:02:08.098Z"
      },
      {
        "duration": 16,
        "start_time": "2025-02-17T20:02:08.203Z"
      },
      {
        "duration": 21,
        "start_time": "2025-02-17T20:02:08.220Z"
      },
      {
        "duration": 21,
        "start_time": "2025-02-17T20:02:08.243Z"
      },
      {
        "duration": 4,
        "start_time": "2025-02-17T20:02:08.266Z"
      },
      {
        "duration": 5,
        "start_time": "2025-02-17T20:02:08.272Z"
      },
      {
        "duration": 49,
        "start_time": "2025-02-17T20:02:08.278Z"
      },
      {
        "duration": 204,
        "start_time": "2025-02-17T20:02:08.329Z"
      },
      {
        "duration": 12,
        "start_time": "2025-02-17T20:02:08.535Z"
      },
      {
        "duration": 286,
        "start_time": "2025-02-17T20:02:08.549Z"
      },
      {
        "duration": 15,
        "start_time": "2025-02-17T20:02:08.837Z"
      },
      {
        "duration": 219,
        "start_time": "2025-02-17T20:02:08.853Z"
      },
      {
        "duration": 12,
        "start_time": "2025-02-17T20:02:09.074Z"
      },
      {
        "duration": 66,
        "start_time": "2025-02-17T20:02:09.087Z"
      },
      {
        "duration": 21,
        "start_time": "2025-02-17T20:02:09.155Z"
      },
      {
        "duration": 6,
        "start_time": "2025-02-17T20:02:09.180Z"
      },
      {
        "duration": 24,
        "start_time": "2025-02-17T20:02:09.188Z"
      },
      {
        "duration": 162,
        "start_time": "2025-02-17T20:02:09.214Z"
      },
      {
        "duration": 117,
        "start_time": "2025-02-17T20:02:09.379Z"
      },
      {
        "duration": 12,
        "start_time": "2025-02-17T20:02:09.499Z"
      },
      {
        "duration": 290,
        "start_time": "2025-02-17T20:02:09.514Z"
      },
      {
        "duration": 19,
        "start_time": "2025-02-17T20:02:09.806Z"
      },
      {
        "duration": 217,
        "start_time": "2025-02-17T20:02:09.827Z"
      },
      {
        "duration": 354,
        "start_time": "2025-02-17T20:02:10.046Z"
      },
      {
        "duration": 4,
        "start_time": "2025-02-17T20:02:10.402Z"
      },
      {
        "duration": 3095,
        "start_time": "2025-02-17T20:02:10.408Z"
      },
      {
        "duration": 184,
        "start_time": "2025-02-17T20:02:13.505Z"
      },
      {
        "duration": 8,
        "start_time": "2025-02-17T20:02:13.691Z"
      },
      {
        "duration": 686,
        "start_time": "2025-02-17T20:02:13.700Z"
      },
      {
        "duration": 233,
        "start_time": "2025-02-17T20:02:14.388Z"
      },
      {
        "duration": 7,
        "start_time": "2025-02-17T20:02:14.623Z"
      },
      {
        "duration": 309,
        "start_time": "2025-02-17T20:02:14.632Z"
      },
      {
        "duration": 7,
        "start_time": "2025-02-17T20:02:14.942Z"
      },
      {
        "duration": 320,
        "start_time": "2025-02-17T20:02:14.950Z"
      },
      {
        "duration": 13,
        "start_time": "2025-02-17T20:02:15.271Z"
      },
      {
        "duration": 222,
        "start_time": "2025-02-17T20:02:15.286Z"
      },
      {
        "duration": 12,
        "start_time": "2025-02-17T20:02:15.510Z"
      },
      {
        "duration": 298,
        "start_time": "2025-02-17T20:02:15.524Z"
      },
      {
        "duration": 9,
        "start_time": "2025-02-17T20:02:15.824Z"
      },
      {
        "duration": 313,
        "start_time": "2025-02-17T20:02:15.834Z"
      },
      {
        "duration": 8,
        "start_time": "2025-02-17T20:02:16.148Z"
      },
      {
        "duration": 296,
        "start_time": "2025-02-17T20:02:16.169Z"
      },
      {
        "duration": 7,
        "start_time": "2025-02-17T20:02:16.469Z"
      }
    ],
    "colab": {
      "provenance": []
    },
    "kernelspec": {
      "display_name": "Python 3 (ipykernel)",
      "language": "python",
      "name": "python3"
    },
    "language_info": {
      "codemirror_mode": {
        "name": "ipython",
        "version": 3
      },
      "file_extension": ".py",
      "mimetype": "text/x-python",
      "name": "python",
      "nbconvert_exporter": "python",
      "pygments_lexer": "ipython3",
      "version": "3.9.5"
    },
    "toc": {
      "base_numbering": 1,
      "nav_menu": {},
      "number_sections": true,
      "sideBar": true,
      "skip_h1_title": true,
      "title_cell": "Table of Contents",
      "title_sidebar": "Contents",
      "toc_cell": false,
      "toc_position": {
        "height": "calc(100% - 180px)",
        "left": "10px",
        "top": "150px",
        "width": "384.632355px"
      },
      "toc_section_display": true,
      "toc_window_display": true
    }
  },
  "nbformat": 4,
  "nbformat_minor": 5
}