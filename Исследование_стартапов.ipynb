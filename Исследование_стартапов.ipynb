{
  "cells": [
    {
      "cell_type": "markdown",
      "metadata": {
        "id": "4mJbK1knrJgz"
      },
      "source": [
        "# Проект: Исследование стартапов"
      ]
    },
    {
      "cell_type": "markdown",
      "metadata": {
        "id": "8lQtbsIUyFG6"
      },
      "source": [
        "Проект направлен на исследование данных, касающихся стартапов, с целью помочь финансовой компании оценить перспективность выхода на рынок инвестиций. Основная задача — обработка данных, выявление ключевых факторов, влияющих на успешность стартапов, и предоставление рекомендаций для принятия обоснованных инвестиционных решений.\n",
        "\n",
        "**Задачи:**\n",
        "1. Загрузить данные и познакомиться с их содержимым.\n",
        "2. Провести предобработку данных.\n",
        "3. Провести исследовательский анализ данных.\n",
        "4. Сформулировать выводы по проведённому анализу."
      ]
    },
    {
      "cell_type": "markdown",
      "metadata": {
        "id": "xqr6uttCrJg0"
      },
      "source": [
        "\n",
        "## Шаг 1. Знакомство с данными: загрузка и первичная предобработка\n",
        "\n",
        "**Описание датасетов, которые будут использоваться в проекте:**\n",
        "\n",
        "1. Описание датасета **acquisition.csv**\n",
        "\n",
        "Содержит информацию о покупках одними компаниями других компаний:\n",
        "- `id` — идентификатор покупки.\n",
        "- `acquiring_company_id` — идентификатор покупающей компании (компании, которая покупает другую компанию)\n",
        "- `acquired_company_id` — идентификатор покупаемой компании (компания, которую покупают)\n",
        "- `term_code` — варианты расчёта.\n",
        "- `price_amount` — сумма сделки.\n",
        "- `acquired_at` — дата сделки.\n",
        "\n",
        "2. Описание датасета **company_and_rounds.csv**\n",
        "\n",
        "Содержит информацию о компаниях и раундах финансирования:\n",
        "- `company_id` — идентификатор компании.\n",
        "- `name` — название компании.\n",
        "- `category_code` — категория области деятельности компании.\n",
        "- `status` — статус компании.\n",
        "- `founded_at` — дата инвестирования\n",
        "- `closed_at` — дата закрытия компании.\n",
        "- `domain` — официальный сайт компании.\n",
        "- `network_username` — ник компании в сети.\n",
        "- `country_code` — код страны компании.\n",
        "- `investment_rounds` — число инвестиционных раундов.\n",
        "- `funding_rounds` — число раундов финансирования.\n",
        "- `funding_total` — сумма финансирования.\n",
        "- `milestones` — вехи финансирования.\n",
        "- `funding_round_id` — идентификатор этапа финансирования.\n",
        "- `funded_at` — дата финансирования.\n",
        "- `funding_round_type` — тип финансирования.\n",
        "- `raised_amount` — сумма финансирования.\n",
        "- `pre_money_valuation` — предварительная денежная оценка.\n",
        "- `participants` — число участников.\n",
        "- `is_first_round` — является ли раунд первым.\n",
        "- `is_last_round` — является ли раунд последним.\n",
        "\n",
        "*столбцы `founded at` и `funded at`\n",
        "- `founded at` - дата, когда компания была основана\n",
        "- `funded at` - дата, конркетного раунда финансирования\n",
        "\n",
        "*столбцы `funding total` и `raised amount`\n",
        "- `funding total` - общая сумма финансирования по всем раундам\n",
        "- `raised amount` - сумма финансирования в определенном раунде\n",
        "\n",
        "3. Описание датасета **degrees.csv**\n",
        "\n",
        "Содержит информацию о типе образования сотрудника:\n",
        "- `id` — идентификатор записи.\n",
        "- `object_id` — идентификатор сотрудника.\n",
        "- `degree_type` — тип образования.\n",
        "- `subject` — специальность.\n",
        "\n",
        "4. Описание датасета **education.csv**\n",
        "\n",
        "Содержит информацию об образовании сотрудника:\n",
        "- `id` — идентификатор записи об образовании.\n",
        "- `person_id` — идентификатор работника.\n",
        "- `institution` — название учебного заведения.\n",
        "- `graduated_at` — дата получения образования.\n",
        "\n",
        "5. Описание датасета **fund.csv**\n",
        "\n",
        "Содержит информацию о фондах:\n",
        "- `id` — идентификатор фонда.\n",
        "- `name` — название фонда.\n",
        "- `category_code` — категория области деятельности компании.\n",
        "- `founded_at` — дата создания фонда.\n",
        "- `domain` — сайт фонда.\n",
        "- `network_username` — ник фонда в сети.\n",
        "- `country_code` — код страны фонда.\n",
        "- `investment_rounds` — число инвестиционных раундов.\n",
        "- `invested_companies` — число профинансированных компаний.\n",
        "- `milestones` — вехи финансирования.\n",
        "\n",
        "6. Описание датасета **investment.csv**\n",
        "\n",
        "Содержит информацию о раундах инвестирования:\n",
        "- `id` — идентификатор этапа инвестирования.\n",
        "- `funding_round_id` — идентификатор раунда инвестирования.\n",
        "- `company_id` — идентификатор компании.\n",
        "- `funding_round_type` — тип финансирования.\n",
        "- `fund_id` — идентификатор фонда.\n",
        "\n",
        "7. Описание датасета **people.csv**\n",
        "\n",
        "Содержит информацию о сотрудниках:\n",
        "- `id` — идентификатор сотрудника.\n",
        "- `first_name` — имя сотрудника.\n",
        "- `last_name` — фамилия сотрудника.\n",
        "- `company_id` — идентификатор компании.\n",
        "- `network_username` — ник в социальных сетях.\n",
        "\n",
        "\n",
        "**Связь между датасетами:**\n",
        "1. Датасеты `acquisition` и `company_and_rounds` связаны по `acquiring_company_id`(идентификатор компании-покупателя) и `company ID`(идентификатор компании), и в таблице `acquisition` приведена более подробная информация о покупке одной компании другой.\n",
        "2. Датасеты `people` и `degrees` связаны по `id` (идентификатор сотрудника в `people`) и `object_id`(идентификатор сотрудника в `degrees`), и в таблице `degrees` приведен тип образования конкретного сотрудника\n",
        "3. Датасеты `people` и `education` связаны по `id`(идентификатор сотрудника в `people`) и `person_id`(идентификатор сотрудника в `education`), и в таблице `education` приведена подробная информация об образовании определенного сотрудника\n",
        "4. Датасеты `company_and_rounds` и `investment` связаны по `funding round id` и `id`, соответсвенно, и в таблице `investment` представлена более подробная информация о каждом раунде инвестирования\n",
        "5. Датасеты `investment` и `fund` связаны по `fund_id` и `id`, соответсвенно, и в таблице `fund` представлена более подробная информация о каждом фонде\n",
        "6. Датасеты `company_and_rounds` и `fund` связаны через промежуточную таблицу `investment`( в пунктах 4 и 5 указаны соответствующие связи). Таким образом, через промежуточную таблицу `investment` можно подробно узнать информацию о фондах\n",
        "7. Датасеты `company_and_rounds` и `people` связаны по `company ID` и `company_id`, и в таблице `people` можно посмотреть информацию об определенном сотруднике в компании"
      ]
    },
    {
      "cell_type": "markdown",
      "metadata": {
        "id": "msqtIGV6-AsW"
      },
      "source": [
        "### 1.1. Вывод общей информации, исправление названия столбцов"
      ]
    },
    {
      "cell_type": "markdown",
      "metadata": {
        "id": "-II7gpGO-AsX"
      },
      "source": [
        "* Импотируем библиотеки, необходимые для работы"
      ]
    },
    {
      "cell_type": "code",
      "execution_count": null,
      "metadata": {
        "id": "J0vqkgaf-AsX"
      },
      "outputs": [],
      "source": [
        "!pip install phik -q"
      ]
    },
    {
      "cell_type": "code",
      "execution_count": null,
      "metadata": {
        "id": "X9rHDbuc-AsY",
        "outputId": "6e271520-081b-4b23-b08c-b115efd0c713"
      },
      "outputs": [
        {
          "name": "stdout",
          "output_type": "stream",
          "text": [
            "Collecting matplotlib-venn\n",
            "  Downloading matplotlib-venn-1.1.2.tar.gz (40 kB)\n",
            "\u001b[K     |████████████████████████████████| 40 kB 508 kB/s eta 0:00:011\n",
            "\u001b[?25h  Installing build dependencies ... \u001b[?25ldone\n",
            "\u001b[?25h  Getting requirements to build wheel ... \u001b[?25ldone\n",
            "\u001b[?25h    Preparing wheel metadata ... \u001b[?25ldone\n",
            "\u001b[?25hRequirement already satisfied: scipy in /opt/conda/lib/python3.9/site-packages (from matplotlib-venn) (1.9.1)\n",
            "Requirement already satisfied: matplotlib in /opt/conda/lib/python3.9/site-packages (from matplotlib-venn) (3.3.4)\n",
            "Requirement already satisfied: numpy in /opt/conda/lib/python3.9/site-packages (from matplotlib-venn) (1.21.1)\n",
            "Requirement already satisfied: cycler>=0.10 in /opt/conda/lib/python3.9/site-packages (from matplotlib->matplotlib-venn) (0.11.0)\n",
            "Requirement already satisfied: python-dateutil>=2.1 in /opt/conda/lib/python3.9/site-packages (from matplotlib->matplotlib-venn) (2.8.1)\n",
            "Requirement already satisfied: kiwisolver>=1.0.1 in /opt/conda/lib/python3.9/site-packages (from matplotlib->matplotlib-venn) (1.4.4)\n",
            "Requirement already satisfied: pyparsing!=2.0.4,!=2.1.2,!=2.1.6,>=2.0.3 in /opt/conda/lib/python3.9/site-packages (from matplotlib->matplotlib-venn) (2.4.7)\n",
            "Requirement already satisfied: pillow>=6.2.0 in /opt/conda/lib/python3.9/site-packages (from matplotlib->matplotlib-venn) (8.4.0)\n",
            "Requirement already satisfied: six>=1.5 in /opt/conda/lib/python3.9/site-packages (from python-dateutil>=2.1->matplotlib->matplotlib-venn) (1.16.0)\n",
            "Building wheels for collected packages: matplotlib-venn\n",
            "  Building wheel for matplotlib-venn (PEP 517) ... \u001b[?25ldone\n",
            "\u001b[?25h  Created wheel for matplotlib-venn: filename=matplotlib_venn-1.1.2-py3-none-any.whl size=45355 sha256=17e7f09a85c06a32599203f53f1c33f5b68cf0ce34d3606a9ca02f97de81f51f\n",
            "  Stored in directory: /home/jovyan/.cache/pip/wheels/86/29/d8/0f3c5a37c967a34fb40aaabd414f92104d2ad5fb149c0114a1\n",
            "Successfully built matplotlib-venn\n",
            "Installing collected packages: matplotlib-venn\n",
            "Successfully installed matplotlib-venn-1.1.2\n",
            "Note: you may need to restart the kernel to use updated packages.\n"
          ]
        }
      ],
      "source": [
        "pip install matplotlib-venn"
      ]
    },
    {
      "cell_type": "code",
      "execution_count": null,
      "metadata": {
        "id": "bW63JzEn-AsZ",
        "outputId": "0a857ec4-f2c0-4b2b-d0e2-70e8112d2e3f"
      },
      "outputs": [
        {
          "name": "stdout",
          "output_type": "stream",
          "text": [
            "Collecting missingno\n",
            "  Downloading missingno-0.5.2-py3-none-any.whl (8.7 kB)\n",
            "Requirement already satisfied: matplotlib in /opt/conda/lib/python3.9/site-packages (from missingno) (3.3.4)\n",
            "Requirement already satisfied: numpy in /opt/conda/lib/python3.9/site-packages (from missingno) (1.21.1)\n",
            "Requirement already satisfied: scipy in /opt/conda/lib/python3.9/site-packages (from missingno) (1.9.1)\n",
            "Requirement already satisfied: seaborn in /opt/conda/lib/python3.9/site-packages (from missingno) (0.11.1)\n",
            "Requirement already satisfied: cycler>=0.10 in /opt/conda/lib/python3.9/site-packages (from matplotlib->missingno) (0.11.0)\n",
            "Requirement already satisfied: kiwisolver>=1.0.1 in /opt/conda/lib/python3.9/site-packages (from matplotlib->missingno) (1.4.4)\n",
            "Requirement already satisfied: python-dateutil>=2.1 in /opt/conda/lib/python3.9/site-packages (from matplotlib->missingno) (2.8.1)\n",
            "Requirement already satisfied: pillow>=6.2.0 in /opt/conda/lib/python3.9/site-packages (from matplotlib->missingno) (8.4.0)\n",
            "Requirement already satisfied: pyparsing!=2.0.4,!=2.1.2,!=2.1.6,>=2.0.3 in /opt/conda/lib/python3.9/site-packages (from matplotlib->missingno) (2.4.7)\n",
            "Requirement already satisfied: six>=1.5 in /opt/conda/lib/python3.9/site-packages (from python-dateutil>=2.1->matplotlib->missingno) (1.16.0)\n",
            "Requirement already satisfied: pandas>=0.23 in /opt/conda/lib/python3.9/site-packages (from seaborn->missingno) (1.2.4)\n",
            "Requirement already satisfied: pytz>=2017.3 in /opt/conda/lib/python3.9/site-packages (from pandas>=0.23->seaborn->missingno) (2021.1)\n",
            "Installing collected packages: missingno\n",
            "Successfully installed missingno-0.5.2\n",
            "Note: you may need to restart the kernel to use updated packages.\n"
          ]
        }
      ],
      "source": [
        "pip install missingno"
      ]
    },
    {
      "cell_type": "code",
      "execution_count": null,
      "metadata": {
        "id": "eTQCyS7t-Asa"
      },
      "outputs": [],
      "source": [
        "# Импортируем библиотеки\n",
        "import pandas as pd\n",
        "import numpy as np\n",
        "\n",
        "# Загружаем библиотеки для визуализации данных\n",
        "import matplotlib.pyplot as plt\n",
        "import seaborn as sns\n",
        "import missingno as msno\n",
        "from matplotlib_venn import venn2, venn3\n",
        "from scipy.stats import percentileofscore"
      ]
    },
    {
      "cell_type": "code",
      "execution_count": null,
      "metadata": {
        "id": "Ch-GH1ve-Asb"
      },
      "outputs": [],
      "source": [
        "# Устанавим глобальный формат отображения чисел\n",
        "pd.set_option('display.float_format', '{:,.2f}'.format)"
      ]
    },
    {
      "cell_type": "markdown",
      "metadata": {
        "id": "afNRJKq4-Asb"
      },
      "source": [
        "\n",
        "* Загружаем все данные по проекту."
      ]
    },
    {
      "cell_type": "code",
      "execution_count": null,
      "metadata": {
        "id": "6oGhZxra-Ash"
      },
      "outputs": [],
      "source": [
        "PATH = \"https://code.s3.yandex.net/datasets/\"\n",
        "df_acquisition = pd.read_csv(PATH + 'acquisition.csv')\n",
        "df_comapny_a_roads = pd.read_csv(PATH + 'company_and_rounds.csv')\n",
        "df_people = pd.read_csv(PATH + 'people.csv')\n",
        "df_education = pd.read_csv(PATH + 'education.csv')\n",
        "df_degrees = pd.read_csv(PATH + 'degrees.csv')"
      ]
    },
    {
      "cell_type": "markdown",
      "metadata": {
        "id": "pMNtJeL5-Asi"
      },
      "source": [
        "\n",
        "* Проверка названий столбцов."
      ]
    },
    {
      "cell_type": "code",
      "execution_count": null,
      "metadata": {
        "id": "MY7kpfcv-Asi",
        "outputId": "eb4177b2-79ad-43f7-bd79-92d3b3eb8c88"
      },
      "outputs": [
        {
          "name": "stdout",
          "output_type": "stream",
          "text": [
            "Index(['id', 'acquiring_company_id', 'acquired_company_id', 'term_code',\n",
            "       'price_amount', 'acquired_at'],\n",
            "      dtype='object')\n",
            "Index(['company  ID', 'name', 'category  code', 'status', 'founded  at',\n",
            "       'closed  at', 'domain', 'network  username', 'country  code',\n",
            "       'investment  rounds', 'funding  rounds', 'funding  total', 'milestones',\n",
            "       'funding  round  id', 'company  id', 'funded  at',\n",
            "       'funding  round  type', 'raised  amount', 'pre  money  valuation',\n",
            "       'participants', 'is  first  round', 'is  last  round'],\n",
            "      dtype='object')\n",
            "Index(['id', 'first_name', 'last_name', 'company_id', 'network_username'], dtype='object')\n",
            "Index(['id', 'person_id', 'instituition', 'graduated_at'], dtype='object')\n",
            "Index(['id', 'object_id', 'degree_type', 'subject'], dtype='object')\n"
          ]
        }
      ],
      "source": [
        "for i in [df_acquisition, df_comapny_a_roads, df_people, df_education, df_degrees]:\n",
        "    print(i.columns)"
      ]
    },
    {
      "cell_type": "markdown",
      "metadata": {
        "id": "4tiUnOui-Asj"
      },
      "source": [
        "* В датасете `df_comapny_a_roads` приведем названия столбцов к стилю snake_case"
      ]
    },
    {
      "cell_type": "code",
      "execution_count": null,
      "metadata": {
        "id": "TNbT0kpA-Asj"
      },
      "outputs": [],
      "source": [
        "def col_to_snake_case(df):\n",
        "    for col in df.columns:\n",
        "        str_bad = col\n",
        "        str_bad = str_bad.replace('  ', '_')\n",
        "        df = df.rename(columns={col: str_bad})\n",
        "    return df"
      ]
    },
    {
      "cell_type": "code",
      "execution_count": null,
      "metadata": {
        "id": "ryzgJk5N-Asj"
      },
      "outputs": [],
      "source": [
        "df_comapny_a_roads = col_to_snake_case(df_comapny_a_roads)"
      ]
    },
    {
      "cell_type": "code",
      "execution_count": null,
      "metadata": {
        "id": "7lCLKQeE-Asj",
        "outputId": "82865117-f35d-4a6a-86c0-1734d5913f56"
      },
      "outputs": [
        {
          "data": {
            "text/plain": [
              "Index(['company_ID', 'name', 'category_code', 'status', 'founded_at',\n",
              "       'closed_at', 'domain', 'network_username', 'country_code',\n",
              "       'investment_rounds', 'funding_rounds', 'funding_total', 'milestones',\n",
              "       'funding_round_id', 'company_id', 'funded_at', 'funding_round_type',\n",
              "       'raised_amount', 'pre_money_valuation', 'participants',\n",
              "       'is_first_round', 'is_last_round'],\n",
              "      dtype='object')"
            ]
          },
          "execution_count": 11,
          "metadata": {},
          "output_type": "execute_result"
        }
      ],
      "source": [
        "df_comapny_a_roads.columns"
      ]
    },
    {
      "cell_type": "code",
      "execution_count": null,
      "metadata": {
        "id": "sLjgIR3q-Ask",
        "outputId": "6da920cf-955f-4a6e-9f36-bd470a74c9ff"
      },
      "outputs": [
        {
          "data": {
            "image/png": "[encoded data removed]",
            "text/plain": [
              "<Figure size 432x288 with 1 Axes>"
            ]
          },
          "metadata": {},
          "output_type": "display_data"
        }
      ],
      "source": [
        "first_id = set(df_comapny_a_roads['company_ID'].dropna().unique())\n",
        "second_id = set(df_comapny_a_roads['company_id'].dropna().unique())\n",
        "\n",
        "# Строим диаграмму Венна\n",
        "venn2([first_id, second_id], set_labels=('company_ID', 'company_id'))\n",
        "\n",
        "# Отображаем график\n",
        "plt.title(\"Пересечение\")\n",
        "plt.show()"
      ]
    },
    {
      "cell_type": "markdown",
      "metadata": {
        "id": "hFjqehDM-Ask"
      },
      "source": [
        "\n",
        "* Выведем информацию, которая необходима вам для принятия решений о предобработке, для каждого из датасетов."
      ]
    },
    {
      "cell_type": "code",
      "execution_count": null,
      "metadata": {
        "id": "4u9np9gSnyqT",
        "outputId": "51e8666c-8c3f-4dc4-a5a9-4e575dc55070"
      },
      "outputs": [
        {
          "data": {
            "text/html": [
              "<div>\n",
              "<style scoped>\n",
              "    .dataframe tbody tr th:only-of-type {\n",
              "        vertical-align: middle;\n",
              "    }\n",
              "\n",
              "    .dataframe tbody tr th {\n",
              "        vertical-align: top;\n",
              "    }\n",
              "\n",
              "    .dataframe thead th {\n",
              "        text-align: right;\n",
              "    }\n",
              "</style>\n",
              "<table border=\"1\" class=\"dataframe\">\n",
              "  <thead>\n",
              "    <tr style=\"text-align: right;\">\n",
              "      <th></th>\n",
              "      <th>id</th>\n",
              "      <th>acquiring_company_id</th>\n",
              "      <th>acquired_company_id</th>\n",
              "      <th>term_code</th>\n",
              "      <th>price_amount</th>\n",
              "      <th>acquired_at</th>\n",
              "    </tr>\n",
              "  </thead>\n",
              "  <tbody>\n",
              "    <tr>\n",
              "      <th>0</th>\n",
              "      <td>1</td>\n",
              "      <td>11</td>\n",
              "      <td>10</td>\n",
              "      <td>NaN</td>\n",
              "      <td>20000000</td>\n",
              "      <td>2007-05-30</td>\n",
              "    </tr>\n",
              "    <tr>\n",
              "      <th>1</th>\n",
              "      <td>7</td>\n",
              "      <td>59</td>\n",
              "      <td>72</td>\n",
              "      <td>cash</td>\n",
              "      <td>60000000</td>\n",
              "      <td>2007-07-01</td>\n",
              "    </tr>\n",
              "    <tr>\n",
              "      <th>2</th>\n",
              "      <td>8</td>\n",
              "      <td>24</td>\n",
              "      <td>132</td>\n",
              "      <td>cash</td>\n",
              "      <td>280000000</td>\n",
              "      <td>2007-05-01</td>\n",
              "    </tr>\n",
              "    <tr>\n",
              "      <th>3</th>\n",
              "      <td>9</td>\n",
              "      <td>59</td>\n",
              "      <td>155</td>\n",
              "      <td>cash</td>\n",
              "      <td>100000000</td>\n",
              "      <td>2007-06-01</td>\n",
              "    </tr>\n",
              "    <tr>\n",
              "      <th>4</th>\n",
              "      <td>10</td>\n",
              "      <td>212</td>\n",
              "      <td>215</td>\n",
              "      <td>cash</td>\n",
              "      <td>25000000</td>\n",
              "      <td>2007-07-01</td>\n",
              "    </tr>\n",
              "  </tbody>\n",
              "</table>\n",
              "</div>"
            ],
            "text/plain": [
              "   id  acquiring_company_id  acquired_company_id term_code  price_amount  \\\n",
              "0   1                    11                   10       NaN      20000000   \n",
              "1   7                    59                   72      cash      60000000   \n",
              "2   8                    24                  132      cash     280000000   \n",
              "3   9                    59                  155      cash     100000000   \n",
              "4  10                   212                  215      cash      25000000   \n",
              "\n",
              "  acquired_at  \n",
              "0  2007-05-30  \n",
              "1  2007-07-01  \n",
              "2  2007-05-01  \n",
              "3  2007-06-01  \n",
              "4  2007-07-01  "
            ]
          },
          "metadata": {},
          "output_type": "display_data"
        },
        {
          "name": "stdout",
          "output_type": "stream",
          "text": [
            "<class 'pandas.core.frame.DataFrame'>\n",
            "RangeIndex: 9407 entries, 0 to 9406\n",
            "Data columns (total 6 columns):\n",
            " #   Column                Non-Null Count  Dtype \n",
            "---  ------                --------------  ----- \n",
            " 0   id                    9407 non-null   int64 \n",
            " 1   acquiring_company_id  9407 non-null   int64 \n",
            " 2   acquired_company_id   9407 non-null   int64 \n",
            " 3   term_code             1831 non-null   object\n",
            " 4   price_amount          9407 non-null   int64 \n",
            " 5   acquired_at           9378 non-null   object\n",
            "dtypes: int64(4), object(2)\n",
            "memory usage: 441.1+ KB\n"
          ]
        },
        {
          "data": {
            "text/html": [
              "<div>\n",
              "<style scoped>\n",
              "    .dataframe tbody tr th:only-of-type {\n",
              "        vertical-align: middle;\n",
              "    }\n",
              "\n",
              "    .dataframe tbody tr th {\n",
              "        vertical-align: top;\n",
              "    }\n",
              "\n",
              "    .dataframe thead th {\n",
              "        text-align: right;\n",
              "    }\n",
              "</style>\n",
              "<table border=\"1\" class=\"dataframe\">\n",
              "  <thead>\n",
              "    <tr style=\"text-align: right;\">\n",
              "      <th></th>\n",
              "      <th>company_ID</th>\n",
              "      <th>name</th>\n",
              "      <th>category_code</th>\n",
              "      <th>status</th>\n",
              "      <th>founded_at</th>\n",
              "      <th>closed_at</th>\n",
              "      <th>domain</th>\n",
              "      <th>network_username</th>\n",
              "      <th>country_code</th>\n",
              "      <th>investment_rounds</th>\n",
              "      <th>...</th>\n",
              "      <th>milestones</th>\n",
              "      <th>funding_round_id</th>\n",
              "      <th>company_id</th>\n",
              "      <th>funded_at</th>\n",
              "      <th>funding_round_type</th>\n",
              "      <th>raised_amount</th>\n",
              "      <th>pre_money_valuation</th>\n",
              "      <th>participants</th>\n",
              "      <th>is_first_round</th>\n",
              "      <th>is_last_round</th>\n",
              "    </tr>\n",
              "  </thead>\n",
              "  <tbody>\n",
              "    <tr>\n",
              "      <th>0</th>\n",
              "      <td>1.00</td>\n",
              "      <td>Wetpaint</td>\n",
              "      <td>web</td>\n",
              "      <td>operating</td>\n",
              "      <td>2005-10-17</td>\n",
              "      <td>NaN</td>\n",
              "      <td>wetpaint-inc.com</td>\n",
              "      <td>BachelrWetpaint</td>\n",
              "      <td>USA</td>\n",
              "      <td>0.00</td>\n",
              "      <td>...</td>\n",
              "      <td>5.00</td>\n",
              "      <td>888.00</td>\n",
              "      <td>1.00</td>\n",
              "      <td>2005-10-01</td>\n",
              "      <td>series-a</td>\n",
              "      <td>5,250,000.00</td>\n",
              "      <td>0.00</td>\n",
              "      <td>2.00</td>\n",
              "      <td>0.00</td>\n",
              "      <td>1.00</td>\n",
              "    </tr>\n",
              "    <tr>\n",
              "      <th>1</th>\n",
              "      <td>1.00</td>\n",
              "      <td>Wetpaint</td>\n",
              "      <td>web</td>\n",
              "      <td>operating</td>\n",
              "      <td>2005-10-17</td>\n",
              "      <td>NaN</td>\n",
              "      <td>wetpaint-inc.com</td>\n",
              "      <td>BachelrWetpaint</td>\n",
              "      <td>USA</td>\n",
              "      <td>0.00</td>\n",
              "      <td>...</td>\n",
              "      <td>5.00</td>\n",
              "      <td>889.00</td>\n",
              "      <td>1.00</td>\n",
              "      <td>2007-01-01</td>\n",
              "      <td>series-b</td>\n",
              "      <td>9,500,000.00</td>\n",
              "      <td>0.00</td>\n",
              "      <td>3.00</td>\n",
              "      <td>0.00</td>\n",
              "      <td>0.00</td>\n",
              "    </tr>\n",
              "    <tr>\n",
              "      <th>2</th>\n",
              "      <td>1.00</td>\n",
              "      <td>Wetpaint</td>\n",
              "      <td>web</td>\n",
              "      <td>operating</td>\n",
              "      <td>2005-10-17</td>\n",
              "      <td>NaN</td>\n",
              "      <td>wetpaint-inc.com</td>\n",
              "      <td>BachelrWetpaint</td>\n",
              "      <td>USA</td>\n",
              "      <td>0.00</td>\n",
              "      <td>...</td>\n",
              "      <td>5.00</td>\n",
              "      <td>2,312.00</td>\n",
              "      <td>1.00</td>\n",
              "      <td>2008-05-19</td>\n",
              "      <td>series-c+</td>\n",
              "      <td>25,000,000.00</td>\n",
              "      <td>0.00</td>\n",
              "      <td>4.00</td>\n",
              "      <td>1.00</td>\n",
              "      <td>0.00</td>\n",
              "    </tr>\n",
              "    <tr>\n",
              "      <th>3</th>\n",
              "      <td>10.00</td>\n",
              "      <td>Flektor</td>\n",
              "      <td>games_video</td>\n",
              "      <td>acquired</td>\n",
              "      <td>NaN</td>\n",
              "      <td>NaN</td>\n",
              "      <td>flektor.com</td>\n",
              "      <td>NaN</td>\n",
              "      <td>USA</td>\n",
              "      <td>0.00</td>\n",
              "      <td>...</td>\n",
              "      <td>0.00</td>\n",
              "      <td>NaN</td>\n",
              "      <td>NaN</td>\n",
              "      <td>NaN</td>\n",
              "      <td>NaN</td>\n",
              "      <td>NaN</td>\n",
              "      <td>NaN</td>\n",
              "      <td>NaN</td>\n",
              "      <td>NaN</td>\n",
              "      <td>NaN</td>\n",
              "    </tr>\n",
              "    <tr>\n",
              "      <th>4</th>\n",
              "      <td>100.00</td>\n",
              "      <td>There</td>\n",
              "      <td>games_video</td>\n",
              "      <td>acquired</td>\n",
              "      <td>NaN</td>\n",
              "      <td>NaN</td>\n",
              "      <td>there.com</td>\n",
              "      <td>NaN</td>\n",
              "      <td>USA</td>\n",
              "      <td>0.00</td>\n",
              "      <td>...</td>\n",
              "      <td>4.00</td>\n",
              "      <td>NaN</td>\n",
              "      <td>NaN</td>\n",
              "      <td>NaN</td>\n",
              "      <td>NaN</td>\n",
              "      <td>NaN</td>\n",
              "      <td>NaN</td>\n",
              "      <td>NaN</td>\n",
              "      <td>NaN</td>\n",
              "      <td>NaN</td>\n",
              "    </tr>\n",
              "  </tbody>\n",
              "</table>\n",
              "<p>5 rows × 22 columns</p>\n",
              "</div>"
            ],
            "text/plain": [
              "   company_ID      name category_code     status  founded_at closed_at  \\\n",
              "0        1.00  Wetpaint           web  operating  2005-10-17       NaN   \n",
              "1        1.00  Wetpaint           web  operating  2005-10-17       NaN   \n",
              "2        1.00  Wetpaint           web  operating  2005-10-17       NaN   \n",
              "3       10.00   Flektor   games_video   acquired         NaN       NaN   \n",
              "4      100.00     There   games_video   acquired         NaN       NaN   \n",
              "\n",
              "             domain network_username country_code  investment_rounds  ...  \\\n",
              "0  wetpaint-inc.com  BachelrWetpaint          USA               0.00  ...   \n",
              "1  wetpaint-inc.com  BachelrWetpaint          USA               0.00  ...   \n",
              "2  wetpaint-inc.com  BachelrWetpaint          USA               0.00  ...   \n",
              "3       flektor.com              NaN          USA               0.00  ...   \n",
              "4         there.com              NaN          USA               0.00  ...   \n",
              "\n",
              "   milestones  funding_round_id  company_id   funded_at  funding_round_type  \\\n",
              "0        5.00            888.00        1.00  2005-10-01            series-a   \n",
              "1        5.00            889.00        1.00  2007-01-01            series-b   \n",
              "2        5.00          2,312.00        1.00  2008-05-19           series-c+   \n",
              "3        0.00               NaN         NaN         NaN                 NaN   \n",
              "4        4.00               NaN         NaN         NaN                 NaN   \n",
              "\n",
              "  raised_amount pre_money_valuation  participants  is_first_round  \\\n",
              "0  5,250,000.00                0.00          2.00            0.00   \n",
              "1  9,500,000.00                0.00          3.00            0.00   \n",
              "2 25,000,000.00                0.00          4.00            1.00   \n",
              "3           NaN                 NaN           NaN             NaN   \n",
              "4           NaN                 NaN           NaN             NaN   \n",
              "\n",
              "   is_last_round  \n",
              "0           1.00  \n",
              "1           0.00  \n",
              "2           0.00  \n",
              "3            NaN  \n",
              "4            NaN  \n",
              "\n",
              "[5 rows x 22 columns]"
            ]
          },
          "metadata": {},
          "output_type": "display_data"
        },
        {
          "name": "stdout",
          "output_type": "stream",
          "text": [
            "<class 'pandas.core.frame.DataFrame'>\n",
            "RangeIndex: 217774 entries, 0 to 217773\n",
            "Data columns (total 22 columns):\n",
            " #   Column               Non-Null Count   Dtype  \n",
            "---  ------               --------------   -----  \n",
            " 0   company_ID           217472 non-null  float64\n",
            " 1   name                 217472 non-null  object \n",
            " 2   category_code        143886 non-null  object \n",
            " 3   status               217472 non-null  object \n",
            " 4   founded_at           109956 non-null  object \n",
            " 5   closed_at            3449 non-null    object \n",
            " 6   domain               147159 non-null  object \n",
            " 7   network_username     95534 non-null   object \n",
            " 8   country_code         108607 non-null  object \n",
            " 9   investment_rounds    217472 non-null  float64\n",
            " 10  funding_rounds       217472 non-null  float64\n",
            " 11  funding_total        217472 non-null  float64\n",
            " 12  milestones           217472 non-null  float64\n",
            " 13  funding_round_id     52928 non-null   float64\n",
            " 14  company_id           52928 non-null   float64\n",
            " 15  funded_at            52680 non-null   object \n",
            " 16  funding_round_type   52928 non-null   object \n",
            " 17  raised_amount        52928 non-null   float64\n",
            " 18  pre_money_valuation  52928 non-null   float64\n",
            " 19  participants         52928 non-null   float64\n",
            " 20  is_first_round       52928 non-null   float64\n",
            " 21  is_last_round        52928 non-null   float64\n",
            "dtypes: float64(12), object(10)\n",
            "memory usage: 36.6+ MB\n"
          ]
        },
        {
          "data": {
            "text/html": [
              "<div>\n",
              "<style scoped>\n",
              "    .dataframe tbody tr th:only-of-type {\n",
              "        vertical-align: middle;\n",
              "    }\n",
              "\n",
              "    .dataframe tbody tr th {\n",
              "        vertical-align: top;\n",
              "    }\n",
              "\n",
              "    .dataframe thead th {\n",
              "        text-align: right;\n",
              "    }\n",
              "</style>\n",
              "<table border=\"1\" class=\"dataframe\">\n",
              "  <thead>\n",
              "    <tr style=\"text-align: right;\">\n",
              "      <th></th>\n",
              "      <th>id</th>\n",
              "      <th>first_name</th>\n",
              "      <th>last_name</th>\n",
              "      <th>company_id</th>\n",
              "      <th>network_username</th>\n",
              "    </tr>\n",
              "  </thead>\n",
              "  <tbody>\n",
              "    <tr>\n",
              "      <th>0</th>\n",
              "      <td>10</td>\n",
              "      <td>Mark</td>\n",
              "      <td>Zuckerberg</td>\n",
              "      <td>5.00</td>\n",
              "      <td>NaN</td>\n",
              "    </tr>\n",
              "    <tr>\n",
              "      <th>1</th>\n",
              "      <td>100</td>\n",
              "      <td>Peter</td>\n",
              "      <td>Lester</td>\n",
              "      <td>27.00</td>\n",
              "      <td>NaN</td>\n",
              "    </tr>\n",
              "    <tr>\n",
              "      <th>2</th>\n",
              "      <td>1000</td>\n",
              "      <td>Dr. Steven</td>\n",
              "      <td>E. Saunders</td>\n",
              "      <td>292.00</td>\n",
              "      <td>NaN</td>\n",
              "    </tr>\n",
              "    <tr>\n",
              "      <th>3</th>\n",
              "      <td>10000</td>\n",
              "      <td>Neil</td>\n",
              "      <td>Capel</td>\n",
              "      <td>2,526.00</td>\n",
              "      <td>NaN</td>\n",
              "    </tr>\n",
              "    <tr>\n",
              "      <th>4</th>\n",
              "      <td>100000</td>\n",
              "      <td>Sue</td>\n",
              "      <td>Pilsch</td>\n",
              "      <td>NaN</td>\n",
              "      <td>NaN</td>\n",
              "    </tr>\n",
              "  </tbody>\n",
              "</table>\n",
              "</div>"
            ],
            "text/plain": [
              "       id  first_name    last_name  company_id network_username\n",
              "0      10        Mark   Zuckerberg        5.00              NaN\n",
              "1     100       Peter       Lester       27.00              NaN\n",
              "2    1000  Dr. Steven  E. Saunders      292.00              NaN\n",
              "3   10000        Neil        Capel    2,526.00              NaN\n",
              "4  100000         Sue       Pilsch         NaN              NaN"
            ]
          },
          "metadata": {},
          "output_type": "display_data"
        },
        {
          "name": "stdout",
          "output_type": "stream",
          "text": [
            "<class 'pandas.core.frame.DataFrame'>\n",
            "RangeIndex: 226709 entries, 0 to 226708\n",
            "Data columns (total 5 columns):\n",
            " #   Column            Non-Null Count   Dtype  \n",
            "---  ------            --------------   -----  \n",
            " 0   id                226709 non-null  int64  \n",
            " 1   first_name        226704 non-null  object \n",
            " 2   last_name         226708 non-null  object \n",
            " 3   company_id        34615 non-null   float64\n",
            " 4   network_username  38867 non-null   object \n",
            "dtypes: float64(1), int64(1), object(3)\n",
            "memory usage: 8.6+ MB\n"
          ]
        },
        {
          "data": {
            "text/html": [
              "<div>\n",
              "<style scoped>\n",
              "    .dataframe tbody tr th:only-of-type {\n",
              "        vertical-align: middle;\n",
              "    }\n",
              "\n",
              "    .dataframe tbody tr th {\n",
              "        vertical-align: top;\n",
              "    }\n",
              "\n",
              "    .dataframe thead th {\n",
              "        text-align: right;\n",
              "    }\n",
              "</style>\n",
              "<table border=\"1\" class=\"dataframe\">\n",
              "  <thead>\n",
              "    <tr style=\"text-align: right;\">\n",
              "      <th></th>\n",
              "      <th>id</th>\n",
              "      <th>person_id</th>\n",
              "      <th>instituition</th>\n",
              "      <th>graduated_at</th>\n",
              "    </tr>\n",
              "  </thead>\n",
              "  <tbody>\n",
              "    <tr>\n",
              "      <th>0</th>\n",
              "      <td>1</td>\n",
              "      <td>6117</td>\n",
              "      <td>NaN</td>\n",
              "      <td>NaN</td>\n",
              "    </tr>\n",
              "    <tr>\n",
              "      <th>1</th>\n",
              "      <td>2</td>\n",
              "      <td>6136</td>\n",
              "      <td>Washington University, St. Louis</td>\n",
              "      <td>1990-01-01</td>\n",
              "    </tr>\n",
              "    <tr>\n",
              "      <th>2</th>\n",
              "      <td>3</td>\n",
              "      <td>6136</td>\n",
              "      <td>Boston University</td>\n",
              "      <td>1992-01-01</td>\n",
              "    </tr>\n",
              "    <tr>\n",
              "      <th>3</th>\n",
              "      <td>4</td>\n",
              "      <td>6005</td>\n",
              "      <td>University of Greenwich</td>\n",
              "      <td>2006-01-01</td>\n",
              "    </tr>\n",
              "    <tr>\n",
              "      <th>4</th>\n",
              "      <td>5</td>\n",
              "      <td>5832</td>\n",
              "      <td>Rice University</td>\n",
              "      <td>NaN</td>\n",
              "    </tr>\n",
              "  </tbody>\n",
              "</table>\n",
              "</div>"
            ],
            "text/plain": [
              "   id  person_id                      instituition graduated_at\n",
              "0   1       6117                               NaN          NaN\n",
              "1   2       6136  Washington University, St. Louis   1990-01-01\n",
              "2   3       6136                 Boston University   1992-01-01\n",
              "3   4       6005           University of Greenwich   2006-01-01\n",
              "4   5       5832                   Rice University          NaN"
            ]
          },
          "metadata": {},
          "output_type": "display_data"
        },
        {
          "name": "stdout",
          "output_type": "stream",
          "text": [
            "<class 'pandas.core.frame.DataFrame'>\n",
            "RangeIndex: 109610 entries, 0 to 109609\n",
            "Data columns (total 4 columns):\n",
            " #   Column        Non-Null Count   Dtype \n",
            "---  ------        --------------   ----- \n",
            " 0   id            109610 non-null  int64 \n",
            " 1   person_id     109610 non-null  int64 \n",
            " 2   instituition  109555 non-null  object\n",
            " 3   graduated_at  58054 non-null   object\n",
            "dtypes: int64(2), object(2)\n",
            "memory usage: 3.3+ MB\n"
          ]
        },
        {
          "data": {
            "text/html": [
              "<div>\n",
              "<style scoped>\n",
              "    .dataframe tbody tr th:only-of-type {\n",
              "        vertical-align: middle;\n",
              "    }\n",
              "\n",
              "    .dataframe tbody tr th {\n",
              "        vertical-align: top;\n",
              "    }\n",
              "\n",
              "    .dataframe thead th {\n",
              "        text-align: right;\n",
              "    }\n",
              "</style>\n",
              "<table border=\"1\" class=\"dataframe\">\n",
              "  <thead>\n",
              "    <tr style=\"text-align: right;\">\n",
              "      <th></th>\n",
              "      <th>id</th>\n",
              "      <th>object_id</th>\n",
              "      <th>degree_type</th>\n",
              "      <th>subject</th>\n",
              "    </tr>\n",
              "  </thead>\n",
              "  <tbody>\n",
              "    <tr>\n",
              "      <th>0</th>\n",
              "      <td>1</td>\n",
              "      <td>p:6117</td>\n",
              "      <td>MBA</td>\n",
              "      <td>NaN</td>\n",
              "    </tr>\n",
              "    <tr>\n",
              "      <th>1</th>\n",
              "      <td>2</td>\n",
              "      <td>p:6136</td>\n",
              "      <td>BA</td>\n",
              "      <td>English, French</td>\n",
              "    </tr>\n",
              "    <tr>\n",
              "      <th>2</th>\n",
              "      <td>3</td>\n",
              "      <td>p:6136</td>\n",
              "      <td>MS</td>\n",
              "      <td>Mass Communication</td>\n",
              "    </tr>\n",
              "    <tr>\n",
              "      <th>3</th>\n",
              "      <td>4</td>\n",
              "      <td>p:6005</td>\n",
              "      <td>MS</td>\n",
              "      <td>Internet Technology</td>\n",
              "    </tr>\n",
              "    <tr>\n",
              "      <th>4</th>\n",
              "      <td>5</td>\n",
              "      <td>p:5832</td>\n",
              "      <td>BCS</td>\n",
              "      <td>Computer Science, Psychology</td>\n",
              "    </tr>\n",
              "  </tbody>\n",
              "</table>\n",
              "</div>"
            ],
            "text/plain": [
              "   id object_id degree_type                       subject\n",
              "0   1    p:6117         MBA                           NaN\n",
              "1   2    p:6136          BA               English, French\n",
              "2   3    p:6136          MS            Mass Communication\n",
              "3   4    p:6005          MS           Internet Technology\n",
              "4   5    p:5832         BCS  Computer Science, Psychology"
            ]
          },
          "metadata": {},
          "output_type": "display_data"
        },
        {
          "name": "stdout",
          "output_type": "stream",
          "text": [
            "<class 'pandas.core.frame.DataFrame'>\n",
            "RangeIndex: 109610 entries, 0 to 109609\n",
            "Data columns (total 4 columns):\n",
            " #   Column       Non-Null Count   Dtype \n",
            "---  ------       --------------   ----- \n",
            " 0   id           109610 non-null  int64 \n",
            " 1   object_id    109610 non-null  object\n",
            " 2   degree_type  98392 non-null   object\n",
            " 3   subject      81298 non-null   object\n",
            "dtypes: int64(1), object(3)\n",
            "memory usage: 3.3+ MB\n"
          ]
        }
      ],
      "source": [
        "for i in [df_acquisition, df_comapny_a_roads, df_people, df_education, df_degrees]:\n",
        "    display(i.head())\n",
        "    i.info()"
      ]
    },
    {
      "cell_type": "markdown",
      "metadata": {
        "id": "W_W4jRazrJg0"
      },
      "source": [
        "##### Изменение типов данных в таблицах\n",
        "- **Таблица `df_acquisition`**: Преобразовать тип данных в столбце `acquired_at` к типу `date`.\n",
        "- **Таблица `df_company_a_roads`**: Привести столбцы `founded_at`, `closed_at` и `funded_at` к типу `date`.\n",
        "- **Таблица `df_education`**: Преобразовать тип данных в столбце `graduated_at` к типу `date`."
      ]
    },
    {
      "cell_type": "markdown",
      "metadata": {
        "id": "mg2gEwh0rJg0"
      },
      "source": [
        "### 1.2. Смена типов и анализ пропусков\n"
      ]
    },
    {
      "cell_type": "markdown",
      "metadata": {
        "id": "NUUzgU3x-Asm"
      },
      "source": [
        "* Приведем необходимы столбцы к типу данных 'date'"
      ]
    },
    {
      "cell_type": "code",
      "execution_count": null,
      "metadata": {
        "id": "UpKXNVsx-Asm"
      },
      "outputs": [],
      "source": [
        "df_acquisition['acquired_at'] = pd.to_datetime(df_acquisition['acquired_at'])\n",
        "df_comapny_a_roads[['founded_at', 'closed_at', 'funded_at']] = df_comapny_a_roads[['founded_at', 'closed_at', 'funded_at']].apply(pd.to_datetime)\n",
        "df_education['graduated_at'] = pd.to_datetime(df_education['graduated_at'])"
      ]
    },
    {
      "cell_type": "markdown",
      "metadata": {
        "id": "0FOEC6ot-Asn"
      },
      "source": [
        "\n",
        "* Оценим полноту данных и сделаем предварительный вывод, достаточно ли данных для решения задач проекта."
      ]
    },
    {
      "cell_type": "code",
      "execution_count": null,
      "metadata": {
        "id": "FsL0A8RBrJg1",
        "outputId": "d29785cc-2947-41c4-9bc2-96e32dac74d5"
      },
      "outputs": [
        {
          "name": "stdout",
          "output_type": "stream",
          "text": [
            "<class 'pandas.core.frame.DataFrame'>\n",
            "RangeIndex: 9407 entries, 0 to 9406\n",
            "Data columns (total 6 columns):\n",
            " #   Column                Non-Null Count  Dtype         \n",
            "---  ------                --------------  -----         \n",
            " 0   id                    9407 non-null   int64         \n",
            " 1   acquiring_company_id  9407 non-null   int64         \n",
            " 2   acquired_company_id   9407 non-null   int64         \n",
            " 3   term_code             1831 non-null   object        \n",
            " 4   price_amount          9407 non-null   int64         \n",
            " 5   acquired_at           9378 non-null   datetime64[ns]\n",
            "dtypes: datetime64[ns](1), int64(4), object(1)\n",
            "memory usage: 441.1+ KB\n",
            "None\n",
            "id                         0\n",
            "acquiring_company_id       0\n",
            "acquired_company_id        0\n",
            "term_code               7576\n",
            "price_amount               0\n",
            "acquired_at               29\n",
            "dtype: int64\n",
            "id                     0.00\n",
            "acquiring_company_id   0.00\n",
            "acquired_company_id    0.00\n",
            "term_code              0.81\n",
            "price_amount           0.00\n",
            "acquired_at            0.00\n",
            "dtype: float64\n",
            "<class 'pandas.core.frame.DataFrame'>\n",
            "RangeIndex: 217774 entries, 0 to 217773\n",
            "Data columns (total 22 columns):\n",
            " #   Column               Non-Null Count   Dtype         \n",
            "---  ------               --------------   -----         \n",
            " 0   company_ID           217472 non-null  float64       \n",
            " 1   name                 217472 non-null  object        \n",
            " 2   category_code        143886 non-null  object        \n",
            " 3   status               217472 non-null  object        \n",
            " 4   founded_at           109956 non-null  datetime64[ns]\n",
            " 5   closed_at            3449 non-null    datetime64[ns]\n",
            " 6   domain               147159 non-null  object        \n",
            " 7   network_username     95534 non-null   object        \n",
            " 8   country_code         108607 non-null  object        \n",
            " 9   investment_rounds    217472 non-null  float64       \n",
            " 10  funding_rounds       217472 non-null  float64       \n",
            " 11  funding_total        217472 non-null  float64       \n",
            " 12  milestones           217472 non-null  float64       \n",
            " 13  funding_round_id     52928 non-null   float64       \n",
            " 14  company_id           52928 non-null   float64       \n",
            " 15  funded_at            52680 non-null   datetime64[ns]\n",
            " 16  funding_round_type   52928 non-null   object        \n",
            " 17  raised_amount        52928 non-null   float64       \n",
            " 18  pre_money_valuation  52928 non-null   float64       \n",
            " 19  participants         52928 non-null   float64       \n",
            " 20  is_first_round       52928 non-null   float64       \n",
            " 21  is_last_round        52928 non-null   float64       \n",
            "dtypes: datetime64[ns](3), float64(12), object(7)\n",
            "memory usage: 36.6+ MB\n",
            "None\n",
            "company_ID                302\n",
            "name                      302\n",
            "category_code           73888\n",
            "status                    302\n",
            "founded_at             107818\n",
            "closed_at              214325\n",
            "domain                  70615\n",
            "network_username       122240\n",
            "country_code           109167\n",
            "investment_rounds         302\n",
            "funding_rounds            302\n",
            "funding_total             302\n",
            "milestones                302\n",
            "funding_round_id       164846\n",
            "company_id             164846\n",
            "funded_at              165094\n",
            "funding_round_type     164846\n",
            "raised_amount          164846\n",
            "pre_money_valuation    164846\n",
            "participants           164846\n",
            "is_first_round         164846\n",
            "is_last_round          164846\n",
            "dtype: int64\n",
            "company_ID            0.00\n",
            "name                  0.00\n",
            "category_code         0.34\n",
            "status                0.00\n",
            "founded_at            0.50\n",
            "closed_at             0.98\n",
            "domain                0.32\n",
            "network_username      0.56\n",
            "country_code          0.50\n",
            "investment_rounds     0.00\n",
            "funding_rounds        0.00\n",
            "funding_total         0.00\n",
            "milestones            0.00\n",
            "funding_round_id      0.76\n",
            "company_id            0.76\n",
            "funded_at             0.76\n",
            "funding_round_type    0.76\n",
            "raised_amount         0.76\n",
            "pre_money_valuation   0.76\n",
            "participants          0.76\n",
            "is_first_round        0.76\n",
            "is_last_round         0.76\n",
            "dtype: float64\n",
            "<class 'pandas.core.frame.DataFrame'>\n",
            "RangeIndex: 226709 entries, 0 to 226708\n",
            "Data columns (total 5 columns):\n",
            " #   Column            Non-Null Count   Dtype  \n",
            "---  ------            --------------   -----  \n",
            " 0   id                226709 non-null  int64  \n",
            " 1   first_name        226704 non-null  object \n",
            " 2   last_name         226708 non-null  object \n",
            " 3   company_id        34615 non-null   float64\n",
            " 4   network_username  38867 non-null   object \n",
            "dtypes: float64(1), int64(1), object(3)\n",
            "memory usage: 8.6+ MB\n",
            "None\n",
            "id                       0\n",
            "first_name               5\n",
            "last_name                1\n",
            "company_id          192094\n",
            "network_username    187842\n",
            "dtype: int64\n",
            "id                 0.00\n",
            "first_name         0.00\n",
            "last_name          0.00\n",
            "company_id         0.85\n",
            "network_username   0.83\n",
            "dtype: float64\n",
            "<class 'pandas.core.frame.DataFrame'>\n",
            "RangeIndex: 109610 entries, 0 to 109609\n",
            "Data columns (total 4 columns):\n",
            " #   Column        Non-Null Count   Dtype         \n",
            "---  ------        --------------   -----         \n",
            " 0   id            109610 non-null  int64         \n",
            " 1   person_id     109610 non-null  int64         \n",
            " 2   instituition  109555 non-null  object        \n",
            " 3   graduated_at  58054 non-null   datetime64[ns]\n",
            "dtypes: datetime64[ns](1), int64(2), object(1)\n",
            "memory usage: 3.3+ MB\n",
            "None\n",
            "id                  0\n",
            "person_id           0\n",
            "instituition       55\n",
            "graduated_at    51556\n",
            "dtype: int64\n",
            "id             0.00\n",
            "person_id      0.00\n",
            "instituition   0.00\n",
            "graduated_at   0.47\n",
            "dtype: float64\n",
            "<class 'pandas.core.frame.DataFrame'>\n",
            "RangeIndex: 109610 entries, 0 to 109609\n",
            "Data columns (total 4 columns):\n",
            " #   Column       Non-Null Count   Dtype \n",
            "---  ------       --------------   ----- \n",
            " 0   id           109610 non-null  int64 \n",
            " 1   object_id    109610 non-null  object\n",
            " 2   degree_type  98392 non-null   object\n",
            " 3   subject      81298 non-null   object\n",
            "dtypes: int64(1), object(3)\n",
            "memory usage: 3.3+ MB\n",
            "None\n",
            "id                 0\n",
            "object_id          0\n",
            "degree_type    11218\n",
            "subject        28312\n",
            "dtype: int64\n",
            "id            0.00\n",
            "object_id     0.00\n",
            "degree_type   0.10\n",
            "subject       0.26\n",
            "dtype: float64\n"
          ]
        }
      ],
      "source": [
        "for i in [df_acquisition, df_comapny_a_roads, df_people, df_education, df_degrees]:\n",
        "    print(i.info())\n",
        "    print(i.isna().sum())\n",
        "    print(i.isna().sum()/i.shape[0])"
      ]
    },
    {
      "cell_type": "markdown",
      "metadata": {
        "id": "pLEw4Up5-Asu"
      },
      "source": [
        "- В таблице **df_acquisition** всего 9407 строк и 80% пропусков в столбце `term_code`, но в дальнейшем анализе данный столбец не будет играть весомой роли\n",
        "- Самая большая по количеству строк и столбцов таблица **df_comapny_a_roads** она содержит 217774 строки и 22 столбца\n",
        "    - В столбцах `funding_round_id`,`company_id,funded_at`,`funding_round_type`, `raised_amount`,`pre_money_valuation`,`participants`,`is_first_round`,`is_last_round` - 75% пропусокв\n",
        "    - В столбцах `category_code`- 33%, `founded_at` - 50%, `closed_at` - 98%, `domain` - 32%, `network_username` - 56%, `country_code ` - 50%\n",
        "- В таблице **df_people** всего 226709 строк около 80% пропусков в столбцах `company_id`, `network_username`\n",
        "- В таблице **df_education** всего 109610 строк и 50% пропусков в столбце `graduated_at`\n",
        "- В таблице **df_degrees** всего 109610 строк и пропуски в столбцах `degree_type`- 10%, `subject`-25%"
      ]
    },
    {
      "cell_type": "code",
      "execution_count": null,
      "metadata": {
        "id": "vIjbn_ij-Asv",
        "outputId": "4cedefcb-4e79-4a9e-e32c-cc1945db077b"
      },
      "outputs": [
        {
          "data": {
            "image/png": "[encoded data removed]",
            "text/plain": [
              "<Figure size 576x288 with 2 Axes>"
            ]
          },
          "metadata": {
            "needs_background": "light"
          },
          "output_type": "display_data"
        }
      ],
      "source": [
        "# Визуализируем пропуски в таблице 'df_comapny_a_roads'\n",
        "msno.matrix(df_comapny_a_roads, figsize=(8, 4), color=(0.2, 0.5, 0.3), fontsize=12);"
      ]
    },
    {
      "cell_type": "markdown",
      "metadata": {
        "id": "LqWOb4D5-Asw"
      },
      "source": [
        "После визуализации пропусков в таблице `df_comapny_a_roads` можно заметить, что пропуски в столбцах 'funding_round_id', 'company_id', 'funded_at', 'funding_round_type','raised_amount', 'pre_money_valuation', 'participants', 'is_first_round', 'is_last_round' распределены одинаково. Это может быть связано с тем, что определенные компании не участвовали в финансировании."
      ]
    },
    {
      "cell_type": "markdown",
      "metadata": {
        "id": "Qn4ZMA6--Asx"
      },
      "source": [
        "Так как данных в каждой таблице достаточное количество, то пропуски, которые присутствуют во многих таблицах можно игнорировать, так как данных для анализа все еще достаточно"
      ]
    },
    {
      "cell_type": "markdown",
      "metadata": {
        "id": "u60cHsn6rJg1"
      },
      "source": [
        "## Шаг 2. Предобработка данных, предварительное исследование"
      ]
    },
    {
      "cell_type": "markdown",
      "metadata": {
        "id": "g2bHIIjcrJg1"
      },
      "source": [
        "\n",
        "### 2.1. Раунды финансирования по годам\n",
        "* Проанализируем данные из company_and_rounds.csv, составим сводную таблицу по годам для оценки типичного размера средств и количества раундов.\n",
        "\n",
        "* На основе получившейся таблицы построим график, который будет отражать динамику типичного размера средств, которые стартапы получали в рамках одного раунда финансирования.\n",
        "\n",
        "На основе полученных данных ответим на вопросы:\n",
        "\n",
        "* В каком году типичный размер собранных в рамках одного раунда средств был максимален?\n",
        "\n",
        "* Какая тенденция по количеству раундов и выделяемых в рамках каждого раунда средств наблюдалась в 2013 году?"
      ]
    },
    {
      "cell_type": "code",
      "execution_count": null,
      "metadata": {
        "id": "pwKWByhk-Asy",
        "outputId": "5d73da2d-c2e8-4900-ff5f-5fd5eae3f10f"
      },
      "outputs": [
        {
          "data": {
            "text/html": [
              "<div>\n",
              "<style scoped>\n",
              "    .dataframe tbody tr th:only-of-type {\n",
              "        vertical-align: middle;\n",
              "    }\n",
              "\n",
              "    .dataframe tbody tr th {\n",
              "        vertical-align: top;\n",
              "    }\n",
              "\n",
              "    .dataframe thead th {\n",
              "        text-align: right;\n",
              "    }\n",
              "</style>\n",
              "<table border=\"1\" class=\"dataframe\">\n",
              "  <thead>\n",
              "    <tr style=\"text-align: right;\">\n",
              "      <th></th>\n",
              "      <th>company_ID</th>\n",
              "      <th>name</th>\n",
              "      <th>category_code</th>\n",
              "      <th>status</th>\n",
              "      <th>founded_at</th>\n",
              "      <th>closed_at</th>\n",
              "      <th>domain</th>\n",
              "      <th>network_username</th>\n",
              "      <th>country_code</th>\n",
              "      <th>investment_rounds</th>\n",
              "      <th>...</th>\n",
              "      <th>funding_round_id</th>\n",
              "      <th>company_id</th>\n",
              "      <th>funded_at</th>\n",
              "      <th>funding_round_type</th>\n",
              "      <th>raised_amount</th>\n",
              "      <th>pre_money_valuation</th>\n",
              "      <th>participants</th>\n",
              "      <th>is_first_round</th>\n",
              "      <th>is_last_round</th>\n",
              "      <th>funded_year</th>\n",
              "    </tr>\n",
              "  </thead>\n",
              "  <tbody>\n",
              "    <tr>\n",
              "      <th>0</th>\n",
              "      <td>1.00</td>\n",
              "      <td>Wetpaint</td>\n",
              "      <td>web</td>\n",
              "      <td>operating</td>\n",
              "      <td>2005-10-17</td>\n",
              "      <td>NaT</td>\n",
              "      <td>wetpaint-inc.com</td>\n",
              "      <td>BachelrWetpaint</td>\n",
              "      <td>USA</td>\n",
              "      <td>0.00</td>\n",
              "      <td>...</td>\n",
              "      <td>888.00</td>\n",
              "      <td>1.00</td>\n",
              "      <td>2005-10-01</td>\n",
              "      <td>series-a</td>\n",
              "      <td>5,250,000.00</td>\n",
              "      <td>0.00</td>\n",
              "      <td>2.00</td>\n",
              "      <td>0.00</td>\n",
              "      <td>1.00</td>\n",
              "      <td>2005</td>\n",
              "    </tr>\n",
              "    <tr>\n",
              "      <th>1</th>\n",
              "      <td>1.00</td>\n",
              "      <td>Wetpaint</td>\n",
              "      <td>web</td>\n",
              "      <td>operating</td>\n",
              "      <td>2005-10-17</td>\n",
              "      <td>NaT</td>\n",
              "      <td>wetpaint-inc.com</td>\n",
              "      <td>BachelrWetpaint</td>\n",
              "      <td>USA</td>\n",
              "      <td>0.00</td>\n",
              "      <td>...</td>\n",
              "      <td>889.00</td>\n",
              "      <td>1.00</td>\n",
              "      <td>2007-01-01</td>\n",
              "      <td>series-b</td>\n",
              "      <td>9,500,000.00</td>\n",
              "      <td>0.00</td>\n",
              "      <td>3.00</td>\n",
              "      <td>0.00</td>\n",
              "      <td>0.00</td>\n",
              "      <td>2007</td>\n",
              "    </tr>\n",
              "    <tr>\n",
              "      <th>2</th>\n",
              "      <td>1.00</td>\n",
              "      <td>Wetpaint</td>\n",
              "      <td>web</td>\n",
              "      <td>operating</td>\n",
              "      <td>2005-10-17</td>\n",
              "      <td>NaT</td>\n",
              "      <td>wetpaint-inc.com</td>\n",
              "      <td>BachelrWetpaint</td>\n",
              "      <td>USA</td>\n",
              "      <td>0.00</td>\n",
              "      <td>...</td>\n",
              "      <td>2,312.00</td>\n",
              "      <td>1.00</td>\n",
              "      <td>2008-05-19</td>\n",
              "      <td>series-c+</td>\n",
              "      <td>25,000,000.00</td>\n",
              "      <td>0.00</td>\n",
              "      <td>4.00</td>\n",
              "      <td>1.00</td>\n",
              "      <td>0.00</td>\n",
              "      <td>2008</td>\n",
              "    </tr>\n",
              "    <tr>\n",
              "      <th>3</th>\n",
              "      <td>10.00</td>\n",
              "      <td>Flektor</td>\n",
              "      <td>games_video</td>\n",
              "      <td>acquired</td>\n",
              "      <td>NaT</td>\n",
              "      <td>NaT</td>\n",
              "      <td>flektor.com</td>\n",
              "      <td>NaN</td>\n",
              "      <td>USA</td>\n",
              "      <td>0.00</td>\n",
              "      <td>...</td>\n",
              "      <td>NaN</td>\n",
              "      <td>NaN</td>\n",
              "      <td>NaT</td>\n",
              "      <td>NaN</td>\n",
              "      <td>NaN</td>\n",
              "      <td>NaN</td>\n",
              "      <td>NaN</td>\n",
              "      <td>NaN</td>\n",
              "      <td>NaN</td>\n",
              "      <td>&lt;NA&gt;</td>\n",
              "    </tr>\n",
              "    <tr>\n",
              "      <th>4</th>\n",
              "      <td>100.00</td>\n",
              "      <td>There</td>\n",
              "      <td>games_video</td>\n",
              "      <td>acquired</td>\n",
              "      <td>NaT</td>\n",
              "      <td>NaT</td>\n",
              "      <td>there.com</td>\n",
              "      <td>NaN</td>\n",
              "      <td>USA</td>\n",
              "      <td>0.00</td>\n",
              "      <td>...</td>\n",
              "      <td>NaN</td>\n",
              "      <td>NaN</td>\n",
              "      <td>NaT</td>\n",
              "      <td>NaN</td>\n",
              "      <td>NaN</td>\n",
              "      <td>NaN</td>\n",
              "      <td>NaN</td>\n",
              "      <td>NaN</td>\n",
              "      <td>NaN</td>\n",
              "      <td>&lt;NA&gt;</td>\n",
              "    </tr>\n",
              "  </tbody>\n",
              "</table>\n",
              "<p>5 rows × 23 columns</p>\n",
              "</div>"
            ],
            "text/plain": [
              "   company_ID      name category_code     status founded_at closed_at  \\\n",
              "0        1.00  Wetpaint           web  operating 2005-10-17       NaT   \n",
              "1        1.00  Wetpaint           web  operating 2005-10-17       NaT   \n",
              "2        1.00  Wetpaint           web  operating 2005-10-17       NaT   \n",
              "3       10.00   Flektor   games_video   acquired        NaT       NaT   \n",
              "4      100.00     There   games_video   acquired        NaT       NaT   \n",
              "\n",
              "             domain network_username country_code  investment_rounds  ...  \\\n",
              "0  wetpaint-inc.com  BachelrWetpaint          USA               0.00  ...   \n",
              "1  wetpaint-inc.com  BachelrWetpaint          USA               0.00  ...   \n",
              "2  wetpaint-inc.com  BachelrWetpaint          USA               0.00  ...   \n",
              "3       flektor.com              NaN          USA               0.00  ...   \n",
              "4         there.com              NaN          USA               0.00  ...   \n",
              "\n",
              "   funding_round_id  company_id  funded_at  funding_round_type  raised_amount  \\\n",
              "0            888.00        1.00 2005-10-01            series-a   5,250,000.00   \n",
              "1            889.00        1.00 2007-01-01            series-b   9,500,000.00   \n",
              "2          2,312.00        1.00 2008-05-19           series-c+  25,000,000.00   \n",
              "3               NaN         NaN        NaT                 NaN            NaN   \n",
              "4               NaN         NaN        NaT                 NaN            NaN   \n",
              "\n",
              "  pre_money_valuation participants  is_first_round  is_last_round  funded_year  \n",
              "0                0.00         2.00            0.00           1.00         2005  \n",
              "1                0.00         3.00            0.00           0.00         2007  \n",
              "2                0.00         4.00            1.00           0.00         2008  \n",
              "3                 NaN          NaN             NaN            NaN         <NA>  \n",
              "4                 NaN          NaN             NaN            NaN         <NA>  \n",
              "\n",
              "[5 rows x 23 columns]"
            ]
          },
          "execution_count": 17,
          "metadata": {},
          "output_type": "execute_result"
        }
      ],
      "source": [
        "# Выделим из даты `funded_at` год\n",
        "df_comapny_a_roads['funded_year'] = df_comapny_a_roads['funded_at'].dt.year.astype('Int64')\n",
        "df_comapny_a_roads.head()"
      ]
    },
    {
      "cell_type": "code",
      "execution_count": null,
      "metadata": {
        "id": "ovyDibxNrJg1",
        "outputId": "caa9febf-3019-4c18-fb1c-ba1cbffe9cf9"
      },
      "outputs": [
        {
          "data": {
            "text/html": [
              "<div>\n",
              "<style scoped>\n",
              "    .dataframe tbody tr th:only-of-type {\n",
              "        vertical-align: middle;\n",
              "    }\n",
              "\n",
              "    .dataframe tbody tr th {\n",
              "        vertical-align: top;\n",
              "    }\n",
              "\n",
              "    .dataframe thead th {\n",
              "        text-align: right;\n",
              "    }\n",
              "</style>\n",
              "<table border=\"1\" class=\"dataframe\">\n",
              "  <thead>\n",
              "    <tr style=\"text-align: right;\">\n",
              "      <th></th>\n",
              "      <th>funded_year</th>\n",
              "      <th>funding_round_id</th>\n",
              "      <th>raised_amount</th>\n",
              "    </tr>\n",
              "  </thead>\n",
              "  <tbody>\n",
              "    <tr>\n",
              "      <th>15</th>\n",
              "      <td>1999</td>\n",
              "      <td>76</td>\n",
              "      <td>2,000,000.00</td>\n",
              "    </tr>\n",
              "    <tr>\n",
              "      <th>16</th>\n",
              "      <td>2000</td>\n",
              "      <td>125</td>\n",
              "      <td>4,200,000.00</td>\n",
              "    </tr>\n",
              "    <tr>\n",
              "      <th>17</th>\n",
              "      <td>2001</td>\n",
              "      <td>96</td>\n",
              "      <td>3,000,000.00</td>\n",
              "    </tr>\n",
              "    <tr>\n",
              "      <th>18</th>\n",
              "      <td>2002</td>\n",
              "      <td>116</td>\n",
              "      <td>4,200,000.00</td>\n",
              "    </tr>\n",
              "    <tr>\n",
              "      <th>19</th>\n",
              "      <td>2003</td>\n",
              "      <td>159</td>\n",
              "      <td>3,000,000.00</td>\n",
              "    </tr>\n",
              "    <tr>\n",
              "      <th>20</th>\n",
              "      <td>2004</td>\n",
              "      <td>291</td>\n",
              "      <td>5,000,000.00</td>\n",
              "    </tr>\n",
              "    <tr>\n",
              "      <th>21</th>\n",
              "      <td>2005</td>\n",
              "      <td>1633</td>\n",
              "      <td>5,500,000.00</td>\n",
              "    </tr>\n",
              "    <tr>\n",
              "      <th>22</th>\n",
              "      <td>2006</td>\n",
              "      <td>2436</td>\n",
              "      <td>5,000,000.00</td>\n",
              "    </tr>\n",
              "    <tr>\n",
              "      <th>23</th>\n",
              "      <td>2007</td>\n",
              "      <td>3279</td>\n",
              "      <td>3,973,320.00</td>\n",
              "    </tr>\n",
              "    <tr>\n",
              "      <th>24</th>\n",
              "      <td>2008</td>\n",
              "      <td>3774</td>\n",
              "      <td>3,110,000.00</td>\n",
              "    </tr>\n",
              "    <tr>\n",
              "      <th>25</th>\n",
              "      <td>2009</td>\n",
              "      <td>4151</td>\n",
              "      <td>2,000,000.00</td>\n",
              "    </tr>\n",
              "    <tr>\n",
              "      <th>26</th>\n",
              "      <td>2010</td>\n",
              "      <td>6221</td>\n",
              "      <td>1,602,500.00</td>\n",
              "    </tr>\n",
              "    <tr>\n",
              "      <th>27</th>\n",
              "      <td>2011</td>\n",
              "      <td>9204</td>\n",
              "      <td>1,200,000.00</td>\n",
              "    </tr>\n",
              "    <tr>\n",
              "      <th>28</th>\n",
              "      <td>2012</td>\n",
              "      <td>9970</td>\n",
              "      <td>1,000,000.00</td>\n",
              "    </tr>\n",
              "    <tr>\n",
              "      <th>29</th>\n",
              "      <td>2013</td>\n",
              "      <td>11072</td>\n",
              "      <td>1,200,000.00</td>\n",
              "    </tr>\n",
              "  </tbody>\n",
              "</table>\n",
              "</div>"
            ],
            "text/plain": [
              "    funded_year  funding_round_id  raised_amount\n",
              "15         1999                76   2,000,000.00\n",
              "16         2000               125   4,200,000.00\n",
              "17         2001                96   3,000,000.00\n",
              "18         2002               116   4,200,000.00\n",
              "19         2003               159   3,000,000.00\n",
              "20         2004               291   5,000,000.00\n",
              "21         2005              1633   5,500,000.00\n",
              "22         2006              2436   5,000,000.00\n",
              "23         2007              3279   3,973,320.00\n",
              "24         2008              3774   3,110,000.00\n",
              "25         2009              4151   2,000,000.00\n",
              "26         2010              6221   1,602,500.00\n",
              "27         2011              9204   1,200,000.00\n",
              "28         2012              9970   1,000,000.00\n",
              "29         2013             11072   1,200,000.00"
            ]
          },
          "execution_count": 18,
          "metadata": {},
          "output_type": "execute_result"
        }
      ],
      "source": [
        "# С помощью groupby составим сводную таблицу\n",
        "pivot_comapny_a_r = df_comapny_a_roads.groupby('funded_year').agg({'funding_round_id': 'nunique' , 'raised_amount': 'median'}).reset_index()\n",
        "# Выделем года с более чем 50 раундами финансирования\n",
        "pivot_comapny_a_r = pivot_comapny_a_r[pivot_comapny_a_r['funding_round_id'] > 50]\n",
        "pivot_comapny_a_r"
      ]
    },
    {
      "cell_type": "code",
      "execution_count": null,
      "metadata": {
        "id": "xyGKu7vc-As0",
        "outputId": "7eba1e54-df30-4a89-ef2b-f0a404af64e9"
      },
      "outputs": [
        {
          "data": {
            "image/png": "[encoded data removed]",
            "text/plain": [
              "<Figure size 720x432 with 1 Axes>"
            ]
          },
          "metadata": {
            "needs_background": "light"
          },
          "output_type": "display_data"
        }
      ],
      "source": [
        "# Переводим raised_amount в миллионы долларов для читаемости\n",
        "pivot_comapny_a_r['raised_amount_millions'] = pivot_comapny_a_r['raised_amount'] / 1e6\n",
        "\n",
        "# Вычисляем скользящую среднюю\n",
        "pivot_comapny_a_r['rolling_mean'] = pivot_comapny_a_r['raised_amount_millions'].rolling(window=2).mean()\n",
        "\n",
        "# Строим линейный график\n",
        "plt.figure(figsize=(10, 6))\n",
        "plt.plot(pivot_comapny_a_r['funded_year'], pivot_comapny_a_r['raised_amount_millions'], label='Типичный размер финансирования')\n",
        "plt.plot(pivot_comapny_a_r['funded_year'], pivot_comapny_a_r['rolling_mean'], label='Скользящая средняя (2 года)', linestyle='--')\n",
        "\n",
        "plt.xlabel('Год')\n",
        "plt.ylabel('Типичный размер финансирования (в млн долларов)')\n",
        "plt.title('Динамика размера финансирования по годам')\n",
        "plt.legend()\n",
        "plt.grid(True)\n",
        "plt.show()"
      ]
    },
    {
      "cell_type": "markdown",
      "metadata": {
        "id": "v8IebqE2-As1"
      },
      "source": [
        "- В 2005 году типичный размер собранных за один раунд был максимален\n",
        "- В 2013 году было число раундов и размер финансирования выросли по сравнению с прошлым годом"
      ]
    },
    {
      "cell_type": "markdown",
      "metadata": {
        "id": "45if1en1rJg2"
      },
      "source": [
        "\n",
        "### 2.2. Люди и их образование\n",
        "\n",
        "Заказчик хочет понять, зависит ли полнота сведений о сотрудниках (например, об их образовании) от размера компаний.\n",
        "\n",
        "* Оценим, насколько информация об образовании сотрудников полна. Используя датасеты `people.csv` и `education.csv`, разделим все компании на несколько групп по количеству сотрудников и оценим среднюю долю сотрудников без информации об образовании в каждой из групп.\n"
      ]
    },
    {
      "cell_type": "code",
      "execution_count": null,
      "metadata": {
        "id": "psPO7C4MrJg2",
        "outputId": "f41fa614-d5a5-4881-d924-b81104d1d3bf"
      },
      "outputs": [
        {
          "data": {
            "text/html": [
              "<div>\n",
              "<style scoped>\n",
              "    .dataframe tbody tr th:only-of-type {\n",
              "        vertical-align: middle;\n",
              "    }\n",
              "\n",
              "    .dataframe tbody tr th {\n",
              "        vertical-align: top;\n",
              "    }\n",
              "\n",
              "    .dataframe thead th {\n",
              "        text-align: right;\n",
              "    }\n",
              "</style>\n",
              "<table border=\"1\" class=\"dataframe\">\n",
              "  <thead>\n",
              "    <tr style=\"text-align: right;\">\n",
              "      <th></th>\n",
              "      <th>id_people</th>\n",
              "      <th>first_name</th>\n",
              "      <th>last_name</th>\n",
              "      <th>company_id</th>\n",
              "      <th>network_username</th>\n",
              "      <th>id_education</th>\n",
              "      <th>person_id</th>\n",
              "      <th>instituition</th>\n",
              "      <th>graduated_at</th>\n",
              "    </tr>\n",
              "  </thead>\n",
              "  <tbody>\n",
              "    <tr>\n",
              "      <th>0</th>\n",
              "      <td>10</td>\n",
              "      <td>Mark</td>\n",
              "      <td>Zuckerberg</td>\n",
              "      <td>5.00</td>\n",
              "      <td>NaN</td>\n",
              "      <td>2,415.00</td>\n",
              "      <td>10.00</td>\n",
              "      <td>Harvard University</td>\n",
              "      <td>NaT</td>\n",
              "    </tr>\n",
              "    <tr>\n",
              "      <th>1</th>\n",
              "      <td>100</td>\n",
              "      <td>Peter</td>\n",
              "      <td>Lester</td>\n",
              "      <td>27.00</td>\n",
              "      <td>NaN</td>\n",
              "      <td>NaN</td>\n",
              "      <td>NaN</td>\n",
              "      <td>NaN</td>\n",
              "      <td>NaT</td>\n",
              "    </tr>\n",
              "    <tr>\n",
              "      <th>2</th>\n",
              "      <td>1000</td>\n",
              "      <td>Dr. Steven</td>\n",
              "      <td>E. Saunders</td>\n",
              "      <td>292.00</td>\n",
              "      <td>NaN</td>\n",
              "      <td>NaN</td>\n",
              "      <td>NaN</td>\n",
              "      <td>NaN</td>\n",
              "      <td>NaT</td>\n",
              "    </tr>\n",
              "    <tr>\n",
              "      <th>3</th>\n",
              "      <td>10000</td>\n",
              "      <td>Neil</td>\n",
              "      <td>Capel</td>\n",
              "      <td>2,526.00</td>\n",
              "      <td>NaN</td>\n",
              "      <td>NaN</td>\n",
              "      <td>NaN</td>\n",
              "      <td>NaN</td>\n",
              "      <td>NaT</td>\n",
              "    </tr>\n",
              "    <tr>\n",
              "      <th>4</th>\n",
              "      <td>100000</td>\n",
              "      <td>Sue</td>\n",
              "      <td>Pilsch</td>\n",
              "      <td>NaN</td>\n",
              "      <td>NaN</td>\n",
              "      <td>NaN</td>\n",
              "      <td>NaN</td>\n",
              "      <td>NaN</td>\n",
              "      <td>NaT</td>\n",
              "    </tr>\n",
              "  </tbody>\n",
              "</table>\n",
              "</div>"
            ],
            "text/plain": [
              "   id_people  first_name    last_name  company_id network_username  \\\n",
              "0         10        Mark   Zuckerberg        5.00              NaN   \n",
              "1        100       Peter       Lester       27.00              NaN   \n",
              "2       1000  Dr. Steven  E. Saunders      292.00              NaN   \n",
              "3      10000        Neil        Capel    2,526.00              NaN   \n",
              "4     100000         Sue       Pilsch         NaN              NaN   \n",
              "\n",
              "   id_education  person_id        instituition graduated_at  \n",
              "0      2,415.00      10.00  Harvard University          NaT  \n",
              "1           NaN        NaN                 NaN          NaT  \n",
              "2           NaN        NaN                 NaN          NaT  \n",
              "3           NaN        NaN                 NaN          NaT  \n",
              "4           NaN        NaN                 NaN          NaT  "
            ]
          },
          "execution_count": 20,
          "metadata": {},
          "output_type": "execute_result"
        }
      ],
      "source": [
        "# Объединим таблицы 'df_people' и 'df_education'\n",
        "df_mer_ep = df_people.merge(df_education, left_on = 'id', right_on = 'person_id',  how = 'left', suffixes = ('_people','_education'))\n",
        "# Так как нам важно посчитать количесвто сотрудников с образованием, то людей с двумя и\n",
        "# более образованиями можно удалить из рассматриваемого датафрейма\n",
        "df_mer_ep = df_mer_ep.drop_duplicates(subset=['first_name', 'last_name', 'person_id', 'company_id'])\n",
        "df_mer_ep.head()"
      ]
    },
    {
      "cell_type": "code",
      "execution_count": null,
      "metadata": {
        "id": "xdQ6H5ZSn1ZM",
        "outputId": "b87e4f2f-4b76-4929-98d5-ec0ac96cebe5"
      },
      "outputs": [
        {
          "data": {
            "text/html": [
              "<div>\n",
              "<style scoped>\n",
              "    .dataframe tbody tr th:only-of-type {\n",
              "        vertical-align: middle;\n",
              "    }\n",
              "\n",
              "    .dataframe tbody tr th {\n",
              "        vertical-align: top;\n",
              "    }\n",
              "\n",
              "    .dataframe thead th {\n",
              "        text-align: right;\n",
              "    }\n",
              "</style>\n",
              "<table border=\"1\" class=\"dataframe\">\n",
              "  <thead>\n",
              "    <tr style=\"text-align: right;\">\n",
              "      <th></th>\n",
              "      <th>id_people</th>\n",
              "      <th>first_name</th>\n",
              "      <th>last_name</th>\n",
              "      <th>company_id</th>\n",
              "      <th>network_username</th>\n",
              "      <th>id_education</th>\n",
              "      <th>person_id</th>\n",
              "      <th>instituition</th>\n",
              "      <th>graduated_at</th>\n",
              "      <th>employee_count</th>\n",
              "    </tr>\n",
              "  </thead>\n",
              "  <tbody>\n",
              "    <tr>\n",
              "      <th>182830</th>\n",
              "      <td>57913</td>\n",
              "      <td>David</td>\n",
              "      <td>Krane</td>\n",
              "      <td>59.00</td>\n",
              "      <td>kraneland</td>\n",
              "      <td>69,501.00</td>\n",
              "      <td>57,913.00</td>\n",
              "      <td>Indiana University Bloomington</td>\n",
              "      <td>1994-01-01</td>\n",
              "      <td>244.00</td>\n",
              "    </tr>\n",
              "    <tr>\n",
              "      <th>187498</th>\n",
              "      <td>6297</td>\n",
              "      <td>Marissa</td>\n",
              "      <td>Mayer</td>\n",
              "      <td>59.00</td>\n",
              "      <td>marissamayer</td>\n",
              "      <td>718.00</td>\n",
              "      <td>6,297.00</td>\n",
              "      <td>Stanford University</td>\n",
              "      <td>1997-01-01</td>\n",
              "      <td>244.00</td>\n",
              "    </tr>\n",
              "    <tr>\n",
              "      <th>65392</th>\n",
              "      <td>179177</td>\n",
              "      <td>Nima</td>\n",
              "      <td>Rahnemoon</td>\n",
              "      <td>59.00</td>\n",
              "      <td>nimstr</td>\n",
              "      <td>NaN</td>\n",
              "      <td>NaN</td>\n",
              "      <td>NaN</td>\n",
              "      <td>NaT</td>\n",
              "      <td>244.00</td>\n",
              "    </tr>\n",
              "    <tr>\n",
              "      <th>65574</th>\n",
              "      <td>179353</td>\n",
              "      <td>Raj</td>\n",
              "      <td>Sarkar</td>\n",
              "      <td>59.00</td>\n",
              "      <td>NaN</td>\n",
              "      <td>NaN</td>\n",
              "      <td>NaN</td>\n",
              "      <td>NaN</td>\n",
              "      <td>NaT</td>\n",
              "      <td>244.00</td>\n",
              "    </tr>\n",
              "    <tr>\n",
              "      <th>189056</th>\n",
              "      <td>646</td>\n",
              "      <td>Aaron</td>\n",
              "      <td>Dunn</td>\n",
              "      <td>59.00</td>\n",
              "      <td>NaN</td>\n",
              "      <td>711.00</td>\n",
              "      <td>646.00</td>\n",
              "      <td>Skidmore College</td>\n",
              "      <td>2006-01-01</td>\n",
              "      <td>244.00</td>\n",
              "    </tr>\n",
              "    <tr>\n",
              "      <th>...</th>\n",
              "      <td>...</td>\n",
              "      <td>...</td>\n",
              "      <td>...</td>\n",
              "      <td>...</td>\n",
              "      <td>...</td>\n",
              "      <td>...</td>\n",
              "      <td>...</td>\n",
              "      <td>...</td>\n",
              "      <td>...</td>\n",
              "      <td>...</td>\n",
              "    </tr>\n",
              "    <tr>\n",
              "      <th>220078</th>\n",
              "      <td>99994</td>\n",
              "      <td>Kiran</td>\n",
              "      <td>Manda</td>\n",
              "      <td>NaN</td>\n",
              "      <td>NaN</td>\n",
              "      <td>102,502.00</td>\n",
              "      <td>99,994.00</td>\n",
              "      <td>University of Louisiana</td>\n",
              "      <td>NaT</td>\n",
              "      <td>NaN</td>\n",
              "    </tr>\n",
              "    <tr>\n",
              "      <th>220079</th>\n",
              "      <td>99995</td>\n",
              "      <td>Sue</td>\n",
              "      <td>Gench</td>\n",
              "      <td>NaN</td>\n",
              "      <td>NaN</td>\n",
              "      <td>NaN</td>\n",
              "      <td>NaN</td>\n",
              "      <td>NaN</td>\n",
              "      <td>NaT</td>\n",
              "      <td>NaN</td>\n",
              "    </tr>\n",
              "    <tr>\n",
              "      <th>220080</th>\n",
              "      <td>99996</td>\n",
              "      <td>Rick</td>\n",
              "      <td>Tamberrino</td>\n",
              "      <td>NaN</td>\n",
              "      <td>tamberrino</td>\n",
              "      <td>NaN</td>\n",
              "      <td>NaN</td>\n",
              "      <td>NaN</td>\n",
              "      <td>NaT</td>\n",
              "      <td>NaN</td>\n",
              "    </tr>\n",
              "    <tr>\n",
              "      <th>220082</th>\n",
              "      <td>99998</td>\n",
              "      <td>Adam</td>\n",
              "      <td>Neumann</td>\n",
              "      <td>NaN</td>\n",
              "      <td>NaN</td>\n",
              "      <td>NaN</td>\n",
              "      <td>NaN</td>\n",
              "      <td>NaN</td>\n",
              "      <td>NaT</td>\n",
              "      <td>NaN</td>\n",
              "    </tr>\n",
              "    <tr>\n",
              "      <th>220083</th>\n",
              "      <td>99999</td>\n",
              "      <td>Ramon</td>\n",
              "      <td>Peypoch</td>\n",
              "      <td>NaN</td>\n",
              "      <td>NaN</td>\n",
              "      <td>NaN</td>\n",
              "      <td>NaN</td>\n",
              "      <td>NaN</td>\n",
              "      <td>NaT</td>\n",
              "      <td>NaN</td>\n",
              "    </tr>\n",
              "  </tbody>\n",
              "</table>\n",
              "<p>220086 rows × 10 columns</p>\n",
              "</div>"
            ],
            "text/plain": [
              "        id_people first_name   last_name  company_id network_username  \\\n",
              "182830      57913      David       Krane       59.00        kraneland   \n",
              "187498       6297    Marissa       Mayer       59.00     marissamayer   \n",
              "65392      179177       Nima   Rahnemoon       59.00           nimstr   \n",
              "65574      179353        Raj      Sarkar       59.00              NaN   \n",
              "189056        646      Aaron        Dunn       59.00              NaN   \n",
              "...           ...        ...         ...         ...              ...   \n",
              "220078      99994      Kiran       Manda         NaN              NaN   \n",
              "220079      99995        Sue       Gench         NaN              NaN   \n",
              "220080      99996       Rick  Tamberrino         NaN       tamberrino   \n",
              "220082      99998       Adam     Neumann         NaN              NaN   \n",
              "220083      99999      Ramon     Peypoch         NaN              NaN   \n",
              "\n",
              "        id_education  person_id                    instituition graduated_at  \\\n",
              "182830     69,501.00  57,913.00  Indiana University Bloomington   1994-01-01   \n",
              "187498        718.00   6,297.00             Stanford University   1997-01-01   \n",
              "65392            NaN        NaN                             NaN          NaT   \n",
              "65574            NaN        NaN                             NaN          NaT   \n",
              "189056        711.00     646.00                Skidmore College   2006-01-01   \n",
              "...              ...        ...                             ...          ...   \n",
              "220078    102,502.00  99,994.00         University of Louisiana          NaT   \n",
              "220079           NaN        NaN                             NaN          NaT   \n",
              "220080           NaN        NaN                             NaN          NaT   \n",
              "220082           NaN        NaN                             NaN          NaT   \n",
              "220083           NaN        NaN                             NaN          NaT   \n",
              "\n",
              "        employee_count  \n",
              "182830          244.00  \n",
              "187498          244.00  \n",
              "65392           244.00  \n",
              "65574           244.00  \n",
              "189056          244.00  \n",
              "...                ...  \n",
              "220078             NaN  \n",
              "220079             NaN  \n",
              "220080             NaN  \n",
              "220082             NaN  \n",
              "220083             NaN  \n",
              "\n",
              "[220086 rows x 10 columns]"
            ]
          },
          "execution_count": 21,
          "metadata": {},
          "output_type": "execute_result"
        }
      ],
      "source": [
        "# Сгрупируем столбцы\n",
        "df_grouped_ep = df_mer_ep.groupby('company_id', as_index=False)['id_people'].count()\n",
        "df_grouped_ep.rename(columns={'id_people': 'employee_count'}, inplace=True)\n",
        "# Объединим таблицы\n",
        "df_mer_ep = df_mer_ep.merge(df_grouped_ep, on='company_id', how='left')\n",
        "# Сортируем значения по убыванию количества сотрудников в компании\n",
        "df_mer_ep.sort_values(by='employee_count', ascending=False)"
      ]
    },
    {
      "cell_type": "code",
      "execution_count": null,
      "metadata": {
        "id": "8cb-tnF--As3",
        "outputId": "f90b7b3d-7f5e-4cd1-9887-034d0e2fb955"
      },
      "outputs": [
        {
          "data": {
            "text/html": [
              "<div>\n",
              "<style scoped>\n",
              "    .dataframe tbody tr th:only-of-type {\n",
              "        vertical-align: middle;\n",
              "    }\n",
              "\n",
              "    .dataframe tbody tr th {\n",
              "        vertical-align: top;\n",
              "    }\n",
              "\n",
              "    .dataframe thead th {\n",
              "        text-align: right;\n",
              "    }\n",
              "</style>\n",
              "<table border=\"1\" class=\"dataframe\">\n",
              "  <thead>\n",
              "    <tr style=\"text-align: right;\">\n",
              "      <th></th>\n",
              "      <th>id_people</th>\n",
              "      <th>first_name</th>\n",
              "      <th>last_name</th>\n",
              "      <th>company_id</th>\n",
              "      <th>network_username</th>\n",
              "      <th>id_education</th>\n",
              "      <th>person_id</th>\n",
              "      <th>instituition</th>\n",
              "      <th>graduated_at</th>\n",
              "      <th>employee_count</th>\n",
              "      <th>df_group_ep</th>\n",
              "    </tr>\n",
              "  </thead>\n",
              "  <tbody>\n",
              "    <tr>\n",
              "      <th>0</th>\n",
              "      <td>10</td>\n",
              "      <td>Mark</td>\n",
              "      <td>Zuckerberg</td>\n",
              "      <td>5.00</td>\n",
              "      <td>NaN</td>\n",
              "      <td>2,415.00</td>\n",
              "      <td>10.00</td>\n",
              "      <td>Harvard University</td>\n",
              "      <td>NaT</td>\n",
              "      <td>61.00</td>\n",
              "      <td>25+</td>\n",
              "    </tr>\n",
              "    <tr>\n",
              "      <th>1</th>\n",
              "      <td>100</td>\n",
              "      <td>Peter</td>\n",
              "      <td>Lester</td>\n",
              "      <td>27.00</td>\n",
              "      <td>NaN</td>\n",
              "      <td>NaN</td>\n",
              "      <td>NaN</td>\n",
              "      <td>NaN</td>\n",
              "      <td>NaT</td>\n",
              "      <td>10.00</td>\n",
              "      <td>5-10</td>\n",
              "    </tr>\n",
              "    <tr>\n",
              "      <th>2</th>\n",
              "      <td>1000</td>\n",
              "      <td>Dr. Steven</td>\n",
              "      <td>E. Saunders</td>\n",
              "      <td>292.00</td>\n",
              "      <td>NaN</td>\n",
              "      <td>NaN</td>\n",
              "      <td>NaN</td>\n",
              "      <td>NaN</td>\n",
              "      <td>NaT</td>\n",
              "      <td>3.00</td>\n",
              "      <td>3</td>\n",
              "    </tr>\n",
              "    <tr>\n",
              "      <th>3</th>\n",
              "      <td>10000</td>\n",
              "      <td>Neil</td>\n",
              "      <td>Capel</td>\n",
              "      <td>2,526.00</td>\n",
              "      <td>NaN</td>\n",
              "      <td>NaN</td>\n",
              "      <td>NaN</td>\n",
              "      <td>NaN</td>\n",
              "      <td>NaT</td>\n",
              "      <td>2.00</td>\n",
              "      <td>2</td>\n",
              "    </tr>\n",
              "    <tr>\n",
              "      <th>4</th>\n",
              "      <td>100000</td>\n",
              "      <td>Sue</td>\n",
              "      <td>Pilsch</td>\n",
              "      <td>NaN</td>\n",
              "      <td>NaN</td>\n",
              "      <td>NaN</td>\n",
              "      <td>NaN</td>\n",
              "      <td>NaN</td>\n",
              "      <td>NaT</td>\n",
              "      <td>NaN</td>\n",
              "      <td>NaN</td>\n",
              "    </tr>\n",
              "  </tbody>\n",
              "</table>\n",
              "</div>"
            ],
            "text/plain": [
              "   id_people  first_name    last_name  company_id network_username  \\\n",
              "0         10        Mark   Zuckerberg        5.00              NaN   \n",
              "1        100       Peter       Lester       27.00              NaN   \n",
              "2       1000  Dr. Steven  E. Saunders      292.00              NaN   \n",
              "3      10000        Neil        Capel    2,526.00              NaN   \n",
              "4     100000         Sue       Pilsch         NaN              NaN   \n",
              "\n",
              "   id_education  person_id        instituition graduated_at  employee_count  \\\n",
              "0      2,415.00      10.00  Harvard University          NaT           61.00   \n",
              "1           NaN        NaN                 NaN          NaT           10.00   \n",
              "2           NaN        NaN                 NaN          NaT            3.00   \n",
              "3           NaN        NaN                 NaN          NaT            2.00   \n",
              "4           NaN        NaN                 NaN          NaT             NaN   \n",
              "\n",
              "  df_group_ep  \n",
              "0         25+  \n",
              "1        5-10  \n",
              "2           3  \n",
              "3           2  \n",
              "4         NaN  "
            ]
          },
          "execution_count": 22,
          "metadata": {},
          "output_type": "execute_result"
        }
      ],
      "source": [
        "# Разделяем компании на 6 групп по количеству сотрудников\n",
        "df_mer_ep['df_group_ep'] = pd.cut(df_mer_ep['employee_count'], bins = [0, 1, 2, 3, 5, 10, 23, float('inf')], labels = ['1', '2', '3', '3-5', '5-10', '11-23','25+'])\n",
        "df_mer_ep.head()"
      ]
    },
    {
      "cell_type": "code",
      "execution_count": null,
      "metadata": {
        "id": "HbQjONYg-As4",
        "outputId": "ee30130c-f445-4125-9346-1e2263ec2516"
      },
      "outputs": [
        {
          "data": {
            "image/png": "[encoded data removed]",
            "text/plain": [
              "<Figure size 432x288 with 1 Axes>"
            ]
          },
          "metadata": {
            "needs_background": "light"
          },
          "output_type": "display_data"
        }
      ],
      "source": [
        "# Посторим график для отображения распределения сотрудников\n",
        "sns.countplot(x='df_group_ep', data=df_mer_ep)\n",
        "\n",
        "# Добавление подписей и заголовка\n",
        "plt.xlabel('Категория')\n",
        "plt.ylabel('Количество')\n",
        "plt.title('Количество компаний по количеству сотрудников')\n",
        "\n",
        "plt.show()"
      ]
    },
    {
      "cell_type": "code",
      "execution_count": null,
      "metadata": {
        "id": "yu5YI57w-As4",
        "outputId": "13877df1-b466-42d6-c0e8-5d9d05cefbc9"
      },
      "outputs": [
        {
          "data": {
            "text/html": [
              "<div>\n",
              "<style scoped>\n",
              "    .dataframe tbody tr th:only-of-type {\n",
              "        vertical-align: middle;\n",
              "    }\n",
              "\n",
              "    .dataframe tbody tr th {\n",
              "        vertical-align: top;\n",
              "    }\n",
              "\n",
              "    .dataframe thead th {\n",
              "        text-align: right;\n",
              "    }\n",
              "</style>\n",
              "<table border=\"1\" class=\"dataframe\">\n",
              "  <thead>\n",
              "    <tr style=\"text-align: right;\">\n",
              "      <th></th>\n",
              "      <th>id_people</th>\n",
              "      <th>first_name</th>\n",
              "      <th>last_name</th>\n",
              "      <th>company_id</th>\n",
              "      <th>network_username</th>\n",
              "      <th>id_education</th>\n",
              "      <th>person_id</th>\n",
              "      <th>instituition</th>\n",
              "      <th>graduated_at</th>\n",
              "      <th>employee_count</th>\n",
              "      <th>df_group_ep</th>\n",
              "    </tr>\n",
              "  </thead>\n",
              "  <tbody>\n",
              "    <tr>\n",
              "      <th>1</th>\n",
              "      <td>100</td>\n",
              "      <td>Peter</td>\n",
              "      <td>Lester</td>\n",
              "      <td>27.00</td>\n",
              "      <td>NaN</td>\n",
              "      <td>NaN</td>\n",
              "      <td>NaN</td>\n",
              "      <td>NaN</td>\n",
              "      <td>NaT</td>\n",
              "      <td>10.00</td>\n",
              "      <td>5-10</td>\n",
              "    </tr>\n",
              "    <tr>\n",
              "      <th>2</th>\n",
              "      <td>1000</td>\n",
              "      <td>Dr. Steven</td>\n",
              "      <td>E. Saunders</td>\n",
              "      <td>292.00</td>\n",
              "      <td>NaN</td>\n",
              "      <td>NaN</td>\n",
              "      <td>NaN</td>\n",
              "      <td>NaN</td>\n",
              "      <td>NaT</td>\n",
              "      <td>3.00</td>\n",
              "      <td>3</td>\n",
              "    </tr>\n",
              "    <tr>\n",
              "      <th>3</th>\n",
              "      <td>10000</td>\n",
              "      <td>Neil</td>\n",
              "      <td>Capel</td>\n",
              "      <td>2,526.00</td>\n",
              "      <td>NaN</td>\n",
              "      <td>NaN</td>\n",
              "      <td>NaN</td>\n",
              "      <td>NaN</td>\n",
              "      <td>NaT</td>\n",
              "      <td>2.00</td>\n",
              "      <td>2</td>\n",
              "    </tr>\n",
              "    <tr>\n",
              "      <th>4</th>\n",
              "      <td>100000</td>\n",
              "      <td>Sue</td>\n",
              "      <td>Pilsch</td>\n",
              "      <td>NaN</td>\n",
              "      <td>NaN</td>\n",
              "      <td>NaN</td>\n",
              "      <td>NaN</td>\n",
              "      <td>NaN</td>\n",
              "      <td>NaT</td>\n",
              "      <td>NaN</td>\n",
              "      <td>NaN</td>\n",
              "    </tr>\n",
              "    <tr>\n",
              "      <th>5</th>\n",
              "      <td>100002</td>\n",
              "      <td>Keith</td>\n",
              "      <td>Kurzendoerfer</td>\n",
              "      <td>NaN</td>\n",
              "      <td>NaN</td>\n",
              "      <td>NaN</td>\n",
              "      <td>NaN</td>\n",
              "      <td>NaN</td>\n",
              "      <td>NaT</td>\n",
              "      <td>NaN</td>\n",
              "      <td>NaN</td>\n",
              "    </tr>\n",
              "  </tbody>\n",
              "</table>\n",
              "</div>"
            ],
            "text/plain": [
              "   id_people  first_name      last_name  company_id network_username  \\\n",
              "1        100       Peter         Lester       27.00              NaN   \n",
              "2       1000  Dr. Steven    E. Saunders      292.00              NaN   \n",
              "3      10000        Neil          Capel    2,526.00              NaN   \n",
              "4     100000         Sue         Pilsch         NaN              NaN   \n",
              "5     100002       Keith  Kurzendoerfer         NaN              NaN   \n",
              "\n",
              "   id_education  person_id instituition graduated_at  employee_count  \\\n",
              "1           NaN        NaN          NaN          NaT           10.00   \n",
              "2           NaN        NaN          NaN          NaT            3.00   \n",
              "3           NaN        NaN          NaN          NaT            2.00   \n",
              "4           NaN        NaN          NaN          NaT             NaN   \n",
              "5           NaN        NaN          NaN          NaT             NaN   \n",
              "\n",
              "  df_group_ep  \n",
              "1        5-10  \n",
              "2           3  \n",
              "3           2  \n",
              "4         NaN  \n",
              "5         NaN  "
            ]
          },
          "execution_count": 24,
          "metadata": {},
          "output_type": "execute_result"
        }
      ],
      "source": [
        "# Фильтруем сотрудников, у которых нет информации об образовании\n",
        "df_group_ep_e = df_mer_ep[df_mer_ep['id_education'].isna()]\n",
        "df_group_ep_e.head()"
      ]
    },
    {
      "cell_type": "code",
      "execution_count": null,
      "metadata": {
        "id": "WCv4VdxP-As5",
        "outputId": "3c34ee1e-542d-421e-d8f8-9ddee79aef3e"
      },
      "outputs": [
        {
          "data": {
            "text/plain": [
              "df_group_ep\n",
              "1        8384\n",
              "2        2519\n",
              "3        1345\n",
              "3-5      1488\n",
              "5-10     1422\n",
              "11-23     632\n",
              "25+       356\n",
              "Name: id_people, dtype: int64"
            ]
          },
          "execution_count": 25,
          "metadata": {},
          "output_type": "execute_result"
        }
      ],
      "source": [
        "# Группируем по категориям компаний и считаем количество сотрудников без образования для каждой группы.\n",
        "df_group_ep_enn = df_group_ep_e.groupby('df_group_ep')['id_people'].count()\n",
        "df_group_ep_enn"
      ]
    },
    {
      "cell_type": "code",
      "execution_count": null,
      "metadata": {
        "id": "u2-0FI_f-As5",
        "outputId": "31789a2c-d86f-46f1-ebdc-00f7a3586d9c"
      },
      "outputs": [
        {
          "data": {
            "text/plain": [
              "df_group_ep\n",
              "1        18120\n",
              "2         5412\n",
              "3         2763\n",
              "3-5       2983\n",
              "5-10      2664\n",
              "11-23     1375\n",
              "25+       1293\n",
              "Name: id_people, dtype: int64"
            ]
          },
          "execution_count": 26,
          "metadata": {},
          "output_type": "execute_result"
        }
      ],
      "source": [
        "# Группируем данные по категориям компаний и считаем общее количество сотрудников в каждой группе.\n",
        "df_group_ep_we = df_mer_ep.groupby('df_group_ep')['id_people'].count()\n",
        "df_group_ep_we"
      ]
    },
    {
      "cell_type": "code",
      "execution_count": null,
      "metadata": {
        "id": "4-yLENPl-As6",
        "outputId": "f5113916-a067-47ed-d4f4-4d4d1b0dc1a5"
      },
      "outputs": [
        {
          "data": {
            "text/plain": [
              "df_group_ep\n",
              "1       46.27\n",
              "2       46.54\n",
              "3       48.68\n",
              "3-5     49.88\n",
              "5-10    53.38\n",
              "11-23   45.96\n",
              "25+     27.53\n",
              "Name: id_people, dtype: float64"
            ]
          },
          "execution_count": 27,
          "metadata": {},
          "output_type": "execute_result"
        }
      ],
      "source": [
        "#Рассчитываем долю сотрудников без образования в каждой группе\n",
        "df_group_ep_enn/df_group_ep_we*100"
      ]
    },
    {
      "cell_type": "markdown",
      "metadata": {
        "id": "gUZbErxR-As6"
      },
      "source": [
        "- Все сотрудники были разделены на 6 групп, границы групп брались таким образом, чтобы у каждой было примерно равное количество сотрудников, но из-за достаточно большого количества сотрудников(1) получилось, что в первой группе значение намного превосходит остальные.\n",
        "- Тем не менее в каждой из групп, получилось примерно равный процент сотрудников без информации об образовании - около 50%"
      ]
    },
    {
      "cell_type": "markdown",
      "metadata": {
        "id": "L0xO5csm-As7"
      },
      "source": [
        "Также к этим данным присоединить таблицу degrees.csv для более подробно анализа информации об образовании, если бы это было необходимо. Можно было бы присоединить по столбцу `object_id`, предварительно его обработав, убрав буквы в id сотрудника"
      ]
    },
    {
      "cell_type": "markdown",
      "metadata": {
        "id": "ogDYiodx-As7"
      },
      "source": [
        "### 2.3. Объединять или не объединять — вот в чём вопрос\n",
        "\n",
        "* Установим, подходит ли для объединения данных столбец `network_username`, который встречается в нескольких датасетах. Нам необходимо понимать, дублируется ли для разных датасетов информация в столбцах с таким названием, и если да — то насколько часто.\n",
        "\n",
        "* Оценим, можно ли использовать столбцы с именем `network_username` для объединения данных."
      ]
    },
    {
      "cell_type": "code",
      "execution_count": null,
      "metadata": {
        "id": "Cf5IjfOQrJg1"
      },
      "outputs": [],
      "source": [
        "# Загрузим датасет 'df_fund'\n",
        "df_fund = pd.read_csv('https://code.s3.yandex.net/datasets/fund.csv')"
      ]
    },
    {
      "cell_type": "code",
      "execution_count": null,
      "metadata": {
        "id": "cMhxBcZP-As8"
      },
      "outputs": [],
      "source": [
        "# Удалим дубликаты в датасетах\n",
        "df_fund_dup = df_fund.drop_duplicates(subset='network_username')\n",
        "df_people_dup = df_people.drop_duplicates(subset='network_username')\n",
        "df_comapny_a_roads_dup = df_comapny_a_roads.drop_duplicates(subset='network_username')"
      ]
    },
    {
      "cell_type": "code",
      "execution_count": null,
      "metadata": {
        "id": "CilOkz-inz37",
        "outputId": "29fa7756-0ec0-4315-bb4f-9689069bb324"
      },
      "outputs": [
        {
          "data": {
            "text/html": [
              "<div>\n",
              "<style scoped>\n",
              "    .dataframe tbody tr th:only-of-type {\n",
              "        vertical-align: middle;\n",
              "    }\n",
              "\n",
              "    .dataframe tbody tr th {\n",
              "        vertical-align: top;\n",
              "    }\n",
              "\n",
              "    .dataframe thead th {\n",
              "        text-align: right;\n",
              "    }\n",
              "</style>\n",
              "<table border=\"1\" class=\"dataframe\">\n",
              "  <thead>\n",
              "    <tr style=\"text-align: right;\">\n",
              "      <th></th>\n",
              "      <th>id_x</th>\n",
              "      <th>name_x</th>\n",
              "      <th>founded_at_x</th>\n",
              "      <th>domain_x</th>\n",
              "      <th>network_username</th>\n",
              "      <th>country_code_x</th>\n",
              "      <th>investment_rounds_x</th>\n",
              "      <th>invested_companies</th>\n",
              "      <th>milestones_x</th>\n",
              "      <th>id_y</th>\n",
              "      <th>...</th>\n",
              "      <th>funding_round_id</th>\n",
              "      <th>company_id_y</th>\n",
              "      <th>funded_at</th>\n",
              "      <th>funding_round_type</th>\n",
              "      <th>raised_amount</th>\n",
              "      <th>pre_money_valuation</th>\n",
              "      <th>participants</th>\n",
              "      <th>is_first_round</th>\n",
              "      <th>is_last_round</th>\n",
              "      <th>funded_year</th>\n",
              "    </tr>\n",
              "  </thead>\n",
              "  <tbody>\n",
              "    <tr>\n",
              "      <th>0</th>\n",
              "      <td>13,131.00</td>\n",
              "      <td>NaN</td>\n",
              "      <td>NaN</td>\n",
              "      <td>NaN</td>\n",
              "      <td>NaN</td>\n",
              "      <td>NaN</td>\n",
              "      <td>0.00</td>\n",
              "      <td>0.00</td>\n",
              "      <td>0.00</td>\n",
              "      <td>10.00</td>\n",
              "      <td>...</td>\n",
              "      <td>NaN</td>\n",
              "      <td>NaN</td>\n",
              "      <td>NaT</td>\n",
              "      <td>NaN</td>\n",
              "      <td>NaN</td>\n",
              "      <td>NaN</td>\n",
              "      <td>NaN</td>\n",
              "      <td>NaN</td>\n",
              "      <td>NaN</td>\n",
              "      <td>&lt;NA&gt;</td>\n",
              "    </tr>\n",
              "    <tr>\n",
              "      <th>1</th>\n",
              "      <td>1.00</td>\n",
              "      <td>Greylock Partners</td>\n",
              "      <td>1965-01-01</td>\n",
              "      <td>greylock.com</td>\n",
              "      <td>greylockvc</td>\n",
              "      <td>USA</td>\n",
              "      <td>307.00</td>\n",
              "      <td>196.00</td>\n",
              "      <td>0.00</td>\n",
              "      <td>NaN</td>\n",
              "      <td>...</td>\n",
              "      <td>NaN</td>\n",
              "      <td>NaN</td>\n",
              "      <td>NaT</td>\n",
              "      <td>NaN</td>\n",
              "      <td>NaN</td>\n",
              "      <td>NaN</td>\n",
              "      <td>NaN</td>\n",
              "      <td>NaN</td>\n",
              "      <td>NaN</td>\n",
              "      <td>&lt;NA&gt;</td>\n",
              "    </tr>\n",
              "    <tr>\n",
              "      <th>2</th>\n",
              "      <td>10,015.00</td>\n",
              "      <td>IMI.VC</td>\n",
              "      <td>2011-07-31</td>\n",
              "      <td>imi.vc</td>\n",
              "      <td>imi_vc</td>\n",
              "      <td>RUS</td>\n",
              "      <td>2.00</td>\n",
              "      <td>2.00</td>\n",
              "      <td>4.00</td>\n",
              "      <td>NaN</td>\n",
              "      <td>...</td>\n",
              "      <td>NaN</td>\n",
              "      <td>NaN</td>\n",
              "      <td>NaT</td>\n",
              "      <td>NaN</td>\n",
              "      <td>NaN</td>\n",
              "      <td>NaN</td>\n",
              "      <td>NaN</td>\n",
              "      <td>NaN</td>\n",
              "      <td>NaN</td>\n",
              "      <td>&lt;NA&gt;</td>\n",
              "    </tr>\n",
              "    <tr>\n",
              "      <th>3</th>\n",
              "      <td>1,002.00</td>\n",
              "      <td>Alven Capital</td>\n",
              "      <td>2000-01-01</td>\n",
              "      <td>alvencapital.com</td>\n",
              "      <td>alvencap</td>\n",
              "      <td>FRA</td>\n",
              "      <td>43.00</td>\n",
              "      <td>36.00</td>\n",
              "      <td>1.00</td>\n",
              "      <td>NaN</td>\n",
              "      <td>...</td>\n",
              "      <td>NaN</td>\n",
              "      <td>NaN</td>\n",
              "      <td>NaT</td>\n",
              "      <td>NaN</td>\n",
              "      <td>NaN</td>\n",
              "      <td>NaN</td>\n",
              "      <td>NaN</td>\n",
              "      <td>NaN</td>\n",
              "      <td>NaN</td>\n",
              "      <td>&lt;NA&gt;</td>\n",
              "    </tr>\n",
              "    <tr>\n",
              "      <th>4</th>\n",
              "      <td>10,020.00</td>\n",
              "      <td>East Valley Ventures</td>\n",
              "      <td>2011-01-01</td>\n",
              "      <td>eastvalleyventures.com</td>\n",
              "      <td>EastValleyVent</td>\n",
              "      <td>CAN</td>\n",
              "      <td>2.00</td>\n",
              "      <td>2.00</td>\n",
              "      <td>0.00</td>\n",
              "      <td>NaN</td>\n",
              "      <td>...</td>\n",
              "      <td>NaN</td>\n",
              "      <td>NaN</td>\n",
              "      <td>NaT</td>\n",
              "      <td>NaN</td>\n",
              "      <td>NaN</td>\n",
              "      <td>NaN</td>\n",
              "      <td>NaN</td>\n",
              "      <td>NaN</td>\n",
              "      <td>NaN</td>\n",
              "      <td>&lt;NA&gt;</td>\n",
              "    </tr>\n",
              "  </tbody>\n",
              "</table>\n",
              "<p>5 rows × 35 columns</p>\n",
              "</div>"
            ],
            "text/plain": [
              "       id_x                name_x founded_at_x                domain_x  \\\n",
              "0 13,131.00                   NaN          NaN                     NaN   \n",
              "1      1.00     Greylock Partners   1965-01-01            greylock.com   \n",
              "2 10,015.00                IMI.VC   2011-07-31                  imi.vc   \n",
              "3  1,002.00         Alven Capital   2000-01-01        alvencapital.com   \n",
              "4 10,020.00  East Valley Ventures   2011-01-01  eastvalleyventures.com   \n",
              "\n",
              "  network_username country_code_x  investment_rounds_x  invested_companies  \\\n",
              "0              NaN            NaN                 0.00                0.00   \n",
              "1       greylockvc            USA               307.00              196.00   \n",
              "2           imi_vc            RUS                 2.00                2.00   \n",
              "3         alvencap            FRA                43.00               36.00   \n",
              "4   EastValleyVent            CAN                 2.00                2.00   \n",
              "\n",
              "   milestones_x  id_y  ... funding_round_id company_id_y  funded_at  \\\n",
              "0          0.00 10.00  ...              NaN          NaN        NaT   \n",
              "1          0.00   NaN  ...              NaN          NaN        NaT   \n",
              "2          4.00   NaN  ...              NaN          NaN        NaT   \n",
              "3          1.00   NaN  ...              NaN          NaN        NaT   \n",
              "4          0.00   NaN  ...              NaN          NaN        NaT   \n",
              "\n",
              "   funding_round_type raised_amount pre_money_valuation participants  \\\n",
              "0                 NaN           NaN                 NaN          NaN   \n",
              "1                 NaN           NaN                 NaN          NaN   \n",
              "2                 NaN           NaN                 NaN          NaN   \n",
              "3                 NaN           NaN                 NaN          NaN   \n",
              "4                 NaN           NaN                 NaN          NaN   \n",
              "\n",
              "  is_first_round is_last_round funded_year  \n",
              "0            NaN           NaN        <NA>  \n",
              "1            NaN           NaN        <NA>  \n",
              "2            NaN           NaN        <NA>  \n",
              "3            NaN           NaN        <NA>  \n",
              "4            NaN           NaN        <NA>  \n",
              "\n",
              "[5 rows x 35 columns]"
            ]
          },
          "execution_count": 30,
          "metadata": {},
          "output_type": "execute_result"
        }
      ],
      "source": [
        "# Объединим необходимые таблицы\n",
        "df_comb1 = pd.merge(df_fund_dup, df_people_dup, on = 'network_username', how = 'outer')\n",
        "df_comb2 = pd.merge(df_comb1, df_comapny_a_roads_dup, on = 'network_username', how = 'outer')\n",
        "df_comb2.head()"
      ]
    },
    {
      "cell_type": "code",
      "execution_count": null,
      "metadata": {
        "id": "5t7J7Tjb-As8",
        "outputId": "fb04f479-9207-414a-914a-5862abecd9b0"
      },
      "outputs": [
        {
          "name": "stdout",
          "output_type": "stream",
          "text": [
            "Количество дубликатов в итоговом датафрейме:  0\n"
          ]
        }
      ],
      "source": [
        "# Считаем количество дубликатов в итоговой таблице\n",
        "df_comb2_dupl_count = df_comb2.duplicated().sum()\n",
        "print(\"Количество дубликатов в итоговом датафрейме: \", df_comb2_dupl_count)"
      ]
    },
    {
      "cell_type": "code",
      "execution_count": null,
      "metadata": {
        "id": "sfPIYBn1-As9"
      },
      "outputs": [],
      "source": [
        "# Извлекаем уникальные network_username из каждой таблицы\n",
        "people_users = set(df_people['network_username'].dropna().unique())\n",
        "company_users = set(df_comapny_a_roads['network_username'].dropna().unique())\n",
        "fund_users = set(df_fund['network_username'].dropna().unique())"
      ]
    },
    {
      "cell_type": "code",
      "execution_count": null,
      "metadata": {
        "id": "Bi0SlLoo-As9",
        "outputId": "a9096ba2-e199-405c-eb64-0f32c83749a4"
      },
      "outputs": [
        {
          "data": {
            "image/png": "[encoded data removed]",
            "text/plain": [
              "<Figure size 432x288 with 1 Axes>"
            ]
          },
          "metadata": {},
          "output_type": "display_data"
        },
        {
          "data": {
            "image/png": "[encoded data removed]",
            "text/plain": [
              "<Figure size 432x288 with 1 Axes>"
            ]
          },
          "metadata": {},
          "output_type": "display_data"
        },
        {
          "data": {
            "image/png": "[encoded data removed]",
            "text/plain": [
              "<Figure size 432x288 with 1 Axes>"
            ]
          },
          "metadata": {},
          "output_type": "display_data"
        },
        {
          "data": {
            "image/png": "[encoded data removed]",
            "text/plain": [
              "<Figure size 432x288 with 1 Axes>"
            ]
          },
          "metadata": {},
          "output_type": "display_data"
        }
      ],
      "source": [
        "# people_df и company_rounds\n",
        "venn2([people_users, company_users], set_labels=('People Users', 'Company Users'))\n",
        "plt.title(\"Пересечение network_username People и Company\")\n",
        "plt.show()\n",
        "\n",
        "# people_df и fund\n",
        "venn2([people_users, fund_users], set_labels=('People Users', 'Fund Users'))\n",
        "plt.title(\"Пересечение network_username People и Fund\")\n",
        "plt.show()\n",
        "\n",
        "# company_rounds и fund\n",
        "venn2([company_users, fund_users], set_labels=('Company Users', 'Fund Users'))\n",
        "plt.title(\"Пересечение network_username Company и Fund\")\n",
        "plt.show()\n",
        "\n",
        "# Сравнение всех трёх таблиц\n",
        "venn3([people_users, company_users, fund_users], set_labels=('People Users', 'Company Users', 'Fund Users'))\n",
        "plt.title(\"Пересечение network_username People, Company и Fund\")\n",
        "plt.show()"
      ]
    },
    {
      "cell_type": "markdown",
      "metadata": {
        "id": "nDIA9ylN-As-"
      },
      "source": [
        "- После того как были объединены необходимые таблицы количество дубликатов стало равно 0, из этого можно сделать вывод, что информация по данному столбцу `network_username` для разных таблиц не дублируется.\n",
        "- Благодаря диаграммам становится видно, что пересечений 'user_name' между таблицами `df_comapny_a_roads` и `df_people`всего 2199, что относительно общего числа обеих таблиц достаточно мало. Между оставшимся таблицами пересечения также очень малые.\n",
        "- А значит, данный столбец нежелательно использовать для объединения данных."
      ]
    },
    {
      "cell_type": "markdown",
      "metadata": {
        "id": "EHcODomVrJg1"
      },
      "source": [
        "\n",
        "### 2.4. Проблемный датасет и причина возникновения пропусков\n",
        "\n",
        "* На данном этапе поработаем с таблицей 'df_comapny_a_roads', максимальным образом сохраняя данные, подготовим данные так, чтобы удобно было отобрать компании по параметрам и рассчитать показатели из расчёта на одну компанию."
      ]
    },
    {
      "cell_type": "code",
      "execution_count": null,
      "metadata": {
        "id": "g6pXy4ee-As_"
      },
      "outputs": [],
      "source": [
        "# Таблица компаний\n",
        "df_companies = df_comapny_a_roads[[\n",
        "    'company_ID', 'name', 'category_code', 'status', 'founded_at', 'closed_at',\n",
        "    'domain', 'network_username', 'country_code', 'investment_rounds',\n",
        "    'funding_rounds', 'funding_total', 'milestones'\n",
        "]].reset_index(drop=True)\n",
        "\n",
        "# Таблица раундов\n",
        "df_rounds = df_comapny_a_roads[[\n",
        "    'funding_round_id', 'company_id', 'funded_at', 'funding_round_type',\n",
        "    'raised_amount', 'pre_money_valuation', 'participants', 'is_first_round',\n",
        "    'is_last_round'\n",
        "]].reset_index(drop=True)"
      ]
    },
    {
      "cell_type": "code",
      "execution_count": null,
      "metadata": {
        "id": "d6-Xrsn1-As_"
      },
      "outputs": [],
      "source": [
        "# Удаление дубликатов в таблице компаний\n",
        "df_companies = df_companies.drop_duplicates(subset=['company_ID']).reset_index(drop=True)\n",
        "df_rounds = df_rounds.drop_duplicates(subset=['company_id']).reset_index(drop=True)"
      ]
    },
    {
      "cell_type": "code",
      "execution_count": null,
      "metadata": {
        "id": "B1mWIs7--AtA",
        "outputId": "1e20c183-a23b-49d8-ed11-4200bf982798"
      },
      "outputs": [
        {
          "data": {
            "text/html": [
              "<div>\n",
              "<style scoped>\n",
              "    .dataframe tbody tr th:only-of-type {\n",
              "        vertical-align: middle;\n",
              "    }\n",
              "\n",
              "    .dataframe tbody tr th {\n",
              "        vertical-align: top;\n",
              "    }\n",
              "\n",
              "    .dataframe thead th {\n",
              "        text-align: right;\n",
              "    }\n",
              "</style>\n",
              "<table border=\"1\" class=\"dataframe\">\n",
              "  <thead>\n",
              "    <tr style=\"text-align: right;\">\n",
              "      <th></th>\n",
              "      <th>company_ID</th>\n",
              "      <th>name</th>\n",
              "      <th>category_code</th>\n",
              "      <th>status</th>\n",
              "      <th>founded_at</th>\n",
              "      <th>closed_at</th>\n",
              "      <th>domain</th>\n",
              "      <th>network_username</th>\n",
              "      <th>country_code</th>\n",
              "      <th>investment_rounds</th>\n",
              "      <th>funding_rounds</th>\n",
              "      <th>funding_total</th>\n",
              "      <th>milestones</th>\n",
              "    </tr>\n",
              "  </thead>\n",
              "  <tbody>\n",
              "    <tr>\n",
              "      <th>0</th>\n",
              "      <td>1.00</td>\n",
              "      <td>Wetpaint</td>\n",
              "      <td>web</td>\n",
              "      <td>operating</td>\n",
              "      <td>2005-10-17</td>\n",
              "      <td>NaT</td>\n",
              "      <td>wetpaint-inc.com</td>\n",
              "      <td>BachelrWetpaint</td>\n",
              "      <td>USA</td>\n",
              "      <td>0.00</td>\n",
              "      <td>3.00</td>\n",
              "      <td>39,750,000.00</td>\n",
              "      <td>5.00</td>\n",
              "    </tr>\n",
              "    <tr>\n",
              "      <th>1</th>\n",
              "      <td>10.00</td>\n",
              "      <td>Flektor</td>\n",
              "      <td>games_video</td>\n",
              "      <td>acquired</td>\n",
              "      <td>NaT</td>\n",
              "      <td>NaT</td>\n",
              "      <td>flektor.com</td>\n",
              "      <td>NaN</td>\n",
              "      <td>USA</td>\n",
              "      <td>0.00</td>\n",
              "      <td>0.00</td>\n",
              "      <td>0.00</td>\n",
              "      <td>0.00</td>\n",
              "    </tr>\n",
              "    <tr>\n",
              "      <th>2</th>\n",
              "      <td>100.00</td>\n",
              "      <td>There</td>\n",
              "      <td>games_video</td>\n",
              "      <td>acquired</td>\n",
              "      <td>NaT</td>\n",
              "      <td>NaT</td>\n",
              "      <td>there.com</td>\n",
              "      <td>NaN</td>\n",
              "      <td>USA</td>\n",
              "      <td>0.00</td>\n",
              "      <td>0.00</td>\n",
              "      <td>0.00</td>\n",
              "      <td>4.00</td>\n",
              "    </tr>\n",
              "    <tr>\n",
              "      <th>3</th>\n",
              "      <td>10,000.00</td>\n",
              "      <td>MYWEBBO</td>\n",
              "      <td>network_hosting</td>\n",
              "      <td>operating</td>\n",
              "      <td>2008-07-26</td>\n",
              "      <td>NaT</td>\n",
              "      <td>mywebbo.com</td>\n",
              "      <td>NaN</td>\n",
              "      <td>NaN</td>\n",
              "      <td>0.00</td>\n",
              "      <td>0.00</td>\n",
              "      <td>0.00</td>\n",
              "      <td>0.00</td>\n",
              "    </tr>\n",
              "    <tr>\n",
              "      <th>4</th>\n",
              "      <td>10,001.00</td>\n",
              "      <td>THE Movie Streamer</td>\n",
              "      <td>games_video</td>\n",
              "      <td>operating</td>\n",
              "      <td>2008-07-26</td>\n",
              "      <td>NaT</td>\n",
              "      <td>themoviestreamer.com</td>\n",
              "      <td>NaN</td>\n",
              "      <td>NaN</td>\n",
              "      <td>0.00</td>\n",
              "      <td>0.00</td>\n",
              "      <td>0.00</td>\n",
              "      <td>0.00</td>\n",
              "    </tr>\n",
              "    <tr>\n",
              "      <th>...</th>\n",
              "      <td>...</td>\n",
              "      <td>...</td>\n",
              "      <td>...</td>\n",
              "      <td>...</td>\n",
              "      <td>...</td>\n",
              "      <td>...</td>\n",
              "      <td>...</td>\n",
              "      <td>...</td>\n",
              "      <td>...</td>\n",
              "      <td>...</td>\n",
              "      <td>...</td>\n",
              "      <td>...</td>\n",
              "      <td>...</td>\n",
              "    </tr>\n",
              "    <tr>\n",
              "      <th>196549</th>\n",
              "      <td>3,429.00</td>\n",
              "      <td>Zend Technologies</td>\n",
              "      <td>software</td>\n",
              "      <td>operating</td>\n",
              "      <td>1999-01-01</td>\n",
              "      <td>NaT</td>\n",
              "      <td>zend.com</td>\n",
              "      <td>networkzend</td>\n",
              "      <td>USA</td>\n",
              "      <td>0.00</td>\n",
              "      <td>4.00</td>\n",
              "      <td>44,000,000.00</td>\n",
              "      <td>6.00</td>\n",
              "    </tr>\n",
              "    <tr>\n",
              "      <th>196550</th>\n",
              "      <td>7,748.00</td>\n",
              "      <td>Flowgram</td>\n",
              "      <td>web</td>\n",
              "      <td>closed</td>\n",
              "      <td>2007-06-01</td>\n",
              "      <td>2008-06-11</td>\n",
              "      <td>flowgram.com</td>\n",
              "      <td>network</td>\n",
              "      <td>USA</td>\n",
              "      <td>0.00</td>\n",
              "      <td>1.00</td>\n",
              "      <td>1,300,000.00</td>\n",
              "      <td>3.00</td>\n",
              "    </tr>\n",
              "    <tr>\n",
              "      <th>196551</th>\n",
              "      <td>174,536.00</td>\n",
              "      <td>Pphotonet</td>\n",
              "      <td>games_video</td>\n",
              "      <td>operating</td>\n",
              "      <td>2012-05-01</td>\n",
              "      <td>NaT</td>\n",
              "      <td>pPhotonet.co</td>\n",
              "      <td>pPhotonet</td>\n",
              "      <td>NaN</td>\n",
              "      <td>0.00</td>\n",
              "      <td>0.00</td>\n",
              "      <td>0.00</td>\n",
              "      <td>0.00</td>\n",
              "    </tr>\n",
              "    <tr>\n",
              "      <th>196552</th>\n",
              "      <td>43,233.00</td>\n",
              "      <td>Photonet</td>\n",
              "      <td>photo_video</td>\n",
              "      <td>acquired</td>\n",
              "      <td>2010-03-01</td>\n",
              "      <td>NaT</td>\n",
              "      <td>Photonet.com</td>\n",
              "      <td>Photonet</td>\n",
              "      <td>USA</td>\n",
              "      <td>0.00</td>\n",
              "      <td>3.00</td>\n",
              "      <td>57,500,000.00</td>\n",
              "      <td>3.00</td>\n",
              "    </tr>\n",
              "    <tr>\n",
              "      <th>196553</th>\n",
              "      <td>NaN</td>\n",
              "      <td>NaN</td>\n",
              "      <td>NaN</td>\n",
              "      <td>NaN</td>\n",
              "      <td>NaT</td>\n",
              "      <td>NaT</td>\n",
              "      <td>NaN</td>\n",
              "      <td>NaN</td>\n",
              "      <td>NaN</td>\n",
              "      <td>NaN</td>\n",
              "      <td>NaN</td>\n",
              "      <td>NaN</td>\n",
              "      <td>NaN</td>\n",
              "    </tr>\n",
              "  </tbody>\n",
              "</table>\n",
              "<p>196554 rows × 13 columns</p>\n",
              "</div>"
            ],
            "text/plain": [
              "        company_ID                name    category_code     status founded_at  \\\n",
              "0             1.00            Wetpaint              web  operating 2005-10-17   \n",
              "1            10.00             Flektor      games_video   acquired        NaT   \n",
              "2           100.00               There      games_video   acquired        NaT   \n",
              "3        10,000.00             MYWEBBO  network_hosting  operating 2008-07-26   \n",
              "4        10,001.00  THE Movie Streamer      games_video  operating 2008-07-26   \n",
              "...            ...                 ...              ...        ...        ...   \n",
              "196549    3,429.00   Zend Technologies         software  operating 1999-01-01   \n",
              "196550    7,748.00            Flowgram              web     closed 2007-06-01   \n",
              "196551  174,536.00           Pphotonet      games_video  operating 2012-05-01   \n",
              "196552   43,233.00            Photonet      photo_video   acquired 2010-03-01   \n",
              "196553         NaN                 NaN              NaN        NaN        NaT   \n",
              "\n",
              "        closed_at                domain network_username country_code  \\\n",
              "0             NaT      wetpaint-inc.com  BachelrWetpaint          USA   \n",
              "1             NaT           flektor.com              NaN          USA   \n",
              "2             NaT             there.com              NaN          USA   \n",
              "3             NaT           mywebbo.com              NaN          NaN   \n",
              "4             NaT  themoviestreamer.com              NaN          NaN   \n",
              "...           ...                   ...              ...          ...   \n",
              "196549        NaT              zend.com      networkzend          USA   \n",
              "196550 2008-06-11          flowgram.com          network          USA   \n",
              "196551        NaT          pPhotonet.co        pPhotonet          NaN   \n",
              "196552        NaT          Photonet.com         Photonet          USA   \n",
              "196553        NaT                   NaN              NaN          NaN   \n",
              "\n",
              "        investment_rounds  funding_rounds  funding_total  milestones  \n",
              "0                    0.00            3.00  39,750,000.00        5.00  \n",
              "1                    0.00            0.00           0.00        0.00  \n",
              "2                    0.00            0.00           0.00        4.00  \n",
              "3                    0.00            0.00           0.00        0.00  \n",
              "4                    0.00            0.00           0.00        0.00  \n",
              "...                   ...             ...            ...         ...  \n",
              "196549               0.00            4.00  44,000,000.00        6.00  \n",
              "196550               0.00            1.00   1,300,000.00        3.00  \n",
              "196551               0.00            0.00           0.00        0.00  \n",
              "196552               0.00            3.00  57,500,000.00        3.00  \n",
              "196553                NaN             NaN            NaN         NaN  \n",
              "\n",
              "[196554 rows x 13 columns]"
            ]
          },
          "metadata": {},
          "output_type": "display_data"
        },
        {
          "data": {
            "text/html": [
              "<div>\n",
              "<style scoped>\n",
              "    .dataframe tbody tr th:only-of-type {\n",
              "        vertical-align: middle;\n",
              "    }\n",
              "\n",
              "    .dataframe tbody tr th {\n",
              "        vertical-align: top;\n",
              "    }\n",
              "\n",
              "    .dataframe thead th {\n",
              "        text-align: right;\n",
              "    }\n",
              "</style>\n",
              "<table border=\"1\" class=\"dataframe\">\n",
              "  <thead>\n",
              "    <tr style=\"text-align: right;\">\n",
              "      <th></th>\n",
              "      <th>funding_round_id</th>\n",
              "      <th>company_id</th>\n",
              "      <th>funded_at</th>\n",
              "      <th>funding_round_type</th>\n",
              "      <th>raised_amount</th>\n",
              "      <th>pre_money_valuation</th>\n",
              "      <th>participants</th>\n",
              "      <th>is_first_round</th>\n",
              "      <th>is_last_round</th>\n",
              "    </tr>\n",
              "  </thead>\n",
              "  <tbody>\n",
              "    <tr>\n",
              "      <th>0</th>\n",
              "      <td>888.00</td>\n",
              "      <td>1.00</td>\n",
              "      <td>2005-10-01</td>\n",
              "      <td>series-a</td>\n",
              "      <td>5,250,000.00</td>\n",
              "      <td>0.00</td>\n",
              "      <td>2.00</td>\n",
              "      <td>0.00</td>\n",
              "      <td>1.00</td>\n",
              "    </tr>\n",
              "    <tr>\n",
              "      <th>1</th>\n",
              "      <td>NaN</td>\n",
              "      <td>NaN</td>\n",
              "      <td>NaT</td>\n",
              "      <td>NaN</td>\n",
              "      <td>NaN</td>\n",
              "      <td>NaN</td>\n",
              "      <td>NaN</td>\n",
              "      <td>NaN</td>\n",
              "      <td>NaN</td>\n",
              "    </tr>\n",
              "    <tr>\n",
              "      <th>2</th>\n",
              "      <td>1,644.00</td>\n",
              "      <td>1,001.00</td>\n",
              "      <td>2008-02-26</td>\n",
              "      <td>series-a</td>\n",
              "      <td>5,000,000.00</td>\n",
              "      <td>0.00</td>\n",
              "      <td>3.00</td>\n",
              "      <td>1.00</td>\n",
              "      <td>1.00</td>\n",
              "    </tr>\n",
              "    <tr>\n",
              "      <th>3</th>\n",
              "      <td>6,682.00</td>\n",
              "      <td>10,014.00</td>\n",
              "      <td>2008-09-01</td>\n",
              "      <td>angel</td>\n",
              "      <td>0.00</td>\n",
              "      <td>0.00</td>\n",
              "      <td>1.00</td>\n",
              "      <td>1.00</td>\n",
              "      <td>1.00</td>\n",
              "    </tr>\n",
              "    <tr>\n",
              "      <th>4</th>\n",
              "      <td>3,619.00</td>\n",
              "      <td>10,015.00</td>\n",
              "      <td>2008-10-10</td>\n",
              "      <td>series-a</td>\n",
              "      <td>2,000,000.00</td>\n",
              "      <td>0.00</td>\n",
              "      <td>2.00</td>\n",
              "      <td>0.00</td>\n",
              "      <td>1.00</td>\n",
              "    </tr>\n",
              "    <tr>\n",
              "      <th>...</th>\n",
              "      <td>...</td>\n",
              "      <td>...</td>\n",
              "      <td>...</td>\n",
              "      <td>...</td>\n",
              "      <td>...</td>\n",
              "      <td>...</td>\n",
              "      <td>...</td>\n",
              "      <td>...</td>\n",
              "      <td>...</td>\n",
              "    </tr>\n",
              "    <tr>\n",
              "      <th>31935</th>\n",
              "      <td>56,184.00</td>\n",
              "      <td>146,919.00</td>\n",
              "      <td>2013-11-06</td>\n",
              "      <td>other</td>\n",
              "      <td>4,900,000.00</td>\n",
              "      <td>0.00</td>\n",
              "      <td>0.00</td>\n",
              "      <td>1.00</td>\n",
              "      <td>1.00</td>\n",
              "    </tr>\n",
              "    <tr>\n",
              "      <th>31936</th>\n",
              "      <td>56,454.00</td>\n",
              "      <td>282,847.00</td>\n",
              "      <td>2011-01-31</td>\n",
              "      <td>other</td>\n",
              "      <td>5,500,000.00</td>\n",
              "      <td>0.00</td>\n",
              "      <td>0.00</td>\n",
              "      <td>1.00</td>\n",
              "      <td>1.00</td>\n",
              "    </tr>\n",
              "    <tr>\n",
              "      <th>31937</th>\n",
              "      <td>56,542.00</td>\n",
              "      <td>55,477.00</td>\n",
              "      <td>2011-01-13</td>\n",
              "      <td>venture</td>\n",
              "      <td>10,633,300.00</td>\n",
              "      <td>0.00</td>\n",
              "      <td>0.00</td>\n",
              "      <td>0.00</td>\n",
              "      <td>1.00</td>\n",
              "    </tr>\n",
              "    <tr>\n",
              "      <th>31938</th>\n",
              "      <td>56,928.00</td>\n",
              "      <td>283,492.00</td>\n",
              "      <td>2013-12-03</td>\n",
              "      <td>venture</td>\n",
              "      <td>3,602,480.00</td>\n",
              "      <td>0.00</td>\n",
              "      <td>5.00</td>\n",
              "      <td>1.00</td>\n",
              "      <td>1.00</td>\n",
              "    </tr>\n",
              "    <tr>\n",
              "      <th>31939</th>\n",
              "      <td>57,063.00</td>\n",
              "      <td>284,191.00</td>\n",
              "      <td>2013-12-04</td>\n",
              "      <td>venture</td>\n",
              "      <td>7,000,000.00</td>\n",
              "      <td>0.00</td>\n",
              "      <td>4.00</td>\n",
              "      <td>1.00</td>\n",
              "      <td>1.00</td>\n",
              "    </tr>\n",
              "  </tbody>\n",
              "</table>\n",
              "<p>31940 rows × 9 columns</p>\n",
              "</div>"
            ],
            "text/plain": [
              "       funding_round_id  company_id  funded_at funding_round_type  \\\n",
              "0                888.00        1.00 2005-10-01           series-a   \n",
              "1                   NaN         NaN        NaT                NaN   \n",
              "2              1,644.00    1,001.00 2008-02-26           series-a   \n",
              "3              6,682.00   10,014.00 2008-09-01              angel   \n",
              "4              3,619.00   10,015.00 2008-10-10           series-a   \n",
              "...                 ...         ...        ...                ...   \n",
              "31935         56,184.00  146,919.00 2013-11-06              other   \n",
              "31936         56,454.00  282,847.00 2011-01-31              other   \n",
              "31937         56,542.00   55,477.00 2011-01-13            venture   \n",
              "31938         56,928.00  283,492.00 2013-12-03            venture   \n",
              "31939         57,063.00  284,191.00 2013-12-04            venture   \n",
              "\n",
              "       raised_amount  pre_money_valuation  participants  is_first_round  \\\n",
              "0       5,250,000.00                 0.00          2.00            0.00   \n",
              "1                NaN                  NaN           NaN             NaN   \n",
              "2       5,000,000.00                 0.00          3.00            1.00   \n",
              "3               0.00                 0.00          1.00            1.00   \n",
              "4       2,000,000.00                 0.00          2.00            0.00   \n",
              "...              ...                  ...           ...             ...   \n",
              "31935   4,900,000.00                 0.00          0.00            1.00   \n",
              "31936   5,500,000.00                 0.00          0.00            1.00   \n",
              "31937  10,633,300.00                 0.00          0.00            0.00   \n",
              "31938   3,602,480.00                 0.00          5.00            1.00   \n",
              "31939   7,000,000.00                 0.00          4.00            1.00   \n",
              "\n",
              "       is_last_round  \n",
              "0               1.00  \n",
              "1                NaN  \n",
              "2               1.00  \n",
              "3               1.00  \n",
              "4               1.00  \n",
              "...              ...  \n",
              "31935           1.00  \n",
              "31936           1.00  \n",
              "31937           1.00  \n",
              "31938           1.00  \n",
              "31939           1.00  \n",
              "\n",
              "[31940 rows x 9 columns]"
            ]
          },
          "metadata": {},
          "output_type": "display_data"
        }
      ],
      "source": [
        "display(df_companies)\n",
        "display(df_rounds)"
      ]
    },
    {
      "cell_type": "markdown",
      "metadata": {
        "id": "KbBkUQvE-AtA"
      },
      "source": [
        "Так как таблица `df_comapny_a_roads` была получена в результате объедеинения двух других таблиц, сложно сделать разделение ее на эти две таблицы, чтобы в одной(`df_companies`) была информация о компаниях, а в другой(`df_rounds`) информация о раундах финансирования"
      ]
    },
    {
      "cell_type": "markdown",
      "metadata": {
        "id": "bmVYhphNrJg2"
      },
      "source": [
        "\n",
        "## Шаг 3. Исследовательский анализ объединённых таблиц\n"
      ]
    },
    {
      "cell_type": "markdown",
      "metadata": {
        "id": "3Di6tCT3rJg2"
      },
      "source": [
        "\n",
        "### 3.1. Объединение данных\n",
        "\n",
        "Объединим данные для ответа на вопросы заказчика, которые касаются интересующих его компаний.\n",
        "\n",
        "В качестве основы для объединённой таблицы возьмем данные из обработанного датасета `company_and_rounds.csv` — выберем только те компании, у которых указаны значения `funding_rounds` или `investment_rounds` больше нуля, или те, у которых в колонке `status` указано `acquired`.\n"
      ]
    },
    {
      "cell_type": "code",
      "execution_count": null,
      "metadata": {
        "id": "mGYqoHS7rJg2",
        "outputId": "8c265b9e-7aaf-4185-e7fe-174021b5e054"
      },
      "outputs": [
        {
          "data": {
            "text/html": [
              "<div>\n",
              "<style scoped>\n",
              "    .dataframe tbody tr th:only-of-type {\n",
              "        vertical-align: middle;\n",
              "    }\n",
              "\n",
              "    .dataframe tbody tr th {\n",
              "        vertical-align: top;\n",
              "    }\n",
              "\n",
              "    .dataframe thead th {\n",
              "        text-align: right;\n",
              "    }\n",
              "</style>\n",
              "<table border=\"1\" class=\"dataframe\">\n",
              "  <thead>\n",
              "    <tr style=\"text-align: right;\">\n",
              "      <th></th>\n",
              "      <th>company_ID</th>\n",
              "      <th>name</th>\n",
              "      <th>category_code</th>\n",
              "      <th>status</th>\n",
              "      <th>founded_at</th>\n",
              "      <th>closed_at</th>\n",
              "      <th>domain</th>\n",
              "      <th>network_username</th>\n",
              "      <th>country_code</th>\n",
              "      <th>investment_rounds</th>\n",
              "      <th>funding_rounds</th>\n",
              "      <th>funding_total</th>\n",
              "      <th>milestones</th>\n",
              "    </tr>\n",
              "  </thead>\n",
              "  <tbody>\n",
              "    <tr>\n",
              "      <th>0</th>\n",
              "      <td>1.00</td>\n",
              "      <td>Wetpaint</td>\n",
              "      <td>web</td>\n",
              "      <td>operating</td>\n",
              "      <td>2005-10-17</td>\n",
              "      <td>NaT</td>\n",
              "      <td>wetpaint-inc.com</td>\n",
              "      <td>BachelrWetpaint</td>\n",
              "      <td>USA</td>\n",
              "      <td>0.00</td>\n",
              "      <td>3.00</td>\n",
              "      <td>39,750,000.00</td>\n",
              "      <td>5.00</td>\n",
              "    </tr>\n",
              "    <tr>\n",
              "      <th>1</th>\n",
              "      <td>10.00</td>\n",
              "      <td>Flektor</td>\n",
              "      <td>games_video</td>\n",
              "      <td>acquired</td>\n",
              "      <td>NaT</td>\n",
              "      <td>NaT</td>\n",
              "      <td>flektor.com</td>\n",
              "      <td>NaN</td>\n",
              "      <td>USA</td>\n",
              "      <td>0.00</td>\n",
              "      <td>0.00</td>\n",
              "      <td>0.00</td>\n",
              "      <td>0.00</td>\n",
              "    </tr>\n",
              "    <tr>\n",
              "      <th>2</th>\n",
              "      <td>100.00</td>\n",
              "      <td>There</td>\n",
              "      <td>games_video</td>\n",
              "      <td>acquired</td>\n",
              "      <td>NaT</td>\n",
              "      <td>NaT</td>\n",
              "      <td>there.com</td>\n",
              "      <td>NaN</td>\n",
              "      <td>USA</td>\n",
              "      <td>0.00</td>\n",
              "      <td>0.00</td>\n",
              "      <td>0.00</td>\n",
              "      <td>4.00</td>\n",
              "    </tr>\n",
              "    <tr>\n",
              "      <th>13</th>\n",
              "      <td>1,001.00</td>\n",
              "      <td>FriendFeed</td>\n",
              "      <td>web</td>\n",
              "      <td>acquired</td>\n",
              "      <td>2007-10-01</td>\n",
              "      <td>NaT</td>\n",
              "      <td>friendfeed.com</td>\n",
              "      <td>friendfeed</td>\n",
              "      <td>USA</td>\n",
              "      <td>0.00</td>\n",
              "      <td>1.00</td>\n",
              "      <td>5,000,000.00</td>\n",
              "      <td>3.00</td>\n",
              "    </tr>\n",
              "    <tr>\n",
              "      <th>18</th>\n",
              "      <td>10,014.00</td>\n",
              "      <td>Mobclix</td>\n",
              "      <td>mobile</td>\n",
              "      <td>acquired</td>\n",
              "      <td>2008-03-01</td>\n",
              "      <td>NaT</td>\n",
              "      <td>mobclix.com</td>\n",
              "      <td>mobclix</td>\n",
              "      <td>USA</td>\n",
              "      <td>0.00</td>\n",
              "      <td>1.00</td>\n",
              "      <td>0.00</td>\n",
              "      <td>4.00</td>\n",
              "    </tr>\n",
              "    <tr>\n",
              "      <th>...</th>\n",
              "      <td>...</td>\n",
              "      <td>...</td>\n",
              "      <td>...</td>\n",
              "      <td>...</td>\n",
              "      <td>...</td>\n",
              "      <td>...</td>\n",
              "      <td>...</td>\n",
              "      <td>...</td>\n",
              "      <td>...</td>\n",
              "      <td>...</td>\n",
              "      <td>...</td>\n",
              "      <td>...</td>\n",
              "      <td>...</td>\n",
              "    </tr>\n",
              "    <tr>\n",
              "      <th>196544</th>\n",
              "      <td>1,344.00</td>\n",
              "      <td>Vobile</td>\n",
              "      <td>web</td>\n",
              "      <td>operating</td>\n",
              "      <td>2005-01-01</td>\n",
              "      <td>NaT</td>\n",
              "      <td>vobileinc.com</td>\n",
              "      <td>networkmobile</td>\n",
              "      <td>USA</td>\n",
              "      <td>0.00</td>\n",
              "      <td>1.00</td>\n",
              "      <td>10,000,000.00</td>\n",
              "      <td>0.00</td>\n",
              "    </tr>\n",
              "    <tr>\n",
              "      <th>196545</th>\n",
              "      <td>142,181.00</td>\n",
              "      <td>Stop Being Watched</td>\n",
              "      <td>software</td>\n",
              "      <td>operating</td>\n",
              "      <td>2010-06-10</td>\n",
              "      <td>NaT</td>\n",
              "      <td>stopbeingwatched.com</td>\n",
              "      <td>SBWinfonetwork</td>\n",
              "      <td>USA</td>\n",
              "      <td>0.00</td>\n",
              "      <td>1.00</td>\n",
              "      <td>500,000.00</td>\n",
              "      <td>1.00</td>\n",
              "    </tr>\n",
              "    <tr>\n",
              "      <th>196549</th>\n",
              "      <td>3,429.00</td>\n",
              "      <td>Zend Technologies</td>\n",
              "      <td>software</td>\n",
              "      <td>operating</td>\n",
              "      <td>1999-01-01</td>\n",
              "      <td>NaT</td>\n",
              "      <td>zend.com</td>\n",
              "      <td>networkzend</td>\n",
              "      <td>USA</td>\n",
              "      <td>0.00</td>\n",
              "      <td>4.00</td>\n",
              "      <td>44,000,000.00</td>\n",
              "      <td>6.00</td>\n",
              "    </tr>\n",
              "    <tr>\n",
              "      <th>196550</th>\n",
              "      <td>7,748.00</td>\n",
              "      <td>Flowgram</td>\n",
              "      <td>web</td>\n",
              "      <td>closed</td>\n",
              "      <td>2007-06-01</td>\n",
              "      <td>2008-06-11</td>\n",
              "      <td>flowgram.com</td>\n",
              "      <td>network</td>\n",
              "      <td>USA</td>\n",
              "      <td>0.00</td>\n",
              "      <td>1.00</td>\n",
              "      <td>1,300,000.00</td>\n",
              "      <td>3.00</td>\n",
              "    </tr>\n",
              "    <tr>\n",
              "      <th>196552</th>\n",
              "      <td>43,233.00</td>\n",
              "      <td>Photonet</td>\n",
              "      <td>photo_video</td>\n",
              "      <td>acquired</td>\n",
              "      <td>2010-03-01</td>\n",
              "      <td>NaT</td>\n",
              "      <td>Photonet.com</td>\n",
              "      <td>Photonet</td>\n",
              "      <td>USA</td>\n",
              "      <td>0.00</td>\n",
              "      <td>3.00</td>\n",
              "      <td>57,500,000.00</td>\n",
              "      <td>3.00</td>\n",
              "    </tr>\n",
              "  </tbody>\n",
              "</table>\n",
              "<p>40747 rows × 13 columns</p>\n",
              "</div>"
            ],
            "text/plain": [
              "        company_ID                name category_code     status founded_at  \\\n",
              "0             1.00            Wetpaint           web  operating 2005-10-17   \n",
              "1            10.00             Flektor   games_video   acquired        NaT   \n",
              "2           100.00               There   games_video   acquired        NaT   \n",
              "13        1,001.00          FriendFeed           web   acquired 2007-10-01   \n",
              "18       10,014.00             Mobclix        mobile   acquired 2008-03-01   \n",
              "...            ...                 ...           ...        ...        ...   \n",
              "196544    1,344.00              Vobile           web  operating 2005-01-01   \n",
              "196545  142,181.00  Stop Being Watched      software  operating 2010-06-10   \n",
              "196549    3,429.00   Zend Technologies      software  operating 1999-01-01   \n",
              "196550    7,748.00            Flowgram           web     closed 2007-06-01   \n",
              "196552   43,233.00            Photonet   photo_video   acquired 2010-03-01   \n",
              "\n",
              "        closed_at                domain network_username country_code  \\\n",
              "0             NaT      wetpaint-inc.com  BachelrWetpaint          USA   \n",
              "1             NaT           flektor.com              NaN          USA   \n",
              "2             NaT             there.com              NaN          USA   \n",
              "13            NaT        friendfeed.com       friendfeed          USA   \n",
              "18            NaT           mobclix.com          mobclix          USA   \n",
              "...           ...                   ...              ...          ...   \n",
              "196544        NaT         vobileinc.com    networkmobile          USA   \n",
              "196545        NaT  stopbeingwatched.com   SBWinfonetwork          USA   \n",
              "196549        NaT              zend.com      networkzend          USA   \n",
              "196550 2008-06-11          flowgram.com          network          USA   \n",
              "196552        NaT          Photonet.com         Photonet          USA   \n",
              "\n",
              "        investment_rounds  funding_rounds  funding_total  milestones  \n",
              "0                    0.00            3.00  39,750,000.00        5.00  \n",
              "1                    0.00            0.00           0.00        0.00  \n",
              "2                    0.00            0.00           0.00        4.00  \n",
              "13                   0.00            1.00   5,000,000.00        3.00  \n",
              "18                   0.00            1.00           0.00        4.00  \n",
              "...                   ...             ...            ...         ...  \n",
              "196544               0.00            1.00  10,000,000.00        0.00  \n",
              "196545               0.00            1.00     500,000.00        1.00  \n",
              "196549               0.00            4.00  44,000,000.00        6.00  \n",
              "196550               0.00            1.00   1,300,000.00        3.00  \n",
              "196552               0.00            3.00  57,500,000.00        3.00  \n",
              "\n",
              "[40747 rows x 13 columns]"
            ]
          },
          "execution_count": 38,
          "metadata": {},
          "output_type": "execute_result"
        }
      ],
      "source": [
        "# Отбираем нужные строки\n",
        "df_merged_3 = df_companies[(((~df_companies['funding_rounds'].isna()) & (df_companies['funding_rounds'] > 0)) | (df_companies['investment_rounds'] > 0)) | (df_companies['status'] == 'acquired')]\n",
        "df_merged_3"
      ]
    },
    {
      "cell_type": "markdown",
      "metadata": {
        "id": "DFHINkV3rJg2"
      },
      "source": [
        "\n",
        "### 3.2. Анализ выбросов\n",
        "\n",
        "Заказчика интересует обычный для рассматриваемого периода размер средств, который предоставлялся компаниям.\n",
        "\n",
        "* По предобработанному столбцу `funding_total` графическим способом оценим, какой размер общего финансирования для одной компании будет типичным, а какой — выбивающимся."
      ]
    },
    {
      "cell_type": "code",
      "execution_count": null,
      "metadata": {
        "id": "8jm75fKXrJg2",
        "outputId": "f7cd4e70-15ff-4282-d7e9-e2f520e3135e"
      },
      "outputs": [
        {
          "data": {
            "text/plain": [
              "count          40,747.00\n",
              "mean       10,135,609.64\n",
              "std        56,464,359.98\n",
              "min                 0.00\n",
              "25%                 0.00\n",
              "50%           600,000.00\n",
              "75%         5,650,650.00\n",
              "max     5,700,000,000.00\n",
              "Name: funding_total, dtype: float64"
            ]
          },
          "execution_count": 61,
          "metadata": {},
          "output_type": "execute_result"
        }
      ],
      "source": [
        "df_merged_3['funding_total'].describe()"
      ]
    },
    {
      "cell_type": "markdown",
      "metadata": {
        "id": "LjNDxQ3m-AtE"
      },
      "source": [
        "Так как в данных слишком много выбросов, то при построении графиков в обычном формате, нельзя точно определить значения, поэтому построим графики в логарифмическом масштабе, чтобы более корректно увидеть распределение"
      ]
    },
    {
      "cell_type": "code",
      "execution_count": null,
      "metadata": {
        "id": "bHwQo0lJ-AtF",
        "outputId": "98ecc6cc-119b-43dd-8ded-02128d51ae38"
      },
      "outputs": [
        {
          "data": {
            "text/plain": [
              "<AxesSubplot:ylabel='log_funding'>"
            ]
          },
          "execution_count": 40,
          "metadata": {},
          "output_type": "execute_result"
        },
        {
          "data": {
            "image/png": "[encoded data removed]",
            "text/plain": [
              "<Figure size 432x288 with 1 Axes>"
            ]
          },
          "metadata": {
            "needs_background": "light"
          },
          "output_type": "display_data"
        }
      ],
      "source": [
        "df_merged_3 = df_merged_3.copy()  # Явно создаем копию\n",
        "# Переведем данные из столбца 'funding_total' в логарифм\n",
        "df_merged_3['log_funding'] = np.log1p(df_merged_3['funding_total'])  # log(1 + x), чтобы избежать log(0)\n",
        "# Посторим'скрипичный график'\n",
        "sns.violinplot(data=df_merged_3, y='log_funding')"
      ]
    },
    {
      "cell_type": "code",
      "execution_count": null,
      "metadata": {
        "id": "dIWqyEomn2MU",
        "outputId": "767f212a-d226-4ee4-bb11-aafa30498265"
      },
      "outputs": [
        {
          "data": {
            "image/png": "[encoded data removed]",
            "text/plain": [
              "<Figure size 432x288 with 1 Axes>"
            ]
          },
          "metadata": {
            "needs_background": "light"
          },
          "output_type": "display_data"
        }
      ],
      "source": [
        "# Построим диаграмму 'ящик с усами'\n",
        "boxplot = df_merged_3.boxplot(column='log_funding',\n",
        "                     vert=False,\n",
        "                     figsize=(6, 4))"
      ]
    },
    {
      "cell_type": "code",
      "execution_count": null,
      "metadata": {
        "id": "42wm3Em_-AtG",
        "outputId": "529f8721-9da6-492b-f8e0-24b4c348dd53"
      },
      "outputs": [
        {
          "data": {
            "text/plain": [
              "count   40,747.00\n",
              "mean         9.99\n",
              "std          7.03\n",
              "min          0.00\n",
              "25%          0.00\n",
              "50%         13.30\n",
              "75%         15.55\n",
              "max         22.46\n",
              "Name: log_funding, dtype: float64"
            ]
          },
          "execution_count": 42,
          "metadata": {},
          "output_type": "execute_result"
        }
      ],
      "source": [
        "df_merged_3['log_funding'].describe()"
      ]
    },
    {
      "cell_type": "code",
      "execution_count": null,
      "metadata": {
        "id": "ZpwjopNT-AtG",
        "outputId": "928dc5f1-62e8-4818-cea9-b953d65ad5b6"
      },
      "outputs": [
        {
          "name": "stdout",
          "output_type": "stream",
          "text": [
            "Типичное финансирование: 597,195\n",
            "Нормальный диапазон: 0 - 5,666,033\n",
            "Выбросы начинаются от: 5,666,033\n"
          ]
        }
      ],
      "source": [
        "med_fund = np.expm1(13.3)  # Среднее\n",
        "low = np.expm1(0)  #25%\n",
        "up = np.expm1(15.55)  #75%\n",
        "gran = np.expm1(15.55)  # Граница\n",
        "\n",
        "print(f\"Типичное финансирование: {med_fund:,.0f}\")\n",
        "print(f\"Нормальный диапазон: {low:,.0f} - {up:,.0f}\")\n",
        "print(f\"Выбросы начинаются от: {gran:,.0f}\")"
      ]
    },
    {
      "cell_type": "markdown",
      "metadata": {
        "id": "NDdSrL1a-AtH"
      },
      "source": [
        "- Типичный размер общего финансирования находится в диапазоне от 0 до 5,600,000.\n",
        "- Начиная с 5,600,000 размер финансирования будет выбивающимся для многих компаний"
      ]
    },
    {
      "cell_type": "markdown",
      "metadata": {
        "id": "JqkRAQrIrJg2"
      },
      "source": [
        "\n",
        "### 3.3. Куплены забесплатно?\n",
        "\n",
        "* Исследуем компании, которые были проданы за ноль или за один доллар, и при этом известно, что у них был ненулевой общий объём финансирования.\n"
      ]
    },
    {
      "cell_type": "code",
      "execution_count": null,
      "metadata": {
        "id": "wJHXCBwwrJg2",
        "outputId": "cfa1c6af-092b-423e-9886-ba3250d8f2c9"
      },
      "outputs": [
        {
          "data": {
            "text/html": [
              "<div>\n",
              "<style scoped>\n",
              "    .dataframe tbody tr th:only-of-type {\n",
              "        vertical-align: middle;\n",
              "    }\n",
              "\n",
              "    .dataframe tbody tr th {\n",
              "        vertical-align: top;\n",
              "    }\n",
              "\n",
              "    .dataframe thead th {\n",
              "        text-align: right;\n",
              "    }\n",
              "</style>\n",
              "<table border=\"1\" class=\"dataframe\">\n",
              "  <thead>\n",
              "    <tr style=\"text-align: right;\">\n",
              "      <th></th>\n",
              "      <th>id</th>\n",
              "      <th>acquiring_company_id</th>\n",
              "      <th>acquired_company_id</th>\n",
              "      <th>term_code</th>\n",
              "      <th>price_amount</th>\n",
              "      <th>acquired_at</th>\n",
              "      <th>company_ID</th>\n",
              "      <th>name</th>\n",
              "      <th>category_code</th>\n",
              "      <th>status</th>\n",
              "      <th>founded_at</th>\n",
              "      <th>closed_at</th>\n",
              "      <th>domain</th>\n",
              "      <th>network_username</th>\n",
              "      <th>country_code</th>\n",
              "      <th>investment_rounds</th>\n",
              "      <th>funding_rounds</th>\n",
              "      <th>funding_total</th>\n",
              "      <th>milestones</th>\n",
              "      <th>log_funding</th>\n",
              "    </tr>\n",
              "  </thead>\n",
              "  <tbody>\n",
              "    <tr>\n",
              "      <th>7</th>\n",
              "      <td>14</td>\n",
              "      <td>318</td>\n",
              "      <td>314</td>\n",
              "      <td>cash</td>\n",
              "      <td>0</td>\n",
              "      <td>2006-10-01</td>\n",
              "      <td>314.00</td>\n",
              "      <td>Reddit</td>\n",
              "      <td>web</td>\n",
              "      <td>acquired</td>\n",
              "      <td>2005-01-01</td>\n",
              "      <td>NaT</td>\n",
              "      <td>reddit.com</td>\n",
              "      <td>reddit</td>\n",
              "      <td>USA</td>\n",
              "      <td>0.00</td>\n",
              "      <td>1.00</td>\n",
              "      <td>100,000.00</td>\n",
              "      <td>3.00</td>\n",
              "      <td>11.51</td>\n",
              "    </tr>\n",
              "    <tr>\n",
              "      <th>49</th>\n",
              "      <td>65</td>\n",
              "      <td>146</td>\n",
              "      <td>698</td>\n",
              "      <td>cash</td>\n",
              "      <td>0</td>\n",
              "      <td>2007-08-01</td>\n",
              "      <td>698.00</td>\n",
              "      <td>Maya's Mom</td>\n",
              "      <td>web</td>\n",
              "      <td>acquired</td>\n",
              "      <td>NaT</td>\n",
              "      <td>NaT</td>\n",
              "      <td>mayasmom.com</td>\n",
              "      <td>NaN</td>\n",
              "      <td>USA</td>\n",
              "      <td>0.00</td>\n",
              "      <td>1.00</td>\n",
              "      <td>1,000,000.00</td>\n",
              "      <td>2.00</td>\n",
              "      <td>13.82</td>\n",
              "    </tr>\n",
              "    <tr>\n",
              "      <th>51</th>\n",
              "      <td>67</td>\n",
              "      <td>156</td>\n",
              "      <td>718</td>\n",
              "      <td>cash</td>\n",
              "      <td>0</td>\n",
              "      <td>2007-08-01</td>\n",
              "      <td>718.00</td>\n",
              "      <td>Glimpse</td>\n",
              "      <td>ecommerce</td>\n",
              "      <td>acquired</td>\n",
              "      <td>NaT</td>\n",
              "      <td>NaT</td>\n",
              "      <td>glimpse.com</td>\n",
              "      <td>NaN</td>\n",
              "      <td>USA</td>\n",
              "      <td>0.00</td>\n",
              "      <td>1.00</td>\n",
              "      <td>4,000,000.00</td>\n",
              "      <td>0.00</td>\n",
              "      <td>15.20</td>\n",
              "    </tr>\n",
              "    <tr>\n",
              "      <th>65</th>\n",
              "      <td>87</td>\n",
              "      <td>1035</td>\n",
              "      <td>175</td>\n",
              "      <td>cash</td>\n",
              "      <td>0</td>\n",
              "      <td>2007-10-01</td>\n",
              "      <td>175.00</td>\n",
              "      <td>Newsvine</td>\n",
              "      <td>web</td>\n",
              "      <td>acquired</td>\n",
              "      <td>2005-03-31</td>\n",
              "      <td>NaT</td>\n",
              "      <td>newsvine.com</td>\n",
              "      <td>NaN</td>\n",
              "      <td>USA</td>\n",
              "      <td>0.00</td>\n",
              "      <td>1.00</td>\n",
              "      <td>1,250,000.00</td>\n",
              "      <td>0.00</td>\n",
              "      <td>14.04</td>\n",
              "    </tr>\n",
              "    <tr>\n",
              "      <th>85</th>\n",
              "      <td>115</td>\n",
              "      <td>396</td>\n",
              "      <td>1582</td>\n",
              "      <td>cash</td>\n",
              "      <td>0</td>\n",
              "      <td>2007-12-01</td>\n",
              "      <td>1,582.00</td>\n",
              "      <td>BeliefNet</td>\n",
              "      <td>web</td>\n",
              "      <td>acquired</td>\n",
              "      <td>2008-01-01</td>\n",
              "      <td>NaT</td>\n",
              "      <td>beliefnet.com</td>\n",
              "      <td>eliefnet</td>\n",
              "      <td>USA</td>\n",
              "      <td>0.00</td>\n",
              "      <td>1.00</td>\n",
              "      <td>7,000,000.00</td>\n",
              "      <td>3.00</td>\n",
              "      <td>15.76</td>\n",
              "    </tr>\n",
              "    <tr>\n",
              "      <th>...</th>\n",
              "      <td>...</td>\n",
              "      <td>...</td>\n",
              "      <td>...</td>\n",
              "      <td>...</td>\n",
              "      <td>...</td>\n",
              "      <td>...</td>\n",
              "      <td>...</td>\n",
              "      <td>...</td>\n",
              "      <td>...</td>\n",
              "      <td>...</td>\n",
              "      <td>...</td>\n",
              "      <td>...</td>\n",
              "      <td>...</td>\n",
              "      <td>...</td>\n",
              "      <td>...</td>\n",
              "      <td>...</td>\n",
              "      <td>...</td>\n",
              "      <td>...</td>\n",
              "      <td>...</td>\n",
              "      <td>...</td>\n",
              "    </tr>\n",
              "    <tr>\n",
              "      <th>9363</th>\n",
              "      <td>10481</td>\n",
              "      <td>29</td>\n",
              "      <td>165128</td>\n",
              "      <td>NaN</td>\n",
              "      <td>0</td>\n",
              "      <td>2013-12-06</td>\n",
              "      <td>165,128.00</td>\n",
              "      <td>EvntLive</td>\n",
              "      <td>music</td>\n",
              "      <td>acquired</td>\n",
              "      <td>NaT</td>\n",
              "      <td>NaT</td>\n",
              "      <td>evntliveinc.com</td>\n",
              "      <td>EVNTLIVE</td>\n",
              "      <td>USA</td>\n",
              "      <td>0.00</td>\n",
              "      <td>1.00</td>\n",
              "      <td>2,300,000.00</td>\n",
              "      <td>2.00</td>\n",
              "      <td>14.65</td>\n",
              "    </tr>\n",
              "    <tr>\n",
              "      <th>9382</th>\n",
              "      <td>10500</td>\n",
              "      <td>42365</td>\n",
              "      <td>79582</td>\n",
              "      <td>NaN</td>\n",
              "      <td>0</td>\n",
              "      <td>2013-12-10</td>\n",
              "      <td>79,582.00</td>\n",
              "      <td>lucierna</td>\n",
              "      <td>software</td>\n",
              "      <td>acquired</td>\n",
              "      <td>2009-05-22</td>\n",
              "      <td>NaT</td>\n",
              "      <td>lucierna.com</td>\n",
              "      <td>lucierna_inc</td>\n",
              "      <td>ESP</td>\n",
              "      <td>0.00</td>\n",
              "      <td>1.00</td>\n",
              "      <td>2,106,600.00</td>\n",
              "      <td>0.00</td>\n",
              "      <td>14.56</td>\n",
              "    </tr>\n",
              "    <tr>\n",
              "      <th>9385</th>\n",
              "      <td>10503</td>\n",
              "      <td>1434</td>\n",
              "      <td>60436</td>\n",
              "      <td>NaN</td>\n",
              "      <td>0</td>\n",
              "      <td>2013-12-10</td>\n",
              "      <td>60,436.00</td>\n",
              "      <td>Cloudmeter</td>\n",
              "      <td>enterprise</td>\n",
              "      <td>acquired</td>\n",
              "      <td>2007-04-01</td>\n",
              "      <td>NaT</td>\n",
              "      <td>cloudmeter.com</td>\n",
              "      <td>cloudmeter</td>\n",
              "      <td>USA</td>\n",
              "      <td>0.00</td>\n",
              "      <td>1.00</td>\n",
              "      <td>5,000,000.00</td>\n",
              "      <td>2.00</td>\n",
              "      <td>15.42</td>\n",
              "    </tr>\n",
              "    <tr>\n",
              "      <th>9388</th>\n",
              "      <td>10507</td>\n",
              "      <td>29</td>\n",
              "      <td>169154</td>\n",
              "      <td>NaN</td>\n",
              "      <td>0</td>\n",
              "      <td>2013-12-09</td>\n",
              "      <td>169,154.00</td>\n",
              "      <td>Quik.io</td>\n",
              "      <td>software</td>\n",
              "      <td>acquired</td>\n",
              "      <td>2011-02-03</td>\n",
              "      <td>NaT</td>\n",
              "      <td>quik.io</td>\n",
              "      <td>quik_io</td>\n",
              "      <td>USA</td>\n",
              "      <td>0.00</td>\n",
              "      <td>2.00</td>\n",
              "      <td>1,280,000.00</td>\n",
              "      <td>2.00</td>\n",
              "      <td>14.06</td>\n",
              "    </tr>\n",
              "    <tr>\n",
              "      <th>9391</th>\n",
              "      <td>10513</td>\n",
              "      <td>43761</td>\n",
              "      <td>43761</td>\n",
              "      <td>NaN</td>\n",
              "      <td>0</td>\n",
              "      <td>2011-11-22</td>\n",
              "      <td>43,761.00</td>\n",
              "      <td>Excaliard Pharmaceuticals</td>\n",
              "      <td>biotech</td>\n",
              "      <td>acquired</td>\n",
              "      <td>NaT</td>\n",
              "      <td>NaT</td>\n",
              "      <td>excaliard.com</td>\n",
              "      <td>NaN</td>\n",
              "      <td>USA</td>\n",
              "      <td>0.00</td>\n",
              "      <td>1.00</td>\n",
              "      <td>15,500,000.00</td>\n",
              "      <td>0.00</td>\n",
              "      <td>16.56</td>\n",
              "    </tr>\n",
              "  </tbody>\n",
              "</table>\n",
              "<p>1618 rows × 20 columns</p>\n",
              "</div>"
            ],
            "text/plain": [
              "         id  acquiring_company_id  acquired_company_id term_code  \\\n",
              "7        14                   318                  314      cash   \n",
              "49       65                   146                  698      cash   \n",
              "51       67                   156                  718      cash   \n",
              "65       87                  1035                  175      cash   \n",
              "85      115                   396                 1582      cash   \n",
              "...     ...                   ...                  ...       ...   \n",
              "9363  10481                    29               165128       NaN   \n",
              "9382  10500                 42365                79582       NaN   \n",
              "9385  10503                  1434                60436       NaN   \n",
              "9388  10507                    29               169154       NaN   \n",
              "9391  10513                 43761                43761       NaN   \n",
              "\n",
              "      price_amount acquired_at  company_ID                       name  \\\n",
              "7                0  2006-10-01      314.00                     Reddit   \n",
              "49               0  2007-08-01      698.00                 Maya's Mom   \n",
              "51               0  2007-08-01      718.00                    Glimpse   \n",
              "65               0  2007-10-01      175.00                   Newsvine   \n",
              "85               0  2007-12-01    1,582.00                  BeliefNet   \n",
              "...            ...         ...         ...                        ...   \n",
              "9363             0  2013-12-06  165,128.00                   EvntLive   \n",
              "9382             0  2013-12-10   79,582.00                   lucierna   \n",
              "9385             0  2013-12-10   60,436.00                 Cloudmeter   \n",
              "9388             0  2013-12-09  169,154.00                    Quik.io   \n",
              "9391             0  2011-11-22   43,761.00  Excaliard Pharmaceuticals   \n",
              "\n",
              "     category_code    status founded_at closed_at           domain  \\\n",
              "7              web  acquired 2005-01-01       NaT       reddit.com   \n",
              "49             web  acquired        NaT       NaT     mayasmom.com   \n",
              "51       ecommerce  acquired        NaT       NaT      glimpse.com   \n",
              "65             web  acquired 2005-03-31       NaT     newsvine.com   \n",
              "85             web  acquired 2008-01-01       NaT    beliefnet.com   \n",
              "...            ...       ...        ...       ...              ...   \n",
              "9363         music  acquired        NaT       NaT  evntliveinc.com   \n",
              "9382      software  acquired 2009-05-22       NaT     lucierna.com   \n",
              "9385    enterprise  acquired 2007-04-01       NaT   cloudmeter.com   \n",
              "9388      software  acquired 2011-02-03       NaT          quik.io   \n",
              "9391       biotech  acquired        NaT       NaT    excaliard.com   \n",
              "\n",
              "     network_username country_code  investment_rounds  funding_rounds  \\\n",
              "7              reddit          USA               0.00            1.00   \n",
              "49                NaN          USA               0.00            1.00   \n",
              "51                NaN          USA               0.00            1.00   \n",
              "65                NaN          USA               0.00            1.00   \n",
              "85           eliefnet          USA               0.00            1.00   \n",
              "...               ...          ...                ...             ...   \n",
              "9363         EVNTLIVE          USA               0.00            1.00   \n",
              "9382     lucierna_inc          ESP               0.00            1.00   \n",
              "9385       cloudmeter          USA               0.00            1.00   \n",
              "9388          quik_io          USA               0.00            2.00   \n",
              "9391              NaN          USA               0.00            1.00   \n",
              "\n",
              "      funding_total  milestones  log_funding  \n",
              "7        100,000.00        3.00        11.51  \n",
              "49     1,000,000.00        2.00        13.82  \n",
              "51     4,000,000.00        0.00        15.20  \n",
              "65     1,250,000.00        0.00        14.04  \n",
              "85     7,000,000.00        3.00        15.76  \n",
              "...             ...         ...          ...  \n",
              "9363   2,300,000.00        2.00        14.65  \n",
              "9382   2,106,600.00        0.00        14.56  \n",
              "9385   5,000,000.00        2.00        15.42  \n",
              "9388   1,280,000.00        2.00        14.06  \n",
              "9391  15,500,000.00        0.00        16.56  \n",
              "\n",
              "[1618 rows x 20 columns]"
            ]
          },
          "execution_count": 77,
          "metadata": {},
          "output_type": "execute_result"
        }
      ],
      "source": [
        "# Объединим таблицы 'df_acquisition' и 'df_acquisition'\n",
        "df_merged_ac = df_acquisition.merge(df_merged_3, left_on = 'acquired_company_id', right_on = 'company_ID', how = 'left')\n",
        "# Выделим таблицу, согласно условию\n",
        "df_merged_ac_3 = df_merged_ac[((df_merged_ac['price_amount'] == 1) | (df_merged_ac['price_amount'] == 0)) & (df_merged_ac['funding_total'] > 0)]\n",
        "df_merged_ac_3"
      ]
    },
    {
      "cell_type": "code",
      "execution_count": null,
      "metadata": {
        "id": "-kA4CO27n2ql",
        "outputId": "bef41ae6-f412-42e5-d26a-b170852d5cac"
      },
      "outputs": [
        {
          "name": "stdout",
          "output_type": "stream",
          "text": [
            "Нижняя граница выбросов: -18,250,000\n",
            "Верхняя граница выбросов: 35,750,000\n"
          ]
        }
      ],
      "source": [
        "# Рассчитаем верхнюю и нижнюю границу с помощью IQR\n",
        "# Вычислим квартили Q1 и Q3\n",
        "Q1 = df_merged_ac_3['funding_total'].quantile(0.25)\n",
        "Q3 = df_merged_ac_3['funding_total'].quantile(0.75)\n",
        "# Вычислим IQR\n",
        "IQR = Q3 - Q1\n",
        "up_bound = Q3 + 1.5*IQR\n",
        "low_bound = Q1 - 1.5*IQR\n",
        "print(f\"Нижняя граница выбросов: {low_bound:,.0f}\")\n",
        "print(f\"Верхняя граница выбросов: {up_bound:,.0f}\")"
      ]
    },
    {
      "cell_type": "code",
      "execution_count": null,
      "metadata": {
        "id": "JkFNtSkY-AtJ",
        "outputId": "1d68d041-7104-49d2-923b-cd2949a3f554"
      },
      "outputs": [
        {
          "name": "stdout",
          "output_type": "stream",
          "text": [
            "Нижняя граница выбросов (-18,250,000.00) соответствует приблизительно 0.00-му процентилю\n",
            "Верхняя граница выбросов (35,750,000.00) соответствует приблизительно 90.91-му процентилю\n"
          ]
        }
      ],
      "source": [
        "# С помощью функции percentileofscore вычислим каким перцентилям соответствуют рассчитанные значения\n",
        "low_per = percentileofscore(df_merged_ac_3['funding_total'], low_bound, kind='rank')\n",
        "up_per = percentileofscore(df_merged_ac_3['funding_total'], up_bound, kind='rank')\n",
        "\n",
        "print(f\"Нижняя граница выбросов ({low_bound:,.2f}) соответствует приблизительно {low_per:.2f}-му процентилю\")\n",
        "print(f\"Верхняя граница выбросов ({up_bound:,.2f}) соответствует приблизительно {up_per:.2f}-му процентилю\")\n"
      ]
    },
    {
      "cell_type": "code",
      "execution_count": null,
      "metadata": {
        "id": "mHxyhJDS-AtK",
        "outputId": "ccf229be-10c7-43e4-c45c-e6c297e4fe7d"
      },
      "outputs": [
        {
          "data": {
            "text/plain": [
              "count           1,618.00\n",
              "mean       18,152,961.94\n",
              "std       144,503,027.47\n",
              "min             3,750.00\n",
              "25%         2,000,000.00\n",
              "50%         6,000,000.00\n",
              "75%        15,500,000.00\n",
              "max     5,700,000,000.00\n",
              "Name: funding_total, dtype: float64"
            ]
          },
          "execution_count": 80,
          "metadata": {},
          "output_type": "execute_result"
        }
      ],
      "source": [
        "df_merged_ac_3['funding_total'].describe()"
      ]
    },
    {
      "cell_type": "markdown",
      "metadata": {
        "id": "eye1OgCi-AtK"
      },
      "source": [
        "- Значения, рассчитанные по перцентилям будут лучше подходить для рассматриваемых данных\n",
        "\n",
        "Так как в данных присутствует большое количество выбросов, а также сильный разброс значений(стандартное отклонение 144 млн), то границы рассчитанные с помощью метода IQR не совсем корректны (нижняя граница получилась отрицательной). Поэтому взять значения, рассчитанные по перцентилям будет более правильным решением."
      ]
    },
    {
      "cell_type": "markdown",
      "metadata": {
        "id": "mEiWpROjrJg2"
      },
      "source": [
        "\n",
        "### 3.4. Цены стартапов по категориям\n",
        "\n",
        "Категории стартапов с наибольшими ценами и значительным разбросом цен могут быть наиболее привлекательными для крупных инвесторов, которые готовы к высоким рискам ради потенциально больших доходов. Среди категорий стартапов выделим категории стартапов, характеризующиеся:\n",
        "\n",
        "* наибольшими ценами;\n",
        "* и наибольшим разбросом цен за стартап.\n"
      ]
    },
    {
      "cell_type": "code",
      "execution_count": null,
      "metadata": {
        "id": "MFONscXPn29F"
      },
      "outputs": [],
      "source": [
        "# Сгрупируем данные по 'category_code' и найдем 'mean', 'std', 'count'\n",
        "df_group_cat = df_merged_ac.groupby('category_code')['price_amount'].agg(['median', 'std', 'count']).reset_index()\n",
        "# Отфильтруем категории, в которых больше 5 сделок\n",
        "df_group_cat = df_group_cat[(df_group_cat['count'] > 5) & (df_group_cat['category_code'] != 'other')]\n",
        "top_price = df_group_cat[['category_code', 'median']].sort_values(ascending = False, by = 'median').head(5)\n",
        "top_std = df_group_cat[['category_code', 'std']].sort_values(ascending = False, by = 'std').head(5)"
      ]
    },
    {
      "cell_type": "code",
      "execution_count": null,
      "metadata": {
        "id": "WFWVe-3w-AtL"
      },
      "outputs": [],
      "source": [
        "# people_df и company_rounds\n",
        "top_price_t = set(top_price['category_code'])\n",
        "top_std_t = set(top_std['category_code'])\n",
        "in_set = top_price_t & top_std_t\n",
        "\n",
        "#Создание таблица для пересечения\n",
        "in_df = df_group_cat[df_group_cat['category_code'].isin(in_set)][['category_code', 'median', 'std']]"
      ]
    },
    {
      "cell_type": "code",
      "execution_count": null,
      "metadata": {
        "id": "r-vFM3BW-AtM",
        "outputId": "41de6f89-ef84-4881-8d7e-75fdd0ddaf28"
      },
      "outputs": [
        {
          "name": "stdout",
          "output_type": "stream",
          "text": [
            "Категории с высокой средней ценой (ТОП-5):\n"
          ]
        },
        {
          "data": {
            "text/html": [
              "<div>\n",
              "<style scoped>\n",
              "    .dataframe tbody tr th:only-of-type {\n",
              "        vertical-align: middle;\n",
              "    }\n",
              "\n",
              "    .dataframe tbody tr th {\n",
              "        vertical-align: top;\n",
              "    }\n",
              "\n",
              "    .dataframe thead th {\n",
              "        text-align: right;\n",
              "    }\n",
              "</style>\n",
              "<table border=\"1\" class=\"dataframe\">\n",
              "  <thead>\n",
              "    <tr style=\"text-align: right;\">\n",
              "      <th></th>\n",
              "      <th>category_code</th>\n",
              "      <th>median</th>\n",
              "    </tr>\n",
              "  </thead>\n",
              "  <tbody>\n",
              "    <tr>\n",
              "      <th>18</th>\n",
              "      <td>manufacturing</td>\n",
              "      <td>72000000</td>\n",
              "    </tr>\n",
              "    <tr>\n",
              "      <th>30</th>\n",
              "      <td>real_estate</td>\n",
              "      <td>50000000</td>\n",
              "    </tr>\n",
              "    <tr>\n",
              "      <th>3</th>\n",
              "      <td>biotech</td>\n",
              "      <td>13200000</td>\n",
              "    </tr>\n",
              "    <tr>\n",
              "      <th>15</th>\n",
              "      <td>hospitality</td>\n",
              "      <td>12500000</td>\n",
              "    </tr>\n",
              "    <tr>\n",
              "      <th>11</th>\n",
              "      <td>finance</td>\n",
              "      <td>600000</td>\n",
              "    </tr>\n",
              "  </tbody>\n",
              "</table>\n",
              "</div>"
            ],
            "text/plain": [
              "    category_code    median\n",
              "18  manufacturing  72000000\n",
              "30    real_estate  50000000\n",
              "3         biotech  13200000\n",
              "15    hospitality  12500000\n",
              "11        finance    600000"
            ]
          },
          "metadata": {},
          "output_type": "display_data"
        },
        {
          "name": "stdout",
          "output_type": "stream",
          "text": [
            "\n",
            "Категории с высоким разбросом цен (ТОП-5):\n"
          ]
        },
        {
          "data": {
            "text/html": [
              "<div>\n",
              "<style scoped>\n",
              "    .dataframe tbody tr th:only-of-type {\n",
              "        vertical-align: middle;\n",
              "    }\n",
              "\n",
              "    .dataframe tbody tr th {\n",
              "        vertical-align: top;\n",
              "    }\n",
              "\n",
              "    .dataframe thead th {\n",
              "        text-align: right;\n",
              "    }\n",
              "</style>\n",
              "<table border=\"1\" class=\"dataframe\">\n",
              "  <thead>\n",
              "    <tr style=\"text-align: right;\">\n",
              "      <th></th>\n",
              "      <th>category_code</th>\n",
              "      <th>std</th>\n",
              "    </tr>\n",
              "  </thead>\n",
              "  <tbody>\n",
              "    <tr>\n",
              "      <th>9</th>\n",
              "      <td>enterprise</td>\n",
              "      <td>128,088,235,060.17</td>\n",
              "    </tr>\n",
              "    <tr>\n",
              "      <th>29</th>\n",
              "      <td>public_relations</td>\n",
              "      <td>4,059,244,205.05</td>\n",
              "    </tr>\n",
              "    <tr>\n",
              "      <th>30</th>\n",
              "      <td>real_estate</td>\n",
              "      <td>2,505,122,913.06</td>\n",
              "    </tr>\n",
              "    <tr>\n",
              "      <th>3</th>\n",
              "      <td>biotech</td>\n",
              "      <td>1,540,373,521.41</td>\n",
              "    </tr>\n",
              "    <tr>\n",
              "      <th>14</th>\n",
              "      <td>health</td>\n",
              "      <td>1,249,084,287.10</td>\n",
              "    </tr>\n",
              "  </tbody>\n",
              "</table>\n",
              "</div>"
            ],
            "text/plain": [
              "       category_code                std\n",
              "9         enterprise 128,088,235,060.17\n",
              "29  public_relations   4,059,244,205.05\n",
              "30       real_estate   2,505,122,913.06\n",
              "3            biotech   1,540,373,521.41\n",
              "14            health   1,249,084,287.10"
            ]
          },
          "metadata": {},
          "output_type": "display_data"
        },
        {
          "name": "stdout",
          "output_type": "stream",
          "text": [
            "\n",
            "Категории, которые попали в оба списка (и высокая средняя, и высокий std):\n"
          ]
        },
        {
          "data": {
            "text/html": [
              "<div>\n",
              "<style scoped>\n",
              "    .dataframe tbody tr th:only-of-type {\n",
              "        vertical-align: middle;\n",
              "    }\n",
              "\n",
              "    .dataframe tbody tr th {\n",
              "        vertical-align: top;\n",
              "    }\n",
              "\n",
              "    .dataframe thead th {\n",
              "        text-align: right;\n",
              "    }\n",
              "</style>\n",
              "<table border=\"1\" class=\"dataframe\">\n",
              "  <thead>\n",
              "    <tr style=\"text-align: right;\">\n",
              "      <th></th>\n",
              "      <th>category_code</th>\n",
              "      <th>median</th>\n",
              "      <th>std</th>\n",
              "    </tr>\n",
              "  </thead>\n",
              "  <tbody>\n",
              "    <tr>\n",
              "      <th>3</th>\n",
              "      <td>biotech</td>\n",
              "      <td>13200000</td>\n",
              "      <td>1,540,373,521.41</td>\n",
              "    </tr>\n",
              "    <tr>\n",
              "      <th>30</th>\n",
              "      <td>real_estate</td>\n",
              "      <td>50000000</td>\n",
              "      <td>2,505,122,913.06</td>\n",
              "    </tr>\n",
              "  </tbody>\n",
              "</table>\n",
              "</div>"
            ],
            "text/plain": [
              "   category_code    median              std\n",
              "3        biotech  13200000 1,540,373,521.41\n",
              "30   real_estate  50000000 2,505,122,913.06"
            ]
          },
          "metadata": {},
          "output_type": "display_data"
        },
        {
          "data": {
            "image/png": "[encoded data removed]",
            "text/plain": [
              "<Figure size 432x288 with 1 Axes>"
            ]
          },
          "metadata": {},
          "output_type": "display_data"
        }
      ],
      "source": [
        "print(\"Категории с высокой средней ценой (ТОП-5):\")\n",
        "display(top_price)\n",
        "\n",
        "print(\"\\nКатегории с высоким разбросом цен (ТОП-5):\")\n",
        "display(top_std)\n",
        "\n",
        "print(\"\\nКатегории, которые попали в оба списка (и высокая средняя, и высокий std):\")\n",
        "display(in_df)\n",
        "# Псотроим график\n",
        "venn2([top_price_t, top_std_t], set_labels=('Высокая цена', 'Высокий разброс'))\n",
        "plt.title(\"Пересечение ТОП-5 категорий по цене и разбросу цен\")\n",
        "plt.show()"
      ]
    },
    {
      "cell_type": "markdown",
      "metadata": {
        "id": "7wq6vuEQ-AtM"
      },
      "source": [
        "- Было выбрано топ-5 категорий, так как данное количество является оптимальным, медиана показывет в каких категориях самая высокая цена на стартапы, а стандартное отклонение показывает разброс цен.\n",
        "- Были исключены категории с менее чем 5 сделками, так как расчитанные `median` и `std` могли быть некорректны и исказить анализ.\n",
        "- Была создана дополнительная таблица с пересечением, чтобы выделить наиболее привлекательные категории по обоим пунктам"
      ]
    },
    {
      "cell_type": "markdown",
      "metadata": {
        "id": "ADOfyVY_rJg3"
      },
      "source": [
        "\n",
        "### 3.5. Сколько раундов продержится стартап перед покупкой\n",
        "\n",
        "* Проанализируем столбец `funding_rounds`. Исследуем значения столбца. Заказчика интересует типичное значение количества раундов для каждого возможного статуса стартапа.\n",
        "\n",
        "* Построим график, который отображает, сколько в среднем раундов финансирования проходило для стартапов из каждой группы."
      ]
    },
    {
      "cell_type": "code",
      "execution_count": null,
      "metadata": {
        "id": "hgXMPC4WrJg3",
        "outputId": "a7193187-171c-4e2d-8f22-4d9b0b1ede0c"
      },
      "outputs": [
        {
          "data": {
            "text/plain": [
              "count   40,747.00\n",
              "mean         1.29\n",
              "std          1.26\n",
              "min          0.00\n",
              "25%          1.00\n",
              "50%          1.00\n",
              "75%          2.00\n",
              "max         15.00\n",
              "Name: funding_rounds, dtype: float64"
            ]
          },
          "execution_count": 168,
          "metadata": {},
          "output_type": "execute_result"
        }
      ],
      "source": [
        "df_merged_3['funding_rounds'].describe()"
      ]
    },
    {
      "cell_type": "code",
      "execution_count": null,
      "metadata": {
        "id": "kw7-_UL--AtO"
      },
      "outputs": [],
      "source": [
        "df_group_st = df_merged_3.groupby('status')['funding_rounds'].mean().reset_index()"
      ]
    },
    {
      "cell_type": "code",
      "execution_count": null,
      "metadata": {
        "id": "5rWCAPNM-AtP",
        "outputId": "c7c60007-a60b-4139-c97d-5c0931f5b1f3"
      },
      "outputs": [
        {
          "data": {
            "text/plain": [
              "<Figure size 576x432 with 0 Axes>"
            ]
          },
          "metadata": {},
          "output_type": "display_data"
        },
        {
          "data": {
            "image/png": "[encoded data removed]",
            "text/plain": [
              "<Figure size 432x288 with 1 Axes>"
            ]
          },
          "metadata": {
            "needs_background": "light"
          },
          "output_type": "display_data"
        },
        {
          "data": {
            "text/html": [
              "<div>\n",
              "<style scoped>\n",
              "    .dataframe tbody tr th:only-of-type {\n",
              "        vertical-align: middle;\n",
              "    }\n",
              "\n",
              "    .dataframe tbody tr th {\n",
              "        vertical-align: top;\n",
              "    }\n",
              "\n",
              "    .dataframe thead th {\n",
              "        text-align: right;\n",
              "    }\n",
              "</style>\n",
              "<table border=\"1\" class=\"dataframe\">\n",
              "  <thead>\n",
              "    <tr style=\"text-align: right;\">\n",
              "      <th></th>\n",
              "      <th>status</th>\n",
              "      <th>funding_rounds</th>\n",
              "    </tr>\n",
              "  </thead>\n",
              "  <tbody>\n",
              "    <tr>\n",
              "      <th>0</th>\n",
              "      <td>acquired</td>\n",
              "      <td>0.52</td>\n",
              "    </tr>\n",
              "    <tr>\n",
              "      <th>1</th>\n",
              "      <td>closed</td>\n",
              "      <td>1.38</td>\n",
              "    </tr>\n",
              "    <tr>\n",
              "      <th>2</th>\n",
              "      <td>ipo</td>\n",
              "      <td>1.93</td>\n",
              "    </tr>\n",
              "    <tr>\n",
              "      <th>3</th>\n",
              "      <td>operating</td>\n",
              "      <td>1.52</td>\n",
              "    </tr>\n",
              "  </tbody>\n",
              "</table>\n",
              "</div>"
            ],
            "text/plain": [
              "      status  funding_rounds\n",
              "0   acquired            0.52\n",
              "1     closed            1.38\n",
              "2        ipo            1.93\n",
              "3  operating            1.52"
            ]
          },
          "execution_count": 185,
          "metadata": {},
          "output_type": "execute_result"
        }
      ],
      "source": [
        "plt.figure(figsize=(8, 6))\n",
        "df_group_st.sort_values(ascending = False, by = 'funding_rounds').plot(kind='bar', x='status', y='funding_rounds', legend=False, color='lightgreen')\n",
        "\n",
        "# Добавляем заголовок, подписи осей\n",
        "plt.title('Среднее количество раундов по статусам стартапов', fontsize=14)\n",
        "plt.xlabel('Статус стартапа', fontsize=12)\n",
        "plt.ylabel('Среднее количество раундов', fontsize=12)\n",
        "\n",
        "# Разворачиваем подписи для лучшей читаемости\n",
        "plt.xticks(rotation=45, ha='right')\n",
        "\n",
        "# Показываем график\n",
        "plt.show()\n",
        "\n",
        "df_group_st"
      ]
    },
    {
      "cell_type": "markdown",
      "metadata": {
        "id": "891UzpNM-AtQ"
      },
      "source": [
        "- IPO-компании проходят больше всего раундов (1.93), а приобретенные —  меньше всех (0.52).\n",
        "- Это может говорить о том, что успешные стартапы проходят больше раундов перед выходом на IPO, а приобретенные компании продаются на ранних стадиях."
      ]
    },
    {
      "cell_type": "markdown",
      "metadata": {
        "id": "VAFEZ2HBrJg3"
      },
      "source": [
        "\n",
        "## Шаг 4. Итоговый вывод и рекомендации"
      ]
    },
    {
      "cell_type": "markdown",
      "metadata": {
        "id": "RrwTRzZE-AtR"
      },
      "source": [
        "В ходе анализа данных для финансовой компании, планирующей инвестировать в стартапы, были получены важные выводы для принятия инвестиционных решений.\n",
        "\n",
        "### Основные выводы:\n",
        "\n",
        "1. **Анализ раундов финансирования**\n",
        "   - Максимальные размеры средств в одном раунде наблюдались в 2005 году.\n",
        "   - В 2013 году наблюдается рост числа раундов и размеров финансирования, что указывает на больший интерес инвесторов.\n",
        "   - Общее количество раундов финансирования увеличивалось с годами, что подтверждает тенденцию роста рынка.\n",
        "2. **Информация о сотрудниках**\n",
        "   - Образование сотрудников недостаточно полно, особенно в крупных компаниях.\n",
        "3. **Объединение данных**\n",
        "   - Анализ показал, что столбец `network_username` не подходит для объединения данных.\n",
        "4. **Анализ выбросов**\n",
        "   - Были выявлены выбросы в размерах общего финансирования, для которых использовались перцентильные значения, так как из-за большого количества выбросов метод IQR раюотает некорректно.\n",
        "   - Типичные суммы финансирования варьируются от 0 до 5,6 миллионов.\n",
        "5. **Цены стартапов по категориям**:\n",
        "   - Самыми привлекательными для инвесторов являются стартапы с высокими ценами и значительным разбросом цен: `biotech` и `real_estate`.\n",
        "6. **Количество раундов для разных статусов стартапов**:\n",
        "   - Стартапы, прошедшие IPO, в среднем проходят больше раундов (1.93), в отличие от приобретенных стартапов (0.52).\n",
        "\n",
        "### Рекомендации:\n",
        "\n",
        "- Инвесторы должны обратить внимание на стартапы с несколькими раундами финансирования и подготовкой к IPO, так как они могут иметь больше шансов на успешное развитие.\n",
        "- Важно учитывать выбросы в финансировании, используя перцентильные значения для более точной оценки стартапов.\n",
        "\n",
        "### Заключение:\n",
        "\n",
        "Анализ показал, что успешные стартапы проходят больше раундов и имеют высокие шансы на успешное завершение IPO. Стартапы, приобретенные на ранних стадиях, обычно проходят меньше раундов.\n"
      ]
    }
  ],
  "metadata": {
    "ExecuteTimeLog": [
      {
        "duration": 53,
        "start_time": "2025-02-19T14:04:19.791Z"
      },
      {
        "duration": 5403,
        "start_time": "2025-02-19T14:05:52.528Z"
      },
      {
        "duration": 1400,
        "start_time": "2025-02-19T14:06:07.502Z"
      },
      {
        "duration": 57,
        "start_time": "2025-02-19T14:07:31.524Z"
      },
      {
        "duration": 1819,
        "start_time": "2025-02-19T14:09:05.876Z"
      },
      {
        "duration": 11,
        "start_time": "2025-02-19T14:10:20.427Z"
      },
      {
        "duration": 5,
        "start_time": "2025-02-19T14:11:03.619Z"
      },
      {
        "duration": 104,
        "start_time": "2025-02-19T14:11:24.334Z"
      },
      {
        "duration": 4,
        "start_time": "2025-02-19T14:11:33.887Z"
      },
      {
        "duration": 5,
        "start_time": "2025-02-19T14:12:19.002Z"
      },
      {
        "duration": 4,
        "start_time": "2025-02-19T14:12:21.357Z"
      },
      {
        "duration": 4,
        "start_time": "2025-02-19T14:12:23.563Z"
      },
      {
        "duration": 4,
        "start_time": "2025-02-19T14:12:25.363Z"
      },
      {
        "duration": 8,
        "start_time": "2025-02-19T14:13:23.918Z"
      },
      {
        "duration": 4,
        "start_time": "2025-02-19T14:13:34.544Z"
      },
      {
        "duration": 94,
        "start_time": "2025-02-19T14:14:31.376Z"
      },
      {
        "duration": 4,
        "start_time": "2025-02-19T14:17:33.907Z"
      },
      {
        "duration": 101,
        "start_time": "2025-02-19T14:18:41.738Z"
      },
      {
        "duration": 6,
        "start_time": "2025-02-19T14:19:11.055Z"
      },
      {
        "duration": 3,
        "start_time": "2025-02-19T14:19:23.355Z"
      },
      {
        "duration": 6,
        "start_time": "2025-02-19T14:23:32.281Z"
      },
      {
        "duration": 496,
        "start_time": "2025-02-19T14:24:05.248Z"
      },
      {
        "duration": 4,
        "start_time": "2025-02-19T14:24:18.447Z"
      },
      {
        "duration": 1792,
        "start_time": "2025-02-19T14:26:48.521Z"
      },
      {
        "duration": 8,
        "start_time": "2025-02-19T14:26:54.147Z"
      },
      {
        "duration": 3,
        "start_time": "2025-02-19T14:26:56.334Z"
      },
      {
        "duration": 437,
        "start_time": "2025-02-19T14:26:58.346Z"
      },
      {
        "duration": 4,
        "start_time": "2025-02-19T14:27:00.318Z"
      },
      {
        "duration": 3,
        "start_time": "2025-02-19T14:27:34.031Z"
      },
      {
        "duration": 11,
        "start_time": "2025-02-19T14:27:35.563Z"
      },
      {
        "duration": 4,
        "start_time": "2025-02-19T14:27:47.816Z"
      },
      {
        "duration": 425,
        "start_time": "2025-02-19T14:27:49.597Z"
      },
      {
        "duration": 4,
        "start_time": "2025-02-19T14:27:51.619Z"
      },
      {
        "duration": 4,
        "start_time": "2025-02-19T14:28:02.126Z"
      },
      {
        "duration": 451,
        "start_time": "2025-02-19T14:28:04.146Z"
      },
      {
        "duration": 4,
        "start_time": "2025-02-19T14:28:06.311Z"
      },
      {
        "duration": 3,
        "start_time": "2025-02-19T14:29:32.599Z"
      },
      {
        "duration": 433,
        "start_time": "2025-02-19T14:29:34.482Z"
      },
      {
        "duration": 4,
        "start_time": "2025-02-19T14:29:36.395Z"
      },
      {
        "duration": 178,
        "start_time": "2025-02-19T14:30:29.735Z"
      },
      {
        "duration": 203,
        "start_time": "2025-02-19T14:39:03.884Z"
      },
      {
        "duration": 188,
        "start_time": "2025-02-19T14:39:16.570Z"
      },
      {
        "duration": 180,
        "start_time": "2025-02-19T14:39:32.432Z"
      },
      {
        "duration": 4,
        "start_time": "2025-02-19T14:39:38.857Z"
      },
      {
        "duration": 3,
        "start_time": "2025-02-19T14:39:41.629Z"
      },
      {
        "duration": 200,
        "start_time": "2025-02-19T14:40:08.244Z"
      },
      {
        "duration": 3966,
        "start_time": "2025-02-21T12:53:42.831Z"
      },
      {
        "duration": 1400,
        "start_time": "2025-02-21T12:53:56.976Z"
      },
      {
        "duration": 1939,
        "start_time": "2025-02-21T12:54:01.059Z"
      },
      {
        "duration": 4,
        "start_time": "2025-02-21T12:54:08.386Z"
      },
      {
        "duration": 3,
        "start_time": "2025-02-21T12:54:10.524Z"
      },
      {
        "duration": 506,
        "start_time": "2025-02-21T12:54:12.270Z"
      },
      {
        "duration": 17,
        "start_time": "2025-02-21T12:54:13.798Z"
      },
      {
        "duration": 207,
        "start_time": "2025-02-21T12:54:15.833Z"
      },
      {
        "duration": 129,
        "start_time": "2025-02-21T12:54:18.795Z"
      },
      {
        "duration": 26,
        "start_time": "2025-02-21T12:54:44.766Z"
      },
      {
        "duration": 18,
        "start_time": "2025-02-21T12:55:17.022Z"
      },
      {
        "duration": 18,
        "start_time": "2025-02-21T12:55:52.432Z"
      },
      {
        "duration": 25,
        "start_time": "2025-02-21T12:56:05.730Z"
      },
      {
        "duration": 168,
        "start_time": "2025-02-21T12:57:53.118Z"
      },
      {
        "duration": 141,
        "start_time": "2025-02-21T12:59:16.242Z"
      },
      {
        "duration": 129,
        "start_time": "2025-02-21T12:59:26.599Z"
      },
      {
        "duration": 260,
        "start_time": "2025-02-21T13:01:03.071Z"
      },
      {
        "duration": 337,
        "start_time": "2025-02-21T13:07:10.188Z"
      },
      {
        "duration": 420,
        "start_time": "2025-02-21T13:21:21.892Z"
      },
      {
        "duration": 16,
        "start_time": "2025-02-21T13:45:19.354Z"
      },
      {
        "duration": 45,
        "start_time": "2025-02-21T13:45:26.542Z"
      },
      {
        "duration": 9,
        "start_time": "2025-02-21T13:47:53.657Z"
      },
      {
        "duration": 12,
        "start_time": "2025-02-21T13:48:02.233Z"
      },
      {
        "duration": 50,
        "start_time": "2025-02-21T13:48:17.614Z"
      },
      {
        "duration": 39,
        "start_time": "2025-02-21T13:48:42.534Z"
      },
      {
        "duration": 12,
        "start_time": "2025-02-21T13:52:13.823Z"
      },
      {
        "duration": 1573,
        "start_time": "2025-02-21T13:53:22.831Z"
      },
      {
        "duration": 18,
        "start_time": "2025-02-21T13:53:48.202Z"
      },
      {
        "duration": 16,
        "start_time": "2025-02-21T13:54:15.506Z"
      },
      {
        "duration": 16,
        "start_time": "2025-02-21T13:54:27.725Z"
      },
      {
        "duration": 16,
        "start_time": "2025-02-21T13:54:32.617Z"
      },
      {
        "duration": 10,
        "start_time": "2025-02-21T13:54:49.371Z"
      },
      {
        "duration": 16,
        "start_time": "2025-02-21T13:55:12.080Z"
      },
      {
        "duration": 1684,
        "start_time": "2025-02-21T13:56:14.057Z"
      },
      {
        "duration": 27,
        "start_time": "2025-02-21T13:56:27.683Z"
      },
      {
        "duration": 38,
        "start_time": "2025-02-21T13:56:37.573Z"
      },
      {
        "duration": 21,
        "start_time": "2025-02-21T13:58:41.838Z"
      },
      {
        "duration": 38,
        "start_time": "2025-02-21T13:58:49.658Z"
      },
      {
        "duration": 20,
        "start_time": "2025-02-21T13:59:48.784Z"
      },
      {
        "duration": 19,
        "start_time": "2025-02-21T14:01:30.320Z"
      },
      {
        "duration": 28,
        "start_time": "2025-02-21T14:01:38.626Z"
      },
      {
        "duration": 33,
        "start_time": "2025-02-21T14:03:08.354Z"
      },
      {
        "duration": 31,
        "start_time": "2025-02-21T14:03:41.259Z"
      },
      {
        "duration": 32,
        "start_time": "2025-02-21T14:03:47.344Z"
      },
      {
        "duration": 22,
        "start_time": "2025-02-21T14:09:58.851Z"
      },
      {
        "duration": 21,
        "start_time": "2025-02-21T14:10:17.760Z"
      },
      {
        "duration": 19,
        "start_time": "2025-02-21T14:10:56.565Z"
      },
      {
        "duration": 51,
        "start_time": "2025-02-21T14:12:18.094Z"
      },
      {
        "duration": 2789,
        "start_time": "2025-02-21T14:12:50.142Z"
      },
      {
        "duration": 34,
        "start_time": "2025-02-21T14:14:10.804Z"
      },
      {
        "duration": 23,
        "start_time": "2025-02-21T14:15:01.503Z"
      },
      {
        "duration": 171,
        "start_time": "2025-02-21T14:18:05.578Z"
      },
      {
        "duration": 1305,
        "start_time": "2025-02-21T14:18:45.671Z"
      },
      {
        "duration": 156,
        "start_time": "2025-02-21T14:19:10.477Z"
      },
      {
        "duration": 135,
        "start_time": "2025-02-21T14:19:41.162Z"
      },
      {
        "duration": 1468,
        "start_time": "2025-02-21T14:19:59.599Z"
      },
      {
        "duration": 1290,
        "start_time": "2025-02-21T14:22:04.213Z"
      },
      {
        "duration": 22,
        "start_time": "2025-02-21T14:22:09.433Z"
      },
      {
        "duration": 16,
        "start_time": "2025-02-21T14:24:09.249Z"
      },
      {
        "duration": 22,
        "start_time": "2025-02-21T14:24:19.686Z"
      },
      {
        "duration": 22,
        "start_time": "2025-02-21T14:26:49.707Z"
      },
      {
        "duration": 142,
        "start_time": "2025-02-21T14:26:59.969Z"
      },
      {
        "duration": 143,
        "start_time": "2025-02-21T14:27:10.042Z"
      },
      {
        "duration": 163,
        "start_time": "2025-02-21T14:27:26.100Z"
      },
      {
        "duration": 34,
        "start_time": "2025-02-21T14:34:57.200Z"
      },
      {
        "duration": 26,
        "start_time": "2025-02-21T14:35:00.399Z"
      },
      {
        "duration": 34,
        "start_time": "2025-02-21T14:35:28.256Z"
      },
      {
        "duration": 154,
        "start_time": "2025-02-21T14:35:46.986Z"
      },
      {
        "duration": 149,
        "start_time": "2025-02-21T14:35:51.585Z"
      },
      {
        "duration": 49,
        "start_time": "2025-02-24T10:26:37.845Z"
      },
      {
        "duration": 3673,
        "start_time": "2025-02-24T10:26:45.740Z"
      },
      {
        "duration": 1452,
        "start_time": "2025-02-24T10:26:55.033Z"
      },
      {
        "duration": 2003,
        "start_time": "2025-02-24T10:26:58.625Z"
      },
      {
        "duration": 5,
        "start_time": "2025-02-24T10:27:03.596Z"
      },
      {
        "duration": 3,
        "start_time": "2025-02-24T10:27:06.911Z"
      },
      {
        "duration": 495,
        "start_time": "2025-02-24T10:27:08.840Z"
      },
      {
        "duration": 6,
        "start_time": "2025-02-24T10:27:10.505Z"
      },
      {
        "duration": 209,
        "start_time": "2025-02-24T10:27:12.566Z"
      },
      {
        "duration": 168,
        "start_time": "2025-02-24T10:27:16.311Z"
      },
      {
        "duration": 427,
        "start_time": "2025-02-24T10:27:18.538Z"
      },
      {
        "duration": 38,
        "start_time": "2025-02-24T10:27:23.046Z"
      },
      {
        "duration": 48,
        "start_time": "2025-02-24T10:27:25.588Z"
      },
      {
        "duration": 165,
        "start_time": "2025-02-24T10:27:28.035Z"
      },
      {
        "duration": 77,
        "start_time": "2025-02-24T10:27:30.620Z"
      },
      {
        "duration": 16,
        "start_time": "2025-02-24T10:27:49.598Z"
      },
      {
        "duration": 92,
        "start_time": "2025-02-24T10:27:56.889Z"
      },
      {
        "duration": 103,
        "start_time": "2025-02-24T10:31:21.625Z"
      },
      {
        "duration": 105,
        "start_time": "2025-02-24T10:31:26.834Z"
      },
      {
        "duration": 21,
        "start_time": "2025-02-24T10:33:27.761Z"
      },
      {
        "duration": 15,
        "start_time": "2025-02-24T10:33:43.822Z"
      },
      {
        "duration": 14,
        "start_time": "2025-02-24T10:34:32.755Z"
      },
      {
        "duration": 17,
        "start_time": "2025-02-24T10:34:39.696Z"
      },
      {
        "duration": 16,
        "start_time": "2025-02-24T10:34:55.533Z"
      },
      {
        "duration": 17,
        "start_time": "2025-02-24T10:35:01.903Z"
      },
      {
        "duration": 17,
        "start_time": "2025-02-24T10:37:26.130Z"
      },
      {
        "duration": 74,
        "start_time": "2025-02-24T10:38:34.260Z"
      },
      {
        "duration": 85,
        "start_time": "2025-02-24T10:38:43.798Z"
      },
      {
        "duration": 76,
        "start_time": "2025-02-24T10:40:12.748Z"
      },
      {
        "duration": 76,
        "start_time": "2025-02-24T10:40:26.811Z"
      },
      {
        "duration": 82,
        "start_time": "2025-02-24T10:40:44.983Z"
      },
      {
        "duration": 13,
        "start_time": "2025-02-24T10:42:35.768Z"
      },
      {
        "duration": 15,
        "start_time": "2025-02-24T10:42:50.234Z"
      },
      {
        "duration": 20,
        "start_time": "2025-02-24T10:43:12.578Z"
      },
      {
        "duration": 6,
        "start_time": "2025-02-24T10:43:32.139Z"
      },
      {
        "duration": 7,
        "start_time": "2025-02-24T10:43:36.668Z"
      },
      {
        "duration": 12,
        "start_time": "2025-02-24T10:43:51.292Z"
      },
      {
        "duration": 187,
        "start_time": "2025-02-24T10:48:46.354Z"
      },
      {
        "duration": 10,
        "start_time": "2025-02-24T10:49:47.996Z"
      },
      {
        "duration": 123,
        "start_time": "2025-02-24T10:49:52.797Z"
      },
      {
        "duration": 121,
        "start_time": "2025-02-24T10:50:01.667Z"
      },
      {
        "duration": 186,
        "start_time": "2025-02-24T10:50:22.834Z"
      },
      {
        "duration": 844,
        "start_time": "2025-02-24T10:50:32.463Z"
      },
      {
        "duration": 8,
        "start_time": "2025-02-24T10:52:20.919Z"
      },
      {
        "duration": 22,
        "start_time": "2025-02-24T10:52:35.052Z"
      },
      {
        "duration": 7,
        "start_time": "2025-02-24T10:52:37.993Z"
      },
      {
        "duration": 22,
        "start_time": "2025-02-24T10:52:46.132Z"
      },
      {
        "duration": 21,
        "start_time": "2025-02-24T10:52:50.439Z"
      },
      {
        "duration": 26,
        "start_time": "2025-02-24T10:52:54.526Z"
      },
      {
        "duration": 22,
        "start_time": "2025-02-24T10:53:02.358Z"
      },
      {
        "duration": 7,
        "start_time": "2025-02-24T10:53:04.569Z"
      },
      {
        "duration": 21,
        "start_time": "2025-02-24T10:53:13.392Z"
      },
      {
        "duration": 22,
        "start_time": "2025-02-24T10:53:16.951Z"
      },
      {
        "duration": 74,
        "start_time": "2025-02-24T10:53:21.294Z"
      },
      {
        "duration": 21,
        "start_time": "2025-02-24T10:53:23.896Z"
      },
      {
        "duration": 9,
        "start_time": "2025-02-24T10:53:26.130Z"
      },
      {
        "duration": 22,
        "start_time": "2025-02-24T10:53:35.761Z"
      },
      {
        "duration": 8,
        "start_time": "2025-02-24T10:53:37.711Z"
      },
      {
        "duration": 11,
        "start_time": "2025-02-24T10:54:32.575Z"
      },
      {
        "duration": 7,
        "start_time": "2025-02-24T10:54:40.727Z"
      },
      {
        "duration": 58,
        "start_time": "2025-02-24T10:55:20.622Z"
      },
      {
        "duration": 17,
        "start_time": "2025-02-24T10:55:45.298Z"
      },
      {
        "duration": 6,
        "start_time": "2025-02-24T10:55:53.578Z"
      },
      {
        "duration": 6,
        "start_time": "2025-02-24T10:57:06.121Z"
      },
      {
        "duration": 9,
        "start_time": "2025-02-24T10:59:13.596Z"
      },
      {
        "duration": 9,
        "start_time": "2025-02-24T10:59:26.674Z"
      },
      {
        "duration": 12,
        "start_time": "2025-02-24T11:00:10.567Z"
      },
      {
        "duration": 10,
        "start_time": "2025-02-24T11:04:05.177Z"
      },
      {
        "duration": 23,
        "start_time": "2025-02-24T11:05:57.698Z"
      },
      {
        "duration": 30,
        "start_time": "2025-02-24T11:06:05.197Z"
      },
      {
        "duration": 9,
        "start_time": "2025-02-24T11:07:24.023Z"
      },
      {
        "duration": 72,
        "start_time": "2025-02-24T11:09:10.230Z"
      },
      {
        "duration": 5,
        "start_time": "2025-02-24T11:09:18.494Z"
      },
      {
        "duration": 11,
        "start_time": "2025-02-24T11:09:27.668Z"
      },
      {
        "duration": 31,
        "start_time": "2025-02-24T11:09:38.026Z"
      },
      {
        "duration": 7,
        "start_time": "2025-02-24T11:09:49.777Z"
      },
      {
        "duration": 11,
        "start_time": "2025-02-24T11:12:22.606Z"
      },
      {
        "duration": 32,
        "start_time": "2025-02-24T11:12:27.887Z"
      },
      {
        "duration": 15,
        "start_time": "2025-02-24T11:12:34.253Z"
      },
      {
        "duration": 108,
        "start_time": "2025-02-24T11:13:10.412Z"
      },
      {
        "duration": 74,
        "start_time": "2025-02-24T11:13:13.313Z"
      },
      {
        "duration": 23,
        "start_time": "2025-02-24T11:13:15.925Z"
      },
      {
        "duration": 61,
        "start_time": "2025-02-24T11:13:18.503Z"
      },
      {
        "duration": 14,
        "start_time": "2025-02-24T11:13:20.739Z"
      },
      {
        "duration": 21,
        "start_time": "2025-02-24T11:13:30.251Z"
      },
      {
        "duration": 29,
        "start_time": "2025-02-24T11:13:31.992Z"
      },
      {
        "duration": 15,
        "start_time": "2025-02-24T11:13:34.126Z"
      },
      {
        "duration": 11,
        "start_time": "2025-02-24T11:14:51.035Z"
      },
      {
        "duration": 11,
        "start_time": "2025-02-24T11:15:01.329Z"
      },
      {
        "duration": 28,
        "start_time": "2025-02-24T11:15:05.150Z"
      },
      {
        "duration": 14,
        "start_time": "2025-02-24T11:15:07.444Z"
      },
      {
        "duration": 7,
        "start_time": "2025-02-24T11:15:27.990Z"
      },
      {
        "duration": 9,
        "start_time": "2025-02-24T11:15:56.097Z"
      },
      {
        "duration": 7,
        "start_time": "2025-02-24T11:16:07.967Z"
      },
      {
        "duration": 53,
        "start_time": "2025-02-24T15:07:19.560Z"
      },
      {
        "duration": 3973,
        "start_time": "2025-02-24T15:07:27.962Z"
      },
      {
        "duration": 1525,
        "start_time": "2025-02-24T15:07:33.998Z"
      },
      {
        "duration": 2845,
        "start_time": "2025-02-24T15:07:38.755Z"
      },
      {
        "duration": 4,
        "start_time": "2025-02-24T15:07:43.477Z"
      },
      {
        "duration": 538,
        "start_time": "2025-02-24T15:07:45.532Z"
      },
      {
        "duration": 7,
        "start_time": "2025-02-24T15:07:47.923Z"
      },
      {
        "duration": 188,
        "start_time": "2025-02-24T15:07:52.795Z"
      },
      {
        "duration": 135,
        "start_time": "2025-02-24T15:08:01.352Z"
      },
      {
        "duration": 73,
        "start_time": "2025-02-24T15:14:32.294Z"
      },
      {
        "duration": 9,
        "start_time": "2025-02-24T15:14:39.107Z"
      },
      {
        "duration": 9,
        "start_time": "2025-02-24T15:14:59.005Z"
      },
      {
        "duration": 10,
        "start_time": "2025-02-24T15:15:29.998Z"
      },
      {
        "duration": 53,
        "start_time": "2025-02-24T15:16:18.266Z"
      },
      {
        "duration": 47,
        "start_time": "2025-02-24T15:16:29.255Z"
      },
      {
        "duration": 55,
        "start_time": "2025-02-24T15:17:20.278Z"
      },
      {
        "duration": 2778,
        "start_time": "2025-02-24T15:17:32.914Z"
      },
      {
        "duration": 1374,
        "start_time": "2025-02-24T15:17:37.318Z"
      },
      {
        "duration": 2116,
        "start_time": "2025-02-24T15:17:41.554Z"
      },
      {
        "duration": 4,
        "start_time": "2025-02-24T15:17:44.329Z"
      },
      {
        "duration": 517,
        "start_time": "2025-02-24T15:17:46.267Z"
      },
      {
        "duration": 7,
        "start_time": "2025-02-24T15:17:47.899Z"
      },
      {
        "duration": 123,
        "start_time": "2025-02-24T15:17:55.181Z"
      },
      {
        "duration": 54,
        "start_time": "2025-02-24T15:18:56.162Z"
      },
      {
        "duration": 2766,
        "start_time": "2025-02-24T15:19:06.465Z"
      },
      {
        "duration": 1398,
        "start_time": "2025-02-24T15:19:10.559Z"
      },
      {
        "duration": 2771,
        "start_time": "2025-02-24T15:19:14.930Z"
      },
      {
        "duration": 3,
        "start_time": "2025-02-24T15:19:18.833Z"
      },
      {
        "duration": 525,
        "start_time": "2025-02-24T15:19:21.333Z"
      },
      {
        "duration": 6,
        "start_time": "2025-02-24T15:19:23.683Z"
      },
      {
        "duration": 118,
        "start_time": "2025-02-24T15:19:30.491Z"
      },
      {
        "duration": 108,
        "start_time": "2025-02-24T15:19:32.618Z"
      },
      {
        "duration": 53,
        "start_time": "2025-02-24T15:20:25.602Z"
      },
      {
        "duration": 2704,
        "start_time": "2025-02-24T15:20:33.253Z"
      },
      {
        "duration": 1298,
        "start_time": "2025-02-24T15:20:36.735Z"
      },
      {
        "duration": 2057,
        "start_time": "2025-02-24T15:20:39.751Z"
      },
      {
        "duration": 4,
        "start_time": "2025-02-24T15:20:57.893Z"
      },
      {
        "duration": 74,
        "start_time": "2025-02-24T15:21:05.615Z"
      },
      {
        "duration": 3700,
        "start_time": "2025-02-26T12:13:28.115Z"
      },
      {
        "duration": 1549,
        "start_time": "2025-02-26T12:13:34.369Z"
      },
      {
        "duration": 2155,
        "start_time": "2025-02-26T12:13:38.069Z"
      },
      {
        "duration": 3,
        "start_time": "2025-02-26T12:13:42.874Z"
      },
      {
        "duration": 503,
        "start_time": "2025-02-26T12:13:44.815Z"
      },
      {
        "duration": 6,
        "start_time": "2025-02-26T12:13:46.835Z"
      },
      {
        "duration": 98,
        "start_time": "2025-02-26T12:13:56.883Z"
      },
      {
        "duration": 112,
        "start_time": "2025-02-26T12:13:59.223Z"
      },
      {
        "duration": 52,
        "start_time": "2025-02-26T12:16:20.159Z"
      },
      {
        "duration": 7,
        "start_time": "2025-02-26T12:16:22.903Z"
      },
      {
        "duration": 2647,
        "start_time": "2025-02-26T12:16:31.441Z"
      },
      {
        "duration": 1378,
        "start_time": "2025-02-26T12:16:35.419Z"
      },
      {
        "duration": 2887,
        "start_time": "2025-02-26T12:16:38.747Z"
      },
      {
        "duration": 3,
        "start_time": "2025-02-26T12:16:44.393Z"
      },
      {
        "duration": 534,
        "start_time": "2025-02-26T12:16:46.921Z"
      },
      {
        "duration": 6,
        "start_time": "2025-02-26T12:16:49.371Z"
      },
      {
        "duration": 50,
        "start_time": "2025-02-26T12:16:56.588Z"
      },
      {
        "duration": 111,
        "start_time": "2025-02-26T12:16:58.861Z"
      },
      {
        "duration": 107,
        "start_time": "2025-02-26T12:17:04.319Z"
      },
      {
        "duration": 2229,
        "start_time": "2025-02-26T12:17:33.602Z"
      },
      {
        "duration": 3,
        "start_time": "2025-02-26T12:17:36.621Z"
      },
      {
        "duration": 550,
        "start_time": "2025-02-26T12:17:38.513Z"
      },
      {
        "duration": 4,
        "start_time": "2025-02-26T12:17:40.207Z"
      },
      {
        "duration": 133,
        "start_time": "2025-02-26T12:17:46.653Z"
      },
      {
        "duration": 2558,
        "start_time": "2025-02-26T12:18:59.052Z"
      },
      {
        "duration": 1291,
        "start_time": "2025-02-26T12:19:02.485Z"
      },
      {
        "duration": 1920,
        "start_time": "2025-02-26T12:19:06.018Z"
      },
      {
        "duration": 4,
        "start_time": "2025-02-26T12:19:10.500Z"
      },
      {
        "duration": 497,
        "start_time": "2025-02-26T12:19:13.239Z"
      },
      {
        "duration": 6,
        "start_time": "2025-02-26T12:19:15.740Z"
      },
      {
        "duration": 50,
        "start_time": "2025-02-26T12:19:20.698Z"
      },
      {
        "duration": 11,
        "start_time": "2025-02-26T12:19:37.117Z"
      },
      {
        "duration": 98,
        "start_time": "2025-02-26T12:20:18.143Z"
      },
      {
        "duration": 278,
        "start_time": "2025-02-26T12:21:36.693Z"
      },
      {
        "duration": 111,
        "start_time": "2025-02-26T12:22:56.697Z"
      },
      {
        "duration": 306,
        "start_time": "2025-02-26T12:23:23.562Z"
      },
      {
        "duration": 287,
        "start_time": "2025-02-26T12:23:32.435Z"
      },
      {
        "duration": 281,
        "start_time": "2025-02-26T12:29:06.126Z"
      },
      {
        "duration": 269,
        "start_time": "2025-02-26T12:29:17.535Z"
      },
      {
        "duration": 2874,
        "start_time": "2025-02-26T13:07:32.674Z"
      },
      {
        "duration": 4,
        "start_time": "2025-02-26T13:07:38.975Z"
      },
      {
        "duration": 2250,
        "start_time": "2025-02-26T13:07:41.694Z"
      },
      {
        "duration": 5,
        "start_time": "2025-02-26T13:07:44.288Z"
      },
      {
        "duration": 4,
        "start_time": "2025-02-26T13:07:47.587Z"
      },
      {
        "duration": 581,
        "start_time": "2025-02-26T13:07:49.867Z"
      },
      {
        "duration": 5,
        "start_time": "2025-02-26T13:07:51.803Z"
      },
      {
        "duration": 236,
        "start_time": "2025-02-26T13:07:54.090Z"
      },
      {
        "duration": 217,
        "start_time": "2025-02-26T13:07:57.750Z"
      },
      {
        "duration": 484,
        "start_time": "2025-02-26T13:08:00.515Z"
      },
      {
        "duration": 42,
        "start_time": "2025-02-26T13:08:04.231Z"
      },
      {
        "duration": 57,
        "start_time": "2025-02-26T13:08:06.894Z"
      },
      {
        "duration": 186,
        "start_time": "2025-02-26T13:08:09.117Z"
      },
      {
        "duration": 110,
        "start_time": "2025-02-26T13:08:12.114Z"
      },
      {
        "duration": 81,
        "start_time": "2025-02-26T13:08:14.489Z"
      },
      {
        "duration": 24,
        "start_time": "2025-02-26T13:08:16.742Z"
      },
      {
        "duration": 56,
        "start_time": "2025-02-26T13:08:28.635Z"
      },
      {
        "duration": 93,
        "start_time": "2025-02-26T13:08:29.923Z"
      },
      {
        "duration": 58,
        "start_time": "2025-02-26T13:08:31.511Z"
      },
      {
        "duration": 310,
        "start_time": "2025-02-26T13:08:41.567Z"
      },
      {
        "duration": 308,
        "start_time": "2025-02-26T13:08:43.869Z"
      },
      {
        "duration": 146,
        "start_time": "2025-02-26T13:09:00.367Z"
      },
      {
        "duration": 11,
        "start_time": "2025-02-26T13:21:05.003Z"
      },
      {
        "duration": 21,
        "start_time": "2025-02-26T13:21:27.755Z"
      },
      {
        "duration": 16,
        "start_time": "2025-02-26T13:21:40.411Z"
      },
      {
        "duration": 15,
        "start_time": "2025-02-26T13:22:14.112Z"
      },
      {
        "duration": 21,
        "start_time": "2025-02-26T13:23:55.462Z"
      },
      {
        "duration": 2676,
        "start_time": "2025-02-26T13:24:49.903Z"
      },
      {
        "duration": 3,
        "start_time": "2025-02-26T13:24:55.651Z"
      },
      {
        "duration": 6292,
        "start_time": "2025-02-26T13:24:58.479Z"
      },
      {
        "duration": 4,
        "start_time": "2025-02-26T13:25:04.773Z"
      },
      {
        "duration": 493,
        "start_time": "2025-02-26T13:25:06.392Z"
      },
      {
        "duration": 5,
        "start_time": "2025-02-26T13:25:08.967Z"
      },
      {
        "duration": 128,
        "start_time": "2025-02-26T13:25:20.953Z"
      },
      {
        "duration": 21,
        "start_time": "2025-02-26T13:25:24.590Z"
      },
      {
        "duration": 15,
        "start_time": "2025-02-26T13:25:31.293Z"
      },
      {
        "duration": 257,
        "start_time": "2025-02-26T13:25:56.047Z"
      },
      {
        "duration": 26,
        "start_time": "2025-02-26T13:26:27.455Z"
      },
      {
        "duration": 3,
        "start_time": "2025-02-26T13:26:54.532Z"
      },
      {
        "duration": 23,
        "start_time": "2025-02-26T13:29:57.519Z"
      },
      {
        "duration": 37,
        "start_time": "2025-02-26T13:30:00.376Z"
      },
      {
        "duration": 55,
        "start_time": "2025-02-26T13:30:33.162Z"
      },
      {
        "duration": 58,
        "start_time": "2025-02-26T13:30:50.153Z"
      },
      {
        "duration": 90,
        "start_time": "2025-02-26T13:30:57.412Z"
      },
      {
        "duration": 234,
        "start_time": "2025-02-26T13:33:32.572Z"
      },
      {
        "duration": 146,
        "start_time": "2025-02-26T13:33:35.161Z"
      },
      {
        "duration": 479,
        "start_time": "2025-02-26T13:34:13.404Z"
      },
      {
        "duration": 148,
        "start_time": "2025-02-26T13:34:16.244Z"
      },
      {
        "duration": 1949,
        "start_time": "2025-02-26T13:34:35.755Z"
      },
      {
        "duration": 4,
        "start_time": "2025-02-26T13:34:40.527Z"
      },
      {
        "duration": 479,
        "start_time": "2025-02-26T13:34:42.579Z"
      },
      {
        "duration": 4,
        "start_time": "2025-02-26T13:34:44.301Z"
      },
      {
        "duration": 4,
        "start_time": "2025-02-26T13:34:55.199Z"
      },
      {
        "duration": 29,
        "start_time": "2025-02-26T13:34:58.123Z"
      },
      {
        "duration": 61,
        "start_time": "2025-02-26T13:35:02.052Z"
      },
      {
        "duration": 53,
        "start_time": "2025-02-26T13:35:05.028Z"
      },
      {
        "duration": 83,
        "start_time": "2025-02-26T13:35:07.475Z"
      },
      {
        "duration": 561,
        "start_time": "2025-02-26T13:35:11.332Z"
      },
      {
        "duration": 157,
        "start_time": "2025-02-26T13:35:13.325Z"
      },
      {
        "duration": 104,
        "start_time": "2025-02-26T13:37:29.396Z"
      },
      {
        "duration": 382,
        "start_time": "2025-02-26T13:37:42.072Z"
      },
      {
        "duration": 3266,
        "start_time": "2025-02-26T13:54:45.131Z"
      },
      {
        "duration": 1768,
        "start_time": "2025-02-26T13:54:48.400Z"
      },
      {
        "duration": 2088,
        "start_time": "2025-02-26T13:54:50.170Z"
      },
      {
        "duration": 4,
        "start_time": "2025-02-26T13:54:52.260Z"
      },
      {
        "duration": 76,
        "start_time": "2025-02-26T13:54:52.266Z"
      },
      {
        "duration": 572,
        "start_time": "2025-02-26T13:54:52.344Z"
      },
      {
        "duration": 6,
        "start_time": "2025-02-26T13:54:52.918Z"
      },
      {
        "duration": 300,
        "start_time": "2025-02-26T13:54:52.926Z"
      },
      {
        "duration": 174,
        "start_time": "2025-02-26T13:54:53.228Z"
      },
      {
        "duration": 443,
        "start_time": "2025-02-26T13:54:53.404Z"
      },
      {
        "duration": 39,
        "start_time": "2025-02-26T13:54:53.848Z"
      },
      {
        "duration": 49,
        "start_time": "2025-02-26T13:54:53.888Z"
      },
      {
        "duration": 160,
        "start_time": "2025-02-26T13:54:53.938Z"
      },
      {
        "duration": 103,
        "start_time": "2025-02-26T13:54:54.101Z"
      },
      {
        "duration": 83,
        "start_time": "2025-02-26T13:54:54.205Z"
      },
      {
        "duration": 20,
        "start_time": "2025-02-26T13:54:54.290Z"
      },
      {
        "duration": 90,
        "start_time": "2025-02-26T13:54:54.311Z"
      },
      {
        "duration": 23,
        "start_time": "2025-02-26T13:55:58.414Z"
      },
      {
        "duration": 27,
        "start_time": "2025-02-26T13:56:12.318Z"
      },
      {
        "duration": 38,
        "start_time": "2025-02-26T13:57:28.551Z"
      },
      {
        "duration": 18,
        "start_time": "2025-02-26T13:57:28.783Z"
      },
      {
        "duration": 7,
        "start_time": "2025-02-26T13:57:28.998Z"
      },
      {
        "duration": 6,
        "start_time": "2025-02-26T13:57:29.215Z"
      },
      {
        "duration": 5,
        "start_time": "2025-02-26T13:57:35.910Z"
      },
      {
        "duration": 7,
        "start_time": "2025-02-26T13:58:27.688Z"
      },
      {
        "duration": 3,
        "start_time": "2025-02-26T13:59:57.631Z"
      },
      {
        "duration": 98,
        "start_time": "2025-02-26T14:00:00.654Z"
      },
      {
        "duration": 7,
        "start_time": "2025-02-26T14:00:20.406Z"
      },
      {
        "duration": 2336,
        "start_time": "2025-02-26T14:06:33.969Z"
      },
      {
        "duration": 1722,
        "start_time": "2025-02-26T14:06:36.307Z"
      },
      {
        "duration": 2545,
        "start_time": "2025-02-26T14:06:38.031Z"
      },
      {
        "duration": 4,
        "start_time": "2025-02-26T14:06:40.578Z"
      },
      {
        "duration": 25,
        "start_time": "2025-02-26T14:06:40.584Z"
      },
      {
        "duration": 475,
        "start_time": "2025-02-26T14:06:40.610Z"
      },
      {
        "duration": 5,
        "start_time": "2025-02-26T14:06:41.087Z"
      },
      {
        "duration": 210,
        "start_time": "2025-02-26T14:06:41.094Z"
      },
      {
        "duration": 164,
        "start_time": "2025-02-26T14:06:41.306Z"
      },
      {
        "duration": 391,
        "start_time": "2025-02-26T14:06:41.473Z"
      },
      {
        "duration": 36,
        "start_time": "2025-02-26T14:06:41.865Z"
      },
      {
        "duration": 42,
        "start_time": "2025-02-26T14:06:41.903Z"
      },
      {
        "duration": 171,
        "start_time": "2025-02-26T14:06:41.947Z"
      },
      {
        "duration": 110,
        "start_time": "2025-02-26T14:06:42.119Z"
      },
      {
        "duration": 77,
        "start_time": "2025-02-26T14:06:42.230Z"
      },
      {
        "duration": 20,
        "start_time": "2025-02-26T14:06:42.308Z"
      },
      {
        "duration": 67,
        "start_time": "2025-02-26T14:06:42.330Z"
      },
      {
        "duration": 11,
        "start_time": "2025-02-26T14:06:42.399Z"
      },
      {
        "duration": 13,
        "start_time": "2025-02-26T14:06:42.412Z"
      },
      {
        "duration": 9,
        "start_time": "2025-02-26T14:06:42.427Z"
      },
      {
        "duration": 77,
        "start_time": "2025-02-26T14:06:42.437Z"
      },
      {
        "duration": 75,
        "start_time": "2025-02-26T14:06:42.516Z"
      },
      {
        "duration": 256,
        "start_time": "2025-02-26T14:06:42.593Z"
      },
      {
        "duration": 250,
        "start_time": "2025-02-26T14:06:42.851Z"
      },
      {
        "duration": 3,
        "start_time": "2025-02-26T14:06:43.103Z"
      },
      {
        "duration": 22,
        "start_time": "2025-02-26T14:06:43.108Z"
      },
      {
        "duration": 56,
        "start_time": "2025-02-26T14:06:43.132Z"
      },
      {
        "duration": 40,
        "start_time": "2025-02-26T14:06:43.191Z"
      },
      {
        "duration": 70,
        "start_time": "2025-02-26T14:06:43.232Z"
      },
      {
        "duration": 443,
        "start_time": "2025-02-26T14:06:43.304Z"
      },
      {
        "duration": 169,
        "start_time": "2025-02-26T14:06:43.748Z"
      },
      {
        "duration": 86,
        "start_time": "2025-02-28T17:11:36.815Z"
      },
      {
        "duration": 1346,
        "start_time": "2025-03-02T13:22:47.846Z"
      },
      {
        "duration": 2727,
        "start_time": "2025-03-02T13:22:52.894Z"
      },
      {
        "duration": 13,
        "start_time": "2025-03-02T13:23:24.394Z"
      },
      {
        "duration": 13,
        "start_time": "2025-03-02T13:23:57.709Z"
      },
      {
        "duration": 9,
        "start_time": "2025-03-02T13:24:07.057Z"
      },
      {
        "duration": 4,
        "start_time": "2025-03-02T13:27:18.630Z"
      },
      {
        "duration": 3955,
        "start_time": "2025-03-02T13:27:21.910Z"
      },
      {
        "duration": 5,
        "start_time": "2025-03-02T13:27:42.226Z"
      },
      {
        "duration": 3,
        "start_time": "2025-03-02T13:29:48.491Z"
      },
      {
        "duration": 96,
        "start_time": "2025-03-02T13:29:50.593Z"
      },
      {
        "duration": 3,
        "start_time": "2025-03-02T13:30:19.483Z"
      },
      {
        "duration": 473,
        "start_time": "2025-03-02T13:30:21.373Z"
      },
      {
        "duration": 4,
        "start_time": "2025-03-02T13:30:23.510Z"
      },
      {
        "duration": 233,
        "start_time": "2025-03-02T13:32:17.259Z"
      },
      {
        "duration": 226,
        "start_time": "2025-03-02T13:32:26.766Z"
      },
      {
        "duration": 9,
        "start_time": "2025-03-02T13:42:14.925Z"
      },
      {
        "duration": 46,
        "start_time": "2025-03-02T13:42:35.293Z"
      },
      {
        "duration": 50,
        "start_time": "2025-03-02T13:42:53.625Z"
      },
      {
        "duration": 14,
        "start_time": "2025-03-02T13:44:27.400Z"
      },
      {
        "duration": 8879,
        "start_time": "2025-03-02T13:44:42.119Z"
      },
      {
        "duration": 194,
        "start_time": "2025-03-02T13:44:58.362Z"
      },
      {
        "duration": 2869,
        "start_time": "2025-03-02T13:49:45.193Z"
      },
      {
        "duration": 5,
        "start_time": "2025-03-02T13:50:01.257Z"
      },
      {
        "duration": 1408,
        "start_time": "2025-03-02T13:50:19.454Z"
      },
      {
        "duration": 77,
        "start_time": "2025-03-02T13:50:53.882Z"
      },
      {
        "duration": 1367,
        "start_time": "2025-03-02T13:53:10.537Z"
      },
      {
        "duration": 1282,
        "start_time": "2025-03-02T13:55:00.491Z"
      },
      {
        "duration": 1344,
        "start_time": "2025-03-02T13:57:46.116Z"
      },
      {
        "duration": 1504,
        "start_time": "2025-03-02T13:57:54.611Z"
      },
      {
        "duration": 15,
        "start_time": "2025-03-02T14:06:51.637Z"
      },
      {
        "duration": 15,
        "start_time": "2025-03-02T14:08:28.803Z"
      },
      {
        "duration": 18,
        "start_time": "2025-03-02T14:08:34.734Z"
      },
      {
        "duration": 73,
        "start_time": "2025-03-02T14:08:46.756Z"
      },
      {
        "duration": 3380,
        "start_time": "2025-03-02T14:09:04.840Z"
      },
      {
        "duration": 2359,
        "start_time": "2025-03-02T14:09:10.453Z"
      },
      {
        "duration": 2552,
        "start_time": "2025-03-02T14:09:15.339Z"
      },
      {
        "duration": 3,
        "start_time": "2025-03-02T14:09:21.984Z"
      },
      {
        "duration": 2,
        "start_time": "2025-03-02T14:09:24.426Z"
      },
      {
        "duration": 1703,
        "start_time": "2025-03-02T14:09:26.505Z"
      },
      {
        "duration": 10,
        "start_time": "2025-03-02T14:09:30.991Z"
      },
      {
        "duration": 3,
        "start_time": "2025-03-02T14:09:33.781Z"
      },
      {
        "duration": 449,
        "start_time": "2025-03-02T14:09:35.664Z"
      },
      {
        "duration": 4,
        "start_time": "2025-03-02T14:09:37.689Z"
      },
      {
        "duration": 144,
        "start_time": "2025-03-02T14:09:40.005Z"
      },
      {
        "duration": 223,
        "start_time": "2025-03-02T14:09:42.619Z"
      },
      {
        "duration": 169,
        "start_time": "2025-03-02T14:09:47.897Z"
      },
      {
        "duration": 387,
        "start_time": "2025-03-02T14:09:53.493Z"
      },
      {
        "duration": 1352,
        "start_time": "2025-03-02T14:09:56.912Z"
      },
      {
        "duration": 27,
        "start_time": "2025-03-02T14:10:02.656Z"
      },
      {
        "duration": 28,
        "start_time": "2025-03-02T14:10:07.659Z"
      },
      {
        "duration": 13,
        "start_time": "2025-03-02T14:10:35.439Z"
      },
      {
        "duration": 29,
        "start_time": "2025-03-02T14:13:28.973Z"
      },
      {
        "duration": 28,
        "start_time": "2025-03-02T14:13:37.115Z"
      },
      {
        "duration": 166,
        "start_time": "2025-03-02T14:13:44.063Z"
      },
      {
        "duration": 170,
        "start_time": "2025-03-02T14:14:36.804Z"
      },
      {
        "duration": 178,
        "start_time": "2025-03-02T14:15:43.995Z"
      },
      {
        "duration": 173,
        "start_time": "2025-03-02T14:16:00.763Z"
      },
      {
        "duration": 174,
        "start_time": "2025-03-02T14:16:34.663Z"
      },
      {
        "duration": 163,
        "start_time": "2025-03-02T14:16:43.025Z"
      },
      {
        "duration": 167,
        "start_time": "2025-03-02T14:16:49.366Z"
      },
      {
        "duration": 296,
        "start_time": "2025-03-02T14:16:54.886Z"
      },
      {
        "duration": 179,
        "start_time": "2025-03-02T14:17:06.266Z"
      },
      {
        "duration": 97,
        "start_time": "2025-03-02T14:17:56.690Z"
      },
      {
        "duration": 320,
        "start_time": "2025-03-02T14:32:58.600Z"
      },
      {
        "duration": 347,
        "start_time": "2025-03-02T14:33:04.893Z"
      },
      {
        "duration": 331,
        "start_time": "2025-03-02T14:33:12.385Z"
      },
      {
        "duration": 95,
        "start_time": "2025-03-02T14:33:38.441Z"
      },
      {
        "duration": 120,
        "start_time": "2025-03-02T14:35:23.173Z"
      },
      {
        "duration": 140,
        "start_time": "2025-03-02T14:41:03.074Z"
      },
      {
        "duration": 113,
        "start_time": "2025-03-02T14:41:17.904Z"
      },
      {
        "duration": 203,
        "start_time": "2025-03-02T14:41:35.864Z"
      },
      {
        "duration": 116,
        "start_time": "2025-03-02T14:43:28.404Z"
      },
      {
        "duration": 253,
        "start_time": "2025-03-02T14:43:35.695Z"
      },
      {
        "duration": 54,
        "start_time": "2025-03-02T14:43:54.059Z"
      },
      {
        "duration": 112,
        "start_time": "2025-03-02T14:47:03.933Z"
      },
      {
        "duration": 15,
        "start_time": "2025-03-02T14:47:25.470Z"
      },
      {
        "duration": 21,
        "start_time": "2025-03-02T14:47:40.760Z"
      },
      {
        "duration": 110,
        "start_time": "2025-03-02T14:47:55.196Z"
      },
      {
        "duration": 18,
        "start_time": "2025-03-02T14:48:21.639Z"
      },
      {
        "duration": 105,
        "start_time": "2025-03-02T14:48:23.953Z"
      },
      {
        "duration": 18,
        "start_time": "2025-03-02T14:48:45.021Z"
      },
      {
        "duration": 109,
        "start_time": "2025-03-02T14:48:48.014Z"
      },
      {
        "duration": 26,
        "start_time": "2025-03-02T14:49:40.037Z"
      },
      {
        "duration": 18,
        "start_time": "2025-03-02T14:49:47.149Z"
      },
      {
        "duration": 107,
        "start_time": "2025-03-02T14:49:49.862Z"
      },
      {
        "duration": 19,
        "start_time": "2025-03-02T14:50:57.087Z"
      },
      {
        "duration": 19,
        "start_time": "2025-03-02T14:51:27.951Z"
      },
      {
        "duration": 27,
        "start_time": "2025-03-02T14:51:33.786Z"
      },
      {
        "duration": 121,
        "start_time": "2025-03-02T14:51:35.855Z"
      },
      {
        "duration": 18,
        "start_time": "2025-03-02T14:51:55.364Z"
      },
      {
        "duration": 145,
        "start_time": "2025-03-02T14:51:57.479Z"
      },
      {
        "duration": 20,
        "start_time": "2025-03-02T14:52:11.332Z"
      },
      {
        "duration": 113,
        "start_time": "2025-03-02T14:52:47.737Z"
      },
      {
        "duration": 28,
        "start_time": "2025-03-02T14:53:38.491Z"
      },
      {
        "duration": 7,
        "start_time": "2025-03-02T14:54:05.960Z"
      },
      {
        "duration": 13,
        "start_time": "2025-03-02T14:54:45.134Z"
      },
      {
        "duration": 9,
        "start_time": "2025-03-02T14:54:49.768Z"
      },
      {
        "duration": 10,
        "start_time": "2025-03-02T14:55:39.022Z"
      },
      {
        "duration": 23,
        "start_time": "2025-03-02T14:55:55.765Z"
      },
      {
        "duration": 11,
        "start_time": "2025-03-02T14:56:09.187Z"
      },
      {
        "duration": 7,
        "start_time": "2025-03-02T14:56:31.027Z"
      },
      {
        "duration": 11,
        "start_time": "2025-03-02T14:56:45.980Z"
      },
      {
        "duration": 17,
        "start_time": "2025-03-02T14:56:58.695Z"
      },
      {
        "duration": 32,
        "start_time": "2025-03-02T14:57:11.639Z"
      },
      {
        "duration": 21,
        "start_time": "2025-03-02T14:57:13.843Z"
      },
      {
        "duration": 268,
        "start_time": "2025-03-02T14:58:15.196Z"
      },
      {
        "duration": 55,
        "start_time": "2025-03-02T14:58:21.101Z"
      },
      {
        "duration": 18,
        "start_time": "2025-03-02T14:58:24.203Z"
      },
      {
        "duration": 32,
        "start_time": "2025-03-02T14:58:30.059Z"
      },
      {
        "duration": 8,
        "start_time": "2025-03-02T14:59:17.898Z"
      },
      {
        "duration": 7,
        "start_time": "2025-03-02T14:59:44.478Z"
      },
      {
        "duration": 11,
        "start_time": "2025-03-02T15:00:07.260Z"
      },
      {
        "duration": 6,
        "start_time": "2025-03-02T15:03:41.315Z"
      },
      {
        "duration": 8,
        "start_time": "2025-03-02T15:03:58.998Z"
      },
      {
        "duration": 8,
        "start_time": "2025-03-02T15:04:04.146Z"
      },
      {
        "duration": 11,
        "start_time": "2025-03-02T15:04:27.460Z"
      },
      {
        "duration": 7,
        "start_time": "2025-03-02T15:04:30.517Z"
      },
      {
        "duration": 7,
        "start_time": "2025-03-02T15:04:58.063Z"
      },
      {
        "duration": 9,
        "start_time": "2025-03-02T15:08:05.487Z"
      },
      {
        "duration": 13,
        "start_time": "2025-03-02T15:18:23.792Z"
      },
      {
        "duration": 81,
        "start_time": "2025-03-02T15:18:29.166Z"
      },
      {
        "duration": 57,
        "start_time": "2025-03-02T15:18:59.628Z"
      },
      {
        "duration": 2420,
        "start_time": "2025-03-02T15:22:15.308Z"
      },
      {
        "duration": 2398,
        "start_time": "2025-03-02T15:22:20.789Z"
      },
      {
        "duration": 2448,
        "start_time": "2025-03-02T15:22:25.321Z"
      },
      {
        "duration": 1166,
        "start_time": "2025-03-02T15:22:29.408Z"
      },
      {
        "duration": 2,
        "start_time": "2025-03-02T15:22:33.533Z"
      },
      {
        "duration": 7589,
        "start_time": "2025-03-02T15:22:36.444Z"
      },
      {
        "duration": 5,
        "start_time": "2025-03-02T15:22:44.035Z"
      },
      {
        "duration": 4,
        "start_time": "2025-03-02T15:22:47.011Z"
      },
      {
        "duration": 489,
        "start_time": "2025-03-02T15:22:49.315Z"
      },
      {
        "duration": 7,
        "start_time": "2025-03-02T15:22:51.011Z"
      },
      {
        "duration": 210,
        "start_time": "2025-03-02T15:22:53.960Z"
      },
      {
        "duration": 251,
        "start_time": "2025-03-02T15:23:00.076Z"
      },
      {
        "duration": 152,
        "start_time": "2025-03-02T15:23:08.102Z"
      },
      {
        "duration": 391,
        "start_time": "2025-03-02T15:23:14.643Z"
      },
      {
        "duration": 1284,
        "start_time": "2025-03-02T15:23:18.310Z"
      },
      {
        "duration": 42,
        "start_time": "2025-03-02T15:23:25.867Z"
      },
      {
        "duration": 28,
        "start_time": "2025-03-02T15:23:30.428Z"
      },
      {
        "duration": 171,
        "start_time": "2025-03-02T15:23:33.662Z"
      },
      {
        "duration": 241,
        "start_time": "2025-03-02T15:23:39.335Z"
      },
      {
        "duration": 59,
        "start_time": "2025-03-02T15:23:50.085Z"
      },
      {
        "duration": 29,
        "start_time": "2025-03-02T15:23:53.663Z"
      },
      {
        "duration": 20,
        "start_time": "2025-03-02T15:24:09.516Z"
      },
      {
        "duration": 122,
        "start_time": "2025-03-02T15:24:12.505Z"
      },
      {
        "duration": 27,
        "start_time": "2025-03-02T15:24:16.774Z"
      },
      {
        "duration": 9,
        "start_time": "2025-03-02T15:24:16.868Z"
      },
      {
        "duration": 8,
        "start_time": "2025-03-02T15:24:18.782Z"
      },
      {
        "duration": 8,
        "start_time": "2025-03-02T15:24:20.634Z"
      },
      {
        "duration": 7,
        "start_time": "2025-03-02T15:24:23.656Z"
      },
      {
        "duration": 75,
        "start_time": "2025-03-02T15:24:29.102Z"
      },
      {
        "duration": 81,
        "start_time": "2025-03-02T15:25:12.969Z"
      },
      {
        "duration": 60,
        "start_time": "2025-03-02T15:25:54.172Z"
      },
      {
        "duration": 258,
        "start_time": "2025-03-02T15:26:21.620Z"
      },
      {
        "duration": 3,
        "start_time": "2025-03-02T15:27:28.092Z"
      },
      {
        "duration": 481,
        "start_time": "2025-03-02T15:27:42.267Z"
      },
      {
        "duration": 30,
        "start_time": "2025-03-02T15:28:16.324Z"
      },
      {
        "duration": 418,
        "start_time": "2025-03-02T15:34:51.222Z"
      },
      {
        "duration": 11,
        "start_time": "2025-03-02T15:46:22.193Z"
      },
      {
        "duration": 13,
        "start_time": "2025-03-02T15:46:26.994Z"
      },
      {
        "duration": 71,
        "start_time": "2025-03-02T15:46:56.355Z"
      },
      {
        "duration": 31,
        "start_time": "2025-03-02T15:46:58.808Z"
      },
      {
        "duration": 118,
        "start_time": "2025-03-02T15:47:38.535Z"
      },
      {
        "duration": 44,
        "start_time": "2025-03-02T15:47:41.572Z"
      },
      {
        "duration": 49,
        "start_time": "2025-03-02T15:48:00.410Z"
      },
      {
        "duration": 38,
        "start_time": "2025-03-02T15:48:02.115Z"
      },
      {
        "duration": 22,
        "start_time": "2025-03-02T15:50:34.260Z"
      },
      {
        "duration": 51,
        "start_time": "2025-03-02T15:50:51.384Z"
      },
      {
        "duration": 59,
        "start_time": "2025-03-02T15:50:53.657Z"
      },
      {
        "duration": 23,
        "start_time": "2025-03-02T15:50:55.362Z"
      },
      {
        "duration": 31,
        "start_time": "2025-03-02T15:52:07.830Z"
      },
      {
        "duration": 4,
        "start_time": "2025-03-02T17:47:05.409Z"
      },
      {
        "duration": 12976,
        "start_time": "2025-03-02T17:47:05.415Z"
      },
      {
        "duration": 3135,
        "start_time": "2025-03-02T17:47:18.393Z"
      },
      {
        "duration": 1283,
        "start_time": "2025-03-02T17:47:21.530Z"
      },
      {
        "duration": 4,
        "start_time": "2025-03-02T17:47:22.814Z"
      },
      {
        "duration": 2042,
        "start_time": "2025-03-02T17:47:22.819Z"
      },
      {
        "duration": 5,
        "start_time": "2025-03-02T17:47:24.863Z"
      },
      {
        "duration": 4,
        "start_time": "2025-03-02T17:47:24.870Z"
      },
      {
        "duration": 466,
        "start_time": "2025-03-02T17:47:24.875Z"
      },
      {
        "duration": 5,
        "start_time": "2025-03-02T17:47:25.343Z"
      },
      {
        "duration": 174,
        "start_time": "2025-03-02T17:47:25.350Z"
      },
      {
        "duration": 226,
        "start_time": "2025-03-02T17:47:25.526Z"
      },
      {
        "duration": 164,
        "start_time": "2025-03-02T17:47:25.753Z"
      },
      {
        "duration": 407,
        "start_time": "2025-03-02T17:47:25.918Z"
      },
      {
        "duration": 1283,
        "start_time": "2025-03-02T17:47:26.327Z"
      },
      {
        "duration": 29,
        "start_time": "2025-03-02T17:47:27.612Z"
      },
      {
        "duration": 27,
        "start_time": "2025-03-02T17:47:27.642Z"
      },
      {
        "duration": 202,
        "start_time": "2025-03-02T17:47:27.671Z"
      },
      {
        "duration": 215,
        "start_time": "2025-03-02T17:47:27.875Z"
      },
      {
        "duration": 22,
        "start_time": "2025-03-02T17:47:28.092Z"
      },
      {
        "duration": 57,
        "start_time": "2025-03-02T17:47:43.490Z"
      },
      {
        "duration": 18,
        "start_time": "2025-03-02T17:48:12.098Z"
      },
      {
        "duration": 130,
        "start_time": "2025-03-02T17:48:13.674Z"
      },
      {
        "duration": 26,
        "start_time": "2025-03-02T17:48:17.266Z"
      },
      {
        "duration": 7,
        "start_time": "2025-03-02T17:48:17.602Z"
      },
      {
        "duration": 7,
        "start_time": "2025-03-02T17:48:20.960Z"
      },
      {
        "duration": 6,
        "start_time": "2025-03-02T17:48:27.417Z"
      },
      {
        "duration": 17,
        "start_time": "2025-03-02T17:49:25.234Z"
      },
      {
        "duration": 18,
        "start_time": "2025-03-02T17:49:28.842Z"
      },
      {
        "duration": 64,
        "start_time": "2025-03-02T17:49:54.330Z"
      },
      {
        "duration": 264,
        "start_time": "2025-03-02T17:50:04.890Z"
      },
      {
        "duration": 63,
        "start_time": "2025-03-02T17:50:09.299Z"
      },
      {
        "duration": 16,
        "start_time": "2025-03-02T17:50:45.514Z"
      },
      {
        "duration": 3290,
        "start_time": "2025-03-03T14:13:47.556Z"
      },
      {
        "duration": 7566,
        "start_time": "2025-03-03T14:13:52.141Z"
      },
      {
        "duration": 2796,
        "start_time": "2025-03-03T14:14:02.258Z"
      },
      {
        "duration": 1334,
        "start_time": "2025-03-03T14:14:09.952Z"
      },
      {
        "duration": 3,
        "start_time": "2025-03-03T14:14:12.433Z"
      },
      {
        "duration": 1984,
        "start_time": "2025-03-03T14:14:14.693Z"
      },
      {
        "duration": 4,
        "start_time": "2025-03-03T14:14:18.788Z"
      },
      {
        "duration": 3,
        "start_time": "2025-03-03T14:14:21.407Z"
      },
      {
        "duration": 484,
        "start_time": "2025-03-03T14:14:23.486Z"
      },
      {
        "duration": 5,
        "start_time": "2025-03-03T14:14:25.456Z"
      },
      {
        "duration": 160,
        "start_time": "2025-03-03T14:14:27.549Z"
      },
      {
        "duration": 207,
        "start_time": "2025-03-03T14:14:31.985Z"
      },
      {
        "duration": 143,
        "start_time": "2025-03-03T14:14:41.555Z"
      },
      {
        "duration": 369,
        "start_time": "2025-03-03T14:14:45.507Z"
      },
      {
        "duration": 1308,
        "start_time": "2025-03-03T14:14:48.751Z"
      },
      {
        "duration": 1238,
        "start_time": "2025-03-03T14:15:15.325Z"
      },
      {
        "duration": 28,
        "start_time": "2025-03-03T14:15:39.649Z"
      },
      {
        "duration": 29,
        "start_time": "2025-03-03T14:15:41.469Z"
      },
      {
        "duration": 172,
        "start_time": "2025-03-03T14:15:44.057Z"
      },
      {
        "duration": 245,
        "start_time": "2025-03-03T14:15:55.300Z"
      },
      {
        "duration": 55,
        "start_time": "2025-03-03T14:15:59.454Z"
      },
      {
        "duration": 57,
        "start_time": "2025-03-03T14:16:10.984Z"
      },
      {
        "duration": 110,
        "start_time": "2025-03-03T14:24:05.955Z"
      },
      {
        "duration": 238,
        "start_time": "2025-03-03T14:24:24.349Z"
      },
      {
        "duration": 22,
        "start_time": "2025-03-03T14:24:27.133Z"
      },
      {
        "duration": 21,
        "start_time": "2025-03-03T14:24:55.362Z"
      },
      {
        "duration": 13,
        "start_time": "2025-03-03T14:25:19.555Z"
      },
      {
        "duration": 3,
        "start_time": "2025-03-03T14:25:42.800Z"
      },
      {
        "duration": 18,
        "start_time": "2025-03-03T14:25:47.501Z"
      },
      {
        "duration": 111,
        "start_time": "2025-03-03T14:26:07.917Z"
      },
      {
        "duration": 12,
        "start_time": "2025-03-03T14:27:06.627Z"
      },
      {
        "duration": 10,
        "start_time": "2025-03-03T14:27:34.342Z"
      },
      {
        "duration": 262,
        "start_time": "2025-03-03T14:27:40.223Z"
      },
      {
        "duration": 156,
        "start_time": "2025-03-03T14:27:42.761Z"
      },
      {
        "duration": 65,
        "start_time": "2025-03-03T14:28:50.735Z"
      },
      {
        "duration": 57,
        "start_time": "2025-03-03T14:29:27.144Z"
      },
      {
        "duration": 67,
        "start_time": "2025-03-03T14:29:35.931Z"
      },
      {
        "duration": 19,
        "start_time": "2025-03-03T14:29:40.827Z"
      },
      {
        "duration": 137,
        "start_time": "2025-03-03T14:29:44.558Z"
      },
      {
        "duration": 41,
        "start_time": "2025-03-03T14:29:59.297Z"
      },
      {
        "duration": 6,
        "start_time": "2025-03-03T14:30:05.781Z"
      },
      {
        "duration": 8,
        "start_time": "2025-03-03T14:30:08.681Z"
      },
      {
        "duration": 6,
        "start_time": "2025-03-03T14:30:13.045Z"
      },
      {
        "duration": 20,
        "start_time": "2025-03-03T14:36:54.767Z"
      },
      {
        "duration": 121,
        "start_time": "2025-03-03T14:37:09.015Z"
      },
      {
        "duration": 2113,
        "start_time": "2025-03-03T14:37:32.920Z"
      },
      {
        "duration": 7,
        "start_time": "2025-03-03T14:37:36.593Z"
      },
      {
        "duration": 3,
        "start_time": "2025-03-03T14:37:38.250Z"
      },
      {
        "duration": 448,
        "start_time": "2025-03-03T14:37:39.927Z"
      },
      {
        "duration": 4,
        "start_time": "2025-03-03T14:37:41.345Z"
      },
      {
        "duration": 226,
        "start_time": "2025-03-03T14:37:48.448Z"
      },
      {
        "duration": 159,
        "start_time": "2025-03-03T14:37:51.381Z"
      },
      {
        "duration": 18,
        "start_time": "2025-03-03T14:37:56.898Z"
      },
      {
        "duration": 200,
        "start_time": "2025-03-03T14:38:00.870Z"
      },
      {
        "duration": 22,
        "start_time": "2025-03-03T14:38:08.220Z"
      },
      {
        "duration": 6,
        "start_time": "2025-03-03T14:38:10.385Z"
      },
      {
        "duration": 7,
        "start_time": "2025-03-03T14:38:12.770Z"
      },
      {
        "duration": 6,
        "start_time": "2025-03-03T14:38:16.553Z"
      },
      {
        "duration": 50,
        "start_time": "2025-03-04T07:09:03.224Z"
      },
      {
        "duration": 3791,
        "start_time": "2025-03-04T07:09:15.550Z"
      },
      {
        "duration": 8727,
        "start_time": "2025-03-04T07:09:25.143Z"
      },
      {
        "duration": 3108,
        "start_time": "2025-03-04T07:09:37.070Z"
      },
      {
        "duration": 1451,
        "start_time": "2025-03-04T07:09:43.718Z"
      },
      {
        "duration": 3,
        "start_time": "2025-03-04T07:09:48.782Z"
      },
      {
        "duration": 3404,
        "start_time": "2025-03-04T07:09:51.792Z"
      },
      {
        "duration": 4,
        "start_time": "2025-03-04T07:10:00.247Z"
      },
      {
        "duration": 3,
        "start_time": "2025-03-04T07:10:02.485Z"
      },
      {
        "duration": 499,
        "start_time": "2025-03-04T07:10:04.548Z"
      },
      {
        "duration": 5,
        "start_time": "2025-03-04T07:10:06.333Z"
      },
      {
        "duration": 153,
        "start_time": "2025-03-04T07:10:08.448Z"
      },
      {
        "duration": 252,
        "start_time": "2025-03-04T07:10:11.208Z"
      },
      {
        "duration": 156,
        "start_time": "2025-03-04T07:10:15.034Z"
      },
      {
        "duration": 401,
        "start_time": "2025-03-04T07:10:19.519Z"
      },
      {
        "duration": 1530,
        "start_time": "2025-03-04T07:10:24.137Z"
      },
      {
        "duration": 31,
        "start_time": "2025-03-04T07:10:31.890Z"
      },
      {
        "duration": 29,
        "start_time": "2025-03-04T07:10:34.316Z"
      },
      {
        "duration": 194,
        "start_time": "2025-03-04T07:10:36.821Z"
      },
      {
        "duration": 226,
        "start_time": "2025-03-04T07:10:41.000Z"
      },
      {
        "duration": 162,
        "start_time": "2025-03-04T07:10:44.592Z"
      },
      {
        "duration": 21,
        "start_time": "2025-03-04T07:10:47.749Z"
      },
      {
        "duration": 145,
        "start_time": "2025-03-04T07:10:51.431Z"
      },
      {
        "duration": 19,
        "start_time": "2025-03-04T07:11:09.469Z"
      },
      {
        "duration": 136,
        "start_time": "2025-03-04T07:11:11.718Z"
      },
      {
        "duration": 36,
        "start_time": "2025-03-04T07:11:19.235Z"
      },
      {
        "duration": 8,
        "start_time": "2025-03-04T07:11:21.904Z"
      },
      {
        "duration": 7,
        "start_time": "2025-03-04T07:11:24.192Z"
      },
      {
        "duration": 7,
        "start_time": "2025-03-04T07:11:33.935Z"
      },
      {
        "duration": 25,
        "start_time": "2025-03-04T07:11:50.463Z"
      },
      {
        "duration": 138,
        "start_time": "2025-03-04T07:11:52.791Z"
      },
      {
        "duration": 64,
        "start_time": "2025-03-04T07:22:30.218Z"
      },
      {
        "duration": 73,
        "start_time": "2025-03-04T07:22:38.969Z"
      },
      {
        "duration": 75,
        "start_time": "2025-03-04T07:22:41.754Z"
      },
      {
        "duration": 40,
        "start_time": "2025-03-04T07:22:45.575Z"
      },
      {
        "duration": 32,
        "start_time": "2025-03-04T07:22:58.158Z"
      },
      {
        "duration": 31,
        "start_time": "2025-03-04T07:23:16.226Z"
      },
      {
        "duration": 13,
        "start_time": "2025-03-04T07:25:34.886Z"
      },
      {
        "duration": 42,
        "start_time": "2025-03-04T07:25:47.955Z"
      },
      {
        "duration": 53,
        "start_time": "2025-03-04T07:26:44.451Z"
      },
      {
        "duration": 57,
        "start_time": "2025-03-04T07:28:21.948Z"
      },
      {
        "duration": 40,
        "start_time": "2025-03-04T07:32:22.124Z"
      },
      {
        "duration": 34,
        "start_time": "2025-03-04T07:47:38.693Z"
      },
      {
        "duration": 869,
        "start_time": "2025-03-04T07:49:56.025Z"
      },
      {
        "duration": 762,
        "start_time": "2025-03-04T07:50:15.179Z"
      },
      {
        "duration": 892,
        "start_time": "2025-03-04T07:50:22.452Z"
      },
      {
        "duration": 194,
        "start_time": "2025-03-04T07:51:11.746Z"
      },
      {
        "duration": 132,
        "start_time": "2025-03-04T08:08:47.628Z"
      },
      {
        "duration": 135,
        "start_time": "2025-03-04T08:10:27.512Z"
      },
      {
        "duration": 165,
        "start_time": "2025-03-04T08:10:40.253Z"
      },
      {
        "duration": 138,
        "start_time": "2025-03-04T08:10:46.335Z"
      },
      {
        "duration": 170,
        "start_time": "2025-03-04T08:11:45.359Z"
      },
      {
        "duration": 151,
        "start_time": "2025-03-04T08:16:31.726Z"
      },
      {
        "duration": 305,
        "start_time": "2025-03-04T08:16:34.981Z"
      },
      {
        "duration": 12,
        "start_time": "2025-03-04T08:17:06.646Z"
      },
      {
        "duration": 361,
        "start_time": "2025-03-04T08:17:21.345Z"
      },
      {
        "duration": 319,
        "start_time": "2025-03-04T08:19:41.978Z"
      },
      {
        "duration": 145,
        "start_time": "2025-03-04T08:20:03.225Z"
      },
      {
        "duration": 398,
        "start_time": "2025-03-04T08:20:55.722Z"
      },
      {
        "duration": 125,
        "start_time": "2025-03-04T08:21:07.101Z"
      },
      {
        "duration": 3,
        "start_time": "2025-03-04T08:26:08.065Z"
      },
      {
        "duration": 4,
        "start_time": "2025-03-04T08:32:25.244Z"
      },
      {
        "duration": 531,
        "start_time": "2025-03-04T08:38:04.310Z"
      },
      {
        "duration": 12,
        "start_time": "2025-03-04T08:40:16.171Z"
      },
      {
        "duration": 4,
        "start_time": "2025-03-04T08:42:06.347Z"
      },
      {
        "duration": 393,
        "start_time": "2025-03-04T08:43:35.155Z"
      },
      {
        "duration": 140,
        "start_time": "2025-03-04T08:44:24.098Z"
      },
      {
        "duration": 5,
        "start_time": "2025-03-04T08:47:53.782Z"
      },
      {
        "duration": 5,
        "start_time": "2025-03-04T08:48:31.237Z"
      },
      {
        "duration": 5,
        "start_time": "2025-03-04T08:48:48.224Z"
      },
      {
        "duration": 5,
        "start_time": "2025-03-04T08:49:01.320Z"
      },
      {
        "duration": 392,
        "start_time": "2025-03-04T08:52:53.385Z"
      },
      {
        "duration": 364,
        "start_time": "2025-03-04T08:53:12.187Z"
      },
      {
        "duration": 387,
        "start_time": "2025-03-04T08:53:16.803Z"
      },
      {
        "duration": 375,
        "start_time": "2025-03-04T08:53:21.737Z"
      },
      {
        "duration": 279,
        "start_time": "2025-03-04T08:53:27.259Z"
      },
      {
        "duration": 324,
        "start_time": "2025-03-04T08:53:38.963Z"
      },
      {
        "duration": 413,
        "start_time": "2025-03-04T08:53:42.813Z"
      },
      {
        "duration": 326,
        "start_time": "2025-03-04T08:53:46.872Z"
      },
      {
        "duration": 40,
        "start_time": "2025-03-04T08:53:54.134Z"
      },
      {
        "duration": 343,
        "start_time": "2025-03-04T08:54:04.931Z"
      },
      {
        "duration": 4,
        "start_time": "2025-03-04T08:57:31.245Z"
      },
      {
        "duration": 5,
        "start_time": "2025-03-04T08:57:40.758Z"
      },
      {
        "duration": 71,
        "start_time": "2025-03-04T09:07:53.795Z"
      },
      {
        "duration": 16,
        "start_time": "2025-03-04T09:08:02.386Z"
      },
      {
        "duration": 14,
        "start_time": "2025-03-04T09:10:30.681Z"
      },
      {
        "duration": 48,
        "start_time": "2025-03-04T09:11:24.523Z"
      },
      {
        "duration": 48,
        "start_time": "2025-03-04T09:11:59.156Z"
      },
      {
        "duration": 56,
        "start_time": "2025-03-04T09:13:20.282Z"
      },
      {
        "duration": 71,
        "start_time": "2025-03-04T09:13:52.106Z"
      },
      {
        "duration": 75,
        "start_time": "2025-03-04T09:14:00.269Z"
      },
      {
        "duration": 64,
        "start_time": "2025-03-04T09:14:09.297Z"
      },
      {
        "duration": 48,
        "start_time": "2025-03-05T09:25:34.105Z"
      },
      {
        "duration": 3329,
        "start_time": "2025-03-05T09:25:48.534Z"
      },
      {
        "duration": 8299,
        "start_time": "2025-03-05T09:25:53.384Z"
      },
      {
        "duration": 3024,
        "start_time": "2025-03-05T09:26:03.999Z"
      },
      {
        "duration": 1333,
        "start_time": "2025-03-05T09:26:10.440Z"
      },
      {
        "duration": 3,
        "start_time": "2025-03-05T09:26:15.058Z"
      },
      {
        "duration": 2037,
        "start_time": "2025-03-05T09:26:25.932Z"
      },
      {
        "duration": 5,
        "start_time": "2025-03-05T09:26:43.279Z"
      },
      {
        "duration": 4,
        "start_time": "2025-03-05T09:26:45.414Z"
      },
      {
        "duration": 475,
        "start_time": "2025-03-05T09:26:47.219Z"
      },
      {
        "duration": 6,
        "start_time": "2025-03-05T09:26:48.951Z"
      },
      {
        "duration": 143,
        "start_time": "2025-03-05T09:26:51.034Z"
      },
      {
        "duration": 237,
        "start_time": "2025-03-05T09:26:53.950Z"
      },
      {
        "duration": 152,
        "start_time": "2025-03-05T09:26:57.532Z"
      },
      {
        "duration": 403,
        "start_time": "2025-03-05T09:27:01.539Z"
      },
      {
        "duration": 1381,
        "start_time": "2025-03-05T09:27:04.447Z"
      },
      {
        "duration": 30,
        "start_time": "2025-03-05T09:27:34.319Z"
      },
      {
        "duration": 28,
        "start_time": "2025-03-05T09:27:36.474Z"
      },
      {
        "duration": 170,
        "start_time": "2025-03-05T09:27:38.478Z"
      },
      {
        "duration": 233,
        "start_time": "2025-03-05T09:27:42.265Z"
      },
      {
        "duration": 167,
        "start_time": "2025-03-05T09:27:44.987Z"
      },
      {
        "duration": 30,
        "start_time": "2025-03-05T09:27:47.826Z"
      },
      {
        "duration": 152,
        "start_time": "2025-03-05T09:27:50.281Z"
      },
      {
        "duration": 27,
        "start_time": "2025-03-05T09:27:56.272Z"
      },
      {
        "duration": 7,
        "start_time": "2025-03-05T09:27:58.135Z"
      },
      {
        "duration": 8,
        "start_time": "2025-03-05T09:28:00.243Z"
      },
      {
        "duration": 7,
        "start_time": "2025-03-05T09:28:02.789Z"
      },
      {
        "duration": 62,
        "start_time": "2025-03-05T09:28:06.105Z"
      },
      {
        "duration": 87,
        "start_time": "2025-03-05T09:28:07.456Z"
      },
      {
        "duration": 193,
        "start_time": "2025-03-05T09:28:09.123Z"
      },
      {
        "duration": 265,
        "start_time": "2025-03-05T09:28:11.859Z"
      },
      {
        "duration": 66,
        "start_time": "2025-03-05T09:28:16.089Z"
      },
      {
        "duration": 50,
        "start_time": "2025-03-05T09:28:21.263Z"
      },
      {
        "duration": 501,
        "start_time": "2025-03-05T09:28:23.925Z"
      },
      {
        "duration": 58,
        "start_time": "2025-03-05T09:28:31.299Z"
      },
      {
        "duration": 70,
        "start_time": "2025-03-05T09:28:33.528Z"
      },
      {
        "duration": 31,
        "start_time": "2025-03-05T09:28:38.286Z"
      },
      {
        "duration": 37,
        "start_time": "2025-03-05T09:28:46.010Z"
      },
      {
        "duration": 28,
        "start_time": "2025-03-05T09:28:53.015Z"
      },
      {
        "duration": 336,
        "start_time": "2025-03-05T09:28:55.419Z"
      },
      {
        "duration": 117,
        "start_time": "2025-03-05T09:28:57.984Z"
      },
      {
        "duration": 10,
        "start_time": "2025-03-05T09:29:00.665Z"
      },
      {
        "duration": 4,
        "start_time": "2025-03-05T09:29:05.020Z"
      },
      {
        "duration": 4,
        "start_time": "2025-03-05T09:29:21.295Z"
      },
      {
        "duration": 4,
        "start_time": "2025-03-05T09:29:29.511Z"
      },
      {
        "duration": 4,
        "start_time": "2025-03-05T09:29:35.279Z"
      },
      {
        "duration": 4,
        "start_time": "2025-03-05T09:29:41.949Z"
      },
      {
        "duration": 4,
        "start_time": "2025-03-05T09:29:59.378Z"
      },
      {
        "duration": 46,
        "start_time": "2025-03-05T09:30:28.363Z"
      },
      {
        "duration": 93,
        "start_time": "2025-03-05T09:32:29.297Z"
      },
      {
        "duration": 110,
        "start_time": "2025-03-05T09:33:29.638Z"
      },
      {
        "duration": 112,
        "start_time": "2025-03-05T09:33:35.587Z"
      },
      {
        "duration": 111,
        "start_time": "2025-03-05T09:33:40.632Z"
      },
      {
        "duration": 106,
        "start_time": "2025-03-05T09:33:44.869Z"
      },
      {
        "duration": 88,
        "start_time": "2025-03-05T09:33:49.880Z"
      },
      {
        "duration": 96,
        "start_time": "2025-03-05T09:33:56.438Z"
      },
      {
        "duration": 105,
        "start_time": "2025-03-05T09:34:02.176Z"
      },
      {
        "duration": 95,
        "start_time": "2025-03-05T09:34:12.075Z"
      },
      {
        "duration": 198,
        "start_time": "2025-03-05T09:34:16.359Z"
      },
      {
        "duration": 31,
        "start_time": "2025-03-05T09:34:53.354Z"
      },
      {
        "duration": 9,
        "start_time": "2025-03-05T09:35:14.163Z"
      },
      {
        "duration": 8,
        "start_time": "2025-03-05T09:35:29.234Z"
      },
      {
        "duration": 4,
        "start_time": "2025-03-05T09:38:34.865Z"
      },
      {
        "duration": 6,
        "start_time": "2025-03-05T09:40:40.662Z"
      },
      {
        "duration": 7,
        "start_time": "2025-03-05T09:53:14.357Z"
      },
      {
        "duration": 4,
        "start_time": "2025-03-05T09:54:54.962Z"
      },
      {
        "duration": 5,
        "start_time": "2025-03-05T09:55:11.694Z"
      },
      {
        "duration": 3,
        "start_time": "2025-03-05T10:00:23.867Z"
      },
      {
        "duration": 3,
        "start_time": "2025-03-05T10:00:26.744Z"
      },
      {
        "duration": 12,
        "start_time": "2025-03-05T10:01:28.041Z"
      },
      {
        "duration": 5,
        "start_time": "2025-03-05T10:01:46.419Z"
      },
      {
        "duration": 8,
        "start_time": "2025-03-05T10:02:56.149Z"
      },
      {
        "duration": 9,
        "start_time": "2025-03-05T10:03:07.736Z"
      },
      {
        "duration": 20,
        "start_time": "2025-03-05T10:18:23.749Z"
      },
      {
        "duration": 25,
        "start_time": "2025-03-05T10:19:06.088Z"
      },
      {
        "duration": 20,
        "start_time": "2025-03-05T10:19:36.430Z"
      },
      {
        "duration": 47,
        "start_time": "2025-03-05T10:26:09.335Z"
      },
      {
        "duration": 7,
        "start_time": "2025-03-05T10:26:12.404Z"
      },
      {
        "duration": 5,
        "start_time": "2025-03-05T10:26:15.877Z"
      },
      {
        "duration": 8,
        "start_time": "2025-03-05T10:26:19.112Z"
      },
      {
        "duration": 24,
        "start_time": "2025-03-05T10:26:29.893Z"
      },
      {
        "duration": 7,
        "start_time": "2025-03-05T10:32:51.167Z"
      },
      {
        "duration": 7,
        "start_time": "2025-03-05T10:34:56.841Z"
      },
      {
        "duration": 8,
        "start_time": "2025-03-05T10:35:21.073Z"
      },
      {
        "duration": 8,
        "start_time": "2025-03-05T10:36:29.062Z"
      },
      {
        "duration": 13,
        "start_time": "2025-03-05T10:37:12.410Z"
      },
      {
        "duration": 13,
        "start_time": "2025-03-05T10:37:22.610Z"
      },
      {
        "duration": 13,
        "start_time": "2025-03-05T10:37:55.896Z"
      },
      {
        "duration": 14,
        "start_time": "2025-03-05T10:38:05.108Z"
      },
      {
        "duration": 13,
        "start_time": "2025-03-05T10:38:16.303Z"
      },
      {
        "duration": 16,
        "start_time": "2025-03-05T10:44:06.558Z"
      },
      {
        "duration": 15,
        "start_time": "2025-03-05T10:47:04.231Z"
      },
      {
        "duration": 16,
        "start_time": "2025-03-05T10:47:55.494Z"
      },
      {
        "duration": 23,
        "start_time": "2025-03-05T10:48:14.620Z"
      },
      {
        "duration": 1161,
        "start_time": "2025-03-05T10:57:02.708Z"
      },
      {
        "duration": 25,
        "start_time": "2025-03-05T10:58:10.538Z"
      },
      {
        "duration": 362,
        "start_time": "2025-03-05T10:59:50.191Z"
      },
      {
        "duration": 25,
        "start_time": "2025-03-05T11:00:34.479Z"
      },
      {
        "duration": 353,
        "start_time": "2025-03-05T11:00:37.938Z"
      },
      {
        "duration": 288,
        "start_time": "2025-03-05T11:00:57.576Z"
      },
      {
        "duration": 299,
        "start_time": "2025-03-05T11:01:13.027Z"
      },
      {
        "duration": 310,
        "start_time": "2025-03-05T11:02:44.427Z"
      },
      {
        "duration": 405,
        "start_time": "2025-03-05T11:03:13.340Z"
      },
      {
        "duration": 11,
        "start_time": "2025-03-05T11:03:24.445Z"
      },
      {
        "duration": 305,
        "start_time": "2025-03-05T11:03:28.987Z"
      },
      {
        "duration": 295,
        "start_time": "2025-03-05T11:03:48.398Z"
      },
      {
        "duration": 312,
        "start_time": "2025-03-05T11:04:01.867Z"
      },
      {
        "duration": 302,
        "start_time": "2025-03-05T11:04:04.466Z"
      },
      {
        "duration": 9,
        "start_time": "2025-03-05T11:05:51.287Z"
      },
      {
        "duration": 12,
        "start_time": "2025-03-05T11:05:56.014Z"
      },
      {
        "duration": 208,
        "start_time": "2025-03-05T11:05:58.779Z"
      },
      {
        "duration": 12,
        "start_time": "2025-03-05T11:06:13.775Z"
      },
      {
        "duration": 200,
        "start_time": "2025-03-05T11:06:15.554Z"
      },
      {
        "duration": 305,
        "start_time": "2025-03-05T11:06:32.299Z"
      },
      {
        "duration": 31,
        "start_time": "2025-03-05T11:07:29.641Z"
      },
      {
        "duration": 21,
        "start_time": "2025-03-05T11:08:13.933Z"
      },
      {
        "duration": 23,
        "start_time": "2025-03-05T11:09:43.658Z"
      },
      {
        "duration": 72,
        "start_time": "2025-03-05T11:09:56.262Z"
      },
      {
        "duration": 15,
        "start_time": "2025-03-05T11:10:07.934Z"
      },
      {
        "duration": 234,
        "start_time": "2025-03-05T11:10:11.027Z"
      },
      {
        "duration": 238,
        "start_time": "2025-03-05T11:10:14.204Z"
      },
      {
        "duration": 70,
        "start_time": "2025-03-05T11:10:17.392Z"
      },
      {
        "duration": 12,
        "start_time": "2025-03-05T11:10:35.454Z"
      },
      {
        "duration": 70,
        "start_time": "2025-03-05T11:10:38.560Z"
      },
      {
        "duration": 12,
        "start_time": "2025-03-05T11:11:07.395Z"
      },
      {
        "duration": 167,
        "start_time": "2025-03-05T11:11:10.718Z"
      },
      {
        "duration": 166,
        "start_time": "2025-03-05T11:11:14.182Z"
      },
      {
        "duration": 72,
        "start_time": "2025-03-05T11:11:17.743Z"
      },
      {
        "duration": 17,
        "start_time": "2025-03-05T11:12:05.051Z"
      },
      {
        "duration": 70,
        "start_time": "2025-03-05T11:12:17.291Z"
      },
      {
        "duration": 125,
        "start_time": "2025-03-05T11:15:17.431Z"
      },
      {
        "duration": 13,
        "start_time": "2025-03-05T11:18:55.534Z"
      },
      {
        "duration": 5,
        "start_time": "2025-03-05T11:18:57.143Z"
      },
      {
        "duration": 90,
        "start_time": "2025-03-05T11:18:58.881Z"
      },
      {
        "duration": 12,
        "start_time": "2025-03-05T14:13:15.341Z"
      },
      {
        "duration": 14,
        "start_time": "2025-03-05T14:13:17.662Z"
      },
      {
        "duration": 5,
        "start_time": "2025-03-05T14:13:29.764Z"
      },
      {
        "duration": 91,
        "start_time": "2025-03-05T14:13:35.385Z"
      },
      {
        "duration": 19,
        "start_time": "2025-03-05T14:14:07.462Z"
      },
      {
        "duration": 18,
        "start_time": "2025-03-05T14:16:02.356Z"
      },
      {
        "duration": 15,
        "start_time": "2025-03-05T14:16:26.066Z"
      },
      {
        "duration": 17,
        "start_time": "2025-03-05T14:16:38.274Z"
      },
      {
        "duration": 16,
        "start_time": "2025-03-05T14:19:37.184Z"
      },
      {
        "duration": 14,
        "start_time": "2025-03-05T14:19:51.220Z"
      },
      {
        "duration": 900,
        "start_time": "2025-03-05T14:20:05.723Z"
      },
      {
        "duration": 1141,
        "start_time": "2025-03-05T14:20:34.326Z"
      },
      {
        "duration": 16,
        "start_time": "2025-03-05T14:20:58.826Z"
      },
      {
        "duration": 13,
        "start_time": "2025-03-05T14:21:25.901Z"
      },
      {
        "duration": 5,
        "start_time": "2025-03-05T14:21:30.333Z"
      },
      {
        "duration": 90,
        "start_time": "2025-03-05T14:21:33.542Z"
      },
      {
        "duration": 87,
        "start_time": "2025-03-05T14:22:59.084Z"
      },
      {
        "duration": 87,
        "start_time": "2025-03-05T14:24:21.208Z"
      },
      {
        "duration": 87,
        "start_time": "2025-03-05T14:24:30.524Z"
      },
      {
        "duration": 24,
        "start_time": "2025-03-05T14:25:08.746Z"
      },
      {
        "duration": 8,
        "start_time": "2025-03-05T14:25:49.081Z"
      },
      {
        "duration": 27,
        "start_time": "2025-03-05T14:26:33.339Z"
      },
      {
        "duration": 11,
        "start_time": "2025-03-05T14:28:06.347Z"
      },
      {
        "duration": 3,
        "start_time": "2025-03-05T14:28:33.210Z"
      },
      {
        "duration": 5,
        "start_time": "2025-03-05T14:28:42.670Z"
      },
      {
        "duration": 11,
        "start_time": "2025-03-05T14:29:03.333Z"
      },
      {
        "duration": 10,
        "start_time": "2025-03-05T14:29:16.577Z"
      },
      {
        "duration": 7,
        "start_time": "2025-03-05T14:29:19.270Z"
      },
      {
        "duration": 8,
        "start_time": "2025-03-05T14:29:40.301Z"
      },
      {
        "duration": 8,
        "start_time": "2025-03-05T14:29:41.874Z"
      },
      {
        "duration": 7,
        "start_time": "2025-03-05T14:29:50.488Z"
      },
      {
        "duration": 8,
        "start_time": "2025-03-05T14:29:52.123Z"
      },
      {
        "duration": 137,
        "start_time": "2025-03-05T14:30:58.985Z"
      },
      {
        "duration": 10,
        "start_time": "2025-03-05T14:34:34.251Z"
      },
      {
        "duration": 8,
        "start_time": "2025-03-05T14:34:42.967Z"
      },
      {
        "duration": 7,
        "start_time": "2025-03-05T14:34:44.788Z"
      },
      {
        "duration": 6,
        "start_time": "2025-03-05T14:34:49.746Z"
      },
      {
        "duration": 7,
        "start_time": "2025-03-05T14:34:51.163Z"
      },
      {
        "duration": 359,
        "start_time": "2025-03-05T14:35:24.411Z"
      },
      {
        "duration": 171,
        "start_time": "2025-03-05T14:35:51.321Z"
      },
      {
        "duration": 220,
        "start_time": "2025-03-05T14:36:01.050Z"
      },
      {
        "duration": 141,
        "start_time": "2025-03-05T14:36:05.554Z"
      },
      {
        "duration": 142,
        "start_time": "2025-03-05T14:36:19.177Z"
      },
      {
        "duration": 118,
        "start_time": "2025-03-05T14:36:27.996Z"
      },
      {
        "duration": 149,
        "start_time": "2025-03-05T14:36:34.570Z"
      },
      {
        "duration": 211,
        "start_time": "2025-03-05T14:37:01.366Z"
      },
      {
        "duration": 157,
        "start_time": "2025-03-05T14:37:42.656Z"
      },
      {
        "duration": 13,
        "start_time": "2025-03-05T14:38:28.785Z"
      },
      {
        "duration": 17,
        "start_time": "2025-03-05T14:38:58.713Z"
      },
      {
        "duration": 10,
        "start_time": "2025-03-05T14:39:13.186Z"
      },
      {
        "duration": 151,
        "start_time": "2025-03-05T14:39:22.440Z"
      },
      {
        "duration": 7,
        "start_time": "2025-03-05T14:39:28.216Z"
      }
    ],
    "colab": {
      "provenance": []
    },
    "kernelspec": {
      "display_name": "Python 3 (ipykernel)",
      "language": "python",
      "name": "python3"
    },
    "language_info": {
      "codemirror_mode": {
        "name": "ipython",
        "version": 3
      },
      "file_extension": ".py",
      "mimetype": "text/x-python",
      "name": "python",
      "nbconvert_exporter": "python",
      "pygments_lexer": "ipython3",
      "version": "3.9.5"
    },
    "toc": {
      "base_numbering": 1,
      "nav_menu": {},
      "number_sections": true,
      "sideBar": true,
      "skip_h1_title": true,
      "title_cell": "Table of Contents",
      "title_sidebar": "Contents",
      "toc_cell": false,
      "toc_position": {},
      "toc_section_display": true,
      "toc_window_display": false
    }
  },
  "nbformat": 4,
  "nbformat_minor": 0
}